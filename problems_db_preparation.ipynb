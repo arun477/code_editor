{
 "cells": [
  {
   "cell_type": "code",
   "execution_count": 35,
   "id": "a41c240f",
   "metadata": {},
   "outputs": [],
   "source": [
    "import sqlite3\n",
    "conn = sqlite3.connect('problems.db')\n",
    "cursor = conn.cursor()"
   ]
  },
  {
   "cell_type": "code",
   "execution_count": 36,
   "id": "e020f421",
   "metadata": {},
   "outputs": [],
   "source": [
    "# problems\n",
    "# id, problem_statement, starting_code"
   ]
  },
  {
   "cell_type": "code",
   "execution_count": 37,
   "id": "898b121c",
   "metadata": {},
   "outputs": [
    {
     "data": {
      "text/plain": [
       "<sqlite3.Cursor at 0x10f6597a0>"
      ]
     },
     "execution_count": 37,
     "metadata": {},
     "output_type": "execute_result"
    }
   ],
   "source": [
    "cursor.execute('''CREATE TABLE IF NOT EXISTS problems(\n",
    "               id TEXT PRIMARY KEY,\n",
    "               problem_statement,\n",
    "               starting_code\n",
    "              )''')"
   ]
  },
  {
   "cell_type": "code",
   "execution_count": 38,
   "id": "a6c14508",
   "metadata": {},
   "outputs": [
    {
     "data": {
      "text/plain": [
       "[('problems',), ('sqlite_autoindex_problems_1',)]"
      ]
     },
     "execution_count": 38,
     "metadata": {},
     "output_type": "execute_result"
    }
   ],
   "source": [
    "cursor.execute('SELECT name from sqlite_master').fetchall()"
   ]
  },
  {
   "cell_type": "code",
   "execution_count": 39,
   "id": "67eff4b8",
   "metadata": {},
   "outputs": [],
   "source": [
    "datas = [\n",
    "  \n",
    "    {\n",
    "        'id': '1',\n",
    "        \"problem_statement\": \"\"\"# Move Zeroes\n",
    "\n",
    "Given an integer array `nums`, move all 0's to the end of it while maintaining the relative order of the non-zero elements.\n",
    "\n",
    "**Note:** You must do this in-place without making a copy of the array.\n",
    "\n",
    "## Example 1\n",
    "- **Input:** `nums = [0,1,0,3,12]`\n",
    "- **Output:** `[1,3,12,0,0]`\n",
    "\n",
    "## Example 2\n",
    "- **Input:** `nums = [0]`\n",
    "- **Output:** `[0]`\n",
    "\n",
    "## Constraints\n",
    "- `1 <= nums.length <= 10^4`\n",
    "- `-2^31 <= nums[i] <= 2^31 - 1`\n",
    "\n",
    "## Follow Up\n",
    "Could you minimize the total number of operations done?\"\"\",\n",
    "        'initial_code': \"\"\"class Problem:\n",
    "    def solution(self, nums):\n",
    "       pass\"\"\"\n",
    "    \n",
    "    }\n",
    "    \n",
    "]\n"
   ]
  },
  {
   "cell_type": "code",
   "execution_count": 40,
   "id": "d1c3d14c",
   "metadata": {},
   "outputs": [],
   "source": [
    "prepared_data =  [(ele['id'], ele['problem_statement'], ele['initial_code']) for ele in datas]"
   ]
  },
  {
   "cell_type": "code",
   "execution_count": 41,
   "id": "98f8d718",
   "metadata": {},
   "outputs": [
    {
     "ename": "IntegrityError",
     "evalue": "UNIQUE constraint failed: problems.id",
     "output_type": "error",
     "traceback": [
      "\u001b[0;31m---------------------------------------------------------------------------\u001b[0m",
      "\u001b[0;31mIntegrityError\u001b[0m                            Traceback (most recent call last)",
      "Cell \u001b[0;32mIn[41], line 1\u001b[0m\n\u001b[0;32m----> 1\u001b[0m \u001b[43mcursor\u001b[49m\u001b[38;5;241;43m.\u001b[39;49m\u001b[43mexecutemany\u001b[49m\u001b[43m(\u001b[49m\u001b[38;5;124;43m'''\u001b[39;49m\n\u001b[1;32m      2\u001b[0m \u001b[38;5;124;43m    INSERT INTO problems (id, problem_statement, starting_code)\u001b[39;49m\n\u001b[1;32m      3\u001b[0m \u001b[38;5;124;43m    VALUES (?, ?, ?)\u001b[39;49m\n\u001b[1;32m      4\u001b[0m \u001b[38;5;124;43m'''\u001b[39;49m\u001b[43m,\u001b[49m\u001b[43m \u001b[49m\u001b[43mprepared_data\u001b[49m\u001b[43m)\u001b[49m\n\u001b[1;32m      5\u001b[0m conn\u001b[38;5;241m.\u001b[39mcommit()\n",
      "\u001b[0;31mIntegrityError\u001b[0m: UNIQUE constraint failed: problems.id"
     ]
    }
   ],
   "source": [
    "cursor.executemany('''\n",
    "    INSERT INTO problems (id, problem_statement, starting_code)\n",
    "    VALUES (?, ?, ?)\n",
    "''', prepared_data)\n",
    "conn.commit()"
   ]
  },
  {
   "cell_type": "code",
   "execution_count": 43,
   "id": "f4bbe592",
   "metadata": {},
   "outputs": [
    {
     "data": {
      "text/plain": [
       "[('1',\n",
       "  \"# Move Zeroes\\n\\nGiven an integer array `nums`, move all 0's to the end of it while maintaining the relative order of the non-zero elements.\\n\\n**Note:** You must do this in-place without making a copy of the array.\\n\\n## Example 1\\n- **Input:** `nums = [0,1,0,3,12]`\\n- **Output:** `[1,3,12,0,0]`\\n\\n## Example 2\\n- **Input:** `nums = [0]`\\n- **Output:** `[0]`\\n\\n## Constraints\\n- `1 <= nums.length <= 10^4`\\n- `-2^31 <= nums[i] <= 2^31 - 1`\\n\\n## Follow Up\\nCould you minimize the total number of operations done?\",\n",
       "  'class Problem:\\n    def solution(self, nums):\\n       pass')]"
      ]
     },
     "execution_count": 43,
     "metadata": {},
     "output_type": "execute_result"
    }
   ],
   "source": [
    "cursor.execute('SELECT * FROM problems').fetchall()"
   ]
  },
  {
   "cell_type": "code",
   "execution_count": 34,
   "id": "5f97e9e8",
   "metadata": {},
   "outputs": [],
   "source": [
    "# id_to_update = 1\n",
    "# new_column_value = 'new_value'\n",
    "# cursor.execute(\"UPDATE problems SET problem_statement = ? WHERE id = ?\", (datas[0]['problem_statement'], datas[0]['id']))\n"
   ]
  },
  {
   "cell_type": "code",
   "execution_count": 46,
   "id": "05be486d",
   "metadata": {},
   "outputs": [
    {
     "name": "stdout",
     "output_type": "stream",
     "text": [
      "Database populated with sample problems successfully!\n"
     ]
    }
   ],
   "source": [
    "import sqlite3\n",
    "import json\n",
    "\n",
    "DATABASE_NAME = \"problems_v2.db\"\n",
    "\n",
    "def get_db_connection():\n",
    "    conn = sqlite3.connect(DATABASE_NAME)\n",
    "    conn.row_factory = sqlite3.Row\n",
    "    return conn\n",
    "\n",
    "def init_db():\n",
    "    conn = get_db_connection()\n",
    "    conn.execute('''\n",
    "        CREATE TABLE IF NOT EXISTS problems (\n",
    "            id INTEGER PRIMARY KEY,\n",
    "            title TEXT NOT NULL,\n",
    "            difficulty TEXT NOT NULL,\n",
    "            problem_statement TEXT NOT NULL,\n",
    "            starting_code TEXT NOT NULL,\n",
    "            solution_code TEXT NOT NULL,\n",
    "            test_cases TEXT NOT NULL\n",
    "        )\n",
    "    ''')\n",
    "    conn.commit()\n",
    "    conn.close()\n",
    "\n",
    "def insert_problem(problem_data):\n",
    "    conn = get_db_connection()\n",
    "    conn.execute('''\n",
    "        INSERT INTO problems (title, difficulty, problem_statement, starting_code, solution_code, test_cases)\n",
    "        VALUES (?, ?, ?, ?, ?, ?)\n",
    "    ''', (\n",
    "        problem_data['title'],\n",
    "        problem_data['difficulty'],\n",
    "        problem_data['problem_statement'],\n",
    "        problem_data['starting_code'],\n",
    "        problem_data['solution_code'],\n",
    "        json.dumps(problem_data['test_cases'])\n",
    "    ))\n",
    "    conn.commit()\n",
    "    conn.close()\n",
    "\n",
    "# Sample problems\n",
    "problems = [\n",
    "    {\n",
    "        \"title\": \"Two Sum\",\n",
    "        \"difficulty\": \"Easy\",\n",
    "        \"problem_statement\": \"Given an array of integers nums and an integer target, return indices of the two numbers such that they add up to target. You may assume that each input would have exactly one solution, and you may not use the same element twice.\",\n",
    "        \"starting_code\": \"\"\"class Problem:\n",
    "    def solution(self, nums, target):\n",
    "        # Your code here\n",
    "        pass\n",
    "\"\"\",\n",
    "        \"solution_code\": \"\"\"class Problem:\n",
    "    def solution(self, nums, target):\n",
    "        seen = {}\n",
    "        for i, num in enumerate(nums):\n",
    "            complement = target - num\n",
    "            if complement in seen:\n",
    "                return [seen[complement], i]\n",
    "            seen[num] = i\n",
    "        return []  # No solution found\n",
    "\"\"\",\n",
    "        \"test_cases\": [\n",
    "            {\n",
    "                \"input\": [[2, 7, 11, 15], 9],\n",
    "                \"output\": [0, 1]\n",
    "            },\n",
    "            {\n",
    "                \"input\": [[3, 2, 4], 6],\n",
    "                \"output\": [1, 2]\n",
    "            },\n",
    "            {\n",
    "                \"input\": [[3, 3], 6],\n",
    "                \"output\": [0, 1]\n",
    "            }\n",
    "        ]\n",
    "    },\n",
    "    {\n",
    "        \"title\": \"Reverse String\",\n",
    "        \"difficulty\": \"Easy\",\n",
    "        \"problem_statement\": \"Write a function that reverses a string. The input string is given as an array of characters s.\",\n",
    "        \"starting_code\": \"\"\"class Problem:\n",
    "    def solution(self, s):\n",
    "        # Your code here\n",
    "        pass\n",
    "\"\"\",\n",
    "        \"solution_code\": \"\"\"class Problem:\n",
    "    def solution(self, s):\n",
    "        left, right = 0, len(s) - 1\n",
    "        while left < right:\n",
    "            s[left], s[right] = s[right], s[left]\n",
    "            left += 1\n",
    "            right -= 1\n",
    "        return s\n",
    "\"\"\",\n",
    "        \"test_cases\": [\n",
    "            {\n",
    "                \"input\": [[\"h\", \"e\", \"l\", \"l\", \"o\"]],\n",
    "                \"output\": [\"o\", \"l\", \"l\", \"e\", \"h\"]\n",
    "            },\n",
    "            {\n",
    "                \"input\": [[\"H\", \"a\", \"n\", \"n\", \"a\", \"h\"]],\n",
    "                \"output\": [\"h\", \"a\", \"n\", \"n\", \"a\", \"H\"]\n",
    "            },\n",
    "            {\n",
    "                \"input\": [[\"a\"]],\n",
    "                \"output\": [\"a\"]\n",
    "            }\n",
    "        ]\n",
    "    }\n",
    "]\n",
    "\n",
    "if __name__ == \"__main__\":\n",
    "    init_db()\n",
    "    for problem in problems:\n",
    "        insert_problem(problem)\n",
    "    print(\"Database populated with sample problems successfully!\")"
   ]
  },
  {
   "cell_type": "code",
   "execution_count": null,
   "id": "65253b20",
   "metadata": {},
   "outputs": [],
   "source": []
  },
  {
   "cell_type": "code",
   "execution_count": 47,
   "id": "90fdffa1",
   "metadata": {},
   "outputs": [],
   "source": [
    "from contextlib import contextmanager"
   ]
  },
  {
   "cell_type": "code",
   "execution_count": 62,
   "id": "1013908a",
   "metadata": {},
   "outputs": [],
   "source": [
    "@contextmanager\n",
    "def my_context():\n",
    "    try:\n",
    "        print('call try method')\n",
    "        yield\n",
    "    finally:\n",
    "        print('olaal')\n",
    "    print('im also')\n"
   ]
  },
  {
   "cell_type": "code",
   "execution_count": 63,
   "id": "483a02e9",
   "metadata": {},
   "outputs": [
    {
     "name": "stdout",
     "output_type": "stream",
     "text": [
      "call try method\n",
      "context operations\n",
      "olaal\n",
      "im also\n"
     ]
    }
   ],
   "source": [
    "with my_context() as my:\n",
    "    print('context operations')"
   ]
  },
  {
   "cell_type": "code",
   "execution_count": 64,
   "id": "d3f83f84",
   "metadata": {},
   "outputs": [
    {
     "data": {
      "text/plain": [
       "'__main__'"
      ]
     },
     "execution_count": 64,
     "metadata": {},
     "output_type": "execute_result"
    }
   ],
   "source": [
    "__name__"
   ]
  },
  {
   "cell_type": "code",
   "execution_count": 65,
   "id": "e3b3abdd",
   "metadata": {},
   "outputs": [],
   "source": [
    "import logging"
   ]
  },
  {
   "cell_type": "code",
   "execution_count": 71,
   "id": "132dc046",
   "metadata": {},
   "outputs": [],
   "source": [
    "logging.basicConfig(level=logging.DEBUG)\n",
    "logger = logging.getLogger(__name__)"
   ]
  },
  {
   "cell_type": "code",
   "execution_count": 83,
   "id": "cf410dc6",
   "metadata": {},
   "outputs": [
    {
     "name": "stderr",
     "output_type": "stream",
     "text": [
      "WARNING:__main__:name 'b' is not defined\n"
     ]
    }
   ],
   "source": [
    "try:\n",
    "    b\n",
    "except Exception as e:\n",
    "    logger.warning(e)"
   ]
  },
  {
   "cell_type": "code",
   "execution_count": 85,
   "id": "cf6e127d",
   "metadata": {},
   "outputs": [],
   "source": [
    "from contextlib import redirect_stdout\n",
    "from io import StringIO"
   ]
  },
  {
   "cell_type": "code",
   "execution_count": 86,
   "id": "f8b7b4c6",
   "metadata": {},
   "outputs": [],
   "source": [
    "logs = StringIO()"
   ]
  },
  {
   "cell_type": "code",
   "execution_count": 87,
   "id": "56f5ee90",
   "metadata": {},
   "outputs": [
    {
     "data": {
      "text/plain": [
       "<_io.StringIO at 0x11031c8b0>"
      ]
     },
     "execution_count": 87,
     "metadata": {},
     "output_type": "execute_result"
    }
   ],
   "source": [
    "logs"
   ]
  },
  {
   "cell_type": "code",
   "execution_count": 93,
   "id": "6dec7ac0",
   "metadata": {},
   "outputs": [
    {
     "ename": "NameError",
     "evalue": "name 'b' is not defined",
     "output_type": "error",
     "traceback": [
      "\u001b[0;31m---------------------------------------------------------------------------\u001b[0m",
      "\u001b[0;31mNameError\u001b[0m                                 Traceback (most recent call last)",
      "Cell \u001b[0;32mIn[93], line 4\u001b[0m\n\u001b[1;32m      2\u001b[0m \u001b[38;5;28mprint\u001b[39m(\u001b[38;5;124m'\u001b[39m\u001b[38;5;124meellle\u001b[39m\u001b[38;5;124m'\u001b[39m)\n\u001b[1;32m      3\u001b[0m \u001b[38;5;28mprint\u001b[39m(\u001b[38;5;124m'\u001b[39m\u001b[38;5;124melooooooo, nice vacation buddy...\u001b[39m\u001b[38;5;124m'\u001b[39m)\n\u001b[0;32m----> 4\u001b[0m \u001b[38;5;28mprint\u001b[39m(\u001b[43mb\u001b[49m\u001b[38;5;241m.\u001b[39mg)\n",
      "\u001b[0;31mNameError\u001b[0m: name 'b' is not defined"
     ]
    }
   ],
   "source": [
    "with redirect_stdout(logs):\n",
    "    print('eellle')\n",
    "    print('elooooooo, nice vacation buddy...')\n",
    "    print(b.g)"
   ]
  },
  {
   "cell_type": "code",
   "execution_count": 94,
   "id": "b6afb85b",
   "metadata": {},
   "outputs": [
    {
     "data": {
      "text/plain": [
       "<_io.StringIO at 0x11031c8b0>"
      ]
     },
     "execution_count": 94,
     "metadata": {},
     "output_type": "execute_result"
    }
   ],
   "source": [
    "logs"
   ]
  },
  {
   "cell_type": "code",
   "execution_count": 96,
   "id": "8915eaec",
   "metadata": {},
   "outputs": [
    {
     "data": {
      "text/plain": [
       "'eellle\\nelooooooo, nice vacation buddy...\\neellle\\nelooooooo, nice vacation buddy...\\n'"
      ]
     },
     "execution_count": 96,
     "metadata": {},
     "output_type": "execute_result"
    }
   ],
   "source": [
    "logs.getvalue()"
   ]
  },
  {
   "cell_type": "code",
   "execution_count": 97,
   "id": "6d92dc30",
   "metadata": {},
   "outputs": [],
   "source": [
    "import traceback"
   ]
  },
  {
   "cell_type": "code",
   "execution_count": 105,
   "id": "4915e0ef",
   "metadata": {},
   "outputs": [
    {
     "name": "stdout",
     "output_type": "stream",
     "text": [
      "Traceback (most recent call last):\n",
      "  File \"/var/folders/8k/07c2mpg56x7c31_26k0qj2y00000gn/T/ipykernel_80945/3243597427.py\", line 2, in <module>\n",
      "    1 / 0\n",
      "ZeroDivisionError: division by zero\n",
      "\n",
      "------\n",
      "division by zero\n"
     ]
    }
   ],
   "source": [
    "try:\n",
    "   1 / 0 \n",
    "except Exception as e:\n",
    "    print(traceback.format_exc())\n",
    "    print('------')\n",
    "    print(e)"
   ]
  },
  {
   "cell_type": "code",
   "execution_count": 110,
   "id": "679140c6",
   "metadata": {},
   "outputs": [
    {
     "name": "stdout",
     "output_type": "stream",
     "text": [
      "Captured Standard Output:\n",
      "This is a standard output message.\n",
      "\n",
      "Captured Standard Error:\n",
      "Traceback (most recent call last):\n",
      "  File \"/var/folders/8k/07c2mpg56x7c31_26k0qj2y00000gn/T/ipykernel_80945/1693939582.py\", line 18, in <module>\n",
      "    problematic_function()\n",
      "  File \"/var/folders/8k/07c2mpg56x7c31_26k0qj2y00000gn/T/ipykernel_80945/1693939582.py\", line 9, in problematic_function\n",
      "    raise ValueError(\"This is an error message.\")\n",
      "ValueError: This is an error message.\n",
      "\n",
      "\n"
     ]
    }
   ],
   "source": [
    "import traceback\n",
    "from io import StringIO\n",
    "from contextlib import redirect_stdout, redirect_stderr\n",
    "import sys\n",
    "\n",
    "# A sample function that generates both output and an error\n",
    "def problematic_function():\n",
    "    print(\"This is a standard output message.\")\n",
    "    raise ValueError(\"This is an error message.\")\n",
    "\n",
    "# StringIO objects to capture output and error\n",
    "logged_output = StringIO()\n",
    "logged_error = StringIO()\n",
    "\n",
    "try:\n",
    "    # Redirect standard output and standard error\n",
    "    with redirect_stdout(logged_output), redirect_stderr(logged_error):\n",
    "        problematic_function()\n",
    "except Exception as e:\n",
    "    # Redirect the error message to logged_error\n",
    "    with redirect_stderr(logged_error):\n",
    "        print(traceback.format_exc(), file=sys.stderr)\n",
    "\n",
    "# Get the captured output and error\n",
    "captured_output = logged_output.getvalue()\n",
    "captured_error = logged_error.getvalue()\n",
    "\n",
    "# Display the captured output and error\n",
    "print(\"Captured Standard Output:\")\n",
    "print(captured_output)\n",
    "\n",
    "print(\"Captured Standard Error:\")\n",
    "print(captured_error)\n"
   ]
  },
  {
   "cell_type": "code",
   "execution_count": 111,
   "id": "18265757",
   "metadata": {},
   "outputs": [
    {
     "data": {
      "text/plain": [
       "'Traceback (most recent call last):\\n  File \"/var/folders/8k/07c2mpg56x7c31_26k0qj2y00000gn/T/ipykernel_80945/215963528.py\", line 17, in <module>\\n    problematic_function()\\n  File \"/var/folders/8k/07c2mpg56x7c31_26k0qj2y00000gn/T/ipykernel_80945/215963528.py\", line 8, in problematic_function\\n    raise ValueError(\"This is an error message.\")\\nValueError: This is an error message.\\n'"
      ]
     },
     "execution_count": 111,
     "metadata": {},
     "output_type": "execute_result"
    }
   ],
   "source": [
    "formatted_error"
   ]
  },
  {
   "cell_type": "code",
   "execution_count": null,
   "id": "dbe90b8c",
   "metadata": {},
   "outputs": [],
   "source": []
  }
 ],
 "metadata": {
  "kernelspec": {
   "display_name": "m",
   "language": "python",
   "name": "m"
  },
  "language_info": {
   "codemirror_mode": {
    "name": "ipython",
    "version": 3
   },
   "file_extension": ".py",
   "mimetype": "text/x-python",
   "name": "python",
   "nbconvert_exporter": "python",
   "pygments_lexer": "ipython3",
   "version": "3.9.19"
  }
 },
 "nbformat": 4,
 "nbformat_minor": 5
}
