{
 "cells": [
  {
   "cell_type": "code",
   "execution_count": 35,
   "id": "a41c240f",
   "metadata": {},
   "outputs": [],
   "source": [
    "import sqlite3\n",
    "conn = sqlite3.connect('problems.db')\n",
    "cursor = conn.cursor()"
   ]
  },
  {
   "cell_type": "code",
   "execution_count": 36,
   "id": "e020f421",
   "metadata": {},
   "outputs": [],
   "source": [
    "# problems\n",
    "# id, problem_statement, starting_code"
   ]
  },
  {
   "cell_type": "code",
   "execution_count": 37,
   "id": "898b121c",
   "metadata": {},
   "outputs": [
    {
     "data": {
      "text/plain": [
       "<sqlite3.Cursor at 0x10f6597a0>"
      ]
     },
     "execution_count": 37,
     "metadata": {},
     "output_type": "execute_result"
    }
   ],
   "source": [
    "cursor.execute('''CREATE TABLE IF NOT EXISTS problems(\n",
    "               id TEXT PRIMARY KEY,\n",
    "               problem_statement,\n",
    "               starting_code\n",
    "              )''')"
   ]
  },
  {
   "cell_type": "code",
   "execution_count": 38,
   "id": "a6c14508",
   "metadata": {},
   "outputs": [
    {
     "data": {
      "text/plain": [
       "[('problems',), ('sqlite_autoindex_problems_1',)]"
      ]
     },
     "execution_count": 38,
     "metadata": {},
     "output_type": "execute_result"
    }
   ],
   "source": [
    "cursor.execute('SELECT name from sqlite_master').fetchall()"
   ]
  },
  {
   "cell_type": "code",
   "execution_count": 39,
   "id": "67eff4b8",
   "metadata": {},
   "outputs": [],
   "source": [
    "datas = [\n",
    "  \n",
    "    {\n",
    "        'id': '1',\n",
    "        \"problem_statement\": \"\"\"# Move Zeroes\n",
    "\n",
    "Given an integer array `nums`, move all 0's to the end of it while maintaining the relative order of the non-zero elements.\n",
    "\n",
    "**Note:** You must do this in-place without making a copy of the array.\n",
    "\n",
    "## Example 1\n",
    "- **Input:** `nums = [0,1,0,3,12]`\n",
    "- **Output:** `[1,3,12,0,0]`\n",
    "\n",
    "## Example 2\n",
    "- **Input:** `nums = [0]`\n",
    "- **Output:** `[0]`\n",
    "\n",
    "## Constraints\n",
    "- `1 <= nums.length <= 10^4`\n",
    "- `-2^31 <= nums[i] <= 2^31 - 1`\n",
    "\n",
    "## Follow Up\n",
    "Could you minimize the total number of operations done?\"\"\",\n",
    "        'initial_code': \"\"\"class Problem:\n",
    "    def solution(self, nums):\n",
    "       pass\"\"\"\n",
    "    \n",
    "    }\n",
    "    \n",
    "]\n"
   ]
  },
  {
   "cell_type": "code",
   "execution_count": 40,
   "id": "d1c3d14c",
   "metadata": {},
   "outputs": [],
   "source": [
    "prepared_data =  [(ele['id'], ele['problem_statement'], ele['initial_code']) for ele in datas]"
   ]
  },
  {
   "cell_type": "code",
   "execution_count": 41,
   "id": "98f8d718",
   "metadata": {},
   "outputs": [
    {
     "ename": "IntegrityError",
     "evalue": "UNIQUE constraint failed: problems.id",
     "output_type": "error",
     "traceback": [
      "\u001b[0;31m---------------------------------------------------------------------------\u001b[0m",
      "\u001b[0;31mIntegrityError\u001b[0m                            Traceback (most recent call last)",
      "Cell \u001b[0;32mIn[41], line 1\u001b[0m\n\u001b[0;32m----> 1\u001b[0m \u001b[43mcursor\u001b[49m\u001b[38;5;241;43m.\u001b[39;49m\u001b[43mexecutemany\u001b[49m\u001b[43m(\u001b[49m\u001b[38;5;124;43m'''\u001b[39;49m\n\u001b[1;32m      2\u001b[0m \u001b[38;5;124;43m    INSERT INTO problems (id, problem_statement, starting_code)\u001b[39;49m\n\u001b[1;32m      3\u001b[0m \u001b[38;5;124;43m    VALUES (?, ?, ?)\u001b[39;49m\n\u001b[1;32m      4\u001b[0m \u001b[38;5;124;43m'''\u001b[39;49m\u001b[43m,\u001b[49m\u001b[43m \u001b[49m\u001b[43mprepared_data\u001b[49m\u001b[43m)\u001b[49m\n\u001b[1;32m      5\u001b[0m conn\u001b[38;5;241m.\u001b[39mcommit()\n",
      "\u001b[0;31mIntegrityError\u001b[0m: UNIQUE constraint failed: problems.id"
     ]
    }
   ],
   "source": [
    "cursor.executemany('''\n",
    "    INSERT INTO problems (id, problem_statement, starting_code)\n",
    "    VALUES (?, ?, ?)\n",
    "''', prepared_data)\n",
    "conn.commit()"
   ]
  },
  {
   "cell_type": "code",
   "execution_count": 43,
   "id": "f4bbe592",
   "metadata": {},
   "outputs": [
    {
     "data": {
      "text/plain": [
       "[('1',\n",
       "  \"# Move Zeroes\\n\\nGiven an integer array `nums`, move all 0's to the end of it while maintaining the relative order of the non-zero elements.\\n\\n**Note:** You must do this in-place without making a copy of the array.\\n\\n## Example 1\\n- **Input:** `nums = [0,1,0,3,12]`\\n- **Output:** `[1,3,12,0,0]`\\n\\n## Example 2\\n- **Input:** `nums = [0]`\\n- **Output:** `[0]`\\n\\n## Constraints\\n- `1 <= nums.length <= 10^4`\\n- `-2^31 <= nums[i] <= 2^31 - 1`\\n\\n## Follow Up\\nCould you minimize the total number of operations done?\",\n",
       "  'class Problem:\\n    def solution(self, nums):\\n       pass')]"
      ]
     },
     "execution_count": 43,
     "metadata": {},
     "output_type": "execute_result"
    }
   ],
   "source": [
    "cursor.execute('SELECT * FROM problems').fetchall()"
   ]
  },
  {
   "cell_type": "code",
   "execution_count": 34,
   "id": "5f97e9e8",
   "metadata": {},
   "outputs": [],
   "source": [
    "# id_to_update = 1\n",
    "# new_column_value = 'new_value'\n",
    "# cursor.execute(\"UPDATE problems SET problem_statement = ? WHERE id = ?\", (datas[0]['problem_statement'], datas[0]['id']))\n"
   ]
  },
  {
   "cell_type": "code",
   "execution_count": 46,
   "id": "cea359bb",
   "metadata": {},
   "outputs": [
    {
     "name": "stdout",
     "output_type": "stream",
     "text": [
      "Database populated with sample problems successfully!\n"
     ]
    }
   ],
   "source": [
    "import sqlite3\n",
    "import json\n",
    "\n",
    "DATABASE_NAME = \"problems_v2.db\"\n",
    "\n",
    "def get_db_connection():\n",
    "    conn = sqlite3.connect(DATABASE_NAME)\n",
    "    conn.row_factory = sqlite3.Row\n",
    "    return conn\n",
    "\n",
    "def init_db():\n",
    "    conn = get_db_connection()\n",
    "    conn.execute('''\n",
    "        CREATE TABLE IF NOT EXISTS problems (\n",
    "            id INTEGER PRIMARY KEY,\n",
    "            title TEXT NOT NULL,\n",
    "            difficulty TEXT NOT NULL,\n",
    "            problem_statement TEXT NOT NULL,\n",
    "            starting_code TEXT NOT NULL,\n",
    "            solution_code TEXT NOT NULL,\n",
    "            test_cases TEXT NOT NULL\n",
    "        )\n",
    "    ''')\n",
    "    conn.commit()\n",
    "    conn.close()\n",
    "\n",
    "def insert_problem(problem_data):\n",
    "    conn = get_db_connection()\n",
    "    conn.execute('''\n",
    "        INSERT INTO problems (title, difficulty, problem_statement, starting_code, solution_code, test_cases)\n",
    "        VALUES (?, ?, ?, ?, ?, ?)\n",
    "    ''', (\n",
    "        problem_data['title'],\n",
    "        problem_data['difficulty'],\n",
    "        problem_data['problem_statement'],\n",
    "        problem_data['starting_code'],\n",
    "        problem_data['solution_code'],\n",
    "        json.dumps(problem_data['test_cases'])\n",
    "    ))\n",
    "    conn.commit()\n",
    "    conn.close()\n",
    "\n",
    "# Sample problems\n",
    "problems = [\n",
    "    {\n",
    "        \"title\": \"Two Sum\",\n",
    "        \"difficulty\": \"Easy\",\n",
    "        \"problem_statement\": \"Given an array of integers nums and an integer target, return indices of the two numbers such that they add up to target. You may assume that each input would have exactly one solution, and you may not use the same element twice.\",\n",
    "        \"starting_code\": \"\"\"class Problem:\n",
    "    def solution(self, nums, target):\n",
    "        # Your code here\n",
    "        pass\n",
    "\"\"\",\n",
    "        \"solution_code\": \"\"\"class Problem:\n",
    "    def solution(self, nums, target):\n",
    "        seen = {}\n",
    "        for i, num in enumerate(nums):\n",
    "            complement = target - num\n",
    "            if complement in seen:\n",
    "                return [seen[complement], i]\n",
    "            seen[num] = i\n",
    "        return []  # No solution found\n",
    "\"\"\",\n",
    "        \"test_cases\": [\n",
    "            {\n",
    "                \"input\": [[2, 7, 11, 15], 9],\n",
    "                \"output\": [0, 1]\n",
    "            },\n",
    "            {\n",
    "                \"input\": [[3, 2, 4], 6],\n",
    "                \"output\": [1, 2]\n",
    "            },\n",
    "            {\n",
    "                \"input\": [[3, 3], 6],\n",
    "                \"output\": [0, 1]\n",
    "            }\n",
    "        ]\n",
    "    },\n",
    "    {\n",
    "        \"title\": \"Reverse String\",\n",
    "        \"difficulty\": \"Easy\",\n",
    "        \"problem_statement\": \"Write a function that reverses a string. The input string is given as an array of characters s.\",\n",
    "        \"starting_code\": \"\"\"class Problem:\n",
    "    def solution(self, s):\n",
    "        # Your code here\n",
    "        pass\n",
    "\"\"\",\n",
    "        \"solution_code\": \"\"\"class Problem:\n",
    "    def solution(self, s):\n",
    "        left, right = 0, len(s) - 1\n",
    "        while left < right:\n",
    "            s[left], s[right] = s[right], s[left]\n",
    "            left += 1\n",
    "            right -= 1\n",
    "        return s\n",
    "\"\"\",\n",
    "        \"test_cases\": [\n",
    "            {\n",
    "                \"input\": [[\"h\", \"e\", \"l\", \"l\", \"o\"]],\n",
    "                \"output\": [\"o\", \"l\", \"l\", \"e\", \"h\"]\n",
    "            },\n",
    "            {\n",
    "                \"input\": [[\"H\", \"a\", \"n\", \"n\", \"a\", \"h\"]],\n",
    "                \"output\": [\"h\", \"a\", \"n\", \"n\", \"a\", \"H\"]\n",
    "            },\n",
    "            {\n",
    "                \"input\": [[\"a\"]],\n",
    "                \"output\": [\"a\"]\n",
    "            }\n",
    "        ]\n",
    "    }\n",
    "]\n",
    "\n",
    "if __name__ == \"__main__\":\n",
    "    init_db()\n",
    "    for problem in problems:\n",
    "        insert_problem(problem)\n",
    "    print(\"Database populated with sample problems successfully!\")"
   ]
  },
  {
   "cell_type": "code",
   "execution_count": null,
   "id": "2c1727c0",
   "metadata": {},
   "outputs": [],
   "source": []
  },
  {
   "cell_type": "code",
   "execution_count": null,
   "id": "c7b8d5aa",
   "metadata": {},
   "outputs": [],
   "source": []
  },
  {
   "cell_type": "code",
   "execution_count": null,
   "id": "c54f5b91",
   "metadata": {},
   "outputs": [],
   "source": []
  },
  {
   "cell_type": "code",
   "execution_count": null,
   "id": "413d05d4",
   "metadata": {},
   "outputs": [],
   "source": []
  },
  {
   "cell_type": "code",
   "execution_count": null,
   "id": "fa98888f",
   "metadata": {},
   "outputs": [],
   "source": []
  },
  {
   "cell_type": "code",
   "execution_count": null,
   "id": "4c87afea",
   "metadata": {},
   "outputs": [],
   "source": []
  }
 ],
 "metadata": {
  "kernelspec": {
   "display_name": "m",
   "language": "python",
   "name": "m"
  },
  "language_info": {
   "codemirror_mode": {
    "name": "ipython",
    "version": 3
   },
   "file_extension": ".py",
   "mimetype": "text/x-python",
   "name": "python",
   "nbconvert_exporter": "python",
   "pygments_lexer": "ipython3",
   "version": "3.9.19"
  }
 },
 "nbformat": 4,
 "nbformat_minor": 5
}
