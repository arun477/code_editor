{
 "cells": [
  {
   "cell_type": "code",
   "execution_count": 35,
   "id": "a41c240f",
   "metadata": {},
   "outputs": [],
   "source": [
    "import sqlite3\n",
    "conn = sqlite3.connect('problems.db')\n",
    "cursor = conn.cursor()"
   ]
  },
  {
   "cell_type": "code",
   "execution_count": 36,
   "id": "e020f421",
   "metadata": {},
   "outputs": [],
   "source": [
    "# problems\n",
    "# id, problem_statement, starting_code"
   ]
  },
  {
   "cell_type": "code",
   "execution_count": 37,
   "id": "898b121c",
   "metadata": {},
   "outputs": [
    {
     "data": {
      "text/plain": [
       "<sqlite3.Cursor at 0x10f6597a0>"
      ]
     },
     "execution_count": 37,
     "metadata": {},
     "output_type": "execute_result"
    }
   ],
   "source": [
    "cursor.execute('''CREATE TABLE IF NOT EXISTS problems(\n",
    "               id TEXT PRIMARY KEY,\n",
    "               problem_statement,\n",
    "               starting_code\n",
    "              )''')"
   ]
  },
  {
   "cell_type": "code",
   "execution_count": 38,
   "id": "a6c14508",
   "metadata": {},
   "outputs": [
    {
     "data": {
      "text/plain": [
       "[('problems',), ('sqlite_autoindex_problems_1',)]"
      ]
     },
     "execution_count": 38,
     "metadata": {},
     "output_type": "execute_result"
    }
   ],
   "source": [
    "cursor.execute('SELECT name from sqlite_master').fetchall()"
   ]
  },
  {
   "cell_type": "code",
   "execution_count": 39,
   "id": "67eff4b8",
   "metadata": {},
   "outputs": [],
   "source": [
    "datas = [\n",
    "  \n",
    "    {\n",
    "        'id': '1',\n",
    "        \"problem_statement\": \"\"\"# Move Zeroes\n",
    "\n",
    "Given an integer array `nums`, move all 0's to the end of it while maintaining the relative order of the non-zero elements.\n",
    "\n",
    "**Note:** You must do this in-place without making a copy of the array.\n",
    "\n",
    "## Example 1\n",
    "- **Input:** `nums = [0,1,0,3,12]`\n",
    "- **Output:** `[1,3,12,0,0]`\n",
    "\n",
    "## Example 2\n",
    "- **Input:** `nums = [0]`\n",
    "- **Output:** `[0]`\n",
    "\n",
    "## Constraints\n",
    "- `1 <= nums.length <= 10^4`\n",
    "- `-2^31 <= nums[i] <= 2^31 - 1`\n",
    "\n",
    "## Follow Up\n",
    "Could you minimize the total number of operations done?\"\"\",\n",
    "        'initial_code': \"\"\"class Problem:\n",
    "    def solution(self, nums):\n",
    "       pass\"\"\"\n",
    "    \n",
    "    }\n",
    "    \n",
    "]\n"
   ]
  },
  {
   "cell_type": "code",
   "execution_count": 40,
   "id": "d1c3d14c",
   "metadata": {},
   "outputs": [],
   "source": [
    "prepared_data =  [(ele['id'], ele['problem_statement'], ele['initial_code']) for ele in datas]"
   ]
  },
  {
   "cell_type": "code",
   "execution_count": 41,
   "id": "98f8d718",
   "metadata": {},
   "outputs": [
    {
     "ename": "IntegrityError",
     "evalue": "UNIQUE constraint failed: problems.id",
     "output_type": "error",
     "traceback": [
      "\u001b[0;31m---------------------------------------------------------------------------\u001b[0m",
      "\u001b[0;31mIntegrityError\u001b[0m                            Traceback (most recent call last)",
      "Cell \u001b[0;32mIn[41], line 1\u001b[0m\n\u001b[0;32m----> 1\u001b[0m \u001b[43mcursor\u001b[49m\u001b[38;5;241;43m.\u001b[39;49m\u001b[43mexecutemany\u001b[49m\u001b[43m(\u001b[49m\u001b[38;5;124;43m'''\u001b[39;49m\n\u001b[1;32m      2\u001b[0m \u001b[38;5;124;43m    INSERT INTO problems (id, problem_statement, starting_code)\u001b[39;49m\n\u001b[1;32m      3\u001b[0m \u001b[38;5;124;43m    VALUES (?, ?, ?)\u001b[39;49m\n\u001b[1;32m      4\u001b[0m \u001b[38;5;124;43m'''\u001b[39;49m\u001b[43m,\u001b[49m\u001b[43m \u001b[49m\u001b[43mprepared_data\u001b[49m\u001b[43m)\u001b[49m\n\u001b[1;32m      5\u001b[0m conn\u001b[38;5;241m.\u001b[39mcommit()\n",
      "\u001b[0;31mIntegrityError\u001b[0m: UNIQUE constraint failed: problems.id"
     ]
    }
   ],
   "source": [
    "cursor.executemany('''\n",
    "    INSERT INTO problems (id, problem_statement, starting_code)\n",
    "    VALUES (?, ?, ?)\n",
    "''', prepared_data)\n",
    "conn.commit()"
   ]
  },
  {
   "cell_type": "code",
   "execution_count": 43,
   "id": "f4bbe592",
   "metadata": {},
   "outputs": [
    {
     "data": {
      "text/plain": [
       "[('1',\n",
       "  \"# Move Zeroes\\n\\nGiven an integer array `nums`, move all 0's to the end of it while maintaining the relative order of the non-zero elements.\\n\\n**Note:** You must do this in-place without making a copy of the array.\\n\\n## Example 1\\n- **Input:** `nums = [0,1,0,3,12]`\\n- **Output:** `[1,3,12,0,0]`\\n\\n## Example 2\\n- **Input:** `nums = [0]`\\n- **Output:** `[0]`\\n\\n## Constraints\\n- `1 <= nums.length <= 10^4`\\n- `-2^31 <= nums[i] <= 2^31 - 1`\\n\\n## Follow Up\\nCould you minimize the total number of operations done?\",\n",
       "  'class Problem:\\n    def solution(self, nums):\\n       pass')]"
      ]
     },
     "execution_count": 43,
     "metadata": {},
     "output_type": "execute_result"
    }
   ],
   "source": [
    "cursor.execute('SELECT * FROM problems').fetchall()"
   ]
  },
  {
   "cell_type": "code",
   "execution_count": 34,
   "id": "5f97e9e8",
   "metadata": {},
   "outputs": [],
   "source": [
    "# id_to_update = 1\n",
    "# new_column_value = 'new_value'\n",
    "# cursor.execute(\"UPDATE problems SET problem_statement = ? WHERE id = ?\", (datas[0]['problem_statement'], datas[0]['id']))\n"
   ]
  },
  {
   "cell_type": "code",
   "execution_count": 44,
   "id": "98292c7e",
   "metadata": {},
   "outputs": [],
   "source": [
    "execution_template = \"\"\"\n",
    "import sys\n",
    "from io import StringIO\n",
    "from contextlib import redirect_stdout\n",
    "import json\n",
    "import inspect\n",
    "\n",
    "{USER_EXECUTION_CODE}         \n",
    "\n",
    "import sys\n",
    "from io import StringIO\n",
    "from contextlib import redirect_stdout\n",
    "import json\n",
    "import inspect\n",
    "\n",
    "def run_solution():\n",
    "    logged_output = StringIO()\n",
    "    with redirect_stdout(logged_output):\n",
    "       valid = False\n",
    "       return_output = None\n",
    "       {PROBLEM_SPECIFIC_CODE}\n",
    "    \n",
    "    return logged_output.getvalue().strip(), return_output, valid\n",
    "\n",
    "if __name__ == \"__main__\":\n",
    "    logged_output, return_output, valid = run_solution()\n",
    "    print(logged_output)\n",
    "    print(json.dumps({\"return_output\": return_output, \"valid\": valid}))\"\"\""
   ]
  },
  {
   "cell_type": "code",
   "execution_count": null,
   "id": "7c51b7ac",
   "metadata": {},
   "outputs": [],
   "source": []
  }
 ],
 "metadata": {
  "kernelspec": {
   "display_name": "m",
   "language": "python",
   "name": "m"
  },
  "language_info": {
   "codemirror_mode": {
    "name": "ipython",
    "version": 3
   },
   "file_extension": ".py",
   "mimetype": "text/x-python",
   "name": "python",
   "nbconvert_exporter": "python",
   "pygments_lexer": "ipython3",
   "version": "3.9.19"
  }
 },
 "nbformat": 4,
 "nbformat_minor": 5
}
