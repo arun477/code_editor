{
 "cells": [
  {
   "cell_type": "code",
   "execution_count": 35,
   "id": "a41c240f",
   "metadata": {},
   "outputs": [],
   "source": [
    "import sqlite3\n",
    "conn = sqlite3.connect('problems.db')\n",
    "cursor = conn.cursor()"
   ]
  },
  {
   "cell_type": "code",
   "execution_count": 36,
   "id": "e020f421",
   "metadata": {},
   "outputs": [],
   "source": [
    "# problems\n",
    "# id, problem_statement, starting_code"
   ]
  },
  {
   "cell_type": "code",
   "execution_count": 37,
   "id": "898b121c",
   "metadata": {},
   "outputs": [
    {
     "data": {
      "text/plain": [
       "<sqlite3.Cursor at 0x10f6597a0>"
      ]
     },
     "execution_count": 37,
     "metadata": {},
     "output_type": "execute_result"
    }
   ],
   "source": [
    "cursor.execute('''CREATE TABLE IF NOT EXISTS problems(\n",
    "               id TEXT PRIMARY KEY,\n",
    "               problem_statement,\n",
    "               starting_code\n",
    "              )''')"
   ]
  },
  {
   "cell_type": "code",
   "execution_count": 38,
   "id": "a6c14508",
   "metadata": {},
   "outputs": [
    {
     "data": {
      "text/plain": [
       "[('problems',), ('sqlite_autoindex_problems_1',)]"
      ]
     },
     "execution_count": 38,
     "metadata": {},
     "output_type": "execute_result"
    }
   ],
   "source": [
    "cursor.execute('SELECT name from sqlite_master').fetchall()"
   ]
  },
  {
   "cell_type": "code",
   "execution_count": 39,
   "id": "67eff4b8",
   "metadata": {},
   "outputs": [],
   "source": [
    "datas = [\n",
    "  \n",
    "    {\n",
    "        'id': '1',\n",
    "        \"problem_statement\": \"\"\"# Move Zeroes\n",
    "\n",
    "Given an integer array `nums`, move all 0's to the end of it while maintaining the relative order of the non-zero elements.\n",
    "\n",
    "**Note:** You must do this in-place without making a copy of the array.\n",
    "\n",
    "## Example 1\n",
    "- **Input:** `nums = [0,1,0,3,12]`\n",
    "- **Output:** `[1,3,12,0,0]`\n",
    "\n",
    "## Example 2\n",
    "- **Input:** `nums = [0]`\n",
    "- **Output:** `[0]`\n",
    "\n",
    "## Constraints\n",
    "- `1 <= nums.length <= 10^4`\n",
    "- `-2^31 <= nums[i] <= 2^31 - 1`\n",
    "\n",
    "## Follow Up\n",
    "Could you minimize the total number of operations done?\"\"\",\n",
    "        'initial_code': \"\"\"class Problem:\n",
    "    def solution(self, nums):\n",
    "       pass\"\"\"\n",
    "    \n",
    "    }\n",
    "    \n",
    "]\n"
   ]
  },
  {
   "cell_type": "code",
   "execution_count": 40,
   "id": "d1c3d14c",
   "metadata": {},
   "outputs": [],
   "source": [
    "prepared_data =  [(ele['id'], ele['problem_statement'], ele['initial_code']) for ele in datas]"
   ]
  },
  {
   "cell_type": "code",
   "execution_count": 41,
   "id": "98f8d718",
   "metadata": {},
   "outputs": [
    {
     "ename": "IntegrityError",
     "evalue": "UNIQUE constraint failed: problems.id",
     "output_type": "error",
     "traceback": [
      "\u001b[0;31m---------------------------------------------------------------------------\u001b[0m",
      "\u001b[0;31mIntegrityError\u001b[0m                            Traceback (most recent call last)",
      "Cell \u001b[0;32mIn[41], line 1\u001b[0m\n\u001b[0;32m----> 1\u001b[0m \u001b[43mcursor\u001b[49m\u001b[38;5;241;43m.\u001b[39;49m\u001b[43mexecutemany\u001b[49m\u001b[43m(\u001b[49m\u001b[38;5;124;43m'''\u001b[39;49m\n\u001b[1;32m      2\u001b[0m \u001b[38;5;124;43m    INSERT INTO problems (id, problem_statement, starting_code)\u001b[39;49m\n\u001b[1;32m      3\u001b[0m \u001b[38;5;124;43m    VALUES (?, ?, ?)\u001b[39;49m\n\u001b[1;32m      4\u001b[0m \u001b[38;5;124;43m'''\u001b[39;49m\u001b[43m,\u001b[49m\u001b[43m \u001b[49m\u001b[43mprepared_data\u001b[49m\u001b[43m)\u001b[49m\n\u001b[1;32m      5\u001b[0m conn\u001b[38;5;241m.\u001b[39mcommit()\n",
      "\u001b[0;31mIntegrityError\u001b[0m: UNIQUE constraint failed: problems.id"
     ]
    }
   ],
   "source": [
    "cursor.executemany('''\n",
    "    INSERT INTO problems (id, problem_statement, starting_code)\n",
    "    VALUES (?, ?, ?)\n",
    "''', prepared_data)\n",
    "conn.commit()"
   ]
  },
  {
   "cell_type": "code",
   "execution_count": 43,
   "id": "f4bbe592",
   "metadata": {},
   "outputs": [
    {
     "data": {
      "text/plain": [
       "[('1',\n",
       "  \"# Move Zeroes\\n\\nGiven an integer array `nums`, move all 0's to the end of it while maintaining the relative order of the non-zero elements.\\n\\n**Note:** You must do this in-place without making a copy of the array.\\n\\n## Example 1\\n- **Input:** `nums = [0,1,0,3,12]`\\n- **Output:** `[1,3,12,0,0]`\\n\\n## Example 2\\n- **Input:** `nums = [0]`\\n- **Output:** `[0]`\\n\\n## Constraints\\n- `1 <= nums.length <= 10^4`\\n- `-2^31 <= nums[i] <= 2^31 - 1`\\n\\n## Follow Up\\nCould you minimize the total number of operations done?\",\n",
       "  'class Problem:\\n    def solution(self, nums):\\n       pass')]"
      ]
     },
     "execution_count": 43,
     "metadata": {},
     "output_type": "execute_result"
    }
   ],
   "source": [
    "cursor.execute('SELECT * FROM problems').fetchall()"
   ]
  },
  {
   "cell_type": "code",
   "execution_count": 34,
   "id": "5f97e9e8",
   "metadata": {},
   "outputs": [],
   "source": [
    "# id_to_update = 1\n",
    "# new_column_value = 'new_value'\n",
    "# cursor.execute(\"UPDATE problems SET problem_statement = ? WHERE id = ?\", (datas[0]['problem_statement'], datas[0]['id']))\n"
   ]
  },
  {
   "cell_type": "code",
   "execution_count": 227,
   "id": "7ac6dde7",
   "metadata": {},
   "outputs": [
    {
     "name": "stdout",
     "output_type": "stream",
     "text": [
      "1\n",
      "2\n",
      "3\n",
      "5\n",
      "6\n",
      "Database populated with sample problems successfully!\n"
     ]
    }
   ],
   "source": [
    "import sqlite3\n",
    "import json\n",
    "\n",
    "DATABASE_NAME = \"problems_v6.db\"\n",
    "\n",
    "def get_db_connection():\n",
    "    conn = sqlite3.connect(DATABASE_NAME)\n",
    "    conn.row_factory = sqlite3.Row\n",
    "    return conn\n",
    "\n",
    "def init_db():\n",
    "    conn = get_db_connection()\n",
    "    conn.execute('''\n",
    "        CREATE TABLE IF NOT EXISTS problems (\n",
    "            id TEXT PRIMARY KEY,\n",
    "            title TEXT NOT NULL,\n",
    "            difficulty TEXT NOT NULL,\n",
    "            problem_statement TEXT NOT NULL,\n",
    "            starting_code TEXT NOT NULL,\n",
    "            solution_code TEXT NOT NULL,\n",
    "            test_cases TEXT NOT NULL,\n",
    "            test_run_code TEXT NOT NULL\n",
    "        )\n",
    "    ''')\n",
    "    conn.commit()\n",
    "    conn.close()\n",
    "\n",
    "def insert_problem(problem_data):\n",
    "    conn = get_db_connection()\n",
    "    conn.execute('''\n",
    "        INSERT INTO problems (id,title, difficulty, problem_statement, starting_code, solution_code, test_cases, test_run_code)\n",
    "        VALUES (?,?, ?, ?, ?, ?, ?, ?)\n",
    "    ''', (\n",
    "        str(problem_data['id']),\n",
    "        problem_data['title'],\n",
    "        problem_data['difficulty'],\n",
    "        problem_data['problem_statement'],\n",
    "        problem_data['starting_code'],\n",
    "        problem_data['solution_code'],\n",
    "        json.dumps(problem_data['test_cases']),\n",
    "        problem_data['test_run_code']\n",
    "    ))\n",
    "    conn.commit()\n",
    "    conn.close()\n",
    "\n",
    "# Sample problems\n",
    "problems = [\n",
    "    {\n",
    "        \"id\": 1,      \n",
    "        \"test_run_code\":\"\"\"\n",
    "        return_output = Problem().solution(*input_data)\n",
    "        valid = return_output == expected_output\n",
    "        \"\"\",\n",
    "        \"title\": \"Two Sum\",\n",
    "        \"difficulty\": \"Easy\",\n",
    "        \"problem_statement\": \"Given an array of integers nums and an integer target, return indices of the two numbers such that they add up to target. You may assume that each input would have exactly one solution, and you may not use the same element twice.\",\n",
    "        \"starting_code\": \"\"\"class Problem:\n",
    "    def solution(self, nums, target):\n",
    "        # Your code here\n",
    "        pass\n",
    "\"\"\",\n",
    "        \"solution_code\": \"\"\"class Problem:\n",
    "    def solution(self, nums, target):\n",
    "        seen = {}\n",
    "        for i, num in enumerate(nums):\n",
    "            complement = target - num\n",
    "            if complement in seen:\n",
    "                return [seen[complement], i]\n",
    "            seen[num] = i\n",
    "        return []\n",
    "\"\"\",\n",
    "        \"test_cases\": [\n",
    "            {\n",
    "                \"input\": [[2, 7, 11, 15], 9],\n",
    "                \"output\": [0, 1]\n",
    "            },\n",
    "            {\n",
    "                \"input\": [[3, 2, 4], 6],\n",
    "                \"output\": [1, 2]\n",
    "            },\n",
    "            {\n",
    "                \"input\": [[3, 3], 6],\n",
    "                \"output\": [0, 1]\n",
    "            }\n",
    "        ]\n",
    "    },\n",
    "    {\n",
    "        \"id\": 2,\n",
    "        \"test_run_code\":\"\"\"\n",
    "        return_output = Problem().solution(*input_data)\n",
    "        valid = return_output == expected_output\n",
    "        \"\"\",\n",
    "        \"title\": \"Reverse String\",\n",
    "        \"difficulty\": \"Easy\",\n",
    "        \"problem_statement\": \"Write a function that reverses a string. The input string is given as an array of characters s.\",\n",
    "        \"starting_code\": \"\"\"class Problem:\n",
    "    def solution(self, s):\n",
    "        # Your code here\n",
    "        pass\n",
    "\"\"\",\n",
    "        \"solution_code\": \"\"\"class Problem:\n",
    "    def solution(self, s):\n",
    "        left, right = 0, len(s) - 1\n",
    "        while left < right:\n",
    "            s[left], s[right] = s[right], s[left]\n",
    "            left, right = left + 1, right - 1\n",
    "        return s\n",
    "\"\"\",\n",
    "        \"test_cases\": [\n",
    "            {\n",
    "                \"input\": [[\"h\", \"e\", \"l\", \"l\", \"o\"]],\n",
    "                \"output\": [\"o\", \"l\", \"l\", \"e\", \"h\"]\n",
    "            },\n",
    "            {\n",
    "                \"input\": [[\"H\", \"a\", \"n\", \"n\", \"a\", \"h\"]],\n",
    "                \"output\": [\"h\", \"a\", \"n\", \"n\", \"a\", \"H\"]\n",
    "            }\n",
    "        ]\n",
    "    },\n",
    "    {\n",
    "        \"id\": 3,\n",
    "        \"test_run_code\":\"\"\"\n",
    "        return_output = Problem().solution(*input_data)\n",
    "        valid = return_output == expected_output\n",
    "        \"\"\",\n",
    "        \"title\": \"Maximum Subarray\",\n",
    "        \"difficulty\": \"Medium\",\n",
    "        \"problem_statement\": \"Given an integer array nums, find the contiguous subarray (containing at least one number) which has the largest sum and return its sum.\",\n",
    "        \"starting_code\": \"\"\"class Problem:\n",
    "    def solution(self, nums):\n",
    "        # Your code here\n",
    "        pass\n",
    "\"\"\",\n",
    "        \"solution_code\": \"\"\"class Problem:\n",
    "    def solution(self, nums):\n",
    "        max_sum = nums[0]\n",
    "        current_sum = nums[0]\n",
    "        for num in nums[1:]:\n",
    "            current_sum = max(num, current_sum + num)\n",
    "            max_sum = max(max_sum, current_sum)\n",
    "        return max_sum\n",
    "\"\"\",\n",
    "        \"test_cases\": [\n",
    "            {\n",
    "                \"input\": [[-2,1,-3,4,-1,2,1,-5,4]],\n",
    "                \"output\": 6\n",
    "            },\n",
    "            {\n",
    "                \"input\": [[1]],\n",
    "                \"output\": 1\n",
    "            },\n",
    "            {\n",
    "                \"input\": [[5,4,-1,7,8]],\n",
    "                \"output\": 23\n",
    "            }\n",
    "        ]\n",
    "    },\n",
    "#     {\n",
    "#         \"id\": 4,\n",
    "#         \"test_run_code\":\"\"\"\n",
    "#         return_output = Problem().solution(*input_data)\n",
    "#         valid = return_output == expected_output\n",
    "#         \"\"\",\n",
    "#         \"title\": \"Merge Two Sorted Lists\",\n",
    "#         \"difficulty\": \"Easy\",\n",
    "#         \"problem_statement\": \"Merge two sorted linked lists and return it as a sorted list. The list should be made by splicing together the nodes of the first two lists.\",\n",
    "#         \"starting_code\": \"\"\"class ListNode:\n",
    "#     def __init__(self, val=0, next=None):\n",
    "#         self.val = val\n",
    "#         self.next = next\n",
    "\n",
    "# class Problem:\n",
    "#     def solution(self, l1, l2):\n",
    "#         # Your code here\n",
    "#         pass\n",
    "# \"\"\",\n",
    "#         \"solution_code\": \"\"\"class ListNode:\n",
    "#     def __init__(self, val=0, next=None):\n",
    "#         self.val = val\n",
    "#         self.next = next\n",
    "\n",
    "# class Problem:\n",
    "#     def solution(self, l1, l2):\n",
    "#         dummy = ListNode()\n",
    "#         tail = dummy\n",
    "        \n",
    "#         while l1 and l2:\n",
    "#             if l1.val < l2.val:\n",
    "#                 tail.next = l1\n",
    "#                 l1 = l1.next\n",
    "#             else:\n",
    "#                 tail.next = l2\n",
    "#                 l2 = l2.next\n",
    "#             tail = tail.next\n",
    "        \n",
    "#         tail.next = l1 or l2\n",
    "#         return dummy.next\n",
    "# \"\"\",\n",
    "#         \"test_cases\": [\n",
    "#             {\n",
    "#                 \"input\": [ListNode(1, ListNode(2, ListNode(4))), ListNode(1, ListNode(3, ListNode(4)))],\n",
    "#                 \"output\": ListNode(1, ListNode(1, ListNode(2, ListNode(3, ListNode(4, ListNode(4)))))) # This is conceptual, in actual tests, you should write a function to compare linked lists\n",
    "#             },\n",
    "#             {\n",
    "#                 \"input\": [None, None],\n",
    "#                 \"output\": None\n",
    "#             },\n",
    "#             {\n",
    "#                 \"input\": [None, ListNode(0)],\n",
    "#                 \"output\": ListNode(0)\n",
    "#             }\n",
    "#         ]\n",
    "#     },\n",
    "    {\n",
    "        \"id\": 5,\n",
    "        \"test_run_code\":\"\"\"\n",
    "        return_output = Problem().solution(*input_data)\n",
    "        valid = return_output == expected_output\n",
    "        \"\"\",\n",
    "        \"title\": \"Valid Parentheses\",\n",
    "        \"difficulty\": \"Easy\",\n",
    "        \"problem_statement\": \"Given a string s containing just the characters '(', ')', '{', '}', '[' and ']', determine if the input string is valid.\",\n",
    "        \"starting_code\": \"\"\"class Problem:\n",
    "    def solution(self, s):\n",
    "        # Your code here\n",
    "        pass\n",
    "\"\"\",\n",
    "        \"solution_code\": \"\"\"class Problem:\n",
    "    def solution(self, s):\n",
    "        stack = []\n",
    "        mapping = {\")\": \"(\", \"}\": \"{\", \"]\": \"[\"}\n",
    "        \n",
    "        for char in s:\n",
    "            if char in mapping:\n",
    "                top_element = stack.pop() if stack else '#'\n",
    "                if mapping[char] != top_element:\n",
    "                    return False\n",
    "            else:\n",
    "                stack.append(char)\n",
    "        \n",
    "        return not stack\n",
    "\"\"\",\n",
    "        \"test_cases\": [\n",
    "            {\n",
    "                \"input\": [\"()\"],\n",
    "                \"output\": True\n",
    "            },\n",
    "            {\n",
    "                \"input\": [\"()[]{}\"],\n",
    "                \"output\": True\n",
    "            },\n",
    "            {\n",
    "                \"input\": [\"(]\"],\n",
    "                \"output\": False\n",
    "            },\n",
    "            {\n",
    "                \"input\": [\"([)]\"],\n",
    "                \"output\": False\n",
    "            },\n",
    "            {\n",
    "                \"input\": [\"{[]}\"],\n",
    "                \"output\": True\n",
    "            }\n",
    "        ]\n",
    "    },\n",
    "    {\n",
    "        \"id\": 6,\n",
    "        \"test_run_code\":\"\"\"\n",
    "        return_output = Problem().solution(*input_data)\n",
    "        valid = return_output == expected_output\n",
    "        \"\"\",\n",
    "        \"title\": \"Climbing Stairs\",\n",
    "        \"difficulty\": \"Easy\",\n",
    "        \"problem_statement\": \"You are climbing a staircase. It takes n steps to reach the top. Each time you can either climb 1 or 2 steps. In how many distinct ways can you climb to the top?\",\n",
    "        \"starting_code\": \"\"\"class Problem:\n",
    "    def solution(self, n):\n",
    "        # Your code here\n",
    "        pass\n",
    "\"\"\",\n",
    "        \"solution_code\": \"\"\"class Problem:\n",
    "    def solution(self, n):\n",
    "        if n <= 2:\n",
    "            return n\n",
    "        a, b = 1, 2\n",
    "        for i in range(3, n + 1):\n",
    "            a, b = b, a + b\n",
    "        return b\n",
    "\"\"\",\n",
    "        \"test_cases\": [\n",
    "            {\n",
    "                \"input\": [2],\n",
    "                \"output\": 2\n",
    "            },\n",
    "            {\n",
    "                \"input\": [3],\n",
    "                \"output\": 3\n",
    "            },\n",
    "            {\n",
    "                \"input\": [4],\n",
    "                \"output\": 5\n",
    "            }\n",
    "        ]\n",
    "    }\n",
    "]\n",
    "\n",
    "if __name__ == \"__main__\":\n",
    "    init_db()\n",
    "    for problem in problems:\n",
    "        print(problem['id'])\n",
    "        insert_problem(problem)\n",
    "    print(\"Database populated with sample problems successfully!\")"
   ]
  },
  {
   "cell_type": "code",
   "execution_count": null,
   "id": "becebd7f",
   "metadata": {},
   "outputs": [],
   "source": []
  },
  {
   "cell_type": "code",
   "execution_count": 47,
   "id": "121e62bc",
   "metadata": {},
   "outputs": [],
   "source": [
    "from contextlib import contextmanager"
   ]
  },
  {
   "cell_type": "code",
   "execution_count": 62,
   "id": "4459f534",
   "metadata": {},
   "outputs": [],
   "source": [
    "@contextmanager\n",
    "def my_context():\n",
    "    try:\n",
    "        print('call try method')\n",
    "        yield\n",
    "    finally:\n",
    "        print('olaal')\n",
    "    print('im also')\n"
   ]
  },
  {
   "cell_type": "code",
   "execution_count": 63,
   "id": "305f3918",
   "metadata": {},
   "outputs": [
    {
     "name": "stdout",
     "output_type": "stream",
     "text": [
      "call try method\n",
      "context operations\n",
      "olaal\n",
      "im also\n"
     ]
    }
   ],
   "source": [
    "with my_context() as my:\n",
    "    print('context operations')"
   ]
  },
  {
   "cell_type": "code",
   "execution_count": 64,
   "id": "4f1ebc9e",
   "metadata": {},
   "outputs": [
    {
     "data": {
      "text/plain": [
       "'__main__'"
      ]
     },
     "execution_count": 64,
     "metadata": {},
     "output_type": "execute_result"
    }
   ],
   "source": [
    "__name__"
   ]
  },
  {
   "cell_type": "code",
   "execution_count": 65,
   "id": "141cc08a",
   "metadata": {},
   "outputs": [],
   "source": [
    "import logging"
   ]
  },
  {
   "cell_type": "code",
   "execution_count": 71,
   "id": "81276f2a",
   "metadata": {},
   "outputs": [],
   "source": [
    "logging.basicConfig(level=logging.DEBUG)\n",
    "logger = logging.getLogger(__name__)"
   ]
  },
  {
   "cell_type": "code",
   "execution_count": 83,
   "id": "563fa452",
   "metadata": {},
   "outputs": [
    {
     "name": "stderr",
     "output_type": "stream",
     "text": [
      "WARNING:__main__:name 'b' is not defined\n"
     ]
    }
   ],
   "source": [
    "try:\n",
    "    b\n",
    "except Exception as e:\n",
    "    logger.warning(e)"
   ]
  },
  {
   "cell_type": "code",
   "execution_count": 85,
   "id": "c54d7f89",
   "metadata": {},
   "outputs": [],
   "source": [
    "from contextlib import redirect_stdout\n",
    "from io import StringIO"
   ]
  },
  {
   "cell_type": "code",
   "execution_count": 86,
   "id": "fd65e6b5",
   "metadata": {},
   "outputs": [],
   "source": [
    "logs = StringIO()"
   ]
  },
  {
   "cell_type": "code",
   "execution_count": 87,
   "id": "4bf3c3b4",
   "metadata": {},
   "outputs": [
    {
     "data": {
      "text/plain": [
       "<_io.StringIO at 0x11031c8b0>"
      ]
     },
     "execution_count": 87,
     "metadata": {},
     "output_type": "execute_result"
    }
   ],
   "source": [
    "logs"
   ]
  },
  {
   "cell_type": "code",
   "execution_count": 93,
   "id": "7ff9d4bc",
   "metadata": {},
   "outputs": [
    {
     "ename": "NameError",
     "evalue": "name 'b' is not defined",
     "output_type": "error",
     "traceback": [
      "\u001b[0;31m---------------------------------------------------------------------------\u001b[0m",
      "\u001b[0;31mNameError\u001b[0m                                 Traceback (most recent call last)",
      "Cell \u001b[0;32mIn[93], line 4\u001b[0m\n\u001b[1;32m      2\u001b[0m \u001b[38;5;28mprint\u001b[39m(\u001b[38;5;124m'\u001b[39m\u001b[38;5;124meellle\u001b[39m\u001b[38;5;124m'\u001b[39m)\n\u001b[1;32m      3\u001b[0m \u001b[38;5;28mprint\u001b[39m(\u001b[38;5;124m'\u001b[39m\u001b[38;5;124melooooooo, nice vacation buddy...\u001b[39m\u001b[38;5;124m'\u001b[39m)\n\u001b[0;32m----> 4\u001b[0m \u001b[38;5;28mprint\u001b[39m(\u001b[43mb\u001b[49m\u001b[38;5;241m.\u001b[39mg)\n",
      "\u001b[0;31mNameError\u001b[0m: name 'b' is not defined"
     ]
    }
   ],
   "source": [
    "with redirect_stdout(logs):\n",
    "    print('eellle')\n",
    "    print('elooooooo, nice vacation buddy...')\n",
    "    print(b.g)"
   ]
  },
  {
   "cell_type": "code",
   "execution_count": 94,
   "id": "cd6f9e5b",
   "metadata": {},
   "outputs": [
    {
     "data": {
      "text/plain": [
       "<_io.StringIO at 0x11031c8b0>"
      ]
     },
     "execution_count": 94,
     "metadata": {},
     "output_type": "execute_result"
    }
   ],
   "source": [
    "logs"
   ]
  },
  {
   "cell_type": "code",
   "execution_count": 96,
   "id": "6aa9185a",
   "metadata": {},
   "outputs": [
    {
     "data": {
      "text/plain": [
       "'eellle\\nelooooooo, nice vacation buddy...\\neellle\\nelooooooo, nice vacation buddy...\\n'"
      ]
     },
     "execution_count": 96,
     "metadata": {},
     "output_type": "execute_result"
    }
   ],
   "source": [
    "logs.getvalue()"
   ]
  },
  {
   "cell_type": "code",
   "execution_count": 97,
   "id": "413f3970",
   "metadata": {},
   "outputs": [],
   "source": [
    "import traceback"
   ]
  },
  {
   "cell_type": "code",
   "execution_count": 105,
   "id": "d6e40e8d",
   "metadata": {},
   "outputs": [
    {
     "name": "stdout",
     "output_type": "stream",
     "text": [
      "Traceback (most recent call last):\n",
      "  File \"/var/folders/8k/07c2mpg56x7c31_26k0qj2y00000gn/T/ipykernel_80945/3243597427.py\", line 2, in <module>\n",
      "    1 / 0\n",
      "ZeroDivisionError: division by zero\n",
      "\n",
      "------\n",
      "division by zero\n"
     ]
    }
   ],
   "source": [
    "try:\n",
    "   1 / 0 \n",
    "except Exception as e:\n",
    "    print(traceback.format_exc())\n",
    "    print('------')\n",
    "    print(e)"
   ]
  },
  {
   "cell_type": "code",
   "execution_count": 110,
   "id": "453cff4e",
   "metadata": {},
   "outputs": [
    {
     "name": "stdout",
     "output_type": "stream",
     "text": [
      "Captured Standard Output:\n",
      "This is a standard output message.\n",
      "\n",
      "Captured Standard Error:\n",
      "Traceback (most recent call last):\n",
      "  File \"/var/folders/8k/07c2mpg56x7c31_26k0qj2y00000gn/T/ipykernel_80945/1693939582.py\", line 18, in <module>\n",
      "    problematic_function()\n",
      "  File \"/var/folders/8k/07c2mpg56x7c31_26k0qj2y00000gn/T/ipykernel_80945/1693939582.py\", line 9, in problematic_function\n",
      "    raise ValueError(\"This is an error message.\")\n",
      "ValueError: This is an error message.\n",
      "\n",
      "\n"
     ]
    }
   ],
   "source": [
    "import traceback\n",
    "from io import StringIO\n",
    "from contextlib import redirect_stdout, redirect_stderr\n",
    "import sys\n",
    "\n",
    "# A sample function that generates both output and an error\n",
    "def problematic_function():\n",
    "    print(\"This is a standard output message.\")\n",
    "    raise ValueError(\"This is an error message.\")\n",
    "\n",
    "# StringIO objects to capture output and error\n",
    "logged_output = StringIO()\n",
    "logged_error = StringIO()\n",
    "\n",
    "try:\n",
    "    # Redirect standard output and standard error\n",
    "    with redirect_stdout(logged_output), redirect_stderr(logged_error):\n",
    "        problematic_function()\n",
    "except Exception as e:\n",
    "    # Redirect the error message to logged_error\n",
    "    with redirect_stderr(logged_error):\n",
    "        print(traceback.format_exc(), file=sys.stderr)\n",
    "\n",
    "# Get the captured output and error\n",
    "captured_output = logged_output.getvalue()\n",
    "captured_error = logged_error.getvalue()\n",
    "\n",
    "# Display the captured output and error\n",
    "print(\"Captured Standard Output:\")\n",
    "print(captured_output)\n",
    "\n",
    "print(\"Captured Standard Error:\")\n",
    "print(captured_error)\n"
   ]
  },
  {
   "cell_type": "code",
   "execution_count": 111,
   "id": "29942678",
   "metadata": {},
   "outputs": [
    {
     "data": {
      "text/plain": [
       "'Traceback (most recent call last):\\n  File \"/var/folders/8k/07c2mpg56x7c31_26k0qj2y00000gn/T/ipykernel_80945/215963528.py\", line 17, in <module>\\n    problematic_function()\\n  File \"/var/folders/8k/07c2mpg56x7c31_26k0qj2y00000gn/T/ipykernel_80945/215963528.py\", line 8, in problematic_function\\n    raise ValueError(\"This is an error message.\")\\nValueError: This is an error message.\\n'"
      ]
     },
     "execution_count": 111,
     "metadata": {},
     "output_type": "execute_result"
    }
   ],
   "source": [
    "formatted_error"
   ]
  },
  {
   "cell_type": "code",
   "execution_count": 120,
   "id": "ac4cfa67",
   "metadata": {},
   "outputs": [],
   "source": [
    "from contextlib import redirect_stdout, redirect_stderr\n",
    "import io"
   ]
  },
  {
   "cell_type": "code",
   "execution_count": 146,
   "id": "84940cef",
   "metadata": {},
   "outputs": [
    {
     "data": {
      "text/plain": [
       "'hello\\nnice\\n'"
      ]
     },
     "execution_count": 146,
     "metadata": {},
     "output_type": "execute_result"
    }
   ],
   "source": [
    "log = StringIO()\n",
    "\n",
    "with  redirect_stderr(err_log):\n",
    "    try:\n",
    "        raise Exception('nice')\n",
    "    except Exception as e:\n",
    "        print(e, file=sys.stderr)\n",
    "\n",
    "err_log.getvalue()"
   ]
  },
  {
   "cell_type": "code",
   "execution_count": 143,
   "id": "031207ff",
   "metadata": {},
   "outputs": [
    {
     "data": {
      "text/plain": [
       "''"
      ]
     },
     "execution_count": 143,
     "metadata": {},
     "output_type": "execute_result"
    }
   ],
   "source": []
  },
  {
   "cell_type": "code",
   "execution_count": 136,
   "id": "cce0bd5f",
   "metadata": {},
   "outputs": [
    {
     "name": "stdout",
     "output_type": "stream",
     "text": [
      "This is a normal message\n"
     ]
    },
    {
     "name": "stderr",
     "output_type": "stream",
     "text": [
      "This is an error message\n"
     ]
    }
   ],
   "source": [
    "import sys\n",
    "\n",
    "# Writing to stdout\n",
    "print(\"This is a normal message\", file=sys.stdout)\n",
    "\n",
    "# Writing to stderr\n",
    "print(\"This is an error message\", file=sys.stderr)\n"
   ]
  },
  {
   "cell_type": "code",
   "execution_count": 137,
   "id": "e1d2f5fa",
   "metadata": {},
   "outputs": [],
   "source": [
    "sys.stderr??"
   ]
  },
  {
   "cell_type": "code",
   "execution_count": 148,
   "id": "75d7fb09",
   "metadata": {},
   "outputs": [
    {
     "ename": "SyntaxError",
     "evalue": "invalid syntax (1646481220.py, line 3)",
     "output_type": "error",
     "traceback": [
      "\u001b[0;36m  Cell \u001b[0;32mIn[148], line 3\u001b[0;36m\u001b[0m\n\u001b[0;31m    except Exception as e:\u001b[0m\n\u001b[0m    ^\u001b[0m\n\u001b[0;31mSyntaxError\u001b[0m\u001b[0;31m:\u001b[0m invalid syntax\n"
     ]
    }
   ],
   "source": [
    "try:\n",
    "    print(\"Hello, World\"  # Missing closing parenthesis\n",
    "except Exception as e:\n",
    "        pass"
   ]
  },
  {
   "cell_type": "code",
   "execution_count": 151,
   "id": "fc713ba2",
   "metadata": {},
   "outputs": [
    {
     "name": "stdout",
     "output_type": "stream",
     "text": [
      "division by zero\n"
     ]
    }
   ],
   "source": [
    "try:\n",
    "    print(10 / 0)  # Division by zero\n",
    "except Exception as e:\n",
    "    print(e)\n"
   ]
  },
  {
   "cell_type": "code",
   "execution_count": 166,
   "id": "6c3eaae3",
   "metadata": {},
   "outputs": [
    {
     "data": {
      "text/plain": [
       "\"name 'a' is not defined\\n\""
      ]
     },
     "execution_count": 166,
     "metadata": {},
     "output_type": "execute_result"
    }
   ],
   "source": [
    "log = StringIO()\n",
    "\n",
    "try:\n",
    "    with redirect_stderr(err_log):\n",
    "            print(d())  \n",
    "except Exception as e:\n",
    "    error = traceback.format_exc()\n",
    "\n",
    "err_log.getvalue()\n"
   ]
  },
  {
   "cell_type": "code",
   "execution_count": 228,
   "id": "2189d681",
   "metadata": {},
   "outputs": [],
   "source": [
    "import sqlite3\n",
    "conn = sqlite3.connect(\"problems_v6.db\")\n",
    "# conn.row_factory = sqlite3.Row\n",
    "cursor = conn.cursor()"
   ]
  },
  {
   "cell_type": "code",
   "execution_count": 229,
   "id": "ff853460",
   "metadata": {},
   "outputs": [
    {
     "data": {
      "text/plain": [
       "[('1', 'Two Sum'),\n",
       " ('2', 'Reverse String'),\n",
       " ('3', 'Maximum Subarray'),\n",
       " ('5', 'Valid Parentheses'),\n",
       " ('6', 'Climbing Stairs')]"
      ]
     },
     "execution_count": 229,
     "metadata": {},
     "output_type": "execute_result"
    }
   ],
   "source": [
    "cursor.execute('SELECT id,title FROM problems').fetchall()"
   ]
  },
  {
   "cell_type": "code",
   "execution_count": 216,
   "id": "161ed256",
   "metadata": {},
   "outputs": [
    {
     "data": {
      "text/plain": [
       "{}"
      ]
     },
     "execution_count": 216,
     "metadata": {},
     "output_type": "execute_result"
    }
   ],
   "source": [
    "dict(cursor.execute('SELECT * FROM problems WHERE id=?', '2').fetchall())"
   ]
  },
  {
   "cell_type": "code",
   "execution_count": 197,
   "id": "f040e121",
   "metadata": {},
   "outputs": [],
   "source": [
    "cursor.execute('UPDATE problems SET difficulty=? WHERE id=?', ('Easy', '1'))\n",
    "conn.commit()"
   ]
  },
  {
   "cell_type": "code",
   "execution_count": 201,
   "id": "258e5e2c",
   "metadata": {},
   "outputs": [],
   "source": [
    "test_run_code = \"\"\"\n",
    "return_output = Problem().solution(*input_data)\n",
    "valid = return_output == expected_output\n",
    "\"\"\"\n",
    "\n",
    "cursor.execute('UPDATE problems SET test_run_code=? WHERE id=?', (test_run_code, '1'))\n",
    "conn.commit()"
   ]
  },
  {
   "cell_type": "code",
   "execution_count": 179,
   "id": "3a2fa73e",
   "metadata": {},
   "outputs": [],
   "source": [
    "cursor.execute('ALTER TABLE problems ADD COLUMN test_run_code TEXT')\n",
    "conn.commit()"
   ]
  },
  {
   "cell_type": "code",
   "execution_count": 203,
   "id": "7af7681b",
   "metadata": {},
   "outputs": [],
   "source": []
  },
  {
   "cell_type": "code",
   "execution_count": null,
   "id": "45feb0db",
   "metadata": {},
   "outputs": [],
   "source": []
  }
 ],
 "metadata": {
  "kernelspec": {
   "display_name": "m",
   "language": "python",
   "name": "m"
  },
  "language_info": {
   "codemirror_mode": {
    "name": "ipython",
    "version": 3
   },
   "file_extension": ".py",
   "mimetype": "text/x-python",
   "name": "python",
   "nbconvert_exporter": "python",
   "pygments_lexer": "ipython3",
   "version": "3.9.19"
  }
 },
 "nbformat": 4,
 "nbformat_minor": 5
}
