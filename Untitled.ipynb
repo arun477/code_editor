{
 "cells": [
  {
   "cell_type": "code",
   "execution_count": 81,
   "id": "70a8eec0",
   "metadata": {
    "scrolled": true
   },
   "outputs": [],
   "source": [
    "from contextlib import contextmanager\n",
    "\n",
    "@contextmanager\n",
    "def test():\n",
    "    try:\n",
    "        print('connected')\n",
    "        yield 1\n",
    "        print('olll')\n",
    "    finally:\n",
    "        print('disconnect')\n"
   ]
  },
  {
   "cell_type": "code",
   "execution_count": 82,
   "id": "8e4334e3",
   "metadata": {
    "scrolled": true
   },
   "outputs": [
    {
     "name": "stdout",
     "output_type": "stream",
     "text": [
      "connected\n",
      "1\n",
      "olll\n",
      "disconnect\n"
     ]
    }
   ],
   "source": [
    "with test() as conn:\n",
    "    print(conn)"
   ]
  },
  {
   "cell_type": "code",
   "execution_count": 89,
   "id": "0789ef28",
   "metadata": {},
   "outputs": [
    {
     "name": "stdout",
     "output_type": "stream",
     "text": [
      "enter\n",
      "connected\n",
      "....\n",
      "exit\n",
      "olll\n",
      "disconnect\n"
     ]
    }
   ],
   "source": [
    "class CustomContextManager:\n",
    "    def __init__(self, func):\n",
    "        self.func = func\n",
    "        self.gen = None\n",
    "    \n",
    "    def __enter__(self):\n",
    "        print('enter')\n",
    "        self.gen = self.func()\n",
    "        return next(self.gen)\n",
    "    \n",
    "    def __exit__(self, *args, **kwargs):\n",
    "        print('exit')\n",
    "        try:\n",
    "            next(self.gen)\n",
    "        except StopIteration:\n",
    "            pass\n",
    "        finally:\n",
    "            self.gen.close()\n",
    "\n",
    "    def __call__(self):\n",
    "        return self\n",
    "\n",
    "@CustomContextManager\n",
    "def test():\n",
    "    try:\n",
    "        print('connected')\n",
    "        yield 1\n",
    "        print('olll')\n",
    "    finally:\n",
    "        print('disconnect')\n",
    "\n",
    "with test() as conn:\n",
    "    print('....')"
   ]
  },
  {
   "cell_type": "code",
   "execution_count": 107,
   "id": "89ab38bf",
   "metadata": {},
   "outputs": [],
   "source": [
    "import sqlite3\n",
    "from contextlib import contextmanager\n",
    "from dataclasses import dataclass\n",
    "\n",
    "DB_NAME = 'problems_v9.db'\n",
    "PROBLEM_TABLE = 'problems'\n",
    "SUBMISSION_TEST_CASE_TABLE = 'submission_test_cases'\n",
    "\n",
    "class DB:\n",
    "    def __init__(self, cursor, conn):\n",
    "        self.cursor = cursor\n",
    "        self.conn = conn\n",
    "\n",
    "@contextmanager\n",
    "def create_sql_connection():\n",
    "    conn = None\n",
    "    try:\n",
    "        conn = sqlite3.connect(DB_NAME)\n",
    "        conn.row_factory = sqlite3.Row\n",
    "        yield DB(cursor=conn.cursor(), conn= conn)\n",
    "    finally:\n",
    "        if conn:\n",
    "            conn.close()\n",
    "\n",
    "def get_problem(problem_id: str):\n",
    "    with create_sql_connection() as _db:\n",
    "        return _db.cursor.execute(\n",
    "            f\"SELECT * FROM {PROBLEM_TABLE} WHERE questionId = ?\", (problem_id, )\n",
    "        ).fetchone()\n",
    "        \n",
    "        "
   ]
  },
  {
   "cell_type": "code",
   "execution_count": 108,
   "id": "8eea78cf",
   "metadata": {},
   "outputs": [
    {
     "data": {
      "text/plain": [
       "<sqlite3.Row at 0x111d51990>"
      ]
     },
     "execution_count": 108,
     "metadata": {},
     "output_type": "execute_result"
    }
   ],
   "source": [
    "get_problem('605')"
   ]
  },
  {
   "cell_type": "code",
   "execution_count": 94,
   "id": "71a41067",
   "metadata": {},
   "outputs": [],
   "source": []
  },
  {
   "cell_type": "code",
   "execution_count": 99,
   "id": "9f9319fb",
   "metadata": {},
   "outputs": [],
   "source": []
  },
  {
   "cell_type": "code",
   "execution_count": null,
   "id": "b4b77a13",
   "metadata": {},
   "outputs": [],
   "source": []
  }
 ],
 "metadata": {
  "kernelspec": {
   "display_name": "m",
   "language": "python",
   "name": "m"
  },
  "language_info": {
   "codemirror_mode": {
    "name": "ipython",
    "version": 3
   },
   "file_extension": ".py",
   "mimetype": "text/x-python",
   "name": "python",
   "nbconvert_exporter": "python",
   "pygments_lexer": "ipython3",
   "version": "3.9.19"
  }
 },
 "nbformat": 4,
 "nbformat_minor": 5
}
