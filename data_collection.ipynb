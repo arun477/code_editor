{
 "cells": [
  {
   "cell_type": "code",
   "execution_count": 4,
   "id": "ce89fa1b",
   "metadata": {},
   "outputs": [],
   "source": [
    "html = \"\"\"<div class=\"flex flex-1\"><div class=\"relative flex w-full flex-col\"><div class=\"lc-md:block absolute bottom-[100%] right-2 mb-4 hidden\"><div class=\"group flex cursor-pointer outline-none h-5 items-center\" id=\"headlessui-switch-:rg:\" role=\"switch\" tabindex=\"0\" aria-checked=\"false\" data-headlessui-state=\"\"><span class=\"mr-2 flex h-4 w-4 items-center justify-center rounded text-paper border border-fill-1 bg-layer-3 group-hover:bg-fill-4 dark:border-fill-1 dark:bg-dark-layer-3 dark:group-hover:bg-dark-fill-4\"><svg xmlns=\"http://www.w3.org/2000/svg\" viewBox=\"0 0 24 24\" width=\"1em\" height=\"1em\" fill=\"currentColor\" class=\"h-3.5 w-3.5 hidden\" aria-hidden=\"true\"><path fill-rule=\"evenodd\" d=\"M9.688 15.898l-3.98-3.98a1 1 0 00-1.415 1.414L8.98 18.02a1 1 0 001.415 0L20.707 7.707a1 1 0 00-1.414-1.414l-9.605 9.605z\" clip-rule=\"evenodd\"></path></svg></span><span class=\"block truncate leading-5 text-label-2 dark:text-dark-label-2 group-hover:text-label-1 dark:group-hover:text-dark-label-1\">Show tags</span></div></div><div class=\"flex w-full flex-col gap-4\"><div class=\"w-full overflow-hidden rounded-lg border-[1.5px] border-lc-fill-02 dark:border-dark-lc-fill-02\"><div class=\"flex h-10 items-center justify-between px-4 font-medium text-lc-text-primary dark:text-dark-lc-text-primary bg-lc-fill-01 dark:bg-dark-lc-fill-01\"><div class=\"text-[12px] font-medium\">Array / String</div></div><div class=\"flex flex-col border-b-[1.5px] duration-300 last:border-b-0 border-lc-fill-02 dark:border-dark-lc-fill-02 hover:bg-lc-fill-02 dark:hover:bg-dark-lc-fill-02 cursor-pointer\" id=\"\"><div class=\"flex h-[52px] w-full items-center space-x-3 px-4\"><div><div class=\"flex items-center\" data-state=\"closed\"><svg xmlns=\"http://www.w3.org/2000/svg\" viewBox=\"0 0 24 24\" width=\"1em\" height=\"1em\" fill=\"currentColor\" class=\"h-4.5 w-4.5 text-lc-green-60 dark:text-dark-lc-green-60 inline-block shrink-0 fill-none stroke-current\"><path stroke-linecap=\"round\" stroke-linejoin=\"round\" stroke-width=\"2\" d=\"M21.6 12a9.6 9.6 0 01-9.6 9.6 9.6 9.6 0 110-19.2c1.507 0 2.932.347 4.2.965M19.8 6l-8.4 8.4L9 12\"></path></svg></div></div><div class=\"relative flex h-full w-full items-center\"><div class=\" flex w-0 flex-1 items-center space-x-2\"><div class=\"text-body max-w-[75%] font-medium text-lc-text-primary dark:text-dark-lc-text-primary\"><div class=\"truncate\">Merge Strings Alternately</div></div><a class=\"absolute right-[15%] top-0 flex h-[52px] cursor-pointer items-center justify-center overflow-hidden px-2 text-text-secondary dark:text-text-secondary hover:text-text-secondary dark:hover:text-text-secondary\" target=\"_blank\" href=\"/problems/merge-strings-alternately/editorial/?envType=study-plan-v2&amp;envId=leetcode-75\"><svg xmlns=\"http://www.w3.org/2000/svg\" viewBox=\"0 0 24 24\" width=\"1em\" height=\"1em\" fill=\"currentColor\" class=\"mr-1 inline-block h-4 w-4 shrink-0 fill-none stroke-current text-lc-icon-secondary dark:text-dark-lc-icon-secondary\"><path stroke-linecap=\"round\" stroke-width=\"2\" d=\"M12.001 7.972h2.994m-5.989 0h.021m-.021 4.018h.021m-.021 4.018h.021m2.974-4.018h2.994m-2.994 4.018h2.994M7.098 20.98h9.927a2 2 0 002-2V4.78a2 2 0 00-2-2H7.098a2 2 0 00-2 2v14.2a2 2 0 002 2z\"></path></svg><span class=\"lc-md:flex hidden\">Solution</span></a></div><p class=\"text-[14px] text-lc-green-60 dark:text-dark-lc-green-60\">Easy</p></div></div></div><div class=\"flex flex-col border-b-[1.5px] duration-300 last:border-b-0 border-lc-fill-02 dark:border-dark-lc-fill-02 hover:bg-lc-fill-02 dark:hover:bg-dark-lc-fill-02 cursor-pointer\" id=\"\"><div class=\"flex h-[52px] w-full items-center space-x-3 px-4\"><div><div class=\"flex items-center\" data-state=\"closed\"><svg xmlns=\"http://www.w3.org/2000/svg\" viewBox=\"0 0 24 24\" width=\"1em\" height=\"1em\" fill=\"currentColor\" class=\"h-4.5 w-4.5 text-lc-green-60 dark:text-dark-lc-green-60 inline-block shrink-0 fill-none stroke-current\"><path stroke-linecap=\"round\" stroke-linejoin=\"round\" stroke-width=\"2\" d=\"M21.6 12a9.6 9.6 0 01-9.6 9.6 9.6 9.6 0 110-19.2c1.507 0 2.932.347 4.2.965M19.8 6l-8.4 8.4L9 12\"></path></svg></div></div><div class=\"relative flex h-full w-full items-center\"><div class=\" flex w-0 flex-1 items-center space-x-2\"><div class=\"text-body max-w-[75%] font-medium text-lc-text-primary dark:text-dark-lc-text-primary\"><div class=\"truncate\">Greatest Common Divisor of Strings</div></div><a class=\"absolute right-[15%] top-0 flex h-[52px] cursor-pointer items-center justify-center overflow-hidden px-2 text-text-secondary dark:text-text-secondary hover:text-text-secondary dark:hover:text-text-secondary\" target=\"_blank\" href=\"/problems/greatest-common-divisor-of-strings/editorial/?envType=study-plan-v2&amp;envId=leetcode-75\"><svg xmlns=\"http://www.w3.org/2000/svg\" viewBox=\"0 0 24 24\" width=\"1em\" height=\"1em\" fill=\"currentColor\" class=\"mr-1 inline-block h-4 w-4 shrink-0 fill-none stroke-current text-lc-icon-secondary dark:text-dark-lc-icon-secondary\"><path stroke-linecap=\"round\" stroke-width=\"2\" d=\"M12.001 7.972h2.994m-5.989 0h.021m-.021 4.018h.021m-.021 4.018h.021m2.974-4.018h2.994m-2.994 4.018h2.994M7.098 20.98h9.927a2 2 0 002-2V4.78a2 2 0 00-2-2H7.098a2 2 0 00-2 2v14.2a2 2 0 002 2z\"></path></svg><span class=\"lc-md:flex hidden\">Solution</span></a></div><p class=\"text-[14px] text-lc-green-60 dark:text-dark-lc-green-60\">Easy</p></div></div></div><div class=\"flex flex-col border-b-[1.5px] duration-300 last:border-b-0 border-lc-fill-02 dark:border-dark-lc-fill-02 hover:bg-lc-fill-02 dark:hover:bg-dark-lc-fill-02 cursor-pointer\" id=\"\"><div class=\"flex h-[52px] w-full items-center space-x-3 px-4\"><div><div class=\"flex items-center\" data-state=\"closed\"><svg xmlns=\"http://www.w3.org/2000/svg\" viewBox=\"0 0 24 24\" width=\"1em\" height=\"1em\" fill=\"currentColor\" class=\"h-4.5 w-4.5 text-lc-green-60 dark:text-dark-lc-green-60 inline-block shrink-0 fill-none stroke-current\"><path stroke-linecap=\"round\" stroke-linejoin=\"round\" stroke-width=\"2\" d=\"M21.6 12a9.6 9.6 0 01-9.6 9.6 9.6 9.6 0 110-19.2c1.507 0 2.932.347 4.2.965M19.8 6l-8.4 8.4L9 12\"></path></svg></div></div><div class=\"relative flex h-full w-full items-center\"><div class=\" flex w-0 flex-1 items-center space-x-2\"><div class=\"text-body max-w-[75%] font-medium text-lc-text-primary dark:text-dark-lc-text-primary\"><div class=\"truncate\">Kids With the Greatest Number of Candies</div></div><a class=\"absolute right-[15%] top-0 flex h-[52px] cursor-pointer items-center justify-center overflow-hidden px-2 text-text-secondary dark:text-text-secondary hover:text-text-secondary dark:hover:text-text-secondary\" target=\"_blank\" href=\"/problems/kids-with-the-greatest-number-of-candies/editorial/?envType=study-plan-v2&amp;envId=leetcode-75\"><svg xmlns=\"http://www.w3.org/2000/svg\" viewBox=\"0 0 24 24\" width=\"1em\" height=\"1em\" fill=\"currentColor\" class=\"mr-1 inline-block h-4 w-4 shrink-0 fill-none stroke-current text-lc-icon-secondary dark:text-dark-lc-icon-secondary\"><path stroke-linecap=\"round\" stroke-width=\"2\" d=\"M12.001 7.972h2.994m-5.989 0h.021m-.021 4.018h.021m-.021 4.018h.021m2.974-4.018h2.994m-2.994 4.018h2.994M7.098 20.98h9.927a2 2 0 002-2V4.78a2 2 0 00-2-2H7.098a2 2 0 00-2 2v14.2a2 2 0 002 2z\"></path></svg><span class=\"lc-md:flex hidden\">Solution</span></a></div><p class=\"text-[14px] text-lc-green-60 dark:text-dark-lc-green-60\">Easy</p></div></div></div><div class=\"flex flex-col border-b-[1.5px] duration-300 last:border-b-0 border-lc-fill-02 dark:border-dark-lc-fill-02 hover:bg-lc-fill-02 dark:hover:bg-dark-lc-fill-02 cursor-pointer\" id=\"\"><div class=\"flex h-[52px] w-full items-center space-x-3 px-4\"><div><div class=\"flex items-center\" data-state=\"closed\"><svg xmlns=\"http://www.w3.org/2000/svg\" viewBox=\"0 0 24 24\" width=\"1em\" height=\"1em\" fill=\"currentColor\" class=\"h-4.5 w-4.5 text-lc-green-60 dark:text-dark-lc-green-60 inline-block shrink-0 fill-none stroke-current\"><path stroke-linecap=\"round\" stroke-linejoin=\"round\" stroke-width=\"2\" d=\"M21.6 12a9.6 9.6 0 01-9.6 9.6 9.6 9.6 0 110-19.2c1.507 0 2.932.347 4.2.965M19.8 6l-8.4 8.4L9 12\"></path></svg></div></div><div class=\"relative flex h-full w-full items-center\"><div class=\" flex w-0 flex-1 items-center space-x-2\"><div class=\"text-body max-w-[75%] font-medium text-lc-text-primary dark:text-dark-lc-text-primary\"><div class=\"truncate\">Can Place Flowers</div></div><a class=\"absolute right-[15%] top-0 flex h-[52px] cursor-pointer items-center justify-center overflow-hidden px-2 text-text-secondary dark:text-text-secondary hover:text-text-secondary dark:hover:text-text-secondary\" target=\"_blank\" href=\"/problems/can-place-flowers/editorial/?envType=study-plan-v2&amp;envId=leetcode-75\"><svg xmlns=\"http://www.w3.org/2000/svg\" viewBox=\"0 0 24 24\" width=\"1em\" height=\"1em\" fill=\"currentColor\" class=\"mr-1 inline-block h-4 w-4 shrink-0 fill-none stroke-current text-lc-icon-secondary dark:text-dark-lc-icon-secondary\"><path stroke-linecap=\"round\" stroke-width=\"2\" d=\"M12.001 7.972h2.994m-5.989 0h.021m-.021 4.018h.021m-.021 4.018h.021m2.974-4.018h2.994m-2.994 4.018h2.994M7.098 20.98h9.927a2 2 0 002-2V4.78a2 2 0 00-2-2H7.098a2 2 0 00-2 2v14.2a2 2 0 002 2z\"></path></svg><span class=\"lc-md:flex hidden\">Solution</span></a></div><p class=\"text-[14px] text-lc-green-60 dark:text-dark-lc-green-60\">Easy</p></div></div></div><div class=\"flex flex-col border-b-[1.5px] duration-300 last:border-b-0 border-lc-fill-02 dark:border-dark-lc-fill-02 hover:bg-lc-fill-02 dark:hover:bg-dark-lc-fill-02 cursor-pointer\" id=\"\"><div class=\"flex h-[52px] w-full items-center space-x-3 px-4\"><div><div class=\"flex items-center\" data-state=\"closed\"><svg xmlns=\"http://www.w3.org/2000/svg\" viewBox=\"0 0 24 24\" width=\"1em\" height=\"1em\" fill=\"currentColor\" class=\"h-4.5 w-4.5 text-lc-green-60 dark:text-dark-lc-green-60 inline-block shrink-0 fill-none stroke-current\"><path stroke-linecap=\"round\" stroke-linejoin=\"round\" stroke-width=\"2\" d=\"M21.6 12a9.6 9.6 0 01-9.6 9.6 9.6 9.6 0 110-19.2c1.507 0 2.932.347 4.2.965M19.8 6l-8.4 8.4L9 12\"></path></svg></div></div><div class=\"relative flex h-full w-full items-center\"><div class=\" flex w-0 flex-1 items-center space-x-2\"><div class=\"text-body max-w-[75%] font-medium text-lc-text-primary dark:text-dark-lc-text-primary\"><div class=\"truncate\">Reverse Vowels of a String</div></div><a class=\"absolute right-[15%] top-0 flex h-[52px] cursor-pointer items-center justify-center overflow-hidden px-2 text-text-secondary dark:text-text-secondary hover:text-text-secondary dark:hover:text-text-secondary\" target=\"_blank\" href=\"/problems/reverse-vowels-of-a-string/editorial/?envType=study-plan-v2&amp;envId=leetcode-75\"><svg xmlns=\"http://www.w3.org/2000/svg\" viewBox=\"0 0 24 24\" width=\"1em\" height=\"1em\" fill=\"currentColor\" class=\"mr-1 inline-block h-4 w-4 shrink-0 fill-none stroke-current text-lc-icon-secondary dark:text-dark-lc-icon-secondary\"><path stroke-linecap=\"round\" stroke-width=\"2\" d=\"M12.001 7.972h2.994m-5.989 0h.021m-.021 4.018h.021m-.021 4.018h.021m2.974-4.018h2.994m-2.994 4.018h2.994M7.098 20.98h9.927a2 2 0 002-2V4.78a2 2 0 00-2-2H7.098a2 2 0 00-2 2v14.2a2 2 0 002 2z\"></path></svg><span class=\"lc-md:flex hidden\">Solution</span></a></div><p class=\"text-[14px] text-lc-green-60 dark:text-dark-lc-green-60\">Easy</p></div></div></div><div class=\"flex flex-col border-b-[1.5px] duration-300 last:border-b-0 border-lc-fill-02 dark:border-dark-lc-fill-02 hover:bg-lc-fill-02 dark:hover:bg-dark-lc-fill-02 cursor-pointer\" id=\"\"><div class=\"flex h-[52px] w-full items-center space-x-3 px-4\"><div><div class=\"flex items-center\" data-state=\"closed\"><svg xmlns=\"http://www.w3.org/2000/svg\" viewBox=\"0 0 24 24\" width=\"1em\" height=\"1em\" fill=\"currentColor\" class=\"h-4.5 w-4.5 text-lc-green-60 dark:text-dark-lc-green-60 inline-block shrink-0 fill-none stroke-current\"><path stroke-linecap=\"round\" stroke-linejoin=\"round\" stroke-width=\"2\" d=\"M21.6 12a9.6 9.6 0 01-9.6 9.6 9.6 9.6 0 110-19.2c1.507 0 2.932.347 4.2.965M19.8 6l-8.4 8.4L9 12\"></path></svg></div></div><div class=\"relative flex h-full w-full items-center\"><div class=\" flex w-0 flex-1 items-center space-x-2\"><div class=\"text-body max-w-[75%] font-medium text-lc-text-primary dark:text-dark-lc-text-primary\"><div class=\"truncate\">Reverse Words in a String</div></div><a class=\"absolute right-[15%] top-0 flex h-[52px] cursor-pointer items-center justify-center overflow-hidden px-2 text-text-secondary dark:text-text-secondary hover:text-text-secondary dark:hover:text-text-secondary\" target=\"_blank\" href=\"/problems/reverse-words-in-a-string/editorial/?envType=study-plan-v2&amp;envId=leetcode-75\"><svg xmlns=\"http://www.w3.org/2000/svg\" viewBox=\"0 0 24 24\" width=\"1em\" height=\"1em\" fill=\"currentColor\" class=\"mr-1 inline-block h-4 w-4 shrink-0 fill-none stroke-current text-lc-icon-secondary dark:text-dark-lc-icon-secondary\"><path stroke-linecap=\"round\" stroke-width=\"2\" d=\"M12.001 7.972h2.994m-5.989 0h.021m-.021 4.018h.021m-.021 4.018h.021m2.974-4.018h2.994m-2.994 4.018h2.994M7.098 20.98h9.927a2 2 0 002-2V4.78a2 2 0 00-2-2H7.098a2 2 0 00-2 2v14.2a2 2 0 002 2z\"></path></svg><span class=\"lc-md:flex hidden\">Solution</span></a></div><p class=\"text-[14px] text-lc-yellow-60 dark:text-dark-lc-yellow-60\">Medium</p></div></div></div><div class=\"flex flex-col border-b-[1.5px] duration-300 last:border-b-0 border-lc-fill-02 dark:border-dark-lc-fill-02 hover:bg-lc-fill-02 dark:hover:bg-dark-lc-fill-02 cursor-pointer\" id=\"\"><div class=\"flex h-[52px] w-full items-center space-x-3 px-4\"><div><div class=\"flex items-center\" data-state=\"closed\"><svg xmlns=\"http://www.w3.org/2000/svg\" viewBox=\"0 0 24 24\" width=\"1em\" height=\"1em\" fill=\"currentColor\" class=\"h-4.5 w-4.5 text-lc-green-60 dark:text-dark-lc-green-60 inline-block shrink-0 fill-none stroke-current\"><path stroke-linecap=\"round\" stroke-linejoin=\"round\" stroke-width=\"2\" d=\"M21.6 12a9.6 9.6 0 01-9.6 9.6 9.6 9.6 0 110-19.2c1.507 0 2.932.347 4.2.965M19.8 6l-8.4 8.4L9 12\"></path></svg></div></div><div class=\"relative flex h-full w-full items-center\"><div class=\" flex w-0 flex-1 items-center space-x-2\"><div class=\"text-body max-w-[75%] font-medium text-lc-text-primary dark:text-dark-lc-text-primary\"><div class=\"truncate\">Product of Array Except Self</div></div><a class=\"absolute right-[15%] top-0 flex h-[52px] cursor-pointer items-center justify-center overflow-hidden px-2 text-text-secondary dark:text-text-secondary hover:text-text-secondary dark:hover:text-text-secondary\" target=\"_blank\" href=\"/problems/product-of-array-except-self/editorial/?envType=study-plan-v2&amp;envId=leetcode-75\"><svg xmlns=\"http://www.w3.org/2000/svg\" viewBox=\"0 0 24 24\" width=\"1em\" height=\"1em\" fill=\"currentColor\" class=\"mr-1 inline-block h-4 w-4 shrink-0 fill-none stroke-current text-lc-icon-secondary dark:text-dark-lc-icon-secondary\"><path stroke-linecap=\"round\" stroke-width=\"2\" d=\"M12.001 7.972h2.994m-5.989 0h.021m-.021 4.018h.021m-.021 4.018h.021m2.974-4.018h2.994m-2.994 4.018h2.994M7.098 20.98h9.927a2 2 0 002-2V4.78a2 2 0 00-2-2H7.098a2 2 0 00-2 2v14.2a2 2 0 002 2z\"></path></svg><span class=\"lc-md:flex hidden\">Solution</span></a></div><p class=\"text-[14px] text-lc-yellow-60 dark:text-dark-lc-yellow-60\">Medium</p></div></div></div><div class=\"flex flex-col border-b-[1.5px] duration-300 last:border-b-0 border-lc-fill-02 dark:border-dark-lc-fill-02 hover:bg-lc-fill-02 dark:hover:bg-dark-lc-fill-02 cursor-pointer\" id=\"\"><div class=\"flex h-[52px] w-full items-center space-x-3 px-4\"><div><div class=\"flex items-center\" data-state=\"closed\"><svg xmlns=\"http://www.w3.org/2000/svg\" viewBox=\"0 0 24 24\" width=\"1em\" height=\"1em\" fill=\"currentColor\" class=\"h-4.5 w-4.5 text-lc-green-60 dark:text-dark-lc-green-60 inline-block shrink-0 fill-none stroke-current\"><path stroke-linecap=\"round\" stroke-linejoin=\"round\" stroke-width=\"2\" d=\"M21.6 12a9.6 9.6 0 01-9.6 9.6 9.6 9.6 0 110-19.2c1.507 0 2.932.347 4.2.965M19.8 6l-8.4 8.4L9 12\"></path></svg></div></div><div class=\"relative flex h-full w-full items-center\"><div class=\" flex w-0 flex-1 items-center space-x-2\"><div class=\"text-body max-w-[75%] font-medium text-lc-text-primary dark:text-dark-lc-text-primary\"><div class=\"truncate\">Increasing Triplet Subsequence</div></div><a class=\"absolute right-[15%] top-0 flex h-[52px] cursor-pointer items-center justify-center overflow-hidden px-2 text-text-secondary dark:text-text-secondary hover:text-text-secondary dark:hover:text-text-secondary\" target=\"_blank\" href=\"/problems/increasing-triplet-subsequence/editorial/?envType=study-plan-v2&amp;envId=leetcode-75\"><svg xmlns=\"http://www.w3.org/2000/svg\" viewBox=\"0 0 24 24\" width=\"1em\" height=\"1em\" fill=\"currentColor\" class=\"mr-1 inline-block h-4 w-4 shrink-0 fill-none stroke-current text-lc-icon-secondary dark:text-dark-lc-icon-secondary\"><path stroke-linecap=\"round\" stroke-width=\"2\" d=\"M12.001 7.972h2.994m-5.989 0h.021m-.021 4.018h.021m-.021 4.018h.021m2.974-4.018h2.994m-2.994 4.018h2.994M7.098 20.98h9.927a2 2 0 002-2V4.78a2 2 0 00-2-2H7.098a2 2 0 00-2 2v14.2a2 2 0 002 2z\"></path></svg><span class=\"lc-md:flex hidden\">Solution</span></a></div><p class=\"text-[14px] text-lc-yellow-60 dark:text-dark-lc-yellow-60\">Medium</p></div></div></div><div class=\"flex flex-col border-b-[1.5px] duration-300 last:border-b-0 border-lc-fill-02 dark:border-dark-lc-fill-02 hover:bg-lc-fill-02 dark:hover:bg-dark-lc-fill-02 cursor-pointer\" id=\"\"><div class=\"flex h-[52px] w-full items-center space-x-3 px-4\"><div><div class=\"flex items-center\" data-state=\"closed\"><svg xmlns=\"http://www.w3.org/2000/svg\" viewBox=\"0 0 24 24\" width=\"1em\" height=\"1em\" fill=\"currentColor\" class=\"h-4.5 w-4.5 text-lc-green-60 dark:text-dark-lc-green-60 inline-block shrink-0 fill-none stroke-current\"><path stroke-linecap=\"round\" stroke-linejoin=\"round\" stroke-width=\"2\" d=\"M21.6 12a9.6 9.6 0 01-9.6 9.6 9.6 9.6 0 110-19.2c1.507 0 2.932.347 4.2.965M19.8 6l-8.4 8.4L9 12\"></path></svg></div></div><div class=\"relative flex h-full w-full items-center\"><div class=\" flex w-0 flex-1 items-center space-x-2\"><div class=\"text-body max-w-[75%] font-medium text-lc-text-primary dark:text-dark-lc-text-primary\"><div class=\"truncate\">String Compression</div></div><a class=\"absolute right-[15%] top-0 flex h-[52px] cursor-pointer items-center justify-center overflow-hidden px-2 text-text-secondary dark:text-text-secondary hover:text-text-secondary dark:hover:text-text-secondary\" target=\"_blank\" href=\"/problems/string-compression/editorial/?envType=study-plan-v2&amp;envId=leetcode-75\"><svg xmlns=\"http://www.w3.org/2000/svg\" viewBox=\"0 0 24 24\" width=\"1em\" height=\"1em\" fill=\"currentColor\" class=\"mr-1 inline-block h-4 w-4 shrink-0 fill-none stroke-current text-lc-icon-secondary dark:text-dark-lc-icon-secondary\"><path stroke-linecap=\"round\" stroke-width=\"2\" d=\"M12.001 7.972h2.994m-5.989 0h.021m-.021 4.018h.021m-.021 4.018h.021m2.974-4.018h2.994m-2.994 4.018h2.994M7.098 20.98h9.927a2 2 0 002-2V4.78a2 2 0 00-2-2H7.098a2 2 0 00-2 2v14.2a2 2 0 002 2z\"></path></svg><span class=\"lc-md:flex hidden\">Solution</span></a></div><p class=\"text-[14px] text-lc-yellow-60 dark:text-dark-lc-yellow-60\">Medium</p></div></div></div></div><div class=\"w-full overflow-hidden rounded-lg border-[1.5px] border-lc-fill-02 dark:border-dark-lc-fill-02\"><div class=\"flex h-10 items-center justify-between px-4 font-medium text-lc-text-primary dark:text-dark-lc-text-primary bg-lc-fill-01 dark:bg-dark-lc-fill-01\"><div class=\"text-[12px] font-medium\">Two Pointers</div></div><div class=\"flex flex-col border-b-[1.5px] duration-300 last:border-b-0 border-lc-fill-02 dark:border-dark-lc-fill-02 hover:bg-lc-fill-02 dark:hover:bg-dark-lc-fill-02 cursor-pointer\" id=\"\"><div class=\"flex h-[52px] w-full items-center space-x-3 px-4\"><div><div class=\"flex items-center\" data-state=\"closed\"><svg xmlns=\"http://www.w3.org/2000/svg\" viewBox=\"0 0 24 24\" width=\"1em\" height=\"1em\" fill=\"currentColor\" class=\"h-4.5 w-4.5 text-lc-green-60 dark:text-dark-lc-green-60 inline-block shrink-0 fill-none stroke-current\"><path stroke-linecap=\"round\" stroke-linejoin=\"round\" stroke-width=\"2\" d=\"M21.6 12a9.6 9.6 0 01-9.6 9.6 9.6 9.6 0 110-19.2c1.507 0 2.932.347 4.2.965M19.8 6l-8.4 8.4L9 12\"></path></svg></div></div><div class=\"relative flex h-full w-full items-center\"><div class=\" flex w-0 flex-1 items-center space-x-2\"><div class=\"text-body max-w-[75%] font-medium text-lc-text-primary dark:text-dark-lc-text-primary\"><div class=\"truncate\">Move Zeroes</div></div><a class=\"absolute right-[15%] top-0 flex h-[52px] cursor-pointer items-center justify-center overflow-hidden px-2 text-text-secondary dark:text-text-secondary hover:text-text-secondary dark:hover:text-text-secondary\" target=\"_blank\" href=\"/problems/move-zeroes/editorial/?envType=study-plan-v2&amp;envId=leetcode-75\"><svg xmlns=\"http://www.w3.org/2000/svg\" viewBox=\"0 0 24 24\" width=\"1em\" height=\"1em\" fill=\"currentColor\" class=\"mr-1 inline-block h-4 w-4 shrink-0 fill-none stroke-current text-lc-icon-secondary dark:text-dark-lc-icon-secondary\"><path stroke-linecap=\"round\" stroke-width=\"2\" d=\"M12.001 7.972h2.994m-5.989 0h.021m-.021 4.018h.021m-.021 4.018h.021m2.974-4.018h2.994m-2.994 4.018h2.994M7.098 20.98h9.927a2 2 0 002-2V4.78a2 2 0 00-2-2H7.098a2 2 0 00-2 2v14.2a2 2 0 002 2z\"></path></svg><span class=\"lc-md:flex hidden\">Solution</span></a></div><p class=\"text-[14px] text-lc-green-60 dark:text-dark-lc-green-60\">Easy</p></div></div></div><div class=\"flex flex-col border-b-[1.5px] duration-300 last:border-b-0 border-lc-fill-02 dark:border-dark-lc-fill-02 hover:bg-lc-fill-02 dark:hover:bg-dark-lc-fill-02 cursor-pointer\" id=\"\"><div class=\"flex h-[52px] w-full items-center space-x-3 px-4\"><div><div class=\"flex items-center\" data-state=\"closed\"><svg xmlns=\"http://www.w3.org/2000/svg\" viewBox=\"0 0 24 24\" width=\"1em\" height=\"1em\" fill=\"currentColor\" class=\"h-4.5 w-4.5 text-lc-green-60 dark:text-dark-lc-green-60 inline-block shrink-0 fill-none stroke-current\"><path stroke-linecap=\"round\" stroke-linejoin=\"round\" stroke-width=\"2\" d=\"M21.6 12a9.6 9.6 0 01-9.6 9.6 9.6 9.6 0 110-19.2c1.507 0 2.932.347 4.2.965M19.8 6l-8.4 8.4L9 12\"></path></svg></div></div><div class=\"relative flex h-full w-full items-center\"><div class=\" flex w-0 flex-1 items-center space-x-2\"><div class=\"text-body max-w-[75%] font-medium text-lc-text-primary dark:text-dark-lc-text-primary\"><div class=\"truncate\">Is Subsequence</div></div><a class=\"absolute right-[15%] top-0 flex h-[52px] cursor-pointer items-center justify-center overflow-hidden px-2 text-text-secondary dark:text-text-secondary hover:text-text-secondary dark:hover:text-text-secondary\" target=\"_blank\" href=\"/problems/is-subsequence/editorial/?envType=study-plan-v2&amp;envId=leetcode-75\"><svg xmlns=\"http://www.w3.org/2000/svg\" viewBox=\"0 0 24 24\" width=\"1em\" height=\"1em\" fill=\"currentColor\" class=\"mr-1 inline-block h-4 w-4 shrink-0 fill-none stroke-current text-lc-icon-secondary dark:text-dark-lc-icon-secondary\"><path stroke-linecap=\"round\" stroke-width=\"2\" d=\"M12.001 7.972h2.994m-5.989 0h.021m-.021 4.018h.021m-.021 4.018h.021m2.974-4.018h2.994m-2.994 4.018h2.994M7.098 20.98h9.927a2 2 0 002-2V4.78a2 2 0 00-2-2H7.098a2 2 0 00-2 2v14.2a2 2 0 002 2z\"></path></svg><span class=\"lc-md:flex hidden\">Solution</span></a></div><p class=\"text-[14px] text-lc-green-60 dark:text-dark-lc-green-60\">Easy</p></div></div></div><div class=\"flex flex-col border-b-[1.5px] duration-300 last:border-b-0 border-lc-fill-02 dark:border-dark-lc-fill-02 hover:bg-lc-fill-02 dark:hover:bg-dark-lc-fill-02 cursor-pointer\" id=\"\"><div class=\"flex h-[52px] w-full items-center space-x-3 px-4\"><div><div class=\"flex items-center\" data-state=\"closed\"><svg xmlns=\"http://www.w3.org/2000/svg\" viewBox=\"0 0 24 24\" width=\"1em\" height=\"1em\" fill=\"currentColor\" class=\"h-4.5 w-4.5 text-lc-green-60 dark:text-dark-lc-green-60 inline-block shrink-0 fill-none stroke-current\"><path stroke-linecap=\"round\" stroke-linejoin=\"round\" stroke-width=\"2\" d=\"M21.6 12a9.6 9.6 0 01-9.6 9.6 9.6 9.6 0 110-19.2c1.507 0 2.932.347 4.2.965M19.8 6l-8.4 8.4L9 12\"></path></svg></div></div><div class=\"relative flex h-full w-full items-center\"><div class=\" flex w-0 flex-1 items-center space-x-2\"><div class=\"text-body max-w-[75%] font-medium text-lc-text-primary dark:text-dark-lc-text-primary\"><div class=\"truncate\">Container With Most Water</div></div><a class=\"absolute right-[15%] top-0 flex h-[52px] cursor-pointer items-center justify-center overflow-hidden px-2 text-text-secondary dark:text-text-secondary hover:text-text-secondary dark:hover:text-text-secondary\" target=\"_blank\" href=\"/problems/container-with-most-water/editorial/?envType=study-plan-v2&amp;envId=leetcode-75\"><svg xmlns=\"http://www.w3.org/2000/svg\" viewBox=\"0 0 24 24\" width=\"1em\" height=\"1em\" fill=\"currentColor\" class=\"mr-1 inline-block h-4 w-4 shrink-0 fill-none stroke-current text-lc-icon-secondary dark:text-dark-lc-icon-secondary\"><path stroke-linecap=\"round\" stroke-width=\"2\" d=\"M12.001 7.972h2.994m-5.989 0h.021m-.021 4.018h.021m-.021 4.018h.021m2.974-4.018h2.994m-2.994 4.018h2.994M7.098 20.98h9.927a2 2 0 002-2V4.78a2 2 0 00-2-2H7.098a2 2 0 00-2 2v14.2a2 2 0 002 2z\"></path></svg><span class=\"lc-md:flex hidden\">Solution</span></a></div><p class=\"text-[14px] text-lc-yellow-60 dark:text-dark-lc-yellow-60\">Medium</p></div></div></div><div class=\"flex flex-col border-b-[1.5px] duration-300 last:border-b-0 border-lc-fill-02 dark:border-dark-lc-fill-02 hover:bg-lc-fill-02 dark:hover:bg-dark-lc-fill-02 cursor-pointer\" id=\"\"><div class=\"flex h-[52px] w-full items-center space-x-3 px-4\"><div><div class=\"flex items-center\" data-state=\"closed\"><svg xmlns=\"http://www.w3.org/2000/svg\" viewBox=\"0 0 24 24\" width=\"1em\" height=\"1em\" fill=\"currentColor\" class=\"h-4.5 w-4.5 text-lc-green-60 dark:text-dark-lc-green-60 inline-block shrink-0 fill-none stroke-current\"><path stroke-linecap=\"round\" stroke-linejoin=\"round\" stroke-width=\"2\" d=\"M21.6 12a9.6 9.6 0 01-9.6 9.6 9.6 9.6 0 110-19.2c1.507 0 2.932.347 4.2.965M19.8 6l-8.4 8.4L9 12\"></path></svg></div></div><div class=\"relative flex h-full w-full items-center\"><div class=\" flex w-0 flex-1 items-center space-x-2\"><div class=\"text-body max-w-[75%] font-medium text-lc-text-primary dark:text-dark-lc-text-primary\"><div class=\"truncate\">Max Number of K-Sum Pairs</div></div><a class=\"absolute right-[15%] top-0 flex h-[52px] cursor-pointer items-center justify-center overflow-hidden px-2 text-text-secondary dark:text-text-secondary hover:text-text-secondary dark:hover:text-text-secondary\" target=\"_blank\" href=\"/problems/max-number-of-k-sum-pairs/editorial/?envType=study-plan-v2&amp;envId=leetcode-75\"><svg xmlns=\"http://www.w3.org/2000/svg\" viewBox=\"0 0 24 24\" width=\"1em\" height=\"1em\" fill=\"currentColor\" class=\"mr-1 inline-block h-4 w-4 shrink-0 fill-none stroke-current text-lc-icon-secondary dark:text-dark-lc-icon-secondary\"><path stroke-linecap=\"round\" stroke-width=\"2\" d=\"M12.001 7.972h2.994m-5.989 0h.021m-.021 4.018h.021m-.021 4.018h.021m2.974-4.018h2.994m-2.994 4.018h2.994M7.098 20.98h9.927a2 2 0 002-2V4.78a2 2 0 00-2-2H7.098a2 2 0 00-2 2v14.2a2 2 0 002 2z\"></path></svg><span class=\"lc-md:flex hidden\">Solution</span></a></div><p class=\"text-[14px] text-lc-yellow-60 dark:text-dark-lc-yellow-60\">Medium</p></div></div></div></div><div class=\"w-full overflow-hidden rounded-lg border-[1.5px] border-lc-fill-02 dark:border-dark-lc-fill-02\"><div class=\"flex h-10 items-center justify-between px-4 font-medium text-lc-text-primary dark:text-dark-lc-text-primary bg-lc-fill-01 dark:bg-dark-lc-fill-01\"><div class=\"text-[12px] font-medium\">Sliding Window</div></div><div class=\"flex flex-col border-b-[1.5px] duration-300 last:border-b-0 border-lc-fill-02 dark:border-dark-lc-fill-02 hover:bg-lc-fill-02 dark:hover:bg-dark-lc-fill-02 cursor-pointer\" id=\"\"><div class=\"flex h-[52px] w-full items-center space-x-3 px-4\"><div><div class=\"flex items-center\" data-state=\"closed\"><svg xmlns=\"http://www.w3.org/2000/svg\" viewBox=\"0 0 24 24\" width=\"1em\" height=\"1em\" fill=\"currentColor\" class=\"h-4.5 w-4.5 text-lc-green-60 dark:text-dark-lc-green-60 inline-block shrink-0 fill-none stroke-current\"><path stroke-linecap=\"round\" stroke-linejoin=\"round\" stroke-width=\"2\" d=\"M21.6 12a9.6 9.6 0 01-9.6 9.6 9.6 9.6 0 110-19.2c1.507 0 2.932.347 4.2.965M19.8 6l-8.4 8.4L9 12\"></path></svg></div></div><div class=\"relative flex h-full w-full items-center\"><div class=\" flex w-0 flex-1 items-center space-x-2\"><div class=\"text-body max-w-[75%] font-medium text-lc-text-primary dark:text-dark-lc-text-primary\"><div class=\"truncate\">Maximum Average Subarray I</div></div><a class=\"absolute right-[15%] top-0 flex h-[52px] cursor-pointer items-center justify-center overflow-hidden px-2 text-text-secondary dark:text-text-secondary hover:text-text-secondary dark:hover:text-text-secondary\" target=\"_blank\" href=\"/problems/maximum-average-subarray-i/editorial/?envType=study-plan-v2&amp;envId=leetcode-75\"><svg xmlns=\"http://www.w3.org/2000/svg\" viewBox=\"0 0 24 24\" width=\"1em\" height=\"1em\" fill=\"currentColor\" class=\"mr-1 inline-block h-4 w-4 shrink-0 fill-none stroke-current text-lc-icon-secondary dark:text-dark-lc-icon-secondary\"><path stroke-linecap=\"round\" stroke-width=\"2\" d=\"M12.001 7.972h2.994m-5.989 0h.021m-.021 4.018h.021m-.021 4.018h.021m2.974-4.018h2.994m-2.994 4.018h2.994M7.098 20.98h9.927a2 2 0 002-2V4.78a2 2 0 00-2-2H7.098a2 2 0 00-2 2v14.2a2 2 0 002 2z\"></path></svg><span class=\"lc-md:flex hidden\">Solution</span></a></div><p class=\"text-[14px] text-lc-green-60 dark:text-dark-lc-green-60\">Easy</p></div></div></div><div class=\"flex flex-col border-b-[1.5px] duration-300 last:border-b-0 border-lc-fill-02 dark:border-dark-lc-fill-02 hover:bg-lc-fill-02 dark:hover:bg-dark-lc-fill-02 cursor-pointer\" id=\"\"><div class=\"flex h-[52px] w-full items-center space-x-3 px-4\"><div><div class=\"flex items-center\" data-state=\"closed\"><svg xmlns=\"http://www.w3.org/2000/svg\" viewBox=\"0 0 24 24\" width=\"1em\" height=\"1em\" fill=\"currentColor\" class=\"h-4.5 w-4.5 text-lc-green-60 dark:text-dark-lc-green-60 inline-block shrink-0 fill-none stroke-current\"><path stroke-linecap=\"round\" stroke-linejoin=\"round\" stroke-width=\"2\" d=\"M21.6 12a9.6 9.6 0 01-9.6 9.6 9.6 9.6 0 110-19.2c1.507 0 2.932.347 4.2.965M19.8 6l-8.4 8.4L9 12\"></path></svg></div></div><div class=\"relative flex h-full w-full items-center\"><div class=\" flex w-0 flex-1 items-center space-x-2\"><div class=\"text-body max-w-[75%] font-medium text-lc-text-primary dark:text-dark-lc-text-primary\"><div class=\"truncate\">Maximum Number of Vowels in a Substring of Given Length</div></div><a class=\"absolute right-[15%] top-0 flex h-[52px] cursor-pointer items-center justify-center overflow-hidden px-2 text-text-secondary dark:text-text-secondary hover:text-text-secondary dark:hover:text-text-secondary\" target=\"_blank\" href=\"/problems/maximum-number-of-vowels-in-a-substring-of-given-length/editorial/?envType=study-plan-v2&amp;envId=leetcode-75\"><svg xmlns=\"http://www.w3.org/2000/svg\" viewBox=\"0 0 24 24\" width=\"1em\" height=\"1em\" fill=\"currentColor\" class=\"mr-1 inline-block h-4 w-4 shrink-0 fill-none stroke-current text-lc-icon-secondary dark:text-dark-lc-icon-secondary\"><path stroke-linecap=\"round\" stroke-width=\"2\" d=\"M12.001 7.972h2.994m-5.989 0h.021m-.021 4.018h.021m-.021 4.018h.021m2.974-4.018h2.994m-2.994 4.018h2.994M7.098 20.98h9.927a2 2 0 002-2V4.78a2 2 0 00-2-2H7.098a2 2 0 00-2 2v14.2a2 2 0 002 2z\"></path></svg><span class=\"lc-md:flex hidden\">Solution</span></a></div><p class=\"text-[14px] text-lc-yellow-60 dark:text-dark-lc-yellow-60\">Medium</p></div></div></div><div class=\"flex flex-col border-b-[1.5px] duration-300 last:border-b-0 border-lc-fill-02 dark:border-dark-lc-fill-02 hover:bg-lc-fill-02 dark:hover:bg-dark-lc-fill-02 cursor-pointer\" id=\"\"><div class=\"flex h-[52px] w-full items-center space-x-3 px-4\"><div><div class=\"flex items-center\" data-state=\"closed\"><svg xmlns=\"http://www.w3.org/2000/svg\" viewBox=\"0 0 24 24\" width=\"1em\" height=\"1em\" fill=\"currentColor\" class=\"h-4.5 w-4.5 text-lc-green-60 dark:text-dark-lc-green-60 inline-block shrink-0 fill-none stroke-current\"><path stroke-linecap=\"round\" stroke-linejoin=\"round\" stroke-width=\"2\" d=\"M21.6 12a9.6 9.6 0 01-9.6 9.6 9.6 9.6 0 110-19.2c1.507 0 2.932.347 4.2.965M19.8 6l-8.4 8.4L9 12\"></path></svg></div></div><div class=\"relative flex h-full w-full items-center\"><div class=\" flex w-0 flex-1 items-center space-x-2\"><div class=\"text-body max-w-[75%] font-medium text-lc-text-primary dark:text-dark-lc-text-primary\"><div class=\"truncate\">Max Consecutive Ones III</div></div><a class=\"absolute right-[15%] top-0 flex h-[52px] cursor-pointer items-center justify-center overflow-hidden px-2 text-text-secondary dark:text-text-secondary hover:text-text-secondary dark:hover:text-text-secondary\" target=\"_blank\" href=\"/problems/max-consecutive-ones-iii/editorial/?envType=study-plan-v2&amp;envId=leetcode-75\"><svg xmlns=\"http://www.w3.org/2000/svg\" viewBox=\"0 0 24 24\" width=\"1em\" height=\"1em\" fill=\"currentColor\" class=\"mr-1 inline-block h-4 w-4 shrink-0 fill-none stroke-current text-lc-icon-secondary dark:text-dark-lc-icon-secondary\"><path stroke-linecap=\"round\" stroke-width=\"2\" d=\"M12.001 7.972h2.994m-5.989 0h.021m-.021 4.018h.021m-.021 4.018h.021m2.974-4.018h2.994m-2.994 4.018h2.994M7.098 20.98h9.927a2 2 0 002-2V4.78a2 2 0 00-2-2H7.098a2 2 0 00-2 2v14.2a2 2 0 002 2z\"></path></svg><span class=\"lc-md:flex hidden\">Solution</span></a></div><p class=\"text-[14px] text-lc-yellow-60 dark:text-dark-lc-yellow-60\">Medium</p></div></div></div><div class=\"flex flex-col border-b-[1.5px] duration-300 last:border-b-0 border-lc-fill-02 dark:border-dark-lc-fill-02 hover:bg-lc-fill-02 dark:hover:bg-dark-lc-fill-02 cursor-pointer\" id=\"\"><div class=\"flex h-[52px] w-full items-center space-x-3 px-4\"><div><div class=\"flex items-center\" data-state=\"closed\"><svg xmlns=\"http://www.w3.org/2000/svg\" viewBox=\"0 0 24 24\" width=\"1em\" height=\"1em\" fill=\"currentColor\" class=\"h-4.5 w-4.5 text-lc-green-60 dark:text-dark-lc-green-60 inline-block shrink-0 fill-none stroke-current\"><path stroke-linecap=\"round\" stroke-linejoin=\"round\" stroke-width=\"2\" d=\"M21.6 12a9.6 9.6 0 01-9.6 9.6 9.6 9.6 0 110-19.2c1.507 0 2.932.347 4.2.965M19.8 6l-8.4 8.4L9 12\"></path></svg></div></div><div class=\"relative flex h-full w-full items-center\"><div class=\" flex w-0 flex-1 items-center space-x-2\"><div class=\"text-body max-w-[75%] font-medium text-lc-text-primary dark:text-dark-lc-text-primary\"><div class=\"truncate\">Longest Subarray of 1's After Deleting One Element</div></div><a class=\"absolute right-[15%] top-0 flex h-[52px] cursor-pointer items-center justify-center overflow-hidden px-2 text-text-secondary dark:text-text-secondary hover:text-text-secondary dark:hover:text-text-secondary\" target=\"_blank\" href=\"/problems/longest-subarray-of-1s-after-deleting-one-element/editorial/?envType=study-plan-v2&amp;envId=leetcode-75\"><svg xmlns=\"http://www.w3.org/2000/svg\" viewBox=\"0 0 24 24\" width=\"1em\" height=\"1em\" fill=\"currentColor\" class=\"mr-1 inline-block h-4 w-4 shrink-0 fill-none stroke-current text-lc-icon-secondary dark:text-dark-lc-icon-secondary\"><path stroke-linecap=\"round\" stroke-width=\"2\" d=\"M12.001 7.972h2.994m-5.989 0h.021m-.021 4.018h.021m-.021 4.018h.021m2.974-4.018h2.994m-2.994 4.018h2.994M7.098 20.98h9.927a2 2 0 002-2V4.78a2 2 0 00-2-2H7.098a2 2 0 00-2 2v14.2a2 2 0 002 2z\"></path></svg><span class=\"lc-md:flex hidden\">Solution</span></a></div><p class=\"text-[14px] text-lc-yellow-60 dark:text-dark-lc-yellow-60\">Medium</p></div></div></div></div><div class=\"w-full overflow-hidden rounded-lg border-[1.5px] border-lc-fill-02 dark:border-dark-lc-fill-02\"><div class=\"flex h-10 items-center justify-between px-4 font-medium text-lc-text-primary dark:text-dark-lc-text-primary bg-lc-fill-01 dark:bg-dark-lc-fill-01\"><div class=\"text-[12px] font-medium\">Prefix Sum</div></div><div class=\"flex flex-col border-b-[1.5px] duration-300 last:border-b-0 border-lc-fill-02 dark:border-dark-lc-fill-02 hover:bg-lc-fill-02 dark:hover:bg-dark-lc-fill-02 cursor-pointer\" id=\"\"><div class=\"flex h-[52px] w-full items-center space-x-3 px-4\"><div><div class=\"flex items-center\" data-state=\"closed\"><svg xmlns=\"http://www.w3.org/2000/svg\" viewBox=\"0 0 24 24\" width=\"1em\" height=\"1em\" fill=\"currentColor\" class=\"h-4.5 w-4.5 text-lc-green-60 dark:text-dark-lc-green-60 inline-block shrink-0 fill-none stroke-current\"><path stroke-linecap=\"round\" stroke-linejoin=\"round\" stroke-width=\"2\" d=\"M21.6 12a9.6 9.6 0 01-9.6 9.6 9.6 9.6 0 110-19.2c1.507 0 2.932.347 4.2.965M19.8 6l-8.4 8.4L9 12\"></path></svg></div></div><div class=\"relative flex h-full w-full items-center\"><div class=\" flex w-0 flex-1 items-center space-x-2\"><div class=\"text-body max-w-[75%] font-medium text-lc-text-primary dark:text-dark-lc-text-primary\"><div class=\"truncate\">Find the Highest Altitude</div></div><a class=\"absolute right-[15%] top-0 flex h-[52px] cursor-pointer items-center justify-center overflow-hidden px-2 text-text-secondary dark:text-text-secondary hover:text-text-secondary dark:hover:text-text-secondary\" target=\"_blank\" href=\"/problems/find-the-highest-altitude/editorial/?envType=study-plan-v2&amp;envId=leetcode-75\"><svg xmlns=\"http://www.w3.org/2000/svg\" viewBox=\"0 0 24 24\" width=\"1em\" height=\"1em\" fill=\"currentColor\" class=\"mr-1 inline-block h-4 w-4 shrink-0 fill-none stroke-current text-lc-icon-secondary dark:text-dark-lc-icon-secondary\"><path stroke-linecap=\"round\" stroke-width=\"2\" d=\"M12.001 7.972h2.994m-5.989 0h.021m-.021 4.018h.021m-.021 4.018h.021m2.974-4.018h2.994m-2.994 4.018h2.994M7.098 20.98h9.927a2 2 0 002-2V4.78a2 2 0 00-2-2H7.098a2 2 0 00-2 2v14.2a2 2 0 002 2z\"></path></svg><span class=\"lc-md:flex hidden\">Solution</span></a></div><p class=\"text-[14px] text-lc-green-60 dark:text-dark-lc-green-60\">Easy</p></div></div></div><div class=\"flex flex-col border-b-[1.5px] duration-300 last:border-b-0 border-lc-fill-02 dark:border-dark-lc-fill-02 hover:bg-lc-fill-02 dark:hover:bg-dark-lc-fill-02 cursor-pointer\" id=\"\"><div class=\"flex h-[52px] w-full items-center space-x-3 px-4\"><div><div class=\"flex items-center\" data-state=\"closed\"><svg xmlns=\"http://www.w3.org/2000/svg\" viewBox=\"0 0 24 24\" width=\"1em\" height=\"1em\" fill=\"currentColor\" class=\"h-4.5 w-4.5 text-lc-green-60 dark:text-dark-lc-green-60 inline-block shrink-0 fill-none stroke-current\"><path stroke-linecap=\"round\" stroke-linejoin=\"round\" stroke-width=\"2\" d=\"M21.6 12a9.6 9.6 0 01-9.6 9.6 9.6 9.6 0 110-19.2c1.507 0 2.932.347 4.2.965M19.8 6l-8.4 8.4L9 12\"></path></svg></div></div><div class=\"relative flex h-full w-full items-center\"><div class=\" flex w-0 flex-1 items-center space-x-2\"><div class=\"text-body max-w-[75%] font-medium text-lc-text-primary dark:text-dark-lc-text-primary\"><div class=\"truncate\">Find Pivot Index</div></div><a class=\"absolute right-[15%] top-0 flex h-[52px] cursor-pointer items-center justify-center overflow-hidden px-2 text-text-secondary dark:text-text-secondary hover:text-text-secondary dark:hover:text-text-secondary\" target=\"_blank\" href=\"/problems/find-pivot-index/editorial/?envType=study-plan-v2&amp;envId=leetcode-75\"><svg xmlns=\"http://www.w3.org/2000/svg\" viewBox=\"0 0 24 24\" width=\"1em\" height=\"1em\" fill=\"currentColor\" class=\"mr-1 inline-block h-4 w-4 shrink-0 fill-none stroke-current text-lc-icon-secondary dark:text-dark-lc-icon-secondary\"><path stroke-linecap=\"round\" stroke-width=\"2\" d=\"M12.001 7.972h2.994m-5.989 0h.021m-.021 4.018h.021m-.021 4.018h.021m2.974-4.018h2.994m-2.994 4.018h2.994M7.098 20.98h9.927a2 2 0 002-2V4.78a2 2 0 00-2-2H7.098a2 2 0 00-2 2v14.2a2 2 0 002 2z\"></path></svg><span class=\"lc-md:flex hidden\">Solution</span></a></div><p class=\"text-[14px] text-lc-green-60 dark:text-dark-lc-green-60\">Easy</p></div></div></div></div><div class=\"w-full overflow-hidden rounded-lg border-[1.5px] border-lc-fill-02 dark:border-dark-lc-fill-02\"><div class=\"flex h-10 items-center justify-between px-4 font-medium text-lc-text-primary dark:text-dark-lc-text-primary bg-lc-fill-01 dark:bg-dark-lc-fill-01\"><div class=\"text-[12px] font-medium\">Hash Map / Set</div></div><div class=\"flex flex-col border-b-[1.5px] duration-300 last:border-b-0 border-lc-fill-02 dark:border-dark-lc-fill-02 hover:bg-lc-fill-02 dark:hover:bg-dark-lc-fill-02 cursor-pointer\" id=\"\"><div class=\"flex h-[52px] w-full items-center space-x-3 px-4\"><div><div class=\"flex items-center\" data-state=\"closed\"><svg xmlns=\"http://www.w3.org/2000/svg\" viewBox=\"0 0 24 24\" width=\"1em\" height=\"1em\" fill=\"currentColor\" class=\"h-4.5 w-4.5 text-lc-green-60 dark:text-dark-lc-green-60 inline-block shrink-0 fill-none stroke-current\"><path stroke-linecap=\"round\" stroke-linejoin=\"round\" stroke-width=\"2\" d=\"M21.6 12a9.6 9.6 0 01-9.6 9.6 9.6 9.6 0 110-19.2c1.507 0 2.932.347 4.2.965M19.8 6l-8.4 8.4L9 12\"></path></svg></div></div><div class=\"relative flex h-full w-full items-center\"><div class=\" flex w-0 flex-1 items-center space-x-2\"><div class=\"text-body max-w-[75%] font-medium text-lc-text-primary dark:text-dark-lc-text-primary\"><div class=\"truncate\">Find the Difference of Two Arrays</div></div><a class=\"absolute right-[15%] top-0 flex h-[52px] cursor-pointer items-center justify-center overflow-hidden px-2 text-text-secondary dark:text-text-secondary hover:text-text-secondary dark:hover:text-text-secondary\" target=\"_blank\" href=\"/problems/find-the-difference-of-two-arrays/editorial/?envType=study-plan-v2&amp;envId=leetcode-75\"><svg xmlns=\"http://www.w3.org/2000/svg\" viewBox=\"0 0 24 24\" width=\"1em\" height=\"1em\" fill=\"currentColor\" class=\"mr-1 inline-block h-4 w-4 shrink-0 fill-none stroke-current text-lc-icon-secondary dark:text-dark-lc-icon-secondary\"><path stroke-linecap=\"round\" stroke-width=\"2\" d=\"M12.001 7.972h2.994m-5.989 0h.021m-.021 4.018h.021m-.021 4.018h.021m2.974-4.018h2.994m-2.994 4.018h2.994M7.098 20.98h9.927a2 2 0 002-2V4.78a2 2 0 00-2-2H7.098a2 2 0 00-2 2v14.2a2 2 0 002 2z\"></path></svg><span class=\"lc-md:flex hidden\">Solution</span></a></div><p class=\"text-[14px] text-lc-green-60 dark:text-dark-lc-green-60\">Easy</p></div></div></div><div class=\"flex flex-col border-b-[1.5px] duration-300 last:border-b-0 border-lc-fill-02 dark:border-dark-lc-fill-02 hover:bg-lc-fill-02 dark:hover:bg-dark-lc-fill-02 cursor-pointer\" id=\"\"><div class=\"flex h-[52px] w-full items-center space-x-3 px-4\"><div><div class=\"flex items-center\" data-state=\"closed\"><svg xmlns=\"http://www.w3.org/2000/svg\" viewBox=\"0 0 24 24\" width=\"1em\" height=\"1em\" fill=\"currentColor\" class=\"h-4.5 w-4.5 text-lc-green-60 dark:text-dark-lc-green-60 inline-block shrink-0 fill-none stroke-current\"><path stroke-linecap=\"round\" stroke-linejoin=\"round\" stroke-width=\"2\" d=\"M21.6 12a9.6 9.6 0 01-9.6 9.6 9.6 9.6 0 110-19.2c1.507 0 2.932.347 4.2.965M19.8 6l-8.4 8.4L9 12\"></path></svg></div></div><div class=\"relative flex h-full w-full items-center\"><div class=\" flex w-0 flex-1 items-center space-x-2\"><div class=\"text-body max-w-[75%] font-medium text-lc-text-primary dark:text-dark-lc-text-primary\"><div class=\"truncate\">Unique Number of Occurrences</div></div><a class=\"absolute right-[15%] top-0 flex h-[52px] cursor-pointer items-center justify-center overflow-hidden px-2 text-text-secondary dark:text-text-secondary hover:text-text-secondary dark:hover:text-text-secondary\" target=\"_blank\" href=\"/problems/unique-number-of-occurrences/editorial/?envType=study-plan-v2&amp;envId=leetcode-75\"><svg xmlns=\"http://www.w3.org/2000/svg\" viewBox=\"0 0 24 24\" width=\"1em\" height=\"1em\" fill=\"currentColor\" class=\"mr-1 inline-block h-4 w-4 shrink-0 fill-none stroke-current text-lc-icon-secondary dark:text-dark-lc-icon-secondary\"><path stroke-linecap=\"round\" stroke-width=\"2\" d=\"M12.001 7.972h2.994m-5.989 0h.021m-.021 4.018h.021m-.021 4.018h.021m2.974-4.018h2.994m-2.994 4.018h2.994M7.098 20.98h9.927a2 2 0 002-2V4.78a2 2 0 00-2-2H7.098a2 2 0 00-2 2v14.2a2 2 0 002 2z\"></path></svg><span class=\"lc-md:flex hidden\">Solution</span></a></div><p class=\"text-[14px] text-lc-green-60 dark:text-dark-lc-green-60\">Easy</p></div></div></div><div class=\"flex flex-col border-b-[1.5px] duration-300 last:border-b-0 border-lc-fill-02 dark:border-dark-lc-fill-02 hover:bg-lc-fill-02 dark:hover:bg-dark-lc-fill-02 cursor-pointer\" id=\"\"><div class=\"flex h-[52px] w-full items-center space-x-3 px-4\"><div><div class=\"flex items-center\" data-state=\"closed\"><svg xmlns=\"http://www.w3.org/2000/svg\" viewBox=\"0 0 24 24\" width=\"1em\" height=\"1em\" fill=\"currentColor\" class=\"h-4.5 w-4.5 text-lc-green-60 dark:text-dark-lc-green-60 inline-block shrink-0 fill-none stroke-current\"><path stroke-linecap=\"round\" stroke-linejoin=\"round\" stroke-width=\"2\" d=\"M21.6 12a9.6 9.6 0 01-9.6 9.6 9.6 9.6 0 110-19.2c1.507 0 2.932.347 4.2.965M19.8 6l-8.4 8.4L9 12\"></path></svg></div></div><div class=\"relative flex h-full w-full items-center\"><div class=\" flex w-0 flex-1 items-center space-x-2\"><div class=\"text-body max-w-[75%] font-medium text-lc-text-primary dark:text-dark-lc-text-primary\"><div class=\"truncate\">Determine if Two Strings Are Close</div></div><a class=\"absolute right-[15%] top-0 flex h-[52px] cursor-pointer items-center justify-center overflow-hidden px-2 text-text-secondary dark:text-text-secondary hover:text-text-secondary dark:hover:text-text-secondary\" target=\"_blank\" href=\"/problems/determine-if-two-strings-are-close/editorial/?envType=study-plan-v2&amp;envId=leetcode-75\"><svg xmlns=\"http://www.w3.org/2000/svg\" viewBox=\"0 0 24 24\" width=\"1em\" height=\"1em\" fill=\"currentColor\" class=\"mr-1 inline-block h-4 w-4 shrink-0 fill-none stroke-current text-lc-icon-secondary dark:text-dark-lc-icon-secondary\"><path stroke-linecap=\"round\" stroke-width=\"2\" d=\"M12.001 7.972h2.994m-5.989 0h.021m-.021 4.018h.021m-.021 4.018h.021m2.974-4.018h2.994m-2.994 4.018h2.994M7.098 20.98h9.927a2 2 0 002-2V4.78a2 2 0 00-2-2H7.098a2 2 0 00-2 2v14.2a2 2 0 002 2z\"></path></svg><span class=\"lc-md:flex hidden\">Solution</span></a></div><p class=\"text-[14px] text-lc-yellow-60 dark:text-dark-lc-yellow-60\">Medium</p></div></div></div><div class=\"flex flex-col border-b-[1.5px] duration-300 last:border-b-0 border-lc-fill-02 dark:border-dark-lc-fill-02 hover:bg-lc-fill-02 dark:hover:bg-dark-lc-fill-02 cursor-pointer\" id=\"\"><div class=\"flex h-[52px] w-full items-center space-x-3 px-4\"><div><div class=\"flex items-center\" data-state=\"closed\"><svg xmlns=\"http://www.w3.org/2000/svg\" viewBox=\"0 0 24 24\" width=\"1em\" height=\"1em\" fill=\"currentColor\" class=\"h-4.5 w-4.5 text-lc-green-60 dark:text-dark-lc-green-60 inline-block shrink-0 fill-none stroke-current\"><path stroke-linecap=\"round\" stroke-linejoin=\"round\" stroke-width=\"2\" d=\"M21.6 12a9.6 9.6 0 01-9.6 9.6 9.6 9.6 0 110-19.2c1.507 0 2.932.347 4.2.965M19.8 6l-8.4 8.4L9 12\"></path></svg></div></div><div class=\"relative flex h-full w-full items-center\"><div class=\" flex w-0 flex-1 items-center space-x-2\"><div class=\"text-body max-w-[75%] font-medium text-lc-text-primary dark:text-dark-lc-text-primary\"><div class=\"truncate\">Equal Row and Column Pairs</div></div><a class=\"absolute right-[15%] top-0 flex h-[52px] cursor-pointer items-center justify-center overflow-hidden px-2 text-text-secondary dark:text-text-secondary hover:text-text-secondary dark:hover:text-text-secondary\" target=\"_blank\" href=\"/problems/equal-row-and-column-pairs/editorial/?envType=study-plan-v2&amp;envId=leetcode-75\"><svg xmlns=\"http://www.w3.org/2000/svg\" viewBox=\"0 0 24 24\" width=\"1em\" height=\"1em\" fill=\"currentColor\" class=\"mr-1 inline-block h-4 w-4 shrink-0 fill-none stroke-current text-lc-icon-secondary dark:text-dark-lc-icon-secondary\"><path stroke-linecap=\"round\" stroke-width=\"2\" d=\"M12.001 7.972h2.994m-5.989 0h.021m-.021 4.018h.021m-.021 4.018h.021m2.974-4.018h2.994m-2.994 4.018h2.994M7.098 20.98h9.927a2 2 0 002-2V4.78a2 2 0 00-2-2H7.098a2 2 0 00-2 2v14.2a2 2 0 002 2z\"></path></svg><span class=\"lc-md:flex hidden\">Solution</span></a></div><p class=\"text-[14px] text-lc-yellow-60 dark:text-dark-lc-yellow-60\">Medium</p></div></div></div></div><div class=\"w-full overflow-hidden rounded-lg border-[1.5px] border-lc-fill-02 dark:border-dark-lc-fill-02\"><div class=\"flex h-10 items-center justify-between px-4 font-medium text-lc-text-primary dark:text-dark-lc-text-primary bg-lc-fill-01 dark:bg-dark-lc-fill-01\"><div class=\"text-[12px] font-medium\">Stack</div></div><div class=\"flex flex-col border-b-[1.5px] duration-300 last:border-b-0 border-lc-fill-02 dark:border-dark-lc-fill-02 hover:bg-lc-fill-02 dark:hover:bg-dark-lc-fill-02 cursor-pointer\" id=\"\"><div class=\"flex h-[52px] w-full items-center space-x-3 px-4\"><div><div class=\"flex items-center\" data-state=\"closed\"><svg xmlns=\"http://www.w3.org/2000/svg\" viewBox=\"0 0 24 24\" width=\"1em\" height=\"1em\" fill=\"currentColor\" class=\"h-4.5 w-4.5 text-lc-green-60 dark:text-dark-lc-green-60 inline-block shrink-0 fill-none stroke-current\"><path stroke-linecap=\"round\" stroke-linejoin=\"round\" stroke-width=\"2\" d=\"M21.6 12a9.6 9.6 0 01-9.6 9.6 9.6 9.6 0 110-19.2c1.507 0 2.932.347 4.2.965M19.8 6l-8.4 8.4L9 12\"></path></svg></div></div><div class=\"relative flex h-full w-full items-center\"><div class=\" flex w-0 flex-1 items-center space-x-2\"><div class=\"text-body max-w-[75%] font-medium text-lc-text-primary dark:text-dark-lc-text-primary\"><div class=\"truncate\">Removing Stars From a String</div></div><a class=\"absolute right-[15%] top-0 flex h-[52px] cursor-pointer items-center justify-center overflow-hidden px-2 text-text-secondary dark:text-text-secondary hover:text-text-secondary dark:hover:text-text-secondary\" target=\"_blank\" href=\"/problems/removing-stars-from-a-string/editorial/?envType=study-plan-v2&amp;envId=leetcode-75\"><svg xmlns=\"http://www.w3.org/2000/svg\" viewBox=\"0 0 24 24\" width=\"1em\" height=\"1em\" fill=\"currentColor\" class=\"mr-1 inline-block h-4 w-4 shrink-0 fill-none stroke-current text-lc-icon-secondary dark:text-dark-lc-icon-secondary\"><path stroke-linecap=\"round\" stroke-width=\"2\" d=\"M12.001 7.972h2.994m-5.989 0h.021m-.021 4.018h.021m-.021 4.018h.021m2.974-4.018h2.994m-2.994 4.018h2.994M7.098 20.98h9.927a2 2 0 002-2V4.78a2 2 0 00-2-2H7.098a2 2 0 00-2 2v14.2a2 2 0 002 2z\"></path></svg><span class=\"lc-md:flex hidden\">Solution</span></a></div><p class=\"text-[14px] text-lc-yellow-60 dark:text-dark-lc-yellow-60\">Medium</p></div></div></div><div class=\"flex flex-col border-b-[1.5px] duration-300 last:border-b-0 border-lc-fill-02 dark:border-dark-lc-fill-02 hover:bg-lc-fill-02 dark:hover:bg-dark-lc-fill-02 cursor-pointer\" id=\"\"><div class=\"flex h-[52px] w-full items-center space-x-3 px-4\"><div><div class=\"flex items-center\" data-state=\"closed\"><svg xmlns=\"http://www.w3.org/2000/svg\" viewBox=\"0 0 24 24\" width=\"1em\" height=\"1em\" fill=\"currentColor\" class=\"h-4.5 w-4.5 text-lc-green-60 dark:text-dark-lc-green-60 inline-block shrink-0 fill-none stroke-current\"><path stroke-linecap=\"round\" stroke-linejoin=\"round\" stroke-width=\"2\" d=\"M21.6 12a9.6 9.6 0 01-9.6 9.6 9.6 9.6 0 110-19.2c1.507 0 2.932.347 4.2.965M19.8 6l-8.4 8.4L9 12\"></path></svg></div></div><div class=\"relative flex h-full w-full items-center\"><div class=\" flex w-0 flex-1 items-center space-x-2\"><div class=\"text-body max-w-[75%] font-medium text-lc-text-primary dark:text-dark-lc-text-primary\"><div class=\"truncate\">Asteroid Collision</div></div><a class=\"absolute right-[15%] top-0 flex h-[52px] cursor-pointer items-center justify-center overflow-hidden px-2 text-text-secondary dark:text-text-secondary hover:text-text-secondary dark:hover:text-text-secondary\" target=\"_blank\" href=\"/problems/asteroid-collision/editorial/?envType=study-plan-v2&amp;envId=leetcode-75\"><svg xmlns=\"http://www.w3.org/2000/svg\" viewBox=\"0 0 24 24\" width=\"1em\" height=\"1em\" fill=\"currentColor\" class=\"mr-1 inline-block h-4 w-4 shrink-0 fill-none stroke-current text-lc-icon-secondary dark:text-dark-lc-icon-secondary\"><path stroke-linecap=\"round\" stroke-width=\"2\" d=\"M12.001 7.972h2.994m-5.989 0h.021m-.021 4.018h.021m-.021 4.018h.021m2.974-4.018h2.994m-2.994 4.018h2.994M7.098 20.98h9.927a2 2 0 002-2V4.78a2 2 0 00-2-2H7.098a2 2 0 00-2 2v14.2a2 2 0 002 2z\"></path></svg><span class=\"lc-md:flex hidden\">Solution</span></a></div><p class=\"text-[14px] text-lc-yellow-60 dark:text-dark-lc-yellow-60\">Medium</p></div></div></div><div class=\"flex flex-col border-b-[1.5px] duration-300 last:border-b-0 border-lc-fill-02 dark:border-dark-lc-fill-02 hover:bg-lc-fill-02 dark:hover:bg-dark-lc-fill-02 cursor-pointer\" id=\"\"><div class=\"flex h-[52px] w-full items-center space-x-3 px-4\"><div><div class=\"flex items-center\" data-state=\"closed\"><svg xmlns=\"http://www.w3.org/2000/svg\" viewBox=\"0 0 24 24\" width=\"1em\" height=\"1em\" fill=\"currentColor\" class=\"h-4.5 w-4.5 text-lc-green-60 dark:text-dark-lc-green-60 inline-block shrink-0 fill-none stroke-current\"><path stroke-linecap=\"round\" stroke-linejoin=\"round\" stroke-width=\"2\" d=\"M21.6 12a9.6 9.6 0 01-9.6 9.6 9.6 9.6 0 110-19.2c1.507 0 2.932.347 4.2.965M19.8 6l-8.4 8.4L9 12\"></path></svg></div></div><div class=\"relative flex h-full w-full items-center\"><div class=\" flex w-0 flex-1 items-center space-x-2\"><div class=\"text-body max-w-[75%] font-medium text-lc-text-primary dark:text-dark-lc-text-primary\"><div class=\"truncate\">Decode String</div></div><a class=\"absolute right-[15%] top-0 flex h-[52px] cursor-pointer items-center justify-center overflow-hidden px-2 text-text-secondary dark:text-text-secondary hover:text-text-secondary dark:hover:text-text-secondary\" target=\"_blank\" href=\"/problems/decode-string/editorial/?envType=study-plan-v2&amp;envId=leetcode-75\"><svg xmlns=\"http://www.w3.org/2000/svg\" viewBox=\"0 0 24 24\" width=\"1em\" height=\"1em\" fill=\"currentColor\" class=\"mr-1 inline-block h-4 w-4 shrink-0 fill-none stroke-current text-lc-icon-secondary dark:text-dark-lc-icon-secondary\"><path stroke-linecap=\"round\" stroke-width=\"2\" d=\"M12.001 7.972h2.994m-5.989 0h.021m-.021 4.018h.021m-.021 4.018h.021m2.974-4.018h2.994m-2.994 4.018h2.994M7.098 20.98h9.927a2 2 0 002-2V4.78a2 2 0 00-2-2H7.098a2 2 0 00-2 2v14.2a2 2 0 002 2z\"></path></svg><span class=\"lc-md:flex hidden\">Solution</span></a></div><p class=\"text-[14px] text-lc-yellow-60 dark:text-dark-lc-yellow-60\">Medium</p></div></div></div></div><div class=\"w-full overflow-hidden rounded-lg border-[1.5px] border-lc-fill-02 dark:border-dark-lc-fill-02\"><div class=\"flex h-10 items-center justify-between px-4 font-medium text-lc-text-primary dark:text-dark-lc-text-primary bg-lc-fill-01 dark:bg-dark-lc-fill-01\"><div class=\"text-[12px] font-medium\">Queue</div></div><div class=\"flex flex-col border-b-[1.5px] duration-300 last:border-b-0 border-lc-fill-02 dark:border-dark-lc-fill-02 hover:bg-lc-fill-02 dark:hover:bg-dark-lc-fill-02 cursor-pointer\" id=\"\"><div class=\"flex h-[52px] w-full items-center space-x-3 px-4\"><div><div class=\"flex items-center\" data-state=\"closed\"><svg xmlns=\"http://www.w3.org/2000/svg\" viewBox=\"0 0 24 24\" width=\"1em\" height=\"1em\" fill=\"currentColor\" class=\"h-4.5 w-4.5 text-lc-green-60 dark:text-dark-lc-green-60 inline-block shrink-0 fill-none stroke-current\"><path stroke-linecap=\"round\" stroke-linejoin=\"round\" stroke-width=\"2\" d=\"M21.6 12a9.6 9.6 0 01-9.6 9.6 9.6 9.6 0 110-19.2c1.507 0 2.932.347 4.2.965M19.8 6l-8.4 8.4L9 12\"></path></svg></div></div><div class=\"relative flex h-full w-full items-center\"><div class=\" flex w-0 flex-1 items-center space-x-2\"><div class=\"text-body max-w-[75%] font-medium text-lc-text-primary dark:text-dark-lc-text-primary\"><div class=\"truncate\">Number of Recent Calls</div></div><a class=\"absolute right-[15%] top-0 flex h-[52px] cursor-pointer items-center justify-center overflow-hidden px-2 text-text-secondary dark:text-text-secondary hover:text-text-secondary dark:hover:text-text-secondary\" target=\"_blank\" href=\"/problems/number-of-recent-calls/editorial/?envType=study-plan-v2&amp;envId=leetcode-75\"><svg xmlns=\"http://www.w3.org/2000/svg\" viewBox=\"0 0 24 24\" width=\"1em\" height=\"1em\" fill=\"currentColor\" class=\"mr-1 inline-block h-4 w-4 shrink-0 fill-none stroke-current text-lc-icon-secondary dark:text-dark-lc-icon-secondary\"><path stroke-linecap=\"round\" stroke-width=\"2\" d=\"M12.001 7.972h2.994m-5.989 0h.021m-.021 4.018h.021m-.021 4.018h.021m2.974-4.018h2.994m-2.994 4.018h2.994M7.098 20.98h9.927a2 2 0 002-2V4.78a2 2 0 00-2-2H7.098a2 2 0 00-2 2v14.2a2 2 0 002 2z\"></path></svg><span class=\"lc-md:flex hidden\">Solution</span></a></div><p class=\"text-[14px] text-lc-green-60 dark:text-dark-lc-green-60\">Easy</p></div></div></div><div class=\"flex flex-col border-b-[1.5px] duration-300 last:border-b-0 border-lc-fill-02 dark:border-dark-lc-fill-02 hover:bg-lc-fill-02 dark:hover:bg-dark-lc-fill-02 cursor-pointer\" id=\"\"><div class=\"flex h-[52px] w-full items-center space-x-3 px-4\"><div><div class=\"flex items-center\" data-state=\"closed\"><svg xmlns=\"http://www.w3.org/2000/svg\" viewBox=\"0 0 24 24\" width=\"1em\" height=\"1em\" fill=\"currentColor\" class=\"h-4.5 w-4.5 text-lc-green-60 dark:text-dark-lc-green-60 inline-block shrink-0 fill-none stroke-current\"><path stroke-linecap=\"round\" stroke-linejoin=\"round\" stroke-width=\"2\" d=\"M21.6 12a9.6 9.6 0 01-9.6 9.6 9.6 9.6 0 110-19.2c1.507 0 2.932.347 4.2.965M19.8 6l-8.4 8.4L9 12\"></path></svg></div></div><div class=\"relative flex h-full w-full items-center\"><div class=\" flex w-0 flex-1 items-center space-x-2\"><div class=\"text-body max-w-[75%] font-medium text-lc-text-primary dark:text-dark-lc-text-primary\"><div class=\"truncate\">Dota2 Senate</div></div><a class=\"absolute right-[15%] top-0 flex h-[52px] cursor-pointer items-center justify-center overflow-hidden px-2 text-text-secondary dark:text-text-secondary hover:text-text-secondary dark:hover:text-text-secondary\" target=\"_blank\" href=\"/problems/dota2-senate/editorial/?envType=study-plan-v2&amp;envId=leetcode-75\"><svg xmlns=\"http://www.w3.org/2000/svg\" viewBox=\"0 0 24 24\" width=\"1em\" height=\"1em\" fill=\"currentColor\" class=\"mr-1 inline-block h-4 w-4 shrink-0 fill-none stroke-current text-lc-icon-secondary dark:text-dark-lc-icon-secondary\"><path stroke-linecap=\"round\" stroke-width=\"2\" d=\"M12.001 7.972h2.994m-5.989 0h.021m-.021 4.018h.021m-.021 4.018h.021m2.974-4.018h2.994m-2.994 4.018h2.994M7.098 20.98h9.927a2 2 0 002-2V4.78a2 2 0 00-2-2H7.098a2 2 0 00-2 2v14.2a2 2 0 002 2z\"></path></svg><span class=\"lc-md:flex hidden\">Solution</span></a></div><p class=\"text-[14px] text-lc-yellow-60 dark:text-dark-lc-yellow-60\">Medium</p></div></div></div></div><div class=\"w-full overflow-hidden rounded-lg border-[1.5px] border-lc-fill-02 dark:border-dark-lc-fill-02\"><div class=\"flex h-10 items-center justify-between px-4 font-medium text-lc-text-primary dark:text-dark-lc-text-primary bg-lc-fill-01 dark:bg-dark-lc-fill-01\"><div class=\"text-[12px] font-medium\">Linked List</div></div><div class=\"flex flex-col border-b-[1.5px] duration-300 last:border-b-0 border-lc-fill-02 dark:border-dark-lc-fill-02 hover:bg-lc-fill-02 dark:hover:bg-dark-lc-fill-02 cursor-pointer\" id=\"\"><div class=\"flex h-[52px] w-full items-center space-x-3 px-4\"><div><div class=\"flex items-center\" data-state=\"closed\"><svg xmlns=\"http://www.w3.org/2000/svg\" viewBox=\"0 0 24 24\" width=\"1em\" height=\"1em\" fill=\"currentColor\" class=\"h-4.5 w-4.5 text-lc-green-60 dark:text-dark-lc-green-60 inline-block shrink-0 fill-none stroke-current\"><path stroke-linecap=\"round\" stroke-linejoin=\"round\" stroke-width=\"2\" d=\"M21.6 12a9.6 9.6 0 01-9.6 9.6 9.6 9.6 0 110-19.2c1.507 0 2.932.347 4.2.965M19.8 6l-8.4 8.4L9 12\"></path></svg></div></div><div class=\"relative flex h-full w-full items-center\"><div class=\" flex w-0 flex-1 items-center space-x-2\"><div class=\"text-body max-w-[75%] font-medium text-lc-text-primary dark:text-dark-lc-text-primary\"><div class=\"truncate\">Delete the Middle Node of a Linked List</div></div><a class=\"absolute right-[15%] top-0 flex h-[52px] cursor-pointer items-center justify-center overflow-hidden px-2 text-text-secondary dark:text-text-secondary hover:text-text-secondary dark:hover:text-text-secondary\" target=\"_blank\" href=\"/problems/delete-the-middle-node-of-a-linked-list/editorial/?envType=study-plan-v2&amp;envId=leetcode-75\"><svg xmlns=\"http://www.w3.org/2000/svg\" viewBox=\"0 0 24 24\" width=\"1em\" height=\"1em\" fill=\"currentColor\" class=\"mr-1 inline-block h-4 w-4 shrink-0 fill-none stroke-current text-lc-icon-secondary dark:text-dark-lc-icon-secondary\"><path stroke-linecap=\"round\" stroke-width=\"2\" d=\"M12.001 7.972h2.994m-5.989 0h.021m-.021 4.018h.021m-.021 4.018h.021m2.974-4.018h2.994m-2.994 4.018h2.994M7.098 20.98h9.927a2 2 0 002-2V4.78a2 2 0 00-2-2H7.098a2 2 0 00-2 2v14.2a2 2 0 002 2z\"></path></svg><span class=\"lc-md:flex hidden\">Solution</span></a></div><p class=\"text-[14px] text-lc-yellow-60 dark:text-dark-lc-yellow-60\">Medium</p></div></div></div><div class=\"flex flex-col border-b-[1.5px] duration-300 last:border-b-0 border-lc-fill-02 dark:border-dark-lc-fill-02 hover:bg-lc-fill-02 dark:hover:bg-dark-lc-fill-02 cursor-pointer\" id=\"\"><div class=\"flex h-[52px] w-full items-center space-x-3 px-4\"><div><div class=\"flex items-center\" data-state=\"closed\"><svg xmlns=\"http://www.w3.org/2000/svg\" viewBox=\"0 0 24 24\" width=\"1em\" height=\"1em\" fill=\"currentColor\" class=\"h-4.5 w-4.5 text-lc-green-60 dark:text-dark-lc-green-60 inline-block shrink-0 fill-none stroke-current\"><path stroke-linecap=\"round\" stroke-linejoin=\"round\" stroke-width=\"2\" d=\"M21.6 12a9.6 9.6 0 01-9.6 9.6 9.6 9.6 0 110-19.2c1.507 0 2.932.347 4.2.965M19.8 6l-8.4 8.4L9 12\"></path></svg></div></div><div class=\"relative flex h-full w-full items-center\"><div class=\" flex w-0 flex-1 items-center space-x-2\"><div class=\"text-body max-w-[75%] font-medium text-lc-text-primary dark:text-dark-lc-text-primary\"><div class=\"truncate\">Odd Even Linked List</div></div><a class=\"absolute right-[15%] top-0 flex h-[52px] cursor-pointer items-center justify-center overflow-hidden px-2 text-text-secondary dark:text-text-secondary hover:text-text-secondary dark:hover:text-text-secondary\" target=\"_blank\" href=\"/problems/odd-even-linked-list/editorial/?envType=study-plan-v2&amp;envId=leetcode-75\"><svg xmlns=\"http://www.w3.org/2000/svg\" viewBox=\"0 0 24 24\" width=\"1em\" height=\"1em\" fill=\"currentColor\" class=\"mr-1 inline-block h-4 w-4 shrink-0 fill-none stroke-current text-lc-icon-secondary dark:text-dark-lc-icon-secondary\"><path stroke-linecap=\"round\" stroke-width=\"2\" d=\"M12.001 7.972h2.994m-5.989 0h.021m-.021 4.018h.021m-.021 4.018h.021m2.974-4.018h2.994m-2.994 4.018h2.994M7.098 20.98h9.927a2 2 0 002-2V4.78a2 2 0 00-2-2H7.098a2 2 0 00-2 2v14.2a2 2 0 002 2z\"></path></svg><span class=\"lc-md:flex hidden\">Solution</span></a></div><p class=\"text-[14px] text-lc-yellow-60 dark:text-dark-lc-yellow-60\">Medium</p></div></div></div><div class=\"flex flex-col border-b-[1.5px] duration-300 last:border-b-0 border-lc-fill-02 dark:border-dark-lc-fill-02 hover:bg-lc-fill-02 dark:hover:bg-dark-lc-fill-02 cursor-pointer\" id=\"\"><div class=\"flex h-[52px] w-full items-center space-x-3 px-4\"><div><div class=\"flex items-center\" data-state=\"closed\"><svg xmlns=\"http://www.w3.org/2000/svg\" viewBox=\"0 0 24 24\" width=\"1em\" height=\"1em\" fill=\"currentColor\" class=\"h-4.5 w-4.5 text-lc-green-60 dark:text-dark-lc-green-60 inline-block shrink-0 fill-none stroke-current\"><path stroke-linecap=\"round\" stroke-linejoin=\"round\" stroke-width=\"2\" d=\"M21.6 12a9.6 9.6 0 01-9.6 9.6 9.6 9.6 0 110-19.2c1.507 0 2.932.347 4.2.965M19.8 6l-8.4 8.4L9 12\"></path></svg></div></div><div class=\"relative flex h-full w-full items-center\"><div class=\" flex w-0 flex-1 items-center space-x-2\"><div class=\"text-body max-w-[75%] font-medium text-lc-text-primary dark:text-dark-lc-text-primary\"><div class=\"truncate\">Reverse Linked List</div></div><a class=\"absolute right-[15%] top-0 flex h-[52px] cursor-pointer items-center justify-center overflow-hidden px-2 text-text-secondary dark:text-text-secondary hover:text-text-secondary dark:hover:text-text-secondary\" target=\"_blank\" href=\"/problems/reverse-linked-list/editorial/?envType=study-plan-v2&amp;envId=leetcode-75\"><svg xmlns=\"http://www.w3.org/2000/svg\" viewBox=\"0 0 24 24\" width=\"1em\" height=\"1em\" fill=\"currentColor\" class=\"mr-1 inline-block h-4 w-4 shrink-0 fill-none stroke-current text-lc-icon-secondary dark:text-dark-lc-icon-secondary\"><path stroke-linecap=\"round\" stroke-width=\"2\" d=\"M12.001 7.972h2.994m-5.989 0h.021m-.021 4.018h.021m-.021 4.018h.021m2.974-4.018h2.994m-2.994 4.018h2.994M7.098 20.98h9.927a2 2 0 002-2V4.78a2 2 0 00-2-2H7.098a2 2 0 00-2 2v14.2a2 2 0 002 2z\"></path></svg><span class=\"lc-md:flex hidden\">Solution</span></a></div><p class=\"text-[14px] text-lc-green-60 dark:text-dark-lc-green-60\">Easy</p></div></div></div><div class=\"flex flex-col border-b-[1.5px] duration-300 last:border-b-0 border-lc-fill-02 dark:border-dark-lc-fill-02 hover:bg-lc-fill-02 dark:hover:bg-dark-lc-fill-02 cursor-pointer\" id=\"\"><div class=\"flex h-[52px] w-full items-center space-x-3 px-4\"><div><div class=\"flex items-center\" data-state=\"closed\"><svg xmlns=\"http://www.w3.org/2000/svg\" viewBox=\"0 0 24 24\" width=\"1em\" height=\"1em\" fill=\"currentColor\" class=\"h-4.5 w-4.5 text-lc-green-60 dark:text-dark-lc-green-60 inline-block shrink-0 fill-none stroke-current\"><path stroke-linecap=\"round\" stroke-linejoin=\"round\" stroke-width=\"2\" d=\"M21.6 12a9.6 9.6 0 01-9.6 9.6 9.6 9.6 0 110-19.2c1.507 0 2.932.347 4.2.965M19.8 6l-8.4 8.4L9 12\"></path></svg></div></div><div class=\"relative flex h-full w-full items-center\"><div class=\" flex w-0 flex-1 items-center space-x-2\"><div class=\"text-body max-w-[75%] font-medium text-lc-text-primary dark:text-dark-lc-text-primary\"><div class=\"truncate\">Maximum Twin Sum of a Linked List</div></div><a class=\"absolute right-[15%] top-0 flex h-[52px] cursor-pointer items-center justify-center overflow-hidden px-2 text-text-secondary dark:text-text-secondary hover:text-text-secondary dark:hover:text-text-secondary\" target=\"_blank\" href=\"/problems/maximum-twin-sum-of-a-linked-list/editorial/?envType=study-plan-v2&amp;envId=leetcode-75\"><svg xmlns=\"http://www.w3.org/2000/svg\" viewBox=\"0 0 24 24\" width=\"1em\" height=\"1em\" fill=\"currentColor\" class=\"mr-1 inline-block h-4 w-4 shrink-0 fill-none stroke-current text-lc-icon-secondary dark:text-dark-lc-icon-secondary\"><path stroke-linecap=\"round\" stroke-width=\"2\" d=\"M12.001 7.972h2.994m-5.989 0h.021m-.021 4.018h.021m-.021 4.018h.021m2.974-4.018h2.994m-2.994 4.018h2.994M7.098 20.98h9.927a2 2 0 002-2V4.78a2 2 0 00-2-2H7.098a2 2 0 00-2 2v14.2a2 2 0 002 2z\"></path></svg><span class=\"lc-md:flex hidden\">Solution</span></a></div><p class=\"text-[14px] text-lc-yellow-60 dark:text-dark-lc-yellow-60\">Medium</p></div></div></div></div><div class=\"w-full overflow-hidden rounded-lg border-[1.5px] border-lc-fill-02 dark:border-dark-lc-fill-02\"><div class=\"flex h-10 items-center justify-between px-4 font-medium text-lc-text-primary dark:text-dark-lc-text-primary bg-lc-fill-01 dark:bg-dark-lc-fill-01\"><div class=\"text-[12px] font-medium\">Binary Tree - DFS</div></div><div class=\"flex flex-col border-b-[1.5px] duration-300 last:border-b-0 border-lc-fill-02 dark:border-dark-lc-fill-02 hover:bg-lc-fill-02 dark:hover:bg-dark-lc-fill-02 cursor-pointer\" id=\"\"><div class=\"flex h-[52px] w-full items-center space-x-3 px-4\"><div><div class=\"flex items-center\" data-state=\"closed\"><svg xmlns=\"http://www.w3.org/2000/svg\" viewBox=\"0 0 24 24\" width=\"1em\" height=\"1em\" fill=\"currentColor\" class=\"h-4.5 w-4.5 text-lc-green-60 dark:text-dark-lc-green-60 inline-block shrink-0 fill-none stroke-current\"><path stroke-linecap=\"round\" stroke-linejoin=\"round\" stroke-width=\"2\" d=\"M21.6 12a9.6 9.6 0 01-9.6 9.6 9.6 9.6 0 110-19.2c1.507 0 2.932.347 4.2.965M19.8 6l-8.4 8.4L9 12\"></path></svg></div></div><div class=\"relative flex h-full w-full items-center\"><div class=\" flex w-0 flex-1 items-center space-x-2\"><div class=\"text-body max-w-[75%] font-medium text-lc-text-primary dark:text-dark-lc-text-primary\"><div class=\"truncate\">Maximum Depth of Binary Tree</div></div><a class=\"absolute right-[15%] top-0 flex h-[52px] cursor-pointer items-center justify-center overflow-hidden px-2 text-text-secondary dark:text-text-secondary hover:text-text-secondary dark:hover:text-text-secondary\" target=\"_blank\" href=\"/problems/maximum-depth-of-binary-tree/editorial/?envType=study-plan-v2&amp;envId=leetcode-75\"><svg xmlns=\"http://www.w3.org/2000/svg\" viewBox=\"0 0 24 24\" width=\"1em\" height=\"1em\" fill=\"currentColor\" class=\"mr-1 inline-block h-4 w-4 shrink-0 fill-none stroke-current text-lc-icon-secondary dark:text-dark-lc-icon-secondary\"><path stroke-linecap=\"round\" stroke-width=\"2\" d=\"M12.001 7.972h2.994m-5.989 0h.021m-.021 4.018h.021m-.021 4.018h.021m2.974-4.018h2.994m-2.994 4.018h2.994M7.098 20.98h9.927a2 2 0 002-2V4.78a2 2 0 00-2-2H7.098a2 2 0 00-2 2v14.2a2 2 0 002 2z\"></path></svg><span class=\"lc-md:flex hidden\">Solution</span></a></div><p class=\"text-[14px] text-lc-green-60 dark:text-dark-lc-green-60\">Easy</p></div></div></div><div class=\"flex flex-col border-b-[1.5px] duration-300 last:border-b-0 border-lc-fill-02 dark:border-dark-lc-fill-02 hover:bg-lc-fill-02 dark:hover:bg-dark-lc-fill-02 cursor-pointer\" id=\"\"><div class=\"flex h-[52px] w-full items-center space-x-3 px-4\"><div><div class=\"flex items-center\" data-state=\"closed\"><svg xmlns=\"http://www.w3.org/2000/svg\" viewBox=\"0 0 24 24\" width=\"1em\" height=\"1em\" fill=\"currentColor\" class=\"h-4.5 w-4.5 text-lc-green-60 dark:text-dark-lc-green-60 inline-block shrink-0 fill-none stroke-current\"><path stroke-linecap=\"round\" stroke-linejoin=\"round\" stroke-width=\"2\" d=\"M21.6 12a9.6 9.6 0 01-9.6 9.6 9.6 9.6 0 110-19.2c1.507 0 2.932.347 4.2.965M19.8 6l-8.4 8.4L9 12\"></path></svg></div></div><div class=\"relative flex h-full w-full items-center\"><div class=\" flex w-0 flex-1 items-center space-x-2\"><div class=\"text-body max-w-[75%] font-medium text-lc-text-primary dark:text-dark-lc-text-primary\"><div class=\"truncate\">Leaf-Similar Trees</div></div><a class=\"absolute right-[15%] top-0 flex h-[52px] cursor-pointer items-center justify-center overflow-hidden px-2 text-text-secondary dark:text-text-secondary hover:text-text-secondary dark:hover:text-text-secondary\" target=\"_blank\" href=\"/problems/leaf-similar-trees/editorial/?envType=study-plan-v2&amp;envId=leetcode-75\"><svg xmlns=\"http://www.w3.org/2000/svg\" viewBox=\"0 0 24 24\" width=\"1em\" height=\"1em\" fill=\"currentColor\" class=\"mr-1 inline-block h-4 w-4 shrink-0 fill-none stroke-current text-lc-icon-secondary dark:text-dark-lc-icon-secondary\"><path stroke-linecap=\"round\" stroke-width=\"2\" d=\"M12.001 7.972h2.994m-5.989 0h.021m-.021 4.018h.021m-.021 4.018h.021m2.974-4.018h2.994m-2.994 4.018h2.994M7.098 20.98h9.927a2 2 0 002-2V4.78a2 2 0 00-2-2H7.098a2 2 0 00-2 2v14.2a2 2 0 002 2z\"></path></svg><span class=\"lc-md:flex hidden\">Solution</span></a></div><p class=\"text-[14px] text-lc-green-60 dark:text-dark-lc-green-60\">Easy</p></div></div></div><div class=\"flex flex-col border-b-[1.5px] duration-300 last:border-b-0 border-lc-fill-02 dark:border-dark-lc-fill-02 hover:bg-lc-fill-02 dark:hover:bg-dark-lc-fill-02 cursor-pointer\" id=\"\"><div class=\"flex h-[52px] w-full items-center space-x-3 px-4\"><div><div class=\"flex items-center\" data-state=\"closed\"><svg xmlns=\"http://www.w3.org/2000/svg\" viewBox=\"0 0 24 24\" width=\"1em\" height=\"1em\" fill=\"currentColor\" class=\"h-4.5 w-4.5 text-lc-green-60 dark:text-dark-lc-green-60 inline-block shrink-0 fill-none stroke-current\"><path stroke-linecap=\"round\" stroke-linejoin=\"round\" stroke-width=\"2\" d=\"M21.6 12a9.6 9.6 0 01-9.6 9.6 9.6 9.6 0 110-19.2c1.507 0 2.932.347 4.2.965M19.8 6l-8.4 8.4L9 12\"></path></svg></div></div><div class=\"relative flex h-full w-full items-center\"><div class=\" flex w-0 flex-1 items-center space-x-2\"><div class=\"text-body max-w-[75%] font-medium text-lc-text-primary dark:text-dark-lc-text-primary\"><div class=\"truncate\">Count Good Nodes in Binary Tree</div></div><a class=\"absolute right-[15%] top-0 flex h-[52px] cursor-pointer items-center justify-center overflow-hidden px-2 text-text-secondary dark:text-text-secondary hover:text-text-secondary dark:hover:text-text-secondary\" target=\"_blank\" href=\"/problems/count-good-nodes-in-binary-tree/editorial/?envType=study-plan-v2&amp;envId=leetcode-75\"><svg xmlns=\"http://www.w3.org/2000/svg\" viewBox=\"0 0 24 24\" width=\"1em\" height=\"1em\" fill=\"currentColor\" class=\"mr-1 inline-block h-4 w-4 shrink-0 fill-none stroke-current text-lc-icon-secondary dark:text-dark-lc-icon-secondary\"><path stroke-linecap=\"round\" stroke-width=\"2\" d=\"M12.001 7.972h2.994m-5.989 0h.021m-.021 4.018h.021m-.021 4.018h.021m2.974-4.018h2.994m-2.994 4.018h2.994M7.098 20.98h9.927a2 2 0 002-2V4.78a2 2 0 00-2-2H7.098a2 2 0 00-2 2v14.2a2 2 0 002 2z\"></path></svg><span class=\"lc-md:flex hidden\">Solution</span></a></div><p class=\"text-[14px] text-lc-yellow-60 dark:text-dark-lc-yellow-60\">Medium</p></div></div></div><div class=\"flex flex-col border-b-[1.5px] duration-300 last:border-b-0 border-lc-fill-02 dark:border-dark-lc-fill-02 hover:bg-lc-fill-02 dark:hover:bg-dark-lc-fill-02 cursor-pointer\" id=\"\"><div class=\"flex h-[52px] w-full items-center space-x-3 px-4\"><div><div class=\"flex items-center\" data-state=\"closed\"><svg xmlns=\"http://www.w3.org/2000/svg\" viewBox=\"0 0 24 24\" width=\"1em\" height=\"1em\" fill=\"currentColor\" class=\"h-4.5 w-4.5 text-lc-green-60 dark:text-dark-lc-green-60 inline-block shrink-0 fill-none stroke-current\"><path stroke-linecap=\"round\" stroke-linejoin=\"round\" stroke-width=\"2\" d=\"M21.6 12a9.6 9.6 0 01-9.6 9.6 9.6 9.6 0 110-19.2c1.507 0 2.932.347 4.2.965M19.8 6l-8.4 8.4L9 12\"></path></svg></div></div><div class=\"relative flex h-full w-full items-center\"><div class=\" flex w-0 flex-1 items-center space-x-2\"><div class=\"text-body max-w-[75%] font-medium text-lc-text-primary dark:text-dark-lc-text-primary\"><div class=\"truncate\">Path Sum III</div></div><a class=\"absolute right-[15%] top-0 flex h-[52px] cursor-pointer items-center justify-center overflow-hidden px-2 text-text-secondary dark:text-text-secondary hover:text-text-secondary dark:hover:text-text-secondary\" target=\"_blank\" href=\"/problems/path-sum-iii/editorial/?envType=study-plan-v2&amp;envId=leetcode-75\"><svg xmlns=\"http://www.w3.org/2000/svg\" viewBox=\"0 0 24 24\" width=\"1em\" height=\"1em\" fill=\"currentColor\" class=\"mr-1 inline-block h-4 w-4 shrink-0 fill-none stroke-current text-lc-icon-secondary dark:text-dark-lc-icon-secondary\"><path stroke-linecap=\"round\" stroke-width=\"2\" d=\"M12.001 7.972h2.994m-5.989 0h.021m-.021 4.018h.021m-.021 4.018h.021m2.974-4.018h2.994m-2.994 4.018h2.994M7.098 20.98h9.927a2 2 0 002-2V4.78a2 2 0 00-2-2H7.098a2 2 0 00-2 2v14.2a2 2 0 002 2z\"></path></svg><span class=\"lc-md:flex hidden\">Solution</span></a></div><p class=\"text-[14px] text-lc-yellow-60 dark:text-dark-lc-yellow-60\">Medium</p></div></div></div><div class=\"flex flex-col border-b-[1.5px] duration-300 last:border-b-0 border-lc-fill-02 dark:border-dark-lc-fill-02 hover:bg-lc-fill-02 dark:hover:bg-dark-lc-fill-02 cursor-pointer\" id=\"\"><div class=\"flex h-[52px] w-full items-center space-x-3 px-4\"><div><div class=\"flex items-center\" data-state=\"closed\"><svg xmlns=\"http://www.w3.org/2000/svg\" viewBox=\"0 0 24 24\" width=\"1em\" height=\"1em\" fill=\"currentColor\" class=\"h-4.5 w-4.5 text-lc-green-60 dark:text-dark-lc-green-60 inline-block shrink-0 fill-none stroke-current\"><path stroke-linecap=\"round\" stroke-linejoin=\"round\" stroke-width=\"2\" d=\"M21.6 12a9.6 9.6 0 01-9.6 9.6 9.6 9.6 0 110-19.2c1.507 0 2.932.347 4.2.965M19.8 6l-8.4 8.4L9 12\"></path></svg></div></div><div class=\"relative flex h-full w-full items-center\"><div class=\" flex w-0 flex-1 items-center space-x-2\"><div class=\"text-body max-w-[75%] font-medium text-lc-text-primary dark:text-dark-lc-text-primary\"><div class=\"truncate\">Longest ZigZag Path in a Binary Tree</div></div><a class=\"absolute right-[15%] top-0 flex h-[52px] cursor-pointer items-center justify-center overflow-hidden px-2 text-text-secondary dark:text-text-secondary hover:text-text-secondary dark:hover:text-text-secondary\" target=\"_blank\" href=\"/problems/longest-zigzag-path-in-a-binary-tree/editorial/?envType=study-plan-v2&amp;envId=leetcode-75\"><svg xmlns=\"http://www.w3.org/2000/svg\" viewBox=\"0 0 24 24\" width=\"1em\" height=\"1em\" fill=\"currentColor\" class=\"mr-1 inline-block h-4 w-4 shrink-0 fill-none stroke-current text-lc-icon-secondary dark:text-dark-lc-icon-secondary\"><path stroke-linecap=\"round\" stroke-width=\"2\" d=\"M12.001 7.972h2.994m-5.989 0h.021m-.021 4.018h.021m-.021 4.018h.021m2.974-4.018h2.994m-2.994 4.018h2.994M7.098 20.98h9.927a2 2 0 002-2V4.78a2 2 0 00-2-2H7.098a2 2 0 00-2 2v14.2a2 2 0 002 2z\"></path></svg><span class=\"lc-md:flex hidden\">Solution</span></a></div><p class=\"text-[14px] text-lc-yellow-60 dark:text-dark-lc-yellow-60\">Medium</p></div></div></div><div class=\"flex flex-col border-b-[1.5px] duration-300 last:border-b-0 border-lc-fill-02 dark:border-dark-lc-fill-02 hover:bg-lc-fill-02 dark:hover:bg-dark-lc-fill-02 cursor-pointer\" id=\"\"><div class=\"flex h-[52px] w-full items-center space-x-3 px-4\"><div><div class=\"flex items-center\" data-state=\"closed\"><svg xmlns=\"http://www.w3.org/2000/svg\" viewBox=\"0 0 24 24\" width=\"1em\" height=\"1em\" fill=\"currentColor\" class=\"h-4.5 w-4.5 text-lc-green-60 dark:text-dark-lc-green-60 inline-block shrink-0 fill-none stroke-current\"><path stroke-linecap=\"round\" stroke-linejoin=\"round\" stroke-width=\"2\" d=\"M21.6 12a9.6 9.6 0 01-9.6 9.6 9.6 9.6 0 110-19.2c1.507 0 2.932.347 4.2.965M19.8 6l-8.4 8.4L9 12\"></path></svg></div></div><div class=\"relative flex h-full w-full items-center\"><div class=\" flex w-0 flex-1 items-center space-x-2\"><div class=\"text-body max-w-[75%] font-medium text-lc-text-primary dark:text-dark-lc-text-primary\"><div class=\"truncate\">Lowest Common Ancestor of a Binary Tree</div></div><a class=\"absolute right-[15%] top-0 flex h-[52px] cursor-pointer items-center justify-center overflow-hidden px-2 text-text-secondary dark:text-text-secondary hover:text-text-secondary dark:hover:text-text-secondary\" target=\"_blank\" href=\"/problems/lowest-common-ancestor-of-a-binary-tree/editorial/?envType=study-plan-v2&amp;envId=leetcode-75\"><svg xmlns=\"http://www.w3.org/2000/svg\" viewBox=\"0 0 24 24\" width=\"1em\" height=\"1em\" fill=\"currentColor\" class=\"mr-1 inline-block h-4 w-4 shrink-0 fill-none stroke-current text-lc-icon-secondary dark:text-dark-lc-icon-secondary\"><path stroke-linecap=\"round\" stroke-width=\"2\" d=\"M12.001 7.972h2.994m-5.989 0h.021m-.021 4.018h.021m-.021 4.018h.021m2.974-4.018h2.994m-2.994 4.018h2.994M7.098 20.98h9.927a2 2 0 002-2V4.78a2 2 0 00-2-2H7.098a2 2 0 00-2 2v14.2a2 2 0 002 2z\"></path></svg><span class=\"lc-md:flex hidden\">Solution</span></a></div><p class=\"text-[14px] text-lc-yellow-60 dark:text-dark-lc-yellow-60\">Medium</p></div></div></div></div><div class=\"w-full overflow-hidden rounded-lg border-[1.5px] border-lc-fill-02 dark:border-dark-lc-fill-02\"><div class=\"flex h-10 items-center justify-between px-4 font-medium text-lc-text-primary dark:text-dark-lc-text-primary bg-lc-fill-01 dark:bg-dark-lc-fill-01\"><div class=\"text-[12px] font-medium\">Binary Tree - BFS</div></div><div class=\"flex flex-col border-b-[1.5px] duration-300 last:border-b-0 border-lc-fill-02 dark:border-dark-lc-fill-02 hover:bg-lc-fill-02 dark:hover:bg-dark-lc-fill-02 cursor-pointer\" id=\"\"><div class=\"flex h-[52px] w-full items-center space-x-3 px-4\"><div><div class=\"flex items-center\" data-state=\"closed\"><svg xmlns=\"http://www.w3.org/2000/svg\" viewBox=\"0 0 24 24\" width=\"1em\" height=\"1em\" fill=\"currentColor\" class=\"h-4.5 w-4.5 text-lc-green-60 dark:text-dark-lc-green-60 inline-block shrink-0 fill-none stroke-current\"><path stroke-linecap=\"round\" stroke-linejoin=\"round\" stroke-width=\"2\" d=\"M21.6 12a9.6 9.6 0 01-9.6 9.6 9.6 9.6 0 110-19.2c1.507 0 2.932.347 4.2.965M19.8 6l-8.4 8.4L9 12\"></path></svg></div></div><div class=\"relative flex h-full w-full items-center\"><div class=\" flex w-0 flex-1 items-center space-x-2\"><div class=\"text-body max-w-[75%] font-medium text-lc-text-primary dark:text-dark-lc-text-primary\"><div class=\"truncate\">Binary Tree Right Side View</div></div><a class=\"absolute right-[15%] top-0 flex h-[52px] cursor-pointer items-center justify-center overflow-hidden px-2 text-text-secondary dark:text-text-secondary hover:text-text-secondary dark:hover:text-text-secondary\" target=\"_blank\" href=\"/problems/binary-tree-right-side-view/editorial/?envType=study-plan-v2&amp;envId=leetcode-75\"><svg xmlns=\"http://www.w3.org/2000/svg\" viewBox=\"0 0 24 24\" width=\"1em\" height=\"1em\" fill=\"currentColor\" class=\"mr-1 inline-block h-4 w-4 shrink-0 fill-none stroke-current text-lc-icon-secondary dark:text-dark-lc-icon-secondary\"><path stroke-linecap=\"round\" stroke-width=\"2\" d=\"M12.001 7.972h2.994m-5.989 0h.021m-.021 4.018h.021m-.021 4.018h.021m2.974-4.018h2.994m-2.994 4.018h2.994M7.098 20.98h9.927a2 2 0 002-2V4.78a2 2 0 00-2-2H7.098a2 2 0 00-2 2v14.2a2 2 0 002 2z\"></path></svg><span class=\"lc-md:flex hidden\">Solution</span></a></div><p class=\"text-[14px] text-lc-yellow-60 dark:text-dark-lc-yellow-60\">Medium</p></div></div></div><div class=\"flex flex-col border-b-[1.5px] duration-300 last:border-b-0 border-lc-fill-02 dark:border-dark-lc-fill-02 hover:bg-lc-fill-02 dark:hover:bg-dark-lc-fill-02 cursor-pointer\" id=\"\"><div class=\"flex h-[52px] w-full items-center space-x-3 px-4\"><div><div class=\"flex items-center\" data-state=\"closed\"><svg xmlns=\"http://www.w3.org/2000/svg\" viewBox=\"0 0 24 24\" width=\"1em\" height=\"1em\" fill=\"currentColor\" class=\"h-4.5 w-4.5 text-lc-green-60 dark:text-dark-lc-green-60 inline-block shrink-0 fill-none stroke-current\"><path stroke-linecap=\"round\" stroke-linejoin=\"round\" stroke-width=\"2\" d=\"M21.6 12a9.6 9.6 0 01-9.6 9.6 9.6 9.6 0 110-19.2c1.507 0 2.932.347 4.2.965M19.8 6l-8.4 8.4L9 12\"></path></svg></div></div><div class=\"relative flex h-full w-full items-center\"><div class=\" flex w-0 flex-1 items-center space-x-2\"><div class=\"text-body max-w-[75%] font-medium text-lc-text-primary dark:text-dark-lc-text-primary\"><div class=\"truncate\">Maximum Level Sum of a Binary Tree</div></div><a class=\"absolute right-[15%] top-0 flex h-[52px] cursor-pointer items-center justify-center overflow-hidden px-2 text-text-secondary dark:text-text-secondary hover:text-text-secondary dark:hover:text-text-secondary\" target=\"_blank\" href=\"/problems/maximum-level-sum-of-a-binary-tree/editorial/?envType=study-plan-v2&amp;envId=leetcode-75\"><svg xmlns=\"http://www.w3.org/2000/svg\" viewBox=\"0 0 24 24\" width=\"1em\" height=\"1em\" fill=\"currentColor\" class=\"mr-1 inline-block h-4 w-4 shrink-0 fill-none stroke-current text-lc-icon-secondary dark:text-dark-lc-icon-secondary\"><path stroke-linecap=\"round\" stroke-width=\"2\" d=\"M12.001 7.972h2.994m-5.989 0h.021m-.021 4.018h.021m-.021 4.018h.021m2.974-4.018h2.994m-2.994 4.018h2.994M7.098 20.98h9.927a2 2 0 002-2V4.78a2 2 0 00-2-2H7.098a2 2 0 00-2 2v14.2a2 2 0 002 2z\"></path></svg><span class=\"lc-md:flex hidden\">Solution</span></a></div><p class=\"text-[14px] text-lc-yellow-60 dark:text-dark-lc-yellow-60\">Medium</p></div></div></div></div><div class=\"w-full overflow-hidden rounded-lg border-[1.5px] border-lc-fill-02 dark:border-dark-lc-fill-02\"><div class=\"flex h-10 items-center justify-between px-4 font-medium text-lc-text-primary dark:text-dark-lc-text-primary bg-lc-fill-01 dark:bg-dark-lc-fill-01\"><div class=\"text-[12px] font-medium\">Binary Search Tree</div></div><div class=\"flex flex-col border-b-[1.5px] duration-300 last:border-b-0 border-lc-fill-02 dark:border-dark-lc-fill-02 hover:bg-lc-fill-02 dark:hover:bg-dark-lc-fill-02 cursor-pointer\" id=\"\"><div class=\"flex h-[52px] w-full items-center space-x-3 px-4\"><div><div class=\"flex items-center\" data-state=\"closed\"><svg xmlns=\"http://www.w3.org/2000/svg\" viewBox=\"0 0 24 24\" width=\"1em\" height=\"1em\" fill=\"currentColor\" class=\"h-4.5 w-4.5 text-lc-green-60 dark:text-dark-lc-green-60 inline-block shrink-0 fill-none stroke-current\"><path stroke-linecap=\"round\" stroke-linejoin=\"round\" stroke-width=\"2\" d=\"M21.6 12a9.6 9.6 0 01-9.6 9.6 9.6 9.6 0 110-19.2c1.507 0 2.932.347 4.2.965M19.8 6l-8.4 8.4L9 12\"></path></svg></div></div><div class=\"relative flex h-full w-full items-center\"><div class=\" flex w-0 flex-1 items-center space-x-2\"><div class=\"text-body max-w-[75%] font-medium text-lc-text-primary dark:text-dark-lc-text-primary\"><div class=\"truncate\">Search in a Binary Search Tree</div></div><a class=\"absolute right-[15%] top-0 flex h-[52px] cursor-pointer items-center justify-center overflow-hidden px-2 text-text-secondary dark:text-text-secondary hover:text-text-secondary dark:hover:text-text-secondary\" target=\"_blank\" href=\"/problems/search-in-a-binary-search-tree/editorial/?envType=study-plan-v2&amp;envId=leetcode-75\"><svg xmlns=\"http://www.w3.org/2000/svg\" viewBox=\"0 0 24 24\" width=\"1em\" height=\"1em\" fill=\"currentColor\" class=\"mr-1 inline-block h-4 w-4 shrink-0 fill-none stroke-current text-lc-icon-secondary dark:text-dark-lc-icon-secondary\"><path stroke-linecap=\"round\" stroke-width=\"2\" d=\"M12.001 7.972h2.994m-5.989 0h.021m-.021 4.018h.021m-.021 4.018h.021m2.974-4.018h2.994m-2.994 4.018h2.994M7.098 20.98h9.927a2 2 0 002-2V4.78a2 2 0 00-2-2H7.098a2 2 0 00-2 2v14.2a2 2 0 002 2z\"></path></svg><span class=\"lc-md:flex hidden\">Solution</span></a></div><p class=\"text-[14px] text-lc-green-60 dark:text-dark-lc-green-60\">Easy</p></div></div></div><div class=\"flex flex-col border-b-[1.5px] duration-300 last:border-b-0 border-lc-fill-02 dark:border-dark-lc-fill-02 hover:bg-lc-fill-02 dark:hover:bg-dark-lc-fill-02 cursor-pointer\" id=\"\"><div class=\"flex h-[52px] w-full items-center space-x-3 px-4\"><div><div class=\"flex items-center\" data-state=\"closed\"><svg xmlns=\"http://www.w3.org/2000/svg\" viewBox=\"0 0 24 24\" width=\"1em\" height=\"1em\" fill=\"currentColor\" class=\"h-4.5 w-4.5 text-lc-green-60 dark:text-dark-lc-green-60 inline-block shrink-0 fill-none stroke-current\"><path stroke-linecap=\"round\" stroke-linejoin=\"round\" stroke-width=\"2\" d=\"M21.6 12a9.6 9.6 0 01-9.6 9.6 9.6 9.6 0 110-19.2c1.507 0 2.932.347 4.2.965M19.8 6l-8.4 8.4L9 12\"></path></svg></div></div><div class=\"relative flex h-full w-full items-center\"><div class=\" flex w-0 flex-1 items-center space-x-2\"><div class=\"text-body max-w-[75%] font-medium text-lc-text-primary dark:text-dark-lc-text-primary\"><div class=\"truncate\">Delete Node in a BST</div></div><a class=\"absolute right-[15%] top-0 flex h-[52px] cursor-pointer items-center justify-center overflow-hidden px-2 text-text-secondary dark:text-text-secondary hover:text-text-secondary dark:hover:text-text-secondary\" target=\"_blank\" href=\"/problems/delete-node-in-a-bst/editorial/?envType=study-plan-v2&amp;envId=leetcode-75\"><svg xmlns=\"http://www.w3.org/2000/svg\" viewBox=\"0 0 24 24\" width=\"1em\" height=\"1em\" fill=\"currentColor\" class=\"mr-1 inline-block h-4 w-4 shrink-0 fill-none stroke-current text-lc-icon-secondary dark:text-dark-lc-icon-secondary\"><path stroke-linecap=\"round\" stroke-width=\"2\" d=\"M12.001 7.972h2.994m-5.989 0h.021m-.021 4.018h.021m-.021 4.018h.021m2.974-4.018h2.994m-2.994 4.018h2.994M7.098 20.98h9.927a2 2 0 002-2V4.78a2 2 0 00-2-2H7.098a2 2 0 00-2 2v14.2a2 2 0 002 2z\"></path></svg><span class=\"lc-md:flex hidden\">Solution</span></a></div><p class=\"text-[14px] text-lc-yellow-60 dark:text-dark-lc-yellow-60\">Medium</p></div></div></div></div><div class=\"w-full overflow-hidden rounded-lg border-[1.5px] border-lc-fill-02 dark:border-dark-lc-fill-02\"><div class=\"flex h-10 items-center justify-between px-4 font-medium text-lc-text-primary dark:text-dark-lc-text-primary bg-lc-fill-01 dark:bg-dark-lc-fill-01\"><div class=\"text-[12px] font-medium\">Graphs - DFS</div></div><div class=\"flex flex-col border-b-[1.5px] duration-300 last:border-b-0 border-lc-fill-02 dark:border-dark-lc-fill-02 hover:bg-lc-fill-02 dark:hover:bg-dark-lc-fill-02 cursor-pointer\" id=\"\"><div class=\"flex h-[52px] w-full items-center space-x-3 px-4\"><div><div class=\"flex items-center\" data-state=\"closed\"><svg xmlns=\"http://www.w3.org/2000/svg\" viewBox=\"0 0 24 24\" width=\"1em\" height=\"1em\" fill=\"currentColor\" class=\"h-4.5 w-4.5 text-lc-green-60 dark:text-dark-lc-green-60 inline-block shrink-0 fill-none stroke-current\"><path stroke-linecap=\"round\" stroke-linejoin=\"round\" stroke-width=\"2\" d=\"M21.6 12a9.6 9.6 0 01-9.6 9.6 9.6 9.6 0 110-19.2c1.507 0 2.932.347 4.2.965M19.8 6l-8.4 8.4L9 12\"></path></svg></div></div><div class=\"relative flex h-full w-full items-center\"><div class=\" flex w-0 flex-1 items-center space-x-2\"><div class=\"text-body max-w-[75%] font-medium text-lc-text-primary dark:text-dark-lc-text-primary\"><div class=\"truncate\">Keys and Rooms</div></div><a class=\"absolute right-[15%] top-0 flex h-[52px] cursor-pointer items-center justify-center overflow-hidden px-2 text-text-secondary dark:text-text-secondary hover:text-text-secondary dark:hover:text-text-secondary\" target=\"_blank\" href=\"/problems/keys-and-rooms/editorial/?envType=study-plan-v2&amp;envId=leetcode-75\"><svg xmlns=\"http://www.w3.org/2000/svg\" viewBox=\"0 0 24 24\" width=\"1em\" height=\"1em\" fill=\"currentColor\" class=\"mr-1 inline-block h-4 w-4 shrink-0 fill-none stroke-current text-lc-icon-secondary dark:text-dark-lc-icon-secondary\"><path stroke-linecap=\"round\" stroke-width=\"2\" d=\"M12.001 7.972h2.994m-5.989 0h.021m-.021 4.018h.021m-.021 4.018h.021m2.974-4.018h2.994m-2.994 4.018h2.994M7.098 20.98h9.927a2 2 0 002-2V4.78a2 2 0 00-2-2H7.098a2 2 0 00-2 2v14.2a2 2 0 002 2z\"></path></svg><span class=\"lc-md:flex hidden\">Solution</span></a></div><p class=\"text-[14px] text-lc-yellow-60 dark:text-dark-lc-yellow-60\">Medium</p></div></div></div><div class=\"flex flex-col border-b-[1.5px] duration-300 last:border-b-0 border-lc-fill-02 dark:border-dark-lc-fill-02 hover:bg-lc-fill-02 dark:hover:bg-dark-lc-fill-02 cursor-pointer\" id=\"\"><div class=\"flex h-[52px] w-full items-center space-x-3 px-4\"><div><div class=\"flex items-center\" data-state=\"closed\"><svg xmlns=\"http://www.w3.org/2000/svg\" viewBox=\"0 0 24 24\" width=\"1em\" height=\"1em\" fill=\"currentColor\" class=\"h-4.5 w-4.5 text-lc-green-60 dark:text-dark-lc-green-60 inline-block shrink-0 fill-none stroke-current\"><path stroke-linecap=\"round\" stroke-linejoin=\"round\" stroke-width=\"2\" d=\"M21.6 12a9.6 9.6 0 01-9.6 9.6 9.6 9.6 0 110-19.2c1.507 0 2.932.347 4.2.965M19.8 6l-8.4 8.4L9 12\"></path></svg></div></div><div class=\"relative flex h-full w-full items-center\"><div class=\" flex w-0 flex-1 items-center space-x-2\"><div class=\"text-body max-w-[75%] font-medium text-lc-text-primary dark:text-dark-lc-text-primary\"><div class=\"truncate\">Number of Provinces</div></div><a class=\"absolute right-[15%] top-0 flex h-[52px] cursor-pointer items-center justify-center overflow-hidden px-2 text-text-secondary dark:text-text-secondary hover:text-text-secondary dark:hover:text-text-secondary\" target=\"_blank\" href=\"/problems/number-of-provinces/editorial/?envType=study-plan-v2&amp;envId=leetcode-75\"><svg xmlns=\"http://www.w3.org/2000/svg\" viewBox=\"0 0 24 24\" width=\"1em\" height=\"1em\" fill=\"currentColor\" class=\"mr-1 inline-block h-4 w-4 shrink-0 fill-none stroke-current text-lc-icon-secondary dark:text-dark-lc-icon-secondary\"><path stroke-linecap=\"round\" stroke-width=\"2\" d=\"M12.001 7.972h2.994m-5.989 0h.021m-.021 4.018h.021m-.021 4.018h.021m2.974-4.018h2.994m-2.994 4.018h2.994M7.098 20.98h9.927a2 2 0 002-2V4.78a2 2 0 00-2-2H7.098a2 2 0 00-2 2v14.2a2 2 0 002 2z\"></path></svg><span class=\"lc-md:flex hidden\">Solution</span></a></div><p class=\"text-[14px] text-lc-yellow-60 dark:text-dark-lc-yellow-60\">Medium</p></div></div></div><div class=\"flex flex-col border-b-[1.5px] duration-300 last:border-b-0 border-lc-fill-02 dark:border-dark-lc-fill-02 hover:bg-lc-fill-02 dark:hover:bg-dark-lc-fill-02 cursor-pointer\" id=\"\"><div class=\"flex h-[52px] w-full items-center space-x-3 px-4\"><div><div class=\"flex items-center\" data-state=\"closed\"><svg xmlns=\"http://www.w3.org/2000/svg\" viewBox=\"0 0 24 24\" width=\"1em\" height=\"1em\" fill=\"currentColor\" class=\"h-4.5 w-4.5 text-lc-green-60 dark:text-dark-lc-green-60 inline-block shrink-0 fill-none stroke-current\"><path stroke-linecap=\"round\" stroke-linejoin=\"round\" stroke-width=\"2\" d=\"M21.6 12a9.6 9.6 0 01-9.6 9.6 9.6 9.6 0 110-19.2c1.507 0 2.932.347 4.2.965M19.8 6l-8.4 8.4L9 12\"></path></svg></div></div><div class=\"relative flex h-full w-full items-center\"><div class=\" flex w-0 flex-1 items-center space-x-2\"><div class=\"text-body max-w-[75%] font-medium text-lc-text-primary dark:text-dark-lc-text-primary\"><div class=\"truncate\">Reorder Routes to Make All Paths Lead to the City Zero</div></div><a class=\"absolute right-[15%] top-0 flex h-[52px] cursor-pointer items-center justify-center overflow-hidden px-2 text-text-secondary dark:text-text-secondary hover:text-text-secondary dark:hover:text-text-secondary\" target=\"_blank\" href=\"/problems/reorder-routes-to-make-all-paths-lead-to-the-city-zero/editorial/?envType=study-plan-v2&amp;envId=leetcode-75\"><svg xmlns=\"http://www.w3.org/2000/svg\" viewBox=\"0 0 24 24\" width=\"1em\" height=\"1em\" fill=\"currentColor\" class=\"mr-1 inline-block h-4 w-4 shrink-0 fill-none stroke-current text-lc-icon-secondary dark:text-dark-lc-icon-secondary\"><path stroke-linecap=\"round\" stroke-width=\"2\" d=\"M12.001 7.972h2.994m-5.989 0h.021m-.021 4.018h.021m-.021 4.018h.021m2.974-4.018h2.994m-2.994 4.018h2.994M7.098 20.98h9.927a2 2 0 002-2V4.78a2 2 0 00-2-2H7.098a2 2 0 00-2 2v14.2a2 2 0 002 2z\"></path></svg><span class=\"lc-md:flex hidden\">Solution</span></a></div><p class=\"text-[14px] text-lc-yellow-60 dark:text-dark-lc-yellow-60\">Medium</p></div></div></div><div class=\"flex flex-col border-b-[1.5px] duration-300 last:border-b-0 border-lc-fill-02 dark:border-dark-lc-fill-02 hover:bg-lc-fill-02 dark:hover:bg-dark-lc-fill-02 cursor-pointer\" id=\"\"><div class=\"flex h-[52px] w-full items-center space-x-3 px-4\"><div><div class=\"flex items-center\" data-state=\"closed\"><svg xmlns=\"http://www.w3.org/2000/svg\" viewBox=\"0 0 24 24\" width=\"1em\" height=\"1em\" fill=\"currentColor\" class=\"h-4.5 w-4.5 text-lc-green-60 dark:text-dark-lc-green-60 inline-block shrink-0 fill-none stroke-current\"><path stroke-linecap=\"round\" stroke-linejoin=\"round\" stroke-width=\"2\" d=\"M21.6 12a9.6 9.6 0 01-9.6 9.6 9.6 9.6 0 110-19.2c1.507 0 2.932.347 4.2.965M19.8 6l-8.4 8.4L9 12\"></path></svg></div></div><div class=\"relative flex h-full w-full items-center\"><div class=\" flex w-0 flex-1 items-center space-x-2\"><div class=\"text-body max-w-[75%] font-medium text-lc-text-primary dark:text-dark-lc-text-primary\"><div class=\"truncate\">Evaluate Division</div></div><a class=\"absolute right-[15%] top-0 flex h-[52px] cursor-pointer items-center justify-center overflow-hidden px-2 text-text-secondary dark:text-text-secondary hover:text-text-secondary dark:hover:text-text-secondary\" target=\"_blank\" href=\"/problems/evaluate-division/editorial/?envType=study-plan-v2&amp;envId=leetcode-75\"><svg xmlns=\"http://www.w3.org/2000/svg\" viewBox=\"0 0 24 24\" width=\"1em\" height=\"1em\" fill=\"currentColor\" class=\"mr-1 inline-block h-4 w-4 shrink-0 fill-none stroke-current text-lc-icon-secondary dark:text-dark-lc-icon-secondary\"><path stroke-linecap=\"round\" stroke-width=\"2\" d=\"M12.001 7.972h2.994m-5.989 0h.021m-.021 4.018h.021m-.021 4.018h.021m2.974-4.018h2.994m-2.994 4.018h2.994M7.098 20.98h9.927a2 2 0 002-2V4.78a2 2 0 00-2-2H7.098a2 2 0 00-2 2v14.2a2 2 0 002 2z\"></path></svg><span class=\"lc-md:flex hidden\">Solution</span></a></div><p class=\"text-[14px] text-lc-yellow-60 dark:text-dark-lc-yellow-60\">Medium</p></div></div></div></div><div class=\"w-full overflow-hidden rounded-lg border-[1.5px] border-lc-fill-02 dark:border-dark-lc-fill-02\"><div class=\"flex h-10 items-center justify-between px-4 font-medium text-lc-text-primary dark:text-dark-lc-text-primary bg-lc-fill-01 dark:bg-dark-lc-fill-01\"><div class=\"text-[12px] font-medium\">Graphs - BFS</div></div><div class=\"flex flex-col border-b-[1.5px] duration-300 last:border-b-0 border-lc-fill-02 dark:border-dark-lc-fill-02 hover:bg-lc-fill-02 dark:hover:bg-dark-lc-fill-02 cursor-pointer\" id=\"\"><div class=\"flex h-[52px] w-full items-center space-x-3 px-4\"><div><div class=\"flex items-center\" data-state=\"closed\"><svg xmlns=\"http://www.w3.org/2000/svg\" viewBox=\"0 0 24 24\" width=\"1em\" height=\"1em\" fill=\"currentColor\" class=\"h-4.5 w-4.5 text-lc-green-60 dark:text-dark-lc-green-60 inline-block shrink-0 fill-none stroke-current\"><path stroke-linecap=\"round\" stroke-linejoin=\"round\" stroke-width=\"2\" d=\"M21.6 12a9.6 9.6 0 01-9.6 9.6 9.6 9.6 0 110-19.2c1.507 0 2.932.347 4.2.965M19.8 6l-8.4 8.4L9 12\"></path></svg></div></div><div class=\"relative flex h-full w-full items-center\"><div class=\" flex w-0 flex-1 items-center space-x-2\"><div class=\"text-body max-w-[75%] font-medium text-lc-text-primary dark:text-dark-lc-text-primary\"><div class=\"truncate\">Nearest Exit from Entrance in Maze</div></div><a class=\"absolute right-[15%] top-0 flex h-[52px] cursor-pointer items-center justify-center overflow-hidden px-2 text-text-secondary dark:text-text-secondary hover:text-text-secondary dark:hover:text-text-secondary\" target=\"_blank\" href=\"/problems/nearest-exit-from-entrance-in-maze/editorial/?envType=study-plan-v2&amp;envId=leetcode-75\"><svg xmlns=\"http://www.w3.org/2000/svg\" viewBox=\"0 0 24 24\" width=\"1em\" height=\"1em\" fill=\"currentColor\" class=\"mr-1 inline-block h-4 w-4 shrink-0 fill-none stroke-current text-lc-icon-secondary dark:text-dark-lc-icon-secondary\"><path stroke-linecap=\"round\" stroke-width=\"2\" d=\"M12.001 7.972h2.994m-5.989 0h.021m-.021 4.018h.021m-.021 4.018h.021m2.974-4.018h2.994m-2.994 4.018h2.994M7.098 20.98h9.927a2 2 0 002-2V4.78a2 2 0 00-2-2H7.098a2 2 0 00-2 2v14.2a2 2 0 002 2z\"></path></svg><span class=\"lc-md:flex hidden\">Solution</span></a></div><p class=\"text-[14px] text-lc-yellow-60 dark:text-dark-lc-yellow-60\">Medium</p></div></div></div><div class=\"flex flex-col border-b-[1.5px] duration-300 last:border-b-0 border-lc-fill-02 dark:border-dark-lc-fill-02 hover:bg-lc-fill-02 dark:hover:bg-dark-lc-fill-02 cursor-pointer\" id=\"\"><div class=\"flex h-[52px] w-full items-center space-x-3 px-4\"><div><div class=\"flex items-center\" data-state=\"closed\"><svg xmlns=\"http://www.w3.org/2000/svg\" viewBox=\"0 0 24 24\" width=\"1em\" height=\"1em\" fill=\"currentColor\" class=\"h-4.5 w-4.5 text-lc-green-60 dark:text-dark-lc-green-60 inline-block shrink-0 fill-none stroke-current\"><path stroke-linecap=\"round\" stroke-linejoin=\"round\" stroke-width=\"2\" d=\"M21.6 12a9.6 9.6 0 01-9.6 9.6 9.6 9.6 0 110-19.2c1.507 0 2.932.347 4.2.965M19.8 6l-8.4 8.4L9 12\"></path></svg></div></div><div class=\"relative flex h-full w-full items-center\"><div class=\" flex w-0 flex-1 items-center space-x-2\"><div class=\"text-body max-w-[75%] font-medium text-lc-text-primary dark:text-dark-lc-text-primary\"><div class=\"truncate\">Rotting Oranges</div></div><a class=\"absolute right-[15%] top-0 flex h-[52px] cursor-pointer items-center justify-center overflow-hidden px-2 text-text-secondary dark:text-text-secondary hover:text-text-secondary dark:hover:text-text-secondary\" target=\"_blank\" href=\"/problems/rotting-oranges/editorial/?envType=study-plan-v2&amp;envId=leetcode-75\"><svg xmlns=\"http://www.w3.org/2000/svg\" viewBox=\"0 0 24 24\" width=\"1em\" height=\"1em\" fill=\"currentColor\" class=\"mr-1 inline-block h-4 w-4 shrink-0 fill-none stroke-current text-lc-icon-secondary dark:text-dark-lc-icon-secondary\"><path stroke-linecap=\"round\" stroke-width=\"2\" d=\"M12.001 7.972h2.994m-5.989 0h.021m-.021 4.018h.021m-.021 4.018h.021m2.974-4.018h2.994m-2.994 4.018h2.994M7.098 20.98h9.927a2 2 0 002-2V4.78a2 2 0 00-2-2H7.098a2 2 0 00-2 2v14.2a2 2 0 002 2z\"></path></svg><span class=\"lc-md:flex hidden\">Solution</span></a></div><p class=\"text-[14px] text-lc-yellow-60 dark:text-dark-lc-yellow-60\">Medium</p></div></div></div></div><div class=\"w-full overflow-hidden rounded-lg border-[1.5px] border-lc-fill-02 dark:border-dark-lc-fill-02\"><div class=\"flex h-10 items-center justify-between px-4 font-medium text-lc-text-primary dark:text-dark-lc-text-primary bg-lc-fill-01 dark:bg-dark-lc-fill-01\"><div class=\"text-[12px] font-medium\">Heap / Priority Queue</div></div><div class=\"flex flex-col border-b-[1.5px] duration-300 last:border-b-0 border-lc-fill-02 dark:border-dark-lc-fill-02 hover:bg-lc-fill-02 dark:hover:bg-dark-lc-fill-02 cursor-pointer\" id=\"\"><div class=\"flex h-[52px] w-full items-center space-x-3 px-4\"><div><div class=\"flex items-center\" data-state=\"closed\"><svg xmlns=\"http://www.w3.org/2000/svg\" viewBox=\"0 0 24 24\" width=\"1em\" height=\"1em\" fill=\"currentColor\" class=\"h-4.5 w-4.5 text-lc-green-60 dark:text-dark-lc-green-60 inline-block shrink-0 fill-none stroke-current\"><path stroke-linecap=\"round\" stroke-linejoin=\"round\" stroke-width=\"2\" d=\"M21.6 12a9.6 9.6 0 01-9.6 9.6 9.6 9.6 0 110-19.2c1.507 0 2.932.347 4.2.965M19.8 6l-8.4 8.4L9 12\"></path></svg></div></div><div class=\"relative flex h-full w-full items-center\"><div class=\" flex w-0 flex-1 items-center space-x-2\"><div class=\"text-body max-w-[75%] font-medium text-lc-text-primary dark:text-dark-lc-text-primary\"><div class=\"truncate\">Kth Largest Element in an Array</div></div><a class=\"absolute right-[15%] top-0 flex h-[52px] cursor-pointer items-center justify-center overflow-hidden px-2 text-text-secondary dark:text-text-secondary hover:text-text-secondary dark:hover:text-text-secondary\" target=\"_blank\" href=\"/problems/kth-largest-element-in-an-array/editorial/?envType=study-plan-v2&amp;envId=leetcode-75\"><svg xmlns=\"http://www.w3.org/2000/svg\" viewBox=\"0 0 24 24\" width=\"1em\" height=\"1em\" fill=\"currentColor\" class=\"mr-1 inline-block h-4 w-4 shrink-0 fill-none stroke-current text-lc-icon-secondary dark:text-dark-lc-icon-secondary\"><path stroke-linecap=\"round\" stroke-width=\"2\" d=\"M12.001 7.972h2.994m-5.989 0h.021m-.021 4.018h.021m-.021 4.018h.021m2.974-4.018h2.994m-2.994 4.018h2.994M7.098 20.98h9.927a2 2 0 002-2V4.78a2 2 0 00-2-2H7.098a2 2 0 00-2 2v14.2a2 2 0 002 2z\"></path></svg><span class=\"lc-md:flex hidden\">Solution</span></a></div><p class=\"text-[14px] text-lc-yellow-60 dark:text-dark-lc-yellow-60\">Medium</p></div></div></div><div class=\"flex flex-col border-b-[1.5px] duration-300 last:border-b-0 border-lc-fill-02 dark:border-dark-lc-fill-02 hover:bg-lc-fill-02 dark:hover:bg-dark-lc-fill-02 cursor-pointer\" id=\"\"><div class=\"flex h-[52px] w-full items-center space-x-3 px-4\"><div><div class=\"flex items-center\" data-state=\"closed\"><svg xmlns=\"http://www.w3.org/2000/svg\" viewBox=\"0 0 24 24\" width=\"1em\" height=\"1em\" fill=\"currentColor\" class=\"h-4.5 w-4.5 text-lc-green-60 dark:text-dark-lc-green-60 inline-block shrink-0 fill-none stroke-current\"><path stroke-linecap=\"round\" stroke-linejoin=\"round\" stroke-width=\"2\" d=\"M21.6 12a9.6 9.6 0 01-9.6 9.6 9.6 9.6 0 110-19.2c1.507 0 2.932.347 4.2.965M19.8 6l-8.4 8.4L9 12\"></path></svg></div></div><div class=\"relative flex h-full w-full items-center\"><div class=\" flex w-0 flex-1 items-center space-x-2\"><div class=\"text-body max-w-[75%] font-medium text-lc-text-primary dark:text-dark-lc-text-primary\"><div class=\"truncate\">Smallest Number in Infinite Set</div></div><a class=\"absolute right-[15%] top-0 flex h-[52px] cursor-pointer items-center justify-center overflow-hidden px-2 text-text-secondary dark:text-text-secondary hover:text-text-secondary dark:hover:text-text-secondary\" target=\"_blank\" href=\"/problems/smallest-number-in-infinite-set/editorial/?envType=study-plan-v2&amp;envId=leetcode-75\"><svg xmlns=\"http://www.w3.org/2000/svg\" viewBox=\"0 0 24 24\" width=\"1em\" height=\"1em\" fill=\"currentColor\" class=\"mr-1 inline-block h-4 w-4 shrink-0 fill-none stroke-current text-lc-icon-secondary dark:text-dark-lc-icon-secondary\"><path stroke-linecap=\"round\" stroke-width=\"2\" d=\"M12.001 7.972h2.994m-5.989 0h.021m-.021 4.018h.021m-.021 4.018h.021m2.974-4.018h2.994m-2.994 4.018h2.994M7.098 20.98h9.927a2 2 0 002-2V4.78a2 2 0 00-2-2H7.098a2 2 0 00-2 2v14.2a2 2 0 002 2z\"></path></svg><span class=\"lc-md:flex hidden\">Solution</span></a></div><p class=\"text-[14px] text-lc-yellow-60 dark:text-dark-lc-yellow-60\">Medium</p></div></div></div><div class=\"flex flex-col border-b-[1.5px] duration-300 last:border-b-0 border-lc-fill-02 dark:border-dark-lc-fill-02 hover:bg-lc-fill-02 dark:hover:bg-dark-lc-fill-02 cursor-pointer\" id=\"\"><div class=\"flex h-[52px] w-full items-center space-x-3 px-4\"><div><div class=\"flex items-center\" data-state=\"closed\"><svg xmlns=\"http://www.w3.org/2000/svg\" viewBox=\"0 0 24 24\" width=\"1em\" height=\"1em\" fill=\"currentColor\" class=\"h-4.5 w-4.5 text-lc-green-60 dark:text-dark-lc-green-60 inline-block shrink-0 fill-none stroke-current\"><path stroke-linecap=\"round\" stroke-linejoin=\"round\" stroke-width=\"2\" d=\"M21.6 12a9.6 9.6 0 01-9.6 9.6 9.6 9.6 0 110-19.2c1.507 0 2.932.347 4.2.965M19.8 6l-8.4 8.4L9 12\"></path></svg></div></div><div class=\"relative flex h-full w-full items-center\"><div class=\" flex w-0 flex-1 items-center space-x-2\"><div class=\"text-body max-w-[75%] font-medium text-lc-text-primary dark:text-dark-lc-text-primary\"><div class=\"truncate\">Maximum Subsequence Score</div></div><a class=\"absolute right-[15%] top-0 flex h-[52px] cursor-pointer items-center justify-center overflow-hidden px-2 text-text-secondary dark:text-text-secondary hover:text-text-secondary dark:hover:text-text-secondary\" target=\"_blank\" href=\"/problems/maximum-subsequence-score/editorial/?envType=study-plan-v2&amp;envId=leetcode-75\"><svg xmlns=\"http://www.w3.org/2000/svg\" viewBox=\"0 0 24 24\" width=\"1em\" height=\"1em\" fill=\"currentColor\" class=\"mr-1 inline-block h-4 w-4 shrink-0 fill-none stroke-current text-lc-icon-secondary dark:text-dark-lc-icon-secondary\"><path stroke-linecap=\"round\" stroke-width=\"2\" d=\"M12.001 7.972h2.994m-5.989 0h.021m-.021 4.018h.021m-.021 4.018h.021m2.974-4.018h2.994m-2.994 4.018h2.994M7.098 20.98h9.927a2 2 0 002-2V4.78a2 2 0 00-2-2H7.098a2 2 0 00-2 2v14.2a2 2 0 002 2z\"></path></svg><span class=\"lc-md:flex hidden\">Solution</span></a></div><p class=\"text-[14px] text-lc-yellow-60 dark:text-dark-lc-yellow-60\">Medium</p></div></div></div><div class=\"flex flex-col border-b-[1.5px] duration-300 last:border-b-0 border-lc-fill-02 dark:border-dark-lc-fill-02 hover:bg-lc-fill-02 dark:hover:bg-dark-lc-fill-02 cursor-pointer\" id=\"\"><div class=\"flex h-[52px] w-full items-center space-x-3 px-4\"><div><div class=\"flex items-center\" data-state=\"closed\"><svg xmlns=\"http://www.w3.org/2000/svg\" viewBox=\"0 0 24 24\" width=\"1em\" height=\"1em\" fill=\"currentColor\" class=\"h-4.5 w-4.5 text-lc-green-60 dark:text-dark-lc-green-60 inline-block shrink-0 fill-none stroke-current\"><path stroke-linecap=\"round\" stroke-linejoin=\"round\" stroke-width=\"2\" d=\"M21.6 12a9.6 9.6 0 01-9.6 9.6 9.6 9.6 0 110-19.2c1.507 0 2.932.347 4.2.965M19.8 6l-8.4 8.4L9 12\"></path></svg></div></div><div class=\"relative flex h-full w-full items-center\"><div class=\" flex w-0 flex-1 items-center space-x-2\"><div class=\"text-body max-w-[75%] font-medium text-lc-text-primary dark:text-dark-lc-text-primary\"><div class=\"truncate\">Total Cost to Hire K Workers</div></div><a class=\"absolute right-[15%] top-0 flex h-[52px] cursor-pointer items-center justify-center overflow-hidden px-2 text-text-secondary dark:text-text-secondary hover:text-text-secondary dark:hover:text-text-secondary\" target=\"_blank\" href=\"/problems/total-cost-to-hire-k-workers/editorial/?envType=study-plan-v2&amp;envId=leetcode-75\"><svg xmlns=\"http://www.w3.org/2000/svg\" viewBox=\"0 0 24 24\" width=\"1em\" height=\"1em\" fill=\"currentColor\" class=\"mr-1 inline-block h-4 w-4 shrink-0 fill-none stroke-current text-lc-icon-secondary dark:text-dark-lc-icon-secondary\"><path stroke-linecap=\"round\" stroke-width=\"2\" d=\"M12.001 7.972h2.994m-5.989 0h.021m-.021 4.018h.021m-.021 4.018h.021m2.974-4.018h2.994m-2.994 4.018h2.994M7.098 20.98h9.927a2 2 0 002-2V4.78a2 2 0 00-2-2H7.098a2 2 0 00-2 2v14.2a2 2 0 002 2z\"></path></svg><span class=\"lc-md:flex hidden\">Solution</span></a></div><p class=\"text-[14px] text-lc-yellow-60 dark:text-dark-lc-yellow-60\">Medium</p></div></div></div></div><div class=\"w-full overflow-hidden rounded-lg border-[1.5px] border-lc-fill-02 dark:border-dark-lc-fill-02\"><div class=\"flex h-10 items-center justify-between px-4 font-medium text-lc-text-primary dark:text-dark-lc-text-primary bg-lc-fill-01 dark:bg-dark-lc-fill-01\"><div class=\"text-[12px] font-medium\">Binary Search</div></div><div class=\"flex flex-col border-b-[1.5px] duration-300 last:border-b-0 border-lc-fill-02 dark:border-dark-lc-fill-02 hover:bg-lc-fill-02 dark:hover:bg-dark-lc-fill-02 cursor-pointer\" id=\"\"><div class=\"flex h-[52px] w-full items-center space-x-3 px-4\"><div><div class=\"flex items-center\" data-state=\"closed\"><svg xmlns=\"http://www.w3.org/2000/svg\" viewBox=\"0 0 24 24\" width=\"1em\" height=\"1em\" fill=\"currentColor\" class=\"h-4.5 w-4.5 text-lc-green-60 dark:text-dark-lc-green-60 inline-block shrink-0 fill-none stroke-current\"><path stroke-linecap=\"round\" stroke-linejoin=\"round\" stroke-width=\"2\" d=\"M21.6 12a9.6 9.6 0 01-9.6 9.6 9.6 9.6 0 110-19.2c1.507 0 2.932.347 4.2.965M19.8 6l-8.4 8.4L9 12\"></path></svg></div></div><div class=\"relative flex h-full w-full items-center\"><div class=\" flex w-0 flex-1 items-center space-x-2\"><div class=\"text-body max-w-[75%] font-medium text-lc-text-primary dark:text-dark-lc-text-primary\"><div class=\"truncate\">Guess Number Higher or Lower</div></div><a class=\"absolute right-[15%] top-0 flex h-[52px] cursor-pointer items-center justify-center overflow-hidden px-2 text-text-secondary dark:text-text-secondary hover:text-text-secondary dark:hover:text-text-secondary\" target=\"_blank\" href=\"/problems/guess-number-higher-or-lower/editorial/?envType=study-plan-v2&amp;envId=leetcode-75\"><svg xmlns=\"http://www.w3.org/2000/svg\" viewBox=\"0 0 24 24\" width=\"1em\" height=\"1em\" fill=\"currentColor\" class=\"mr-1 inline-block h-4 w-4 shrink-0 fill-none stroke-current text-lc-icon-secondary dark:text-dark-lc-icon-secondary\"><path stroke-linecap=\"round\" stroke-width=\"2\" d=\"M12.001 7.972h2.994m-5.989 0h.021m-.021 4.018h.021m-.021 4.018h.021m2.974-4.018h2.994m-2.994 4.018h2.994M7.098 20.98h9.927a2 2 0 002-2V4.78a2 2 0 00-2-2H7.098a2 2 0 00-2 2v14.2a2 2 0 002 2z\"></path></svg><span class=\"lc-md:flex hidden\">Solution</span></a></div><p class=\"text-[14px] text-lc-green-60 dark:text-dark-lc-green-60\">Easy</p></div></div></div><div class=\"flex flex-col border-b-[1.5px] duration-300 last:border-b-0 border-lc-fill-02 dark:border-dark-lc-fill-02 hover:bg-lc-fill-02 dark:hover:bg-dark-lc-fill-02 cursor-pointer\" id=\"\"><div class=\"flex h-[52px] w-full items-center space-x-3 px-4\"><div><div class=\"flex items-center\" data-state=\"closed\"><svg xmlns=\"http://www.w3.org/2000/svg\" viewBox=\"0 0 24 24\" width=\"1em\" height=\"1em\" fill=\"currentColor\" class=\"h-4.5 w-4.5 text-lc-green-60 dark:text-dark-lc-green-60 inline-block shrink-0 fill-none stroke-current\"><path stroke-linecap=\"round\" stroke-linejoin=\"round\" stroke-width=\"2\" d=\"M21.6 12a9.6 9.6 0 01-9.6 9.6 9.6 9.6 0 110-19.2c1.507 0 2.932.347 4.2.965M19.8 6l-8.4 8.4L9 12\"></path></svg></div></div><div class=\"relative flex h-full w-full items-center\"><div class=\" flex w-0 flex-1 items-center space-x-2\"><div class=\"text-body max-w-[75%] font-medium text-lc-text-primary dark:text-dark-lc-text-primary\"><div class=\"truncate\">Successful Pairs of Spells and Potions</div></div><a class=\"absolute right-[15%] top-0 flex h-[52px] cursor-pointer items-center justify-center overflow-hidden px-2 text-text-secondary dark:text-text-secondary hover:text-text-secondary dark:hover:text-text-secondary\" target=\"_blank\" href=\"/problems/successful-pairs-of-spells-and-potions/editorial/?envType=study-plan-v2&amp;envId=leetcode-75\"><svg xmlns=\"http://www.w3.org/2000/svg\" viewBox=\"0 0 24 24\" width=\"1em\" height=\"1em\" fill=\"currentColor\" class=\"mr-1 inline-block h-4 w-4 shrink-0 fill-none stroke-current text-lc-icon-secondary dark:text-dark-lc-icon-secondary\"><path stroke-linecap=\"round\" stroke-width=\"2\" d=\"M12.001 7.972h2.994m-5.989 0h.021m-.021 4.018h.021m-.021 4.018h.021m2.974-4.018h2.994m-2.994 4.018h2.994M7.098 20.98h9.927a2 2 0 002-2V4.78a2 2 0 00-2-2H7.098a2 2 0 00-2 2v14.2a2 2 0 002 2z\"></path></svg><span class=\"lc-md:flex hidden\">Solution</span></a></div><p class=\"text-[14px] text-lc-yellow-60 dark:text-dark-lc-yellow-60\">Medium</p></div></div></div><div class=\"flex flex-col border-b-[1.5px] duration-300 last:border-b-0 border-lc-fill-02 dark:border-dark-lc-fill-02 hover:bg-lc-fill-02 dark:hover:bg-dark-lc-fill-02 cursor-pointer\" id=\"\"><div class=\"flex h-[52px] w-full items-center space-x-3 px-4\"><div><div class=\"flex items-center\" data-state=\"closed\"><svg xmlns=\"http://www.w3.org/2000/svg\" viewBox=\"0 0 24 24\" width=\"1em\" height=\"1em\" fill=\"currentColor\" class=\"h-4.5 w-4.5 text-lc-green-60 dark:text-dark-lc-green-60 inline-block shrink-0 fill-none stroke-current\"><path stroke-linecap=\"round\" stroke-linejoin=\"round\" stroke-width=\"2\" d=\"M21.6 12a9.6 9.6 0 01-9.6 9.6 9.6 9.6 0 110-19.2c1.507 0 2.932.347 4.2.965M19.8 6l-8.4 8.4L9 12\"></path></svg></div></div><div class=\"relative flex h-full w-full items-center\"><div class=\" flex w-0 flex-1 items-center space-x-2\"><div class=\"text-body max-w-[75%] font-medium text-lc-text-primary dark:text-dark-lc-text-primary\"><div class=\"truncate\">Find Peak Element</div></div><a class=\"absolute right-[15%] top-0 flex h-[52px] cursor-pointer items-center justify-center overflow-hidden px-2 text-text-secondary dark:text-text-secondary hover:text-text-secondary dark:hover:text-text-secondary\" target=\"_blank\" href=\"/problems/find-peak-element/editorial/?envType=study-plan-v2&amp;envId=leetcode-75\"><svg xmlns=\"http://www.w3.org/2000/svg\" viewBox=\"0 0 24 24\" width=\"1em\" height=\"1em\" fill=\"currentColor\" class=\"mr-1 inline-block h-4 w-4 shrink-0 fill-none stroke-current text-lc-icon-secondary dark:text-dark-lc-icon-secondary\"><path stroke-linecap=\"round\" stroke-width=\"2\" d=\"M12.001 7.972h2.994m-5.989 0h.021m-.021 4.018h.021m-.021 4.018h.021m2.974-4.018h2.994m-2.994 4.018h2.994M7.098 20.98h9.927a2 2 0 002-2V4.78a2 2 0 00-2-2H7.098a2 2 0 00-2 2v14.2a2 2 0 002 2z\"></path></svg><span class=\"lc-md:flex hidden\">Solution</span></a></div><p class=\"text-[14px] text-lc-yellow-60 dark:text-dark-lc-yellow-60\">Medium</p></div></div></div><div class=\"flex flex-col border-b-[1.5px] duration-300 last:border-b-0 border-lc-fill-02 dark:border-dark-lc-fill-02 hover:bg-lc-fill-02 dark:hover:bg-dark-lc-fill-02 cursor-pointer\" id=\"\"><div class=\"flex h-[52px] w-full items-center space-x-3 px-4\"><div><div class=\"flex items-center\" data-state=\"closed\"><svg xmlns=\"http://www.w3.org/2000/svg\" viewBox=\"0 0 24 24\" width=\"1em\" height=\"1em\" fill=\"currentColor\" class=\"h-4.5 w-4.5 text-lc-green-60 dark:text-dark-lc-green-60 inline-block shrink-0 fill-none stroke-current\"><path stroke-linecap=\"round\" stroke-linejoin=\"round\" stroke-width=\"2\" d=\"M21.6 12a9.6 9.6 0 01-9.6 9.6 9.6 9.6 0 110-19.2c1.507 0 2.932.347 4.2.965M19.8 6l-8.4 8.4L9 12\"></path></svg></div></div><div class=\"relative flex h-full w-full items-center\"><div class=\" flex w-0 flex-1 items-center space-x-2\"><div class=\"text-body max-w-[75%] font-medium text-lc-text-primary dark:text-dark-lc-text-primary\"><div class=\"truncate\">Koko Eating Bananas</div></div><a class=\"absolute right-[15%] top-0 flex h-[52px] cursor-pointer items-center justify-center overflow-hidden px-2 text-text-secondary dark:text-text-secondary hover:text-text-secondary dark:hover:text-text-secondary\" target=\"_blank\" href=\"/problems/koko-eating-bananas/editorial/?envType=study-plan-v2&amp;envId=leetcode-75\"><svg xmlns=\"http://www.w3.org/2000/svg\" viewBox=\"0 0 24 24\" width=\"1em\" height=\"1em\" fill=\"currentColor\" class=\"mr-1 inline-block h-4 w-4 shrink-0 fill-none stroke-current text-lc-icon-secondary dark:text-dark-lc-icon-secondary\"><path stroke-linecap=\"round\" stroke-width=\"2\" d=\"M12.001 7.972h2.994m-5.989 0h.021m-.021 4.018h.021m-.021 4.018h.021m2.974-4.018h2.994m-2.994 4.018h2.994M7.098 20.98h9.927a2 2 0 002-2V4.78a2 2 0 00-2-2H7.098a2 2 0 00-2 2v14.2a2 2 0 002 2z\"></path></svg><span class=\"lc-md:flex hidden\">Solution</span></a></div><p class=\"text-[14px] text-lc-yellow-60 dark:text-dark-lc-yellow-60\">Medium</p></div></div></div></div><div class=\"w-full overflow-hidden rounded-lg border-[1.5px] border-lc-fill-02 dark:border-dark-lc-fill-02\"><div class=\"flex h-10 items-center justify-between px-4 font-medium text-lc-text-primary dark:text-dark-lc-text-primary bg-lc-fill-01 dark:bg-dark-lc-fill-01\"><div class=\"text-[12px] font-medium\">Backtracking</div></div><div class=\"flex flex-col border-b-[1.5px] duration-300 last:border-b-0 border-lc-fill-02 dark:border-dark-lc-fill-02 hover:bg-lc-fill-02 dark:hover:bg-dark-lc-fill-02 cursor-pointer\" id=\"\"><div class=\"flex h-[52px] w-full items-center space-x-3 px-4\"><div><div class=\"flex items-center\" data-state=\"closed\"><svg xmlns=\"http://www.w3.org/2000/svg\" viewBox=\"0 0 24 24\" width=\"1em\" height=\"1em\" fill=\"currentColor\" class=\"h-4.5 w-4.5 text-lc-green-60 dark:text-dark-lc-green-60 inline-block shrink-0 fill-none stroke-current\"><path stroke-linecap=\"round\" stroke-linejoin=\"round\" stroke-width=\"2\" d=\"M21.6 12a9.6 9.6 0 01-9.6 9.6 9.6 9.6 0 110-19.2c1.507 0 2.932.347 4.2.965M19.8 6l-8.4 8.4L9 12\"></path></svg></div></div><div class=\"relative flex h-full w-full items-center\"><div class=\" flex w-0 flex-1 items-center space-x-2\"><div class=\"text-body max-w-[75%] font-medium text-lc-text-primary dark:text-dark-lc-text-primary\"><div class=\"truncate\">Letter Combinations of a Phone Number</div></div><a class=\"absolute right-[15%] top-0 flex h-[52px] cursor-pointer items-center justify-center overflow-hidden px-2 text-text-secondary dark:text-text-secondary hover:text-text-secondary dark:hover:text-text-secondary\" target=\"_blank\" href=\"/problems/letter-combinations-of-a-phone-number/editorial/?envType=study-plan-v2&amp;envId=leetcode-75\"><svg xmlns=\"http://www.w3.org/2000/svg\" viewBox=\"0 0 24 24\" width=\"1em\" height=\"1em\" fill=\"currentColor\" class=\"mr-1 inline-block h-4 w-4 shrink-0 fill-none stroke-current text-lc-icon-secondary dark:text-dark-lc-icon-secondary\"><path stroke-linecap=\"round\" stroke-width=\"2\" d=\"M12.001 7.972h2.994m-5.989 0h.021m-.021 4.018h.021m-.021 4.018h.021m2.974-4.018h2.994m-2.994 4.018h2.994M7.098 20.98h9.927a2 2 0 002-2V4.78a2 2 0 00-2-2H7.098a2 2 0 00-2 2v14.2a2 2 0 002 2z\"></path></svg><span class=\"lc-md:flex hidden\">Solution</span></a></div><p class=\"text-[14px] text-lc-yellow-60 dark:text-dark-lc-yellow-60\">Medium</p></div></div></div><div class=\"flex flex-col border-b-[1.5px] duration-300 last:border-b-0 border-lc-fill-02 dark:border-dark-lc-fill-02 hover:bg-lc-fill-02 dark:hover:bg-dark-lc-fill-02 cursor-pointer\" id=\"\"><div class=\"flex h-[52px] w-full items-center space-x-3 px-4\"><div><div class=\"flex items-center\" data-state=\"closed\"><svg xmlns=\"http://www.w3.org/2000/svg\" viewBox=\"0 0 24 24\" width=\"1em\" height=\"1em\" fill=\"currentColor\" class=\"h-4.5 w-4.5 text-lc-green-60 dark:text-dark-lc-green-60 inline-block shrink-0 fill-none stroke-current\"><path stroke-linecap=\"round\" stroke-linejoin=\"round\" stroke-width=\"2\" d=\"M21.6 12a9.6 9.6 0 01-9.6 9.6 9.6 9.6 0 110-19.2c1.507 0 2.932.347 4.2.965M19.8 6l-8.4 8.4L9 12\"></path></svg></div></div><div class=\"relative flex h-full w-full items-center\"><div class=\" flex w-0 flex-1 items-center space-x-2\"><div class=\"text-body max-w-[75%] font-medium text-lc-text-primary dark:text-dark-lc-text-primary\"><div class=\"truncate\">Combination Sum III</div></div><a class=\"absolute right-[15%] top-0 flex h-[52px] cursor-pointer items-center justify-center overflow-hidden px-2 text-text-secondary dark:text-text-secondary hover:text-text-secondary dark:hover:text-text-secondary\" target=\"_blank\" href=\"/problems/combination-sum-iii/editorial/?envType=study-plan-v2&amp;envId=leetcode-75\"><svg xmlns=\"http://www.w3.org/2000/svg\" viewBox=\"0 0 24 24\" width=\"1em\" height=\"1em\" fill=\"currentColor\" class=\"mr-1 inline-block h-4 w-4 shrink-0 fill-none stroke-current text-lc-icon-secondary dark:text-dark-lc-icon-secondary\"><path stroke-linecap=\"round\" stroke-width=\"2\" d=\"M12.001 7.972h2.994m-5.989 0h.021m-.021 4.018h.021m-.021 4.018h.021m2.974-4.018h2.994m-2.994 4.018h2.994M7.098 20.98h9.927a2 2 0 002-2V4.78a2 2 0 00-2-2H7.098a2 2 0 00-2 2v14.2a2 2 0 002 2z\"></path></svg><span class=\"lc-md:flex hidden\">Solution</span></a></div><p class=\"text-[14px] text-lc-yellow-60 dark:text-dark-lc-yellow-60\">Medium</p></div></div></div></div><div class=\"w-full overflow-hidden rounded-lg border-[1.5px] border-lc-fill-02 dark:border-dark-lc-fill-02\"><div class=\"flex h-10 items-center justify-between px-4 font-medium text-lc-text-primary dark:text-dark-lc-text-primary bg-lc-fill-01 dark:bg-dark-lc-fill-01\"><div class=\"text-[12px] font-medium\">DP - 1D</div></div><div class=\"flex flex-col border-b-[1.5px] duration-300 last:border-b-0 border-lc-fill-02 dark:border-dark-lc-fill-02 hover:bg-lc-fill-02 dark:hover:bg-dark-lc-fill-02 cursor-pointer\" id=\"\"><div class=\"flex h-[52px] w-full items-center space-x-3 px-4\"><div><div class=\"flex items-center\" data-state=\"closed\"><svg xmlns=\"http://www.w3.org/2000/svg\" viewBox=\"0 0 24 24\" width=\"1em\" height=\"1em\" fill=\"currentColor\" class=\"h-4.5 w-4.5 text-lc-green-60 dark:text-dark-lc-green-60 inline-block shrink-0 fill-none stroke-current\"><path stroke-linecap=\"round\" stroke-linejoin=\"round\" stroke-width=\"2\" d=\"M21.6 12a9.6 9.6 0 01-9.6 9.6 9.6 9.6 0 110-19.2c1.507 0 2.932.347 4.2.965M19.8 6l-8.4 8.4L9 12\"></path></svg></div></div><div class=\"relative flex h-full w-full items-center\"><div class=\" flex w-0 flex-1 items-center space-x-2\"><div class=\"text-body max-w-[75%] font-medium text-lc-text-primary dark:text-dark-lc-text-primary\"><div class=\"truncate\">N-th Tribonacci Number</div></div><a class=\"absolute right-[15%] top-0 flex h-[52px] cursor-pointer items-center justify-center overflow-hidden px-2 text-text-secondary dark:text-text-secondary hover:text-text-secondary dark:hover:text-text-secondary\" target=\"_blank\" href=\"/problems/n-th-tribonacci-number/editorial/?envType=study-plan-v2&amp;envId=leetcode-75\"><svg xmlns=\"http://www.w3.org/2000/svg\" viewBox=\"0 0 24 24\" width=\"1em\" height=\"1em\" fill=\"currentColor\" class=\"mr-1 inline-block h-4 w-4 shrink-0 fill-none stroke-current text-lc-icon-secondary dark:text-dark-lc-icon-secondary\"><path stroke-linecap=\"round\" stroke-width=\"2\" d=\"M12.001 7.972h2.994m-5.989 0h.021m-.021 4.018h.021m-.021 4.018h.021m2.974-4.018h2.994m-2.994 4.018h2.994M7.098 20.98h9.927a2 2 0 002-2V4.78a2 2 0 00-2-2H7.098a2 2 0 00-2 2v14.2a2 2 0 002 2z\"></path></svg><span class=\"lc-md:flex hidden\">Solution</span></a></div><p class=\"text-[14px] text-lc-green-60 dark:text-dark-lc-green-60\">Easy</p></div></div></div><div class=\"flex flex-col border-b-[1.5px] duration-300 last:border-b-0 border-lc-fill-02 dark:border-dark-lc-fill-02 hover:bg-lc-fill-02 dark:hover:bg-dark-lc-fill-02 cursor-pointer\" id=\"\"><div class=\"flex h-[52px] w-full items-center space-x-3 px-4\"><div><div class=\"flex items-center\" data-state=\"closed\"><svg xmlns=\"http://www.w3.org/2000/svg\" viewBox=\"0 0 24 24\" width=\"1em\" height=\"1em\" fill=\"currentColor\" class=\"h-4.5 w-4.5 text-lc-green-60 dark:text-dark-lc-green-60 inline-block shrink-0 fill-none stroke-current\"><path stroke-linecap=\"round\" stroke-linejoin=\"round\" stroke-width=\"2\" d=\"M21.6 12a9.6 9.6 0 01-9.6 9.6 9.6 9.6 0 110-19.2c1.507 0 2.932.347 4.2.965M19.8 6l-8.4 8.4L9 12\"></path></svg></div></div><div class=\"relative flex h-full w-full items-center\"><div class=\" flex w-0 flex-1 items-center space-x-2\"><div class=\"text-body max-w-[75%] font-medium text-lc-text-primary dark:text-dark-lc-text-primary\"><div class=\"truncate\">Min Cost Climbing Stairs</div></div><a class=\"absolute right-[15%] top-0 flex h-[52px] cursor-pointer items-center justify-center overflow-hidden px-2 text-text-secondary dark:text-text-secondary hover:text-text-secondary dark:hover:text-text-secondary\" target=\"_blank\" href=\"/problems/min-cost-climbing-stairs/editorial/?envType=study-plan-v2&amp;envId=leetcode-75\"><svg xmlns=\"http://www.w3.org/2000/svg\" viewBox=\"0 0 24 24\" width=\"1em\" height=\"1em\" fill=\"currentColor\" class=\"mr-1 inline-block h-4 w-4 shrink-0 fill-none stroke-current text-lc-icon-secondary dark:text-dark-lc-icon-secondary\"><path stroke-linecap=\"round\" stroke-width=\"2\" d=\"M12.001 7.972h2.994m-5.989 0h.021m-.021 4.018h.021m-.021 4.018h.021m2.974-4.018h2.994m-2.994 4.018h2.994M7.098 20.98h9.927a2 2 0 002-2V4.78a2 2 0 00-2-2H7.098a2 2 0 00-2 2v14.2a2 2 0 002 2z\"></path></svg><span class=\"lc-md:flex hidden\">Solution</span></a></div><p class=\"text-[14px] text-lc-green-60 dark:text-dark-lc-green-60\">Easy</p></div></div></div><div class=\"flex flex-col border-b-[1.5px] duration-300 last:border-b-0 border-lc-fill-02 dark:border-dark-lc-fill-02 hover:bg-lc-fill-02 dark:hover:bg-dark-lc-fill-02 cursor-pointer\" id=\"\"><div class=\"flex h-[52px] w-full items-center space-x-3 px-4\"><div><div class=\"flex items-center\" data-state=\"closed\"><svg xmlns=\"http://www.w3.org/2000/svg\" viewBox=\"0 0 24 24\" width=\"1em\" height=\"1em\" fill=\"currentColor\" class=\"h-4.5 w-4.5 text-lc-green-60 dark:text-dark-lc-green-60 inline-block shrink-0 fill-none stroke-current\"><path stroke-linecap=\"round\" stroke-linejoin=\"round\" stroke-width=\"2\" d=\"M21.6 12a9.6 9.6 0 01-9.6 9.6 9.6 9.6 0 110-19.2c1.507 0 2.932.347 4.2.965M19.8 6l-8.4 8.4L9 12\"></path></svg></div></div><div class=\"relative flex h-full w-full items-center\"><div class=\" flex w-0 flex-1 items-center space-x-2\"><div class=\"text-body max-w-[75%] font-medium text-lc-text-primary dark:text-dark-lc-text-primary\"><div class=\"truncate\">House Robber</div></div><a class=\"absolute right-[15%] top-0 flex h-[52px] cursor-pointer items-center justify-center overflow-hidden px-2 text-text-secondary dark:text-text-secondary hover:text-text-secondary dark:hover:text-text-secondary\" target=\"_blank\" href=\"/problems/house-robber/editorial/?envType=study-plan-v2&amp;envId=leetcode-75\"><svg xmlns=\"http://www.w3.org/2000/svg\" viewBox=\"0 0 24 24\" width=\"1em\" height=\"1em\" fill=\"currentColor\" class=\"mr-1 inline-block h-4 w-4 shrink-0 fill-none stroke-current text-lc-icon-secondary dark:text-dark-lc-icon-secondary\"><path stroke-linecap=\"round\" stroke-width=\"2\" d=\"M12.001 7.972h2.994m-5.989 0h.021m-.021 4.018h.021m-.021 4.018h.021m2.974-4.018h2.994m-2.994 4.018h2.994M7.098 20.98h9.927a2 2 0 002-2V4.78a2 2 0 00-2-2H7.098a2 2 0 00-2 2v14.2a2 2 0 002 2z\"></path></svg><span class=\"lc-md:flex hidden\">Solution</span></a></div><p class=\"text-[14px] text-lc-yellow-60 dark:text-dark-lc-yellow-60\">Medium</p></div></div></div><div class=\"flex flex-col border-b-[1.5px] duration-300 last:border-b-0 border-lc-fill-02 dark:border-dark-lc-fill-02 hover:bg-lc-fill-02 dark:hover:bg-dark-lc-fill-02 cursor-pointer\" id=\"\"><div class=\"flex h-[52px] w-full items-center space-x-3 px-4\"><div><div class=\"flex items-center\" data-state=\"closed\"><svg xmlns=\"http://www.w3.org/2000/svg\" viewBox=\"0 0 24 24\" width=\"1em\" height=\"1em\" fill=\"currentColor\" class=\"w-4.5 h-4.5 inline-block shrink-0 text-lc-icon-tertiary dark:text-dark-lc-icon-tertiary\"><path fill-rule=\"evenodd\" d=\"M12 22C6.477 22 2 17.523 2 12S6.477 2 12 2s10 4.477 10 10-4.477 10-10 10zm0-2a8 8 0 100-16 8 8 0 000 16z\" clip-rule=\"evenodd\"></path></svg></div></div><div class=\"relative flex h-full w-full items-center\"><div class=\" flex w-0 flex-1 items-center space-x-2\"><div class=\"text-body max-w-[75%] font-medium text-lc-text-primary dark:text-dark-lc-text-primary\"><div class=\"truncate\">Domino and Tromino Tiling</div></div><a class=\"absolute right-[15%] top-0 flex h-[52px] cursor-pointer items-center justify-center overflow-hidden px-2 text-text-secondary dark:text-text-secondary hover:text-text-secondary dark:hover:text-text-secondary\" target=\"_blank\" href=\"/problems/domino-and-tromino-tiling/editorial/?envType=study-plan-v2&amp;envId=leetcode-75\"><svg xmlns=\"http://www.w3.org/2000/svg\" viewBox=\"0 0 24 24\" width=\"1em\" height=\"1em\" fill=\"currentColor\" class=\"mr-1 inline-block h-4 w-4 shrink-0 fill-none stroke-current text-lc-icon-secondary dark:text-dark-lc-icon-secondary\"><path stroke-linecap=\"round\" stroke-width=\"2\" d=\"M12.001 7.972h2.994m-5.989 0h.021m-.021 4.018h.021m-.021 4.018h.021m2.974-4.018h2.994m-2.994 4.018h2.994M7.098 20.98h9.927a2 2 0 002-2V4.78a2 2 0 00-2-2H7.098a2 2 0 00-2 2v14.2a2 2 0 002 2z\"></path></svg><span class=\"lc-md:flex hidden\">Solution</span></a></div><p class=\"text-[14px] text-lc-yellow-60 dark:text-dark-lc-yellow-60\">Medium</p></div></div></div></div><div class=\"w-full overflow-hidden rounded-lg border-[1.5px] border-lc-fill-02 dark:border-dark-lc-fill-02\"><div class=\"flex h-10 items-center justify-between px-4 font-medium text-lc-text-primary dark:text-dark-lc-text-primary bg-lc-fill-01 dark:bg-dark-lc-fill-01\"><div class=\"text-[12px] font-medium\">DP - Multidimensional</div></div><div class=\"flex flex-col border-b-[1.5px] duration-300 last:border-b-0 border-lc-fill-02 dark:border-dark-lc-fill-02 hover:bg-lc-fill-02 dark:hover:bg-dark-lc-fill-02 cursor-pointer\" id=\"\"><div class=\"flex h-[52px] w-full items-center space-x-3 px-4\"><div><div class=\"flex items-center\" data-state=\"closed\"><svg xmlns=\"http://www.w3.org/2000/svg\" viewBox=\"0 0 24 24\" width=\"1em\" height=\"1em\" fill=\"currentColor\" class=\"w-4.5 h-4.5 inline-block shrink-0 text-lc-icon-tertiary dark:text-dark-lc-icon-tertiary\"><path fill-rule=\"evenodd\" d=\"M12 22C6.477 22 2 17.523 2 12S6.477 2 12 2s10 4.477 10 10-4.477 10-10 10zm0-2a8 8 0 100-16 8 8 0 000 16z\" clip-rule=\"evenodd\"></path></svg></div></div><div class=\"relative flex h-full w-full items-center\"><div class=\" flex w-0 flex-1 items-center space-x-2\"><div class=\"text-body max-w-[75%] font-medium text-lc-text-primary dark:text-dark-lc-text-primary\"><div class=\"truncate\">Unique Paths</div></div><a class=\"absolute right-[15%] top-0 flex h-[52px] cursor-pointer items-center justify-center overflow-hidden px-2 text-text-secondary dark:text-text-secondary hover:text-text-secondary dark:hover:text-text-secondary\" target=\"_blank\" href=\"/problems/unique-paths/editorial/?envType=study-plan-v2&amp;envId=leetcode-75\"><svg xmlns=\"http://www.w3.org/2000/svg\" viewBox=\"0 0 24 24\" width=\"1em\" height=\"1em\" fill=\"currentColor\" class=\"mr-1 inline-block h-4 w-4 shrink-0 fill-none stroke-current text-lc-icon-secondary dark:text-dark-lc-icon-secondary\"><path stroke-linecap=\"round\" stroke-width=\"2\" d=\"M12.001 7.972h2.994m-5.989 0h.021m-.021 4.018h.021m-.021 4.018h.021m2.974-4.018h2.994m-2.994 4.018h2.994M7.098 20.98h9.927a2 2 0 002-2V4.78a2 2 0 00-2-2H7.098a2 2 0 00-2 2v14.2a2 2 0 002 2z\"></path></svg><span class=\"lc-md:flex hidden\">Solution</span></a></div><p class=\"text-[14px] text-lc-yellow-60 dark:text-dark-lc-yellow-60\">Medium</p></div></div></div><div class=\"flex flex-col border-b-[1.5px] duration-300 last:border-b-0 border-lc-fill-02 dark:border-dark-lc-fill-02 hover:bg-lc-fill-02 dark:hover:bg-dark-lc-fill-02 cursor-pointer\" id=\"\"><div class=\"flex h-[52px] w-full items-center space-x-3 px-4\"><div><div class=\"flex items-center\" data-state=\"closed\"></div><div><div class=\"!ml-0 cursor-pointer text-[0px]\" type=\"button\" aria-haspopup=\"dialog\" aria-expanded=\"false\" aria-controls=\"radix-:r2h:\" data-state=\"closed\"><svg xmlns=\"http://www.w3.org/2000/svg\" viewBox=\"0 0 24 24\" width=\"1em\" height=\"1em\" fill=\"currentColor\" class=\"h-4.5 w-4.5 inline-block shrink-0 fill-none stroke-current text-lc-icon-secondary dark:text-dark-lc-icon-secondary hover:text-lc-icon-primary dark:hover:text-dark-lc-icon-primary\"><path stroke-linecap=\"round\" stroke-linejoin=\"round\" stroke-width=\"2\" d=\"M21.6 12a9.6 9.6 0 01-9.6 9.6 9.6 9.6 0 110-19.2c1.507 0 2.932.347 4.2.965M19.8 6l-8.4 8.4L9 12\"></path></svg></div></div></div><div class=\"relative flex h-full w-full items-center\"><div class=\" flex w-0 flex-1 items-center space-x-2\"><div class=\"text-body max-w-[75%] font-medium text-lc-text-primary dark:text-dark-lc-text-primary\"><div class=\"truncate\">Longest Common Subsequence</div></div><a class=\"absolute right-[15%] top-0 flex h-[52px] cursor-pointer items-center justify-center overflow-hidden px-2 text-text-secondary dark:text-text-secondary hover:text-text-secondary dark:hover:text-text-secondary\" target=\"_blank\" href=\"/problems/longest-common-subsequence/editorial/?envType=study-plan-v2&amp;envId=leetcode-75\"><svg xmlns=\"http://www.w3.org/2000/svg\" viewBox=\"0 0 24 24\" width=\"1em\" height=\"1em\" fill=\"currentColor\" class=\"mr-1 inline-block h-4 w-4 shrink-0 fill-none stroke-current text-lc-icon-secondary dark:text-dark-lc-icon-secondary\"><path stroke-linecap=\"round\" stroke-width=\"2\" d=\"M12.001 7.972h2.994m-5.989 0h.021m-.021 4.018h.021m-.021 4.018h.021m2.974-4.018h2.994m-2.994 4.018h2.994M7.098 20.98h9.927a2 2 0 002-2V4.78a2 2 0 00-2-2H7.098a2 2 0 00-2 2v14.2a2 2 0 002 2z\"></path></svg><span class=\"lc-md:flex hidden\">Solution</span></a></div><p class=\"text-[14px] text-lc-yellow-60 dark:text-dark-lc-yellow-60\">Medium</p></div></div></div><div class=\"flex flex-col border-b-[1.5px] duration-300 last:border-b-0 border-lc-fill-02 dark:border-dark-lc-fill-02 hover:bg-lc-fill-02 dark:hover:bg-dark-lc-fill-02 cursor-pointer\" id=\"\"><div class=\"flex h-[52px] w-full items-center space-x-3 px-4\"><div><div class=\"flex items-center\" data-state=\"closed\"><svg xmlns=\"http://www.w3.org/2000/svg\" viewBox=\"0 0 24 24\" width=\"1em\" height=\"1em\" fill=\"currentColor\" class=\"w-4.5 h-4.5 inline-block shrink-0 text-lc-icon-tertiary dark:text-dark-lc-icon-tertiary\"><path fill-rule=\"evenodd\" d=\"M12 22C6.477 22 2 17.523 2 12S6.477 2 12 2s10 4.477 10 10-4.477 10-10 10zm0-2a8 8 0 100-16 8 8 0 000 16z\" clip-rule=\"evenodd\"></path></svg></div></div><div class=\"relative flex h-full w-full items-center\"><div class=\" flex w-0 flex-1 items-center space-x-2\"><div class=\"text-body max-w-[75%] font-medium text-lc-text-primary dark:text-dark-lc-text-primary\"><div class=\"truncate\">Best Time to Buy and Sell Stock with Transaction Fee</div></div><a class=\"absolute right-[15%] top-0 flex h-[52px] cursor-pointer items-center justify-center overflow-hidden px-2 text-text-secondary dark:text-text-secondary hover:text-text-secondary dark:hover:text-text-secondary\" target=\"_blank\" href=\"/problems/best-time-to-buy-and-sell-stock-with-transaction-fee/editorial/?envType=study-plan-v2&amp;envId=leetcode-75\"><svg xmlns=\"http://www.w3.org/2000/svg\" viewBox=\"0 0 24 24\" width=\"1em\" height=\"1em\" fill=\"currentColor\" class=\"mr-1 inline-block h-4 w-4 shrink-0 fill-none stroke-current text-lc-icon-secondary dark:text-dark-lc-icon-secondary\"><path stroke-linecap=\"round\" stroke-width=\"2\" d=\"M12.001 7.972h2.994m-5.989 0h.021m-.021 4.018h.021m-.021 4.018h.021m2.974-4.018h2.994m-2.994 4.018h2.994M7.098 20.98h9.927a2 2 0 002-2V4.78a2 2 0 00-2-2H7.098a2 2 0 00-2 2v14.2a2 2 0 002 2z\"></path></svg><span class=\"lc-md:flex hidden\">Solution</span></a></div><p class=\"text-[14px] text-lc-yellow-60 dark:text-dark-lc-yellow-60\">Medium</p></div></div></div><div class=\"flex flex-col border-b-[1.5px] duration-300 last:border-b-0 border-lc-fill-02 dark:border-dark-lc-fill-02 hover:bg-lc-fill-02 dark:hover:bg-dark-lc-fill-02 cursor-pointer\" id=\"\"><div class=\"flex h-[52px] w-full items-center space-x-3 px-4\"><div><div class=\"flex items-center\" data-state=\"closed\"></div><div><div class=\"!ml-0 cursor-pointer text-[0px]\" type=\"button\" aria-haspopup=\"dialog\" aria-expanded=\"false\" aria-controls=\"radix-:r2k:\" data-state=\"closed\"><svg xmlns=\"http://www.w3.org/2000/svg\" viewBox=\"0 0 24 24\" width=\"1em\" height=\"1em\" fill=\"currentColor\" class=\"h-4.5 w-4.5 inline-block shrink-0 fill-none stroke-current text-lc-icon-secondary dark:text-dark-lc-icon-secondary hover:text-lc-icon-primary dark:hover:text-dark-lc-icon-primary\"><path stroke-linecap=\"round\" stroke-linejoin=\"round\" stroke-width=\"2\" d=\"M21.6 12a9.6 9.6 0 01-9.6 9.6 9.6 9.6 0 110-19.2c1.507 0 2.932.347 4.2.965M19.8 6l-8.4 8.4L9 12\"></path></svg></div></div></div><div class=\"relative flex h-full w-full items-center\"><div class=\" flex w-0 flex-1 items-center space-x-2\"><div class=\"text-body max-w-[75%] font-medium text-lc-text-primary dark:text-dark-lc-text-primary\"><div class=\"truncate\">Edit Distance</div></div><a class=\"absolute right-[15%] top-0 flex h-[52px] cursor-pointer items-center justify-center overflow-hidden px-2 text-text-secondary dark:text-text-secondary hover:text-text-secondary dark:hover:text-text-secondary\" target=\"_blank\" href=\"/problems/edit-distance/editorial/?envType=study-plan-v2&amp;envId=leetcode-75\"><svg xmlns=\"http://www.w3.org/2000/svg\" viewBox=\"0 0 24 24\" width=\"1em\" height=\"1em\" fill=\"currentColor\" class=\"mr-1 inline-block h-4 w-4 shrink-0 fill-none stroke-current text-lc-icon-secondary dark:text-dark-lc-icon-secondary\"><path stroke-linecap=\"round\" stroke-width=\"2\" d=\"M12.001 7.972h2.994m-5.989 0h.021m-.021 4.018h.021m-.021 4.018h.021m2.974-4.018h2.994m-2.994 4.018h2.994M7.098 20.98h9.927a2 2 0 002-2V4.78a2 2 0 00-2-2H7.098a2 2 0 00-2 2v14.2a2 2 0 002 2z\"></path></svg><span class=\"lc-md:flex hidden\">Solution</span></a></div><p class=\"text-[14px] text-lc-yellow-60 dark:text-dark-lc-yellow-60\">Medium</p></div></div></div></div><div class=\"w-full overflow-hidden rounded-lg border-[1.5px] border-lc-fill-02 dark:border-dark-lc-fill-02\"><div class=\"flex h-10 items-center justify-between px-4 font-medium text-lc-text-primary dark:text-dark-lc-text-primary bg-lc-fill-01 dark:bg-dark-lc-fill-01\"><div class=\"text-[12px] font-medium\">Bit Manipulation</div></div><div class=\"flex flex-col border-b-[1.5px] duration-300 last:border-b-0 border-lc-fill-02 dark:border-dark-lc-fill-02 hover:bg-lc-fill-02 dark:hover:bg-dark-lc-fill-02 cursor-pointer\" id=\"\"><div class=\"flex h-[52px] w-full items-center space-x-3 px-4\"><div><div class=\"flex items-center\" data-state=\"closed\"></div><div><div class=\"!ml-0 cursor-pointer text-[0px]\" type=\"button\" aria-haspopup=\"dialog\" aria-expanded=\"false\" aria-controls=\"radix-:r2m:\" data-state=\"closed\"><svg xmlns=\"http://www.w3.org/2000/svg\" viewBox=\"0 0 24 24\" width=\"1em\" height=\"1em\" fill=\"currentColor\" class=\"h-4.5 w-4.5 inline-block shrink-0 fill-none stroke-current text-lc-icon-secondary dark:text-dark-lc-icon-secondary hover:text-lc-icon-primary dark:hover:text-dark-lc-icon-primary\"><path stroke-linecap=\"round\" stroke-linejoin=\"round\" stroke-width=\"2\" d=\"M21.6 12a9.6 9.6 0 01-9.6 9.6 9.6 9.6 0 110-19.2c1.507 0 2.932.347 4.2.965M19.8 6l-8.4 8.4L9 12\"></path></svg></div></div></div><div class=\"relative flex h-full w-full items-center\"><div class=\" flex w-0 flex-1 items-center space-x-2\"><div class=\"text-body max-w-[75%] font-medium text-lc-text-primary dark:text-dark-lc-text-primary\"><div class=\"truncate\">Counting Bits</div></div><a class=\"absolute right-[15%] top-0 flex h-[52px] cursor-pointer items-center justify-center overflow-hidden px-2 text-text-secondary dark:text-text-secondary hover:text-text-secondary dark:hover:text-text-secondary\" target=\"_blank\" href=\"/problems/counting-bits/editorial/?envType=study-plan-v2&amp;envId=leetcode-75\"><svg xmlns=\"http://www.w3.org/2000/svg\" viewBox=\"0 0 24 24\" width=\"1em\" height=\"1em\" fill=\"currentColor\" class=\"mr-1 inline-block h-4 w-4 shrink-0 fill-none stroke-current text-lc-icon-secondary dark:text-dark-lc-icon-secondary\"><path stroke-linecap=\"round\" stroke-width=\"2\" d=\"M12.001 7.972h2.994m-5.989 0h.021m-.021 4.018h.021m-.021 4.018h.021m2.974-4.018h2.994m-2.994 4.018h2.994M7.098 20.98h9.927a2 2 0 002-2V4.78a2 2 0 00-2-2H7.098a2 2 0 00-2 2v14.2a2 2 0 002 2z\"></path></svg><span class=\"lc-md:flex hidden\">Solution</span></a></div><p class=\"text-[14px] text-lc-green-60 dark:text-dark-lc-green-60\">Easy</p></div></div></div><div class=\"flex flex-col border-b-[1.5px] duration-300 last:border-b-0 border-lc-fill-02 dark:border-dark-lc-fill-02 hover:bg-lc-fill-02 dark:hover:bg-dark-lc-fill-02 cursor-pointer\" id=\"\"><div class=\"flex h-[52px] w-full items-center space-x-3 px-4\"><div><div class=\"flex items-center\" data-state=\"closed\"><svg xmlns=\"http://www.w3.org/2000/svg\" viewBox=\"0 0 24 24\" width=\"1em\" height=\"1em\" fill=\"currentColor\" class=\"w-4.5 h-4.5 inline-block shrink-0 text-lc-icon-tertiary dark:text-dark-lc-icon-tertiary\"><path fill-rule=\"evenodd\" d=\"M12 22C6.477 22 2 17.523 2 12S6.477 2 12 2s10 4.477 10 10-4.477 10-10 10zm0-2a8 8 0 100-16 8 8 0 000 16z\" clip-rule=\"evenodd\"></path></svg></div></div><div class=\"relative flex h-full w-full items-center\"><div class=\" flex w-0 flex-1 items-center space-x-2\"><div class=\"text-body max-w-[75%] font-medium text-lc-text-primary dark:text-dark-lc-text-primary\"><div class=\"truncate\">Single Number</div></div><a class=\"absolute right-[15%] top-0 flex h-[52px] cursor-pointer items-center justify-center overflow-hidden px-2 text-text-secondary dark:text-text-secondary hover:text-text-secondary dark:hover:text-text-secondary\" target=\"_blank\" href=\"/problems/single-number/editorial/?envType=study-plan-v2&amp;envId=leetcode-75\"><svg xmlns=\"http://www.w3.org/2000/svg\" viewBox=\"0 0 24 24\" width=\"1em\" height=\"1em\" fill=\"currentColor\" class=\"mr-1 inline-block h-4 w-4 shrink-0 fill-none stroke-current text-lc-icon-secondary dark:text-dark-lc-icon-secondary\"><path stroke-linecap=\"round\" stroke-width=\"2\" d=\"M12.001 7.972h2.994m-5.989 0h.021m-.021 4.018h.021m-.021 4.018h.021m2.974-4.018h2.994m-2.994 4.018h2.994M7.098 20.98h9.927a2 2 0 002-2V4.78a2 2 0 00-2-2H7.098a2 2 0 00-2 2v14.2a2 2 0 002 2z\"></path></svg><span class=\"lc-md:flex hidden\">Solution</span></a></div><p class=\"text-[14px] text-lc-green-60 dark:text-dark-lc-green-60\">Easy</p></div></div></div><div class=\"flex flex-col border-b-[1.5px] duration-300 last:border-b-0 border-lc-fill-02 dark:border-dark-lc-fill-02 hover:bg-lc-fill-02 dark:hover:bg-dark-lc-fill-02 cursor-pointer\" id=\"\"><div class=\"flex h-[52px] w-full items-center space-x-3 px-4\"><div><div class=\"flex items-center\" data-state=\"closed\"><svg xmlns=\"http://www.w3.org/2000/svg\" viewBox=\"0 0 24 24\" width=\"1em\" height=\"1em\" fill=\"currentColor\" class=\"w-4.5 h-4.5 inline-block shrink-0 text-lc-icon-tertiary dark:text-dark-lc-icon-tertiary\"><path fill-rule=\"evenodd\" d=\"M12 22C6.477 22 2 17.523 2 12S6.477 2 12 2s10 4.477 10 10-4.477 10-10 10zm0-2a8 8 0 100-16 8 8 0 000 16z\" clip-rule=\"evenodd\"></path></svg></div></div><div class=\"relative flex h-full w-full items-center\"><div class=\" flex w-0 flex-1 items-center space-x-2\"><div class=\"text-body max-w-[75%] font-medium text-lc-text-primary dark:text-dark-lc-text-primary\"><div class=\"truncate\">Minimum Flips to Make a OR b Equal to c</div></div><a class=\"absolute right-[15%] top-0 flex h-[52px] cursor-pointer items-center justify-center overflow-hidden px-2 text-text-secondary dark:text-text-secondary hover:text-text-secondary dark:hover:text-text-secondary\" target=\"_blank\" href=\"/problems/minimum-flips-to-make-a-or-b-equal-to-c/editorial/?envType=study-plan-v2&amp;envId=leetcode-75\"><svg xmlns=\"http://www.w3.org/2000/svg\" viewBox=\"0 0 24 24\" width=\"1em\" height=\"1em\" fill=\"currentColor\" class=\"mr-1 inline-block h-4 w-4 shrink-0 fill-none stroke-current text-lc-icon-secondary dark:text-dark-lc-icon-secondary\"><path stroke-linecap=\"round\" stroke-width=\"2\" d=\"M12.001 7.972h2.994m-5.989 0h.021m-.021 4.018h.021m-.021 4.018h.021m2.974-4.018h2.994m-2.994 4.018h2.994M7.098 20.98h9.927a2 2 0 002-2V4.78a2 2 0 00-2-2H7.098a2 2 0 00-2 2v14.2a2 2 0 002 2z\"></path></svg><span class=\"lc-md:flex hidden\">Solution</span></a></div><p class=\"text-[14px] text-lc-yellow-60 dark:text-dark-lc-yellow-60\">Medium</p></div></div></div></div><div class=\"w-full overflow-hidden rounded-lg border-[1.5px] border-lc-fill-02 dark:border-dark-lc-fill-02\"><div class=\"flex h-10 items-center justify-between px-4 font-medium text-lc-text-primary dark:text-dark-lc-text-primary bg-lc-fill-01 dark:bg-dark-lc-fill-01\"><div class=\"text-[12px] font-medium\">Trie</div></div><div class=\"flex flex-col border-b-[1.5px] duration-300 last:border-b-0 border-lc-fill-02 dark:border-dark-lc-fill-02 hover:bg-lc-fill-02 dark:hover:bg-dark-lc-fill-02 cursor-pointer\" id=\"\"><div class=\"flex h-[52px] w-full items-center space-x-3 px-4\"><div><div class=\"flex items-center\" data-state=\"closed\"></div><div><div class=\"!ml-0 cursor-pointer text-[0px]\" type=\"button\" aria-haspopup=\"dialog\" aria-expanded=\"false\" aria-controls=\"radix-:r2q:\" data-state=\"closed\"><svg xmlns=\"http://www.w3.org/2000/svg\" viewBox=\"0 0 24 24\" width=\"1em\" height=\"1em\" fill=\"currentColor\" class=\"h-4.5 w-4.5 inline-block shrink-0 fill-none stroke-current text-lc-icon-secondary dark:text-dark-lc-icon-secondary hover:text-lc-icon-primary dark:hover:text-dark-lc-icon-primary\"><path stroke-linecap=\"round\" stroke-linejoin=\"round\" stroke-width=\"2\" d=\"M21.6 12a9.6 9.6 0 01-9.6 9.6 9.6 9.6 0 110-19.2c1.507 0 2.932.347 4.2.965M19.8 6l-8.4 8.4L9 12\"></path></svg></div></div></div><div class=\"relative flex h-full w-full items-center\"><div class=\" flex w-0 flex-1 items-center space-x-2\"><div class=\"text-body max-w-[75%] font-medium text-lc-text-primary dark:text-dark-lc-text-primary\"><div class=\"truncate\">Implement Trie (Prefix Tree)</div></div><a class=\"absolute right-[15%] top-0 flex h-[52px] cursor-pointer items-center justify-center overflow-hidden px-2 text-text-secondary dark:text-text-secondary hover:text-text-secondary dark:hover:text-text-secondary\" target=\"_blank\" href=\"/problems/implement-trie-prefix-tree/editorial/?envType=study-plan-v2&amp;envId=leetcode-75\"><svg xmlns=\"http://www.w3.org/2000/svg\" viewBox=\"0 0 24 24\" width=\"1em\" height=\"1em\" fill=\"currentColor\" class=\"mr-1 inline-block h-4 w-4 shrink-0 fill-none stroke-current text-lc-icon-secondary dark:text-dark-lc-icon-secondary\"><path stroke-linecap=\"round\" stroke-width=\"2\" d=\"M12.001 7.972h2.994m-5.989 0h.021m-.021 4.018h.021m-.021 4.018h.021m2.974-4.018h2.994m-2.994 4.018h2.994M7.098 20.98h9.927a2 2 0 002-2V4.78a2 2 0 00-2-2H7.098a2 2 0 00-2 2v14.2a2 2 0 002 2z\"></path></svg><span class=\"lc-md:flex hidden\">Solution</span></a></div><p class=\"text-[14px] text-lc-yellow-60 dark:text-dark-lc-yellow-60\">Medium</p></div></div></div><div class=\"flex flex-col border-b-[1.5px] duration-300 last:border-b-0 border-lc-fill-02 dark:border-dark-lc-fill-02 hover:bg-lc-fill-02 dark:hover:bg-dark-lc-fill-02 cursor-pointer\" id=\"\"><div class=\"flex h-[52px] w-full items-center space-x-3 px-4\"><div><div class=\"flex items-center\" data-state=\"closed\"><svg xmlns=\"http://www.w3.org/2000/svg\" viewBox=\"0 0 24 24\" width=\"1em\" height=\"1em\" fill=\"currentColor\" class=\"w-4.5 h-4.5 inline-block shrink-0 text-lc-icon-tertiary dark:text-dark-lc-icon-tertiary\"><path fill-rule=\"evenodd\" d=\"M12 22C6.477 22 2 17.523 2 12S6.477 2 12 2s10 4.477 10 10-4.477 10-10 10zm0-2a8 8 0 100-16 8 8 0 000 16z\" clip-rule=\"evenodd\"></path></svg></div></div><div class=\"relative flex h-full w-full items-center\"><div class=\" flex w-0 flex-1 items-center space-x-2\"><div class=\"text-body max-w-[75%] font-medium text-lc-text-primary dark:text-dark-lc-text-primary\"><div class=\"truncate\">Search Suggestions System</div></div><a class=\"absolute right-[15%] top-0 flex h-[52px] cursor-pointer items-center justify-center overflow-hidden px-2 text-text-secondary dark:text-text-secondary hover:text-text-secondary dark:hover:text-text-secondary\" target=\"_blank\" href=\"/problems/search-suggestions-system/editorial/?envType=study-plan-v2&amp;envId=leetcode-75\"><svg xmlns=\"http://www.w3.org/2000/svg\" viewBox=\"0 0 24 24\" width=\"1em\" height=\"1em\" fill=\"currentColor\" class=\"mr-1 inline-block h-4 w-4 shrink-0 fill-none stroke-current text-lc-icon-secondary dark:text-dark-lc-icon-secondary\"><path stroke-linecap=\"round\" stroke-width=\"2\" d=\"M12.001 7.972h2.994m-5.989 0h.021m-.021 4.018h.021m-.021 4.018h.021m2.974-4.018h2.994m-2.994 4.018h2.994M7.098 20.98h9.927a2 2 0 002-2V4.78a2 2 0 00-2-2H7.098a2 2 0 00-2 2v14.2a2 2 0 002 2z\"></path></svg><span class=\"lc-md:flex hidden\">Solution</span></a></div><p class=\"text-[14px] text-lc-yellow-60 dark:text-dark-lc-yellow-60\">Medium</p></div></div></div></div><div class=\"w-full overflow-hidden rounded-lg border-[1.5px] border-lc-fill-02 dark:border-dark-lc-fill-02\"><div class=\"flex h-10 items-center justify-between px-4 font-medium text-lc-text-primary dark:text-dark-lc-text-primary bg-lc-fill-01 dark:bg-dark-lc-fill-01\"><div class=\"text-[12px] font-medium\">Intervals</div></div><div class=\"flex flex-col border-b-[1.5px] duration-300 last:border-b-0 border-lc-fill-02 dark:border-dark-lc-fill-02 hover:bg-lc-fill-02 dark:hover:bg-dark-lc-fill-02 cursor-pointer\" id=\"\"><div class=\"flex h-[52px] w-full items-center space-x-3 px-4\"><div><div class=\"flex items-center\" data-state=\"closed\"></div><div><div class=\"!ml-0 cursor-pointer text-[0px]\" type=\"button\" aria-haspopup=\"dialog\" aria-expanded=\"false\" aria-controls=\"radix-:r2t:\" data-state=\"closed\"><svg xmlns=\"http://www.w3.org/2000/svg\" viewBox=\"0 0 24 24\" width=\"1em\" height=\"1em\" fill=\"currentColor\" class=\"h-4.5 w-4.5 inline-block shrink-0 fill-none stroke-current text-lc-icon-secondary dark:text-dark-lc-icon-secondary hover:text-lc-icon-primary dark:hover:text-dark-lc-icon-primary\"><path stroke-linecap=\"round\" stroke-linejoin=\"round\" stroke-width=\"2\" d=\"M21.6 12a9.6 9.6 0 01-9.6 9.6 9.6 9.6 0 110-19.2c1.507 0 2.932.347 4.2.965M19.8 6l-8.4 8.4L9 12\"></path></svg></div></div></div><div class=\"relative flex h-full w-full items-center\"><div class=\" flex w-0 flex-1 items-center space-x-2\"><div class=\"text-body max-w-[75%] font-medium text-lc-text-primary dark:text-dark-lc-text-primary\"><div class=\"truncate\">Non-overlapping Intervals</div></div><a class=\"absolute right-[15%] top-0 flex h-[52px] cursor-pointer items-center justify-center overflow-hidden px-2 text-text-secondary dark:text-text-secondary hover:text-text-secondary dark:hover:text-text-secondary\" target=\"_blank\" href=\"/problems/non-overlapping-intervals/editorial/?envType=study-plan-v2&amp;envId=leetcode-75\"><svg xmlns=\"http://www.w3.org/2000/svg\" viewBox=\"0 0 24 24\" width=\"1em\" height=\"1em\" fill=\"currentColor\" class=\"mr-1 inline-block h-4 w-4 shrink-0 fill-none stroke-current text-lc-icon-secondary dark:text-dark-lc-icon-secondary\"><path stroke-linecap=\"round\" stroke-width=\"2\" d=\"M12.001 7.972h2.994m-5.989 0h.021m-.021 4.018h.021m-.021 4.018h.021m2.974-4.018h2.994m-2.994 4.018h2.994M7.098 20.98h9.927a2 2 0 002-2V4.78a2 2 0 00-2-2H7.098a2 2 0 00-2 2v14.2a2 2 0 002 2z\"></path></svg><span class=\"lc-md:flex hidden\">Solution</span></a></div><p class=\"text-[14px] text-lc-yellow-60 dark:text-dark-lc-yellow-60\">Medium</p></div></div></div><div class=\"flex flex-col border-b-[1.5px] duration-300 last:border-b-0 border-lc-fill-02 dark:border-dark-lc-fill-02 hover:bg-lc-fill-02 dark:hover:bg-dark-lc-fill-02 cursor-pointer\" id=\"\"><div class=\"flex h-[52px] w-full items-center space-x-3 px-4\"><div><div class=\"flex items-center\" data-state=\"closed\"><svg xmlns=\"http://www.w3.org/2000/svg\" viewBox=\"0 0 24 24\" width=\"1em\" height=\"1em\" fill=\"currentColor\" class=\"w-4.5 h-4.5 inline-block shrink-0 text-lc-icon-tertiary dark:text-dark-lc-icon-tertiary\"><path fill-rule=\"evenodd\" d=\"M12 22C6.477 22 2 17.523 2 12S6.477 2 12 2s10 4.477 10 10-4.477 10-10 10zm0-2a8 8 0 100-16 8 8 0 000 16z\" clip-rule=\"evenodd\"></path></svg></div></div><div class=\"relative flex h-full w-full items-center\"><div class=\" flex w-0 flex-1 items-center space-x-2\"><div class=\"text-body max-w-[75%] font-medium text-lc-text-primary dark:text-dark-lc-text-primary\"><div class=\"truncate\">Minimum Number of Arrows to Burst Balloons</div></div><a class=\"absolute right-[15%] top-0 flex h-[52px] cursor-pointer items-center justify-center overflow-hidden px-2 text-text-secondary dark:text-text-secondary hover:text-text-secondary dark:hover:text-text-secondary\" target=\"_blank\" href=\"/problems/minimum-number-of-arrows-to-burst-balloons/editorial/?envType=study-plan-v2&amp;envId=leetcode-75\"><svg xmlns=\"http://www.w3.org/2000/svg\" viewBox=\"0 0 24 24\" width=\"1em\" height=\"1em\" fill=\"currentColor\" class=\"mr-1 inline-block h-4 w-4 shrink-0 fill-none stroke-current text-lc-icon-secondary dark:text-dark-lc-icon-secondary\"><path stroke-linecap=\"round\" stroke-width=\"2\" d=\"M12.001 7.972h2.994m-5.989 0h.021m-.021 4.018h.021m-.021 4.018h.021m2.974-4.018h2.994m-2.994 4.018h2.994M7.098 20.98h9.927a2 2 0 002-2V4.78a2 2 0 00-2-2H7.098a2 2 0 00-2 2v14.2a2 2 0 002 2z\"></path></svg><span class=\"lc-md:flex hidden\">Solution</span></a></div><p class=\"text-[14px] text-lc-yellow-60 dark:text-dark-lc-yellow-60\">Medium</p></div></div></div></div><div class=\"w-full overflow-hidden rounded-lg border-[1.5px] border-lc-fill-02 dark:border-dark-lc-fill-02\"><div class=\"flex h-10 items-center justify-between px-4 font-medium text-lc-text-primary dark:text-dark-lc-text-primary bg-lc-fill-01 dark:bg-dark-lc-fill-01\"><div class=\"text-[12px] font-medium\">Monotonic Stack</div></div><div class=\"flex flex-col border-b-[1.5px] duration-300 last:border-b-0 border-lc-fill-02 dark:border-dark-lc-fill-02 hover:bg-lc-fill-02 dark:hover:bg-dark-lc-fill-02 cursor-pointer\" id=\"\"><div class=\"flex h-[52px] w-full items-center space-x-3 px-4\"><div><div class=\"flex items-center\" data-state=\"closed\"><svg xmlns=\"http://www.w3.org/2000/svg\" viewBox=\"0 0 24 24\" width=\"1em\" height=\"1em\" fill=\"currentColor\" class=\"w-4.5 h-4.5 inline-block shrink-0 text-lc-icon-tertiary dark:text-dark-lc-icon-tertiary\"><path fill-rule=\"evenodd\" d=\"M12 22C6.477 22 2 17.523 2 12S6.477 2 12 2s10 4.477 10 10-4.477 10-10 10zm0-2a8 8 0 100-16 8 8 0 000 16z\" clip-rule=\"evenodd\"></path></svg></div></div><div class=\"relative flex h-full w-full items-center\"><div class=\" flex w-0 flex-1 items-center space-x-2\"><div class=\"text-body max-w-[75%] font-medium text-lc-text-primary dark:text-dark-lc-text-primary\"><div class=\"truncate\">Daily Temperatures</div></div><a class=\"absolute right-[15%] top-0 flex h-[52px] cursor-pointer items-center justify-center overflow-hidden px-2 text-text-secondary dark:text-text-secondary hover:text-text-secondary dark:hover:text-text-secondary\" target=\"_blank\" href=\"/problems/daily-temperatures/editorial/?envType=study-plan-v2&amp;envId=leetcode-75\"><svg xmlns=\"http://www.w3.org/2000/svg\" viewBox=\"0 0 24 24\" width=\"1em\" height=\"1em\" fill=\"currentColor\" class=\"mr-1 inline-block h-4 w-4 shrink-0 fill-none stroke-current text-lc-icon-secondary dark:text-dark-lc-icon-secondary\"><path stroke-linecap=\"round\" stroke-width=\"2\" d=\"M12.001 7.972h2.994m-5.989 0h.021m-.021 4.018h.021m-.021 4.018h.021m2.974-4.018h2.994m-2.994 4.018h2.994M7.098 20.98h9.927a2 2 0 002-2V4.78a2 2 0 00-2-2H7.098a2 2 0 00-2 2v14.2a2 2 0 002 2z\"></path></svg><span class=\"lc-md:flex hidden\">Solution</span></a></div><p class=\"text-[14px] text-lc-yellow-60 dark:text-dark-lc-yellow-60\">Medium</p></div></div></div><div class=\"flex flex-col border-b-[1.5px] duration-300 last:border-b-0 border-lc-fill-02 dark:border-dark-lc-fill-02 hover:bg-lc-fill-02 dark:hover:bg-dark-lc-fill-02 cursor-pointer\" id=\"\"><div class=\"flex h-[52px] w-full items-center space-x-3 px-4\"><div><div class=\"flex items-center\" data-state=\"closed\"><svg xmlns=\"http://www.w3.org/2000/svg\" viewBox=\"0 0 24 24\" width=\"1em\" height=\"1em\" fill=\"currentColor\" class=\"w-4.5 h-4.5 inline-block shrink-0 text-lc-icon-tertiary dark:text-dark-lc-icon-tertiary\"><path fill-rule=\"evenodd\" d=\"M12 22C6.477 22 2 17.523 2 12S6.477 2 12 2s10 4.477 10 10-4.477 10-10 10zm0-2a8 8 0 100-16 8 8 0 000 16z\" clip-rule=\"evenodd\"></path></svg></div></div><div class=\"relative flex h-full w-full items-center\"><div class=\" flex w-0 flex-1 items-center space-x-2\"><div class=\"text-body max-w-[75%] font-medium text-lc-text-primary dark:text-dark-lc-text-primary\"><div class=\"truncate\">Online Stock Span</div></div><a class=\"absolute right-[15%] top-0 flex h-[52px] cursor-pointer items-center justify-center overflow-hidden px-2 text-text-secondary dark:text-text-secondary hover:text-text-secondary dark:hover:text-text-secondary\" target=\"_blank\" href=\"/problems/online-stock-span/editorial/?envType=study-plan-v2&amp;envId=leetcode-75\"><svg xmlns=\"http://www.w3.org/2000/svg\" viewBox=\"0 0 24 24\" width=\"1em\" height=\"1em\" fill=\"currentColor\" class=\"mr-1 inline-block h-4 w-4 shrink-0 fill-none stroke-current text-lc-icon-secondary dark:text-dark-lc-icon-secondary\"><path stroke-linecap=\"round\" stroke-width=\"2\" d=\"M12.001 7.972h2.994m-5.989 0h.021m-.021 4.018h.021m-.021 4.018h.021m2.974-4.018h2.994m-2.994 4.018h2.994M7.098 20.98h9.927a2 2 0 002-2V4.78a2 2 0 00-2-2H7.098a2 2 0 00-2 2v14.2a2 2 0 002 2z\"></path></svg><span class=\"lc-md:flex hidden\">Solution</span></a></div><p class=\"text-[14px] text-lc-yellow-60 dark:text-dark-lc-yellow-60\">Medium</p></div></div></div></div></div></div></div>\"\"\""
   ]
  },
  {
   "cell_type": "code",
   "execution_count": 5,
   "id": "69bb95ff",
   "metadata": {},
   "outputs": [],
   "source": [
    "import bs4\n",
    "soup = bs4.BeautifulSoup(html)"
   ]
  },
  {
   "cell_type": "code",
   "execution_count": 22,
   "id": "c7ef78b2",
   "metadata": {},
   "outputs": [],
   "source": [
    "links = soup.find_all('a')\n",
    "probs = ['https://leetcode.com/problems/' + ele['href'].split('/')[2] for ele in links]"
   ]
  },
  {
   "cell_type": "code",
   "execution_count": 25,
   "id": "5138e82a",
   "metadata": {},
   "outputs": [
    {
     "data": {
      "text/plain": [
       "'<!DOCTYPE html><html lang=\"en-US\"><head><title>Just a moment...</title><meta http-equiv=\"Content-Type\" content=\"text/html; charset=UTF-8\"><meta http-equiv=\"X-UA-Compatible\" content=\"IE=Edge\"><meta name=\"robots\" content=\"noindex,nofollow\"><meta name=\"viewport\" content=\"width=device-width,initial-scale=1\"><style>*{box-sizing:border-box;margin:0;padding:0}html{line-height:1.15;-webkit-text-size-adjust:100%;color:#313131}button,html{font-family:system-ui,-apple-system,BlinkMacSystemFont,Segoe UI,Roboto,Helvetica Neue,Arial,Noto Sans,sans-serif,Apple Color Emoji,Segoe UI Emoji,Segoe UI Symbol,Noto Color Emoji}@media (prefers-color-scheme:dark){body{background-color:#222;color:#d9d9d9}body a{color:#fff}body a:hover{color:#ee730a;text-decoration:underline}body .lds-ring div{border-color:#999 transparent transparent}body .font-red{color:#b20f03}body .pow-button{background-color:#4693ff;color:#1d1d1d}body #challenge-success-text{background-image:url(data:image/svg+xml;base64,PHN2ZyB4bWxucz0iaHR0cDovL3d3dy53My5vcmcvMjAwMC9zdmciIHdpZHRoPSIzMiIgaGVpZ2h0PSIzMiIgZmlsbD0ibm9uZSIgdmlld0JveD0iMCAwIDI2IDI2Ij48cGF0aCBmaWxsPSIjZDlkOWQ5IiBkPSJNMTMgMGExMyAxMyAwIDEgMCAwIDI2IDEzIDEzIDAgMCAwIDAtMjZtMCAyNGExMSAxMSAwIDEgMSAwLTIyIDExIDExIDAgMCAxIDAgMjIiLz48cGF0aCBmaWxsPSIjZDlkOWQ5IiBkPSJtMTAuOTU1IDE2LjA1NS0zLjk1LTQuMTI1LTEuNDQ1IDEuMzg1IDUuMzcgNS42MSA5LjQ5NS05LjYtMS40Mi0xLjQwNXoiLz48L3N2Zz4=)}body #challenge-error-text{background-image:url(data:image/svg+xml;base64,PHN2ZyB4bWxucz0iaHR0cDovL3d3dy53My5vcmcvMjAwMC9zdmciIHdpZHRoPSIzMiIgaGVpZ2h0PSIzMiIgZmlsbD0ibm9uZSI+PHBhdGggZmlsbD0iI0IyMEYwMyIgZD0iTTE2IDNhMTMgMTMgMCAxIDAgMTMgMTNBMTMuMDE1IDEzLjAxNSAwIDAgMCAxNiAzbTAgMjRhMTEgMTEgMCAxIDEgMTEtMTEgMTEuMDEgMTEuMDEgMCAwIDEtMTEgMTEiLz48cGF0aCBmaWxsPSIjQjIwRjAzIiBkPSJNMTcuMDM4IDE4LjYxNUgxNC44N0wxNC41NjMgOS41aDIuNzgzem0tMS4wODQgMS40MjdxLjY2IDAgMS4wNTcuMzg4LjQwNy4zODkuNDA3Ljk5NCAwIC41OTYtLjQwNy45ODQtLjM5Ny4zOS0xLjA1Ny4zODktLjY1IDAtMS4wNTYtLjM4OS0uMzk4LS4zODktLjM5OC0uOTg0IDAtLjU5Ny4zOTgtLjk4NS40MDYtLjM5NyAxLjA1Ni0uMzk3Ii8+PC9zdmc+)}}body{display:flex;flex-direction:column;min-height:100vh}body.no-js .loading-spinner{visibility:hidden}body.no-js .challenge-running{display:none}body.dark{background-color:#222;color:#d9d9d9}body.dark a{color:#fff}body.dark a:hover{color:#ee730a;text-decoration:underline}body.dark .lds-ring div{border-color:#999 transparent transparent}body.dark .font-red{color:#b20f03}body.dark .pow-button{background-color:#4693ff;color:#1d1d1d}body.dark #challenge-success-text{background-image:url(data:image/svg+xml;base64,PHN2ZyB4bWxucz0iaHR0cDovL3d3dy53My5vcmcvMjAwMC9zdmciIHdpZHRoPSIzMiIgaGVpZ2h0PSIzMiIgZmlsbD0ibm9uZSIgdmlld0JveD0iMCAwIDI2IDI2Ij48cGF0aCBmaWxsPSIjZDlkOWQ5IiBkPSJNMTMgMGExMyAxMyAwIDEgMCAwIDI2IDEzIDEzIDAgMCAwIDAtMjZtMCAyNGExMSAxMSAwIDEgMSAwLTIyIDExIDExIDAgMCAxIDAgMjIiLz48cGF0aCBmaWxsPSIjZDlkOWQ5IiBkPSJtMTAuOTU1IDE2LjA1NS0zLjk1LTQuMTI1LTEuNDQ1IDEuMzg1IDUuMzcgNS42MSA5LjQ5NS05LjYtMS40Mi0xLjQwNXoiLz48L3N2Zz4=)}body.dark #challenge-error-text{background-image:url(data:image/svg+xml;base64,PHN2ZyB4bWxucz0iaHR0cDovL3d3dy53My5vcmcvMjAwMC9zdmciIHdpZHRoPSIzMiIgaGVpZ2h0PSIzMiIgZmlsbD0ibm9uZSI+PHBhdGggZmlsbD0iI0IyMEYwMyIgZD0iTTE2IDNhMTMgMTMgMCAxIDAgMTMgMTNBMTMuMDE1IDEzLjAxNSAwIDAgMCAxNiAzbTAgMjRhMTEgMTEgMCAxIDEgMTEtMTEgMTEuMDEgMTEuMDEgMCAwIDEtMTEgMTEiLz48cGF0aCBmaWxsPSIjQjIwRjAzIiBkPSJNMTcuMDM4IDE4LjYxNUgxNC44N0wxNC41NjMgOS41aDIuNzgzem0tMS4wODQgMS40MjdxLjY2IDAgMS4wNTcuMzg4LjQwNy4zODkuNDA3Ljk5NCAwIC41OTYtLjQwNy45ODQtLjM5Ny4zOS0xLjA1Ny4zODktLjY1IDAtMS4wNTYtLjM4OS0uMzk4LS4zODktLjM5OC0uOTg0IDAtLjU5Ny4zOTgtLjk4NS40MDYtLjM5NyAxLjA1Ni0uMzk3Ii8+PC9zdmc+)}body.light{background-color:transparent;color:#313131}body.light a{color:#0051c3}body.light a:hover{color:#ee730a;text-decoration:underline}body.light .lds-ring div{border-color:#595959 transparent transparent}body.light .font-red{color:#fc574a}body.light .pow-button{background-color:#003681;border-color:#003681;color:#fff}body.light #challenge-success-text{background-image:url(data:image/svg+xml;base64,PHN2ZyB4bWxucz0iaHR0cDovL3d3dy53My5vcmcvMjAwMC9zdmciIHdpZHRoPSIzMiIgaGVpZ2h0PSIzMiIgZmlsbD0ibm9uZSIgdmlld0JveD0iMCAwIDI2IDI2Ij48cGF0aCBmaWxsPSIjMzEzMTMxIiBkPSJNMTMgMGExMyAxMyAwIDEgMCAwIDI2IDEzIDEzIDAgMCAwIDAtMjZtMCAyNGExMSAxMSAwIDEgMSAwLTIyIDExIDExIDAgMCAxIDAgMjIiLz48cGF0aCBmaWxsPSIjMzEzMTMxIiBkPSJtMTAuOTU1IDE2LjA1NS0zLjk1LTQuMTI1LTEuNDQ1IDEuMzg1IDUuMzcgNS42MSA5LjQ5NS05LjYtMS40Mi0xLjQwNXoiLz48L3N2Zz4=)}body.light #challenge-error-text{background-image:url(data:image/svg+xml;base64,PHN2ZyB4bWxucz0iaHR0cDovL3d3dy53My5vcmcvMjAwMC9zdmciIHdpZHRoPSIzMiIgaGVpZ2h0PSIzMiIgZmlsbD0ibm9uZSI+PHBhdGggZmlsbD0iI2ZjNTc0YSIgZD0iTTE2IDNhMTMgMTMgMCAxIDAgMTMgMTNBMTMuMDE1IDEzLjAxNSAwIDAgMCAxNiAzbTAgMjRhMTEgMTEgMCAxIDEgMTEtMTEgMTEuMDEgMTEuMDEgMCAwIDEtMTEgMTEiLz48cGF0aCBmaWxsPSIjZmM1NzRhIiBkPSJNMTcuMDM4IDE4LjYxNUgxNC44N0wxNC41NjMgOS41aDIuNzgzem0tMS4wODQgMS40MjdxLjY2IDAgMS4wNTcuMzg4LjQwNy4zODkuNDA3Ljk5NCAwIC41OTYtLjQwNy45ODQtLjM5Ny4zOS0xLjA1Ny4zODktLjY1IDAtMS4wNTYtLjM4OS0uMzk4LS4zODktLjM5OC0uOTg0IDAtLjU5Ny4zOTgtLjk4NS40MDYtLjM5NyAxLjA1Ni0uMzk3Ii8+PC9zdmc+)}a{background-color:transparent;color:#0051c3;text-decoration:none;transition:color .15s ease}a:hover{color:#ee730a;text-decoration:underline}.main-content{margin:8rem auto;max-width:60rem;width:100%}.heading-favicon{height:2rem;margin-right:.5rem;width:2rem}@media (width <= 720px){.main-content{margin-top:4rem}.heading-favicon{height:1.5rem;width:1.5rem}}.footer,.main-content{padding-left:1.5rem;padding-right:1.5rem}.main-wrapper{align-items:center;display:flex;flex:1;flex-direction:column}.font-red{color:#b20f03}.spacer{margin:2rem 0}.h1{font-size:2.5rem;font-weight:500;line-height:3.75rem}.h2{font-weight:500}.core-msg,.h2{font-size:1.5rem;line-height:2.25rem}.body-text,.core-msg{font-weight:400}.body-text{font-size:1rem;line-height:1.25rem}@media (width <= 720px){.h1{font-size:1.5rem;line-height:1.75rem}.h2{font-size:1.25rem}.core-msg,.h2{line-height:1.5rem}.core-msg{font-size:1rem}}#challenge-error-text{background-image:url(data:image/svg+xml;base64,PHN2ZyB4bWxucz0iaHR0cDovL3d3dy53My5vcmcvMjAwMC9zdmciIHdpZHRoPSIzMiIgaGVpZ2h0PSIzMiIgZmlsbD0ibm9uZSI+PHBhdGggZmlsbD0iI2ZjNTc0YSIgZD0iTTE2IDNhMTMgMTMgMCAxIDAgMTMgMTNBMTMuMDE1IDEzLjAxNSAwIDAgMCAxNiAzbTAgMjRhMTEgMTEgMCAxIDEgMTEtMTEgMTEuMDEgMTEuMDEgMCAwIDEtMTEgMTEiLz48cGF0aCBmaWxsPSIjZmM1NzRhIiBkPSJNMTcuMDM4IDE4LjYxNUgxNC44N0wxNC41NjMgOS41aDIuNzgzem0tMS4wODQgMS40MjdxLjY2IDAgMS4wNTcuMzg4LjQwNy4zODkuNDA3Ljk5NCAwIC41OTYtLjQwNy45ODQtLjM5Ny4zOS0xLjA1Ny4zODktLjY1IDAtMS4wNTYtLjM4OS0uMzk4LS4zODktLjM5OC0uOTg0IDAtLjU5Ny4zOTgtLjk4NS40MDYtLjM5NyAxLjA1Ni0uMzk3Ii8+PC9zdmc+);padding-left:34px}#challenge-error-text,#challenge-success-text{background-repeat:no-repeat;background-size:contain}#challenge-success-text{background-image:url(data:image/svg+xml;base64,PHN2ZyB4bWxucz0iaHR0cDovL3d3dy53My5vcmcvMjAwMC9zdmciIHdpZHRoPSIzMiIgaGVpZ2h0PSIzMiIgZmlsbD0ibm9uZSIgdmlld0JveD0iMCAwIDI2IDI2Ij48cGF0aCBmaWxsPSIjMzEzMTMxIiBkPSJNMTMgMGExMyAxMyAwIDEgMCAwIDI2IDEzIDEzIDAgMCAwIDAtMjZtMCAyNGExMSAxMSAwIDEgMSAwLTIyIDExIDExIDAgMCAxIDAgMjIiLz48cGF0aCBmaWxsPSIjMzEzMTMxIiBkPSJtMTAuOTU1IDE2LjA1NS0zLjk1LTQuMTI1LTEuNDQ1IDEuMzg1IDUuMzcgNS42MSA5LjQ5NS05LjYtMS40Mi0xLjQwNXoiLz48L3N2Zz4=);padding-left:42px}.text-center{text-align:center}.pow-button{background-color:#0051c3;border:.063rem solid #0051c3;border-radius:.313rem;color:#fff;font-size:.875rem;line-height:1.313rem;margin:2rem 0;padding:.375rem 1rem;transition-duration:.2s;transition-property:background-color,border-color,color;transition-timing-function:ease}.pow-button:hover{background-color:#003681;border-color:#003681;color:#fff;cursor:pointer}.footer{font-size:.75rem;line-height:1.125rem;margin:0 auto;max-width:60rem;width:100%}.footer-inner{border-top:1px solid #d9d9d9;padding-bottom:1rem;padding-top:1rem}.clearfix:after{clear:both;content:\"\";display:table}.clearfix .column{float:left;padding-right:1.5rem;width:50%}.diagnostic-wrapper{margin-bottom:.5rem}.footer .ray-id{text-align:center}.footer .ray-id code{font-family:monaco,courier,monospace}.core-msg,.zone-name-title{overflow-wrap:break-word}@media (width <= 720px){.diagnostic-wrapper{display:flex;flex-wrap:wrap;justify-content:center}.clearfix:after{clear:none;content:none;display:initial;text-align:center}.column{padding-bottom:2rem}.clearfix .column{float:none;padding:0;width:auto;word-break:keep-all}.zone-name-title{margin-bottom:1rem}}.loading-spinner{height:76.391px}.lds-ring{display:inline-block;position:relative}.lds-ring,.lds-ring div{height:1.875rem;width:1.875rem}.lds-ring div{animation:lds-ring 1.2s cubic-bezier(.5,0,.5,1) infinite;border:.3rem solid transparent;border-radius:50%;border-top-color:#313131;box-sizing:border-box;display:block;position:absolute}.lds-ring div:first-child{animation-delay:-.45s}.lds-ring div:nth-child(2){animation-delay:-.3s}.lds-ring div:nth-child(3){animation-delay:-.15s}@keyframes lds-ring{0%{transform:rotate(0)}to{transform:rotate(1turn)}}@media screen and (-ms-high-contrast:active),screen and (-ms-high-contrast:none){.main-wrapper,body{display:block}}.rtl .heading-favicon{margin-left:.5rem;margin-right:0}.rtl #challenge-success-text{background-position:100%;padding-left:0;padding-right:42px}.rtl #challenge-error-text{background-position:100%;padding-left:0;padding-right:34px}</style><meta http-equiv=\"refresh\" content=\"390\"></head><body class=\"no-js\"><div class=\"main-wrapper\" role=\"main\"><div class=\"main-content\"><noscript><div id=\"challenge-error-title\"><div class=\"h2\"><span id=\"challenge-error-text\">Enable JavaScript and cookies to continue</span></div></div></noscript></div></div><script>(function(){window._cf_chl_opt={cvId: \\'3\\',cZone: \"leetcode.com\",cType: \\'managed\\',cNounce: \\'39602\\',cRay: \\'8993bcfa6f00a785\\',cHash: \\'c86e64e780f4991\\',cUPMDTk: \"\\\\/problems\\\\/merge-strings-alternately?__cf_chl_tk=B.14e_zwl8FvSbekmr7NM_tBpn.B1bgRdSJJwx48cr0-1719305721-0.0.1.1-3924\",cFPWv: \\'b\\',cTTimeMs: \\'1000\\',cMTimeMs: \\'390000\\',cTplV: 5,cTplB: \\'cf\\',cK: \"visitor-time\",fa: \"\\\\/problems\\\\/merge-strings-alternately?__cf_chl_f_tk=B.14e_zwl8FvSbekmr7NM_tBpn.B1bgRdSJJwx48cr0-1719305721-0.0.1.1-3924\",md: \"1HHBUAXyUZzIa2THqRhjAIDEMugwGd.Ky8zN.GyTTJ4-1719305721-1.1.1.1-3LGHdm3ZVZDUs9Sa58UUdUF.3z1xDyKQhTw4huwmF55F8Bf.ErJQluVKClkI6KZpkBxXr96JYiMZXSArNxDbqQ0rS69_sgv7nhlpPvZLnk2CmJELqFyktneg4jnVsAewRYg2CImO8tUc_OYSy74nlfKJbqeNdtCzu1rNk4kf87vIPTKiarWoU1IM7YdEYXPmaRIgC9UBpM2upcOAyp09zDYH0Y7ZFgRz0_ML832fA9IrXOlXbiK2hhOQUxfbBp1eRpvj5lqyCXc0N1ep2FD3a6vr.3Dn2JAfZPprF2.ZF1wuC6PTeJbF0iH_WvA9_IHq6bQF9REkET3oZL9AX5Pf1LneYSw3QR6sdWCVhp0pyfeHPQg9r1H_v9hLuVhaJ2NReIPkCJ3eYZGEyXLqm3Z9B3wfDO4vkb.J7xotabBSwOyNOiPB2cRUTuWRz2B8vCbpTEYRJ4_IDxFrq4jCeTj0ahWK0BRkArIZJwiwKw2kja5LPK7zUS.NbeGuSPXrmizttqmtKHNhqYdsUJslrp8DBQ0KKuyPqbCOJNlkVYOqCaXtrMRFoIb42YSgeRr877MObpfNnjw9VZPHWN3YxRlMmES_argGS_OFu6jw4MZIhFmPoItSjhCvAH1ASrUI0zthlkOywErMVVRUtjC8HfQZkXl2XaNQdCK3P1VyK6UTMk5WuUy8YLiBsLkGwOzmjvK1ZGaZaAWoUtw_DZecFUCUoY7iHQDh7br_IFBPWThpPYLZZAobZXllHhPS26_zheL6ajRZVvixsqehzob2T1TH2n7ulI9FGEIthHssI6tUHeX5lcwzosrP81sNxIcNDA32ghsFKM14OXMKY6pjTjUzZUlnz6brVo9eDOwx.Y3z5eG6lfrYt2X8Km0HLW0LKnYJ6bj1J_AkzL2UcKBTgeHRnQFTM19MZmQWjgsMkjoH8cDyeaA5qV5bIZCJeIVBIfu3z0He8i.HoV1_CZQo1G9Pklkd0EOE1Mhb1Lj2Sh_UuwJ2V4HwDYaxpykWbWjaJm4EzHtSPnBbmQWTxVVlXgz4Vj8W7R2s9yQHW1MTO6MadDU_R0MccEYT.JW9XOnggsbWtJUce2cJCQqzos8wUIkC2qBisk.jWXV6PVUpYISOSTFopBUr2sTVzy9JzoobBAGAJJLVagrwjeEzzzkOFLmgN71L9kxZg.HKyTSHRF2Om4mV8c4HkL11WPqiZDac_f0xB1MyLlHceOiMGLcTJm2m3urFNXTjiM7xbeNeP1UOP.dUQWh1mxMDlscoqaczntqLhOvPzJL4QjYOhY5rY4s35PfOVGMNAj0VFrFe2ycWpYF5VqIDoPoqbNspclZyU5_bZs6bTLqQDhOYcdyApsKO8Lc7CF1iaY7qqG.xE0NY7eibgtskARW63GBWFNW9JCc.zk.Vs6ZBZtIwQ1fP_xUmuehGK6QzEyJ94JKMpZAuBp3iG9C.6Z9.B07ZDruMojtXWx3kcDN7yzBrJPKOCxMFwb7H6SLpSCAPJS.JK5d6yj5UtdiqgsepqJcx.D5TDaD5WP71XRQ.MnMKBfycAQVzUndtnvIPuEUy8KZ0g9wmdAPHK49zemYMm80tqprvJpawgiaxF4019gBvxDwArVxYkQ\",mdrd: \"Q8ZEmluLWvEApSwx.7KeOyDreERW1fSB.NjwfYug0iU-1719305721-1.1.1.1-Iss3uDd1ZLXoAO9BBBejSVLBEHMVZLfC.8go0SROKqp_IFe7T961Ir4edBjXjiJaYugk54RR_8DqEMndkVmiozs.Cg28OofPjeeP0bbtsQCuPhYweIKeqj2qxAHdZT7HUDaWuTulZB3F4vkLKsBMXNIqqdiNpXeWWI6cxrth1.QKZjfLh6JHOcdvGD0uRmYZgvfE5g9O.zcU5mx6hu7ms.flqg90qv9BiekI2H_lE4HeG5cOU2itnD3ehTFSK7kYAsYCmZpslpNhN72FOCNgXxSbkXohwFEFHwhoT8g6XQjgg.VPA8jVIDI3Vaq.A4eQgCNAyQxbVrs8Mfwugbk6N5byHGoVBd2lq7bNFCHsgk_aCqzZbD7VJ8e7M6H3m5zVmJhTZ9uocD_jlRHzse89RyneTtqu0lbeI42ZfVctiOvyvre2BvCVh2PG2UBsphqQdh_xbwNv6PslMUN7HXAA61VgTfHDZDcO0gh2ZAZJuwq4PrLkPYiTN7Dqh7egXO.r9UhToFSb_Kftdgu_wbEiJW_iMeEpEO2l68HFQnBrfoJi82STbEUe27j5p5sM8mocyqgSlDJLNJFVhsZq2xC0yCvk_A3lbkDBXMX7wBn24f.VM2yOTKAHkjgMD1ZmMNzJ8Eb0KQuVu8.3fJN9zIBwq..lkSUoQUrymVwBUN5020LtgljStfUUcibkEov01kQSOgAqnH1I8cV8ctkHDmGldbxwAhVyBElgTmAZSr3N25Pdk9oqL4ZOe8SpkM.N.Nc7nB4d1N3dQyogVzgU4YSAs3uUx7UQ2luTwmRxRrsxA75TG9tL2o0V0XWcrns7xCPpWnIDmxmRTyKlHnXVQ3o15P_W3fZXz2GT70V34IaCqZ6mpxoGCcxXKs9l1uveTbATnS.NJ8R3iKwA1L7OkjC5KZDfNMEtNQlvmin7gd53Rh4ch5stFmEMyPhvqHy0bQe5UmRxylNzhujsp69kb1ywA62TJGkZwjvqeXRuFYV5g7hP7CVQOhGvVvacjNcvZ7mDVtNxLxgECo.rLBvQCAuPpfknml9c9azFqcJgOXsZ4wEgzcCWtcHiNcEQP0ngolANCwX_oqEKpCMz4wyM5Fap01GrifAMLMObD9HB.O_nJDu5mXMiwDNUQH4YO3pAuTEMhw50GktsE6B2ZX3p4aADvzbTJeVsU6j2JyOS1CS98UQEOsuN5N4LqS..OIzodo.3HKP4OhMM2lN9BQNe8puXhRaiCTAlI7d0.ogB23Kyc4DPBfZtXdlcmZvRdMMzuzhltKMwoezgNSCiGSeirKgAO_yMC9aj_g5SYVCk4VEk4116NhmxkJfaHw1YEmylps5ZtnlmehZliHyOvkQDrlX9vXoxpFbLBnrhZLjqvzpdf4Bcbsn19a1FpWTo3iS08.iWP3657t9VyRZCEurtue0qXb_2COcuscviyw_J6sNy8dM_ypFtqu.vecEt26wsOhpKEttwSL8HYQnkqpCQpiV4uJVzqHlkm7yiU7K0qlRusDKHqpf_CghmiSEgjqmKPXrUV34xUfArpdQyrvgBwxX8A8GpAy6jA4JRRStZye_I_wvqtftlLgNvtG1pLn9wG4QnBhEu251l7QJpEI4dqfkhnRY7kGj43EjOL05yNBMga04cxb7yef2lMDRcfQvSHw8A.NeSIjSVvO57s.0xvEcwZl_mRgNY2mpU88QwDcGd9dEk5mni4waGiip11t_pSE_Sa8ETFTwKRRVOUTQeaZzK0bFh2AFUowF6G3qiarHouUmRosN4rWPGz_S1Y1e0a9YbUcXJRpP3c2Bq4k_D8wVaGlKIkBBGknLNTgpO4FKWyDq25Qbn.PeyqCHal9iNns0PbGERcZ2xndPS5A_PAjA.044iZyPUzC0jCJb4IVayrkg1r5oIm3QfDWAVCggdtBdY1n8xJHm9UROcQw9sx2s3dzY70hbu7UJETJ7DkFY1os3i4gfurW6PjmdouQoQvHBSMVeQZMnnjj.849oi8vxydnrtFMEUGM2fFMfMvjxhMowvH3NdwqI0EdaS9HWhsMo4Lg55A6ydhSd3OgrYpI7ojLO.gxQZfrKnCnYt8EyqRY7HH_DKVvb2AzN6IyEQXTz3at8xj3T5UBp2c08.s_CRWduZvkZQpVsmFPVKh0hO8bj75.OvC6nNWUR.AdgkC_vb\",cRq: {ru: \\'aHR0cHM6Ly9sZWV0Y29kZS5jb20vcHJvYmxlbXMvbWVyZ2Utc3RyaW5ncy1hbHRlcm5hdGVseQ==\\',ra: \\'cHl0aG9uLXJlcXVlc3RzLzIuMzEuMA==\\',rm: \\'R0VU\\',d: \\'cmJyorNhSrijPk5yXf8x5WgPo52ahjm1twadcwyB3V13/R8j7SjVppPShF7fxrMzeKLNArUByoWI33ePaPVc2mSVhXpxAs9QCXg5DsmiyZAv754uzs8RoZV1DhHIfHnzJQiOTV0v/QhEpSpf5SW9U3bMWpsKZuiCpACssDxgEVmmusHC1O1EZ9j9bHTqhLdTYVBxIohrNmmCasuJ4lfJtbMRuPp8qaTykhoC5XEPds2thCoZTu2dBJo0TxZcv0F3t/cCnfxOMVb20qyqyH/04gXpj3FOqZe2wFgz25XQcxfa+peAdvLqde6S+VoTlygrL1xNfTjkoiuWlDkc5/SmUu3USaBQ+wrO7Uxl5ZITWWf3bLftKPNyT/bfgVVM3vnwLIBkbGilQ1h6GPGfSgRwkZ29pP/K7qwRANSgPLaAKzwmHQpCSSJuS3rAhlflz4tCG8dyOIZddX1vSiKiKPSy4jrQZfE8kj6StO+aND4QrgSkScZJ8VaqicwZdFb1X5W2xz69Citb8BqjluT8l5D+mzerSVxpJHnutQuxJ45OGcdXhsgNlmnq7fKMvlo2Ssv4lfpmV8PNF5rn7MlPZ1wAo+9ezmVBjB6GZLudkaxFIHI=\\',t: \\'MTcxOTMwNTcyMS4wMDAwMDA=\\',cT: Math.floor(Date.now() / 1000),m: \\'G0M91GQ4UoFFbOgGM0jY8Glvb3N7hjAWzIN28HtBNqE=\\',i1: \\'nTUOiGhxM3Gp2Jpiw6P2Zw==\\',i2: \\'0QR0kPYJbmIOjJ26W7gkQg==\\',zh: \\'6dW5KLsjmoGStZm/w3CUkISq8657AEI6JKhvmam58xM=\\',uh: \\'YE9XOpG5TeHmhA1zfs5mxC8CrRZzq2a/+r+OU7dliYQ=\\',hh: \\'Lb0VxCKQFzTc4iX077lkQv6YXNlmOsxL7hMPdtK/ZKE=\\',}};var cpo = document.createElement(\\'script\\');cpo.src = \\'/cdn-cgi/challenge-platform/h/b/orchestrate/chl_page/v1?ray=8993bcfa6f00a785\\';window._cf_chl_opt.cOgUHash = location.hash === \\'\\' && location.href.indexOf(\\'#\\') !== -1 ? \\'#\\' : location.hash;window._cf_chl_opt.cOgUQuery = location.search === \\'\\' && location.href.slice(0, location.href.length - window._cf_chl_opt.cOgUHash.length).indexOf(\\'?\\') !== -1 ? \\'?\\' : location.search;if (window.history && window.history.replaceState) {var ogU = location.pathname + window._cf_chl_opt.cOgUQuery + window._cf_chl_opt.cOgUHash;history.replaceState(null, null, \"\\\\/problems\\\\/merge-strings-alternately?__cf_chl_rt_tk=B.14e_zwl8FvSbekmr7NM_tBpn.B1bgRdSJJwx48cr0-1719305721-0.0.1.1-3924\" + window._cf_chl_opt.cOgUHash);cpo.onload = function() {history.replaceState(null, null, ogU);}}document.getElementsByTagName(\\'head\\')[0].appendChild(cpo);}());</script></body></html>'"
      ]
     },
     "execution_count": 25,
     "metadata": {},
     "output_type": "execute_result"
    }
   ],
   "source": [
    "import requests\n",
    "requests.get(probs[0]).text"
   ]
  },
  {
   "cell_type": "code",
   "execution_count": 39,
   "id": "79a65157",
   "metadata": {},
   "outputs": [],
   "source": [
    "url = probs[0]\n",
    "url = 'https://leetcode.com/problems/merge-strings-alternately/description/'"
   ]
  },
  {
   "cell_type": "code",
   "execution_count": 40,
   "id": "9bc06261",
   "metadata": {},
   "outputs": [
    {
     "name": "stdout",
     "output_type": "stream",
     "text": [
      "b'<!DOCTYPE html><html lang=\"en-US\"><head><title>Just a moment...</title><meta http-equiv=\"Content-Type\" content=\"text/html; charset=UTF-8\"><meta http-equiv=\"X-UA-Compatible\" content=\"IE=Edge\"><meta name=\"robots\" content=\"noindex,nofollow\"><meta name=\"viewport\" content=\"width=device-width,initial-scale=1\"><style>*{box-sizing:border-box;margin:0;padding:0}html{line-height:1.15;-webkit-text-size-adjust:100%;color:#313131}button,html{font-family:system-ui,-apple-system,BlinkMacSystemFont,Segoe UI,Roboto,Helvetica Neue,Arial,Noto Sans,sans-serif,Apple Color Emoji,Segoe UI Emoji,Segoe UI Symbol,Noto Color Emoji}@media (prefers-color-scheme:dark){body{background-color:#222;color:#d9d9d9}body a{color:#fff}body a:hover{color:#ee730a;text-decoration:underline}body .lds-ring div{border-color:#999 transparent transparent}body .font-red{color:#b20f03}body .pow-button{background-color:#4693ff;color:#1d1d1d}body #challenge-success-text{background-image:url(data:image/svg+xml;base64,PHN2ZyB4bWxucz0iaHR0cDovL3d3dy53My5vcmcvMjAwMC9zdmciIHdpZHRoPSIzMiIgaGVpZ2h0PSIzMiIgZmlsbD0ibm9uZSIgdmlld0JveD0iMCAwIDI2IDI2Ij48cGF0aCBmaWxsPSIjZDlkOWQ5IiBkPSJNMTMgMGExMyAxMyAwIDEgMCAwIDI2IDEzIDEzIDAgMCAwIDAtMjZtMCAyNGExMSAxMSAwIDEgMSAwLTIyIDExIDExIDAgMCAxIDAgMjIiLz48cGF0aCBmaWxsPSIjZDlkOWQ5IiBkPSJtMTAuOTU1IDE2LjA1NS0zLjk1LTQuMTI1LTEuNDQ1IDEuMzg1IDUuMzcgNS42MSA5LjQ5NS05LjYtMS40Mi0xLjQwNXoiLz48L3N2Zz4=)}body #challenge-error-text{background-image:url(data:image/svg+xml;base64,PHN2ZyB4bWxucz0iaHR0cDovL3d3dy53My5vcmcvMjAwMC9zdmciIHdpZHRoPSIzMiIgaGVpZ2h0PSIzMiIgZmlsbD0ibm9uZSI+PHBhdGggZmlsbD0iI0IyMEYwMyIgZD0iTTE2IDNhMTMgMTMgMCAxIDAgMTMgMTNBMTMuMDE1IDEzLjAxNSAwIDAgMCAxNiAzbTAgMjRhMTEgMTEgMCAxIDEgMTEtMTEgMTEuMDEgMTEuMDEgMCAwIDEtMTEgMTEiLz48cGF0aCBmaWxsPSIjQjIwRjAzIiBkPSJNMTcuMDM4IDE4LjYxNUgxNC44N0wxNC41NjMgOS41aDIuNzgzem0tMS4wODQgMS40MjdxLjY2IDAgMS4wNTcuMzg4LjQwNy4zODkuNDA3Ljk5NCAwIC41OTYtLjQwNy45ODQtLjM5Ny4zOS0xLjA1Ny4zODktLjY1IDAtMS4wNTYtLjM4OS0uMzk4LS4zODktLjM5OC0uOTg0IDAtLjU5Ny4zOTgtLjk4NS40MDYtLjM5NyAxLjA1Ni0uMzk3Ii8+PC9zdmc+)}}body{display:flex;flex-direction:column;min-height:100vh}body.no-js .loading-spinner{visibility:hidden}body.no-js .challenge-running{display:none}body.dark{background-color:#222;color:#d9d9d9}body.dark a{color:#fff}body.dark a:hover{color:#ee730a;text-decoration:underline}body.dark .lds-ring div{border-color:#999 transparent transparent}body.dark .font-red{color:#b20f03}body.dark .pow-button{background-color:#4693ff;color:#1d1d1d}body.dark #challenge-success-text{background-image:url(data:image/svg+xml;base64,PHN2ZyB4bWxucz0iaHR0cDovL3d3dy53My5vcmcvMjAwMC9zdmciIHdpZHRoPSIzMiIgaGVpZ2h0PSIzMiIgZmlsbD0ibm9uZSIgdmlld0JveD0iMCAwIDI2IDI2Ij48cGF0aCBmaWxsPSIjZDlkOWQ5IiBkPSJNMTMgMGExMyAxMyAwIDEgMCAwIDI2IDEzIDEzIDAgMCAwIDAtMjZtMCAyNGExMSAxMSAwIDEgMSAwLTIyIDExIDExIDAgMCAxIDAgMjIiLz48cGF0aCBmaWxsPSIjZDlkOWQ5IiBkPSJtMTAuOTU1IDE2LjA1NS0zLjk1LTQuMTI1LTEuNDQ1IDEuMzg1IDUuMzcgNS42MSA5LjQ5NS05LjYtMS40Mi0xLjQwNXoiLz48L3N2Zz4=)}body.dark #challenge-error-text{background-image:url(data:image/svg+xml;base64,PHN2ZyB4bWxucz0iaHR0cDovL3d3dy53My5vcmcvMjAwMC9zdmciIHdpZHRoPSIzMiIgaGVpZ2h0PSIzMiIgZmlsbD0ibm9uZSI+PHBhdGggZmlsbD0iI0IyMEYwMyIgZD0iTTE2IDNhMTMgMTMgMCAxIDAgMTMgMTNBMTMuMDE1IDEzLjAxNSAwIDAgMCAxNiAzbTAgMjRhMTEgMTEgMCAxIDEgMTEtMTEgMTEuMDEgMTEuMDEgMCAwIDEtMTEgMTEiLz48cGF0aCBmaWxsPSIjQjIwRjAzIiBkPSJNMTcuMDM4IDE4LjYxNUgxNC44N0wxNC41NjMgOS41aDIuNzgzem0tMS4wODQgMS40MjdxLjY2IDAgMS4wNTcuMzg4LjQwNy4zODkuNDA3Ljk5NCAwIC41OTYtLjQwNy45ODQtLjM5Ny4zOS0xLjA1Ny4zODktLjY1IDAtMS4wNTYtLjM4OS0uMzk4LS4zODktLjM5OC0uOTg0IDAtLjU5Ny4zOTgtLjk4NS40MDYtLjM5NyAxLjA1Ni0uMzk3Ii8+PC9zdmc+)}body.light{background-color:transparent;color:#313131}body.light a{color:#0051c3}body.light a:hover{color:#ee730a;text-decoration:underline}body.light .lds-ring div{border-color:#595959 transparent transparent}body.light .font-red{color:#fc574a}body.light .pow-button{background-color:#003681;border-color:#003681;color:#fff}body.light #challenge-success-text{background-image:url(data:image/svg+xml;base64,PHN2ZyB4bWxucz0iaHR0cDovL3d3dy53My5vcmcvMjAwMC9zdmciIHdpZHRoPSIzMiIgaGVpZ2h0PSIzMiIgZmlsbD0ibm9uZSIgdmlld0JveD0iMCAwIDI2IDI2Ij48cGF0aCBmaWxsPSIjMzEzMTMxIiBkPSJNMTMgMGExMyAxMyAwIDEgMCAwIDI2IDEzIDEzIDAgMCAwIDAtMjZtMCAyNGExMSAxMSAwIDEgMSAwLTIyIDExIDExIDAgMCAxIDAgMjIiLz48cGF0aCBmaWxsPSIjMzEzMTMxIiBkPSJtMTAuOTU1IDE2LjA1NS0zLjk1LTQuMTI1LTEuNDQ1IDEuMzg1IDUuMzcgNS42MSA5LjQ5NS05LjYtMS40Mi0xLjQwNXoiLz48L3N2Zz4=)}body.light #challenge-error-text{background-image:url(data:image/svg+xml;base64,PHN2ZyB4bWxucz0iaHR0cDovL3d3dy53My5vcmcvMjAwMC9zdmciIHdpZHRoPSIzMiIgaGVpZ2h0PSIzMiIgZmlsbD0ibm9uZSI+PHBhdGggZmlsbD0iI2ZjNTc0YSIgZD0iTTE2IDNhMTMgMTMgMCAxIDAgMTMgMTNBMTMuMDE1IDEzLjAxNSAwIDAgMCAxNiAzbTAgMjRhMTEgMTEgMCAxIDEgMTEtMTEgMTEuMDEgMTEuMDEgMCAwIDEtMTEgMTEiLz48cGF0aCBmaWxsPSIjZmM1NzRhIiBkPSJNMTcuMDM4IDE4LjYxNUgxNC44N0wxNC41NjMgOS41aDIuNzgzem0tMS4wODQgMS40MjdxLjY2IDAgMS4wNTcuMzg4LjQwNy4zODkuNDA3Ljk5NCAwIC41OTYtLjQwNy45ODQtLjM5Ny4zOS0xLjA1Ny4zODktLjY1IDAtMS4wNTYtLjM4OS0uMzk4LS4zODktLjM5OC0uOTg0IDAtLjU5Ny4zOTgtLjk4NS40MDYtLjM5NyAxLjA1Ni0uMzk3Ii8+PC9zdmc+)}a{background-color:transparent;color:#0051c3;text-decoration:none;transition:color .15s ease}a:hover{color:#ee730a;text-decoration:underline}.main-content{margin:8rem auto;max-width:60rem;width:100%}.heading-favicon{height:2rem;margin-right:.5rem;width:2rem}@media (width <= 720px){.main-content{margin-top:4rem}.heading-favicon{height:1.5rem;width:1.5rem}}.footer,.main-content{padding-left:1.5rem;padding-right:1.5rem}.main-wrapper{align-items:center;display:flex;flex:1;flex-direction:column}.font-red{color:#b20f03}.spacer{margin:2rem 0}.h1{font-size:2.5rem;font-weight:500;line-height:3.75rem}.h2{font-weight:500}.core-msg,.h2{font-size:1.5rem;line-height:2.25rem}.body-text,.core-msg{font-weight:400}.body-text{font-size:1rem;line-height:1.25rem}@media (width <= 720px){.h1{font-size:1.5rem;line-height:1.75rem}.h2{font-size:1.25rem}.core-msg,.h2{line-height:1.5rem}.core-msg{font-size:1rem}}#challenge-error-text{background-image:url(data:image/svg+xml;base64,PHN2ZyB4bWxucz0iaHR0cDovL3d3dy53My5vcmcvMjAwMC9zdmciIHdpZHRoPSIzMiIgaGVpZ2h0PSIzMiIgZmlsbD0ibm9uZSI+PHBhdGggZmlsbD0iI2ZjNTc0YSIgZD0iTTE2IDNhMTMgMTMgMCAxIDAgMTMgMTNBMTMuMDE1IDEzLjAxNSAwIDAgMCAxNiAzbTAgMjRhMTEgMTEgMCAxIDEgMTEtMTEgMTEuMDEgMTEuMDEgMCAwIDEtMTEgMTEiLz48cGF0aCBmaWxsPSIjZmM1NzRhIiBkPSJNMTcuMDM4IDE4LjYxNUgxNC44N0wxNC41NjMgOS41aDIuNzgzem0tMS4wODQgMS40MjdxLjY2IDAgMS4wNTcuMzg4LjQwNy4zODkuNDA3Ljk5NCAwIC41OTYtLjQwNy45ODQtLjM5Ny4zOS0xLjA1Ny4zODktLjY1IDAtMS4wNTYtLjM4OS0uMzk4LS4zODktLjM5OC0uOTg0IDAtLjU5Ny4zOTgtLjk4NS40MDYtLjM5NyAxLjA1Ni0uMzk3Ii8+PC9zdmc+);padding-left:34px}#challenge-error-text,#challenge-success-text{background-repeat:no-repeat;background-size:contain}#challenge-success-text{background-image:url(data:image/svg+xml;base64,PHN2ZyB4bWxucz0iaHR0cDovL3d3dy53My5vcmcvMjAwMC9zdmciIHdpZHRoPSIzMiIgaGVpZ2h0PSIzMiIgZmlsbD0ibm9uZSIgdmlld0JveD0iMCAwIDI2IDI2Ij48cGF0aCBmaWxsPSIjMzEzMTMxIiBkPSJNMTMgMGExMyAxMyAwIDEgMCAwIDI2IDEzIDEzIDAgMCAwIDAtMjZtMCAyNGExMSAxMSAwIDEgMSAwLTIyIDExIDExIDAgMCAxIDAgMjIiLz48cGF0aCBmaWxsPSIjMzEzMTMxIiBkPSJtMTAuOTU1IDE2LjA1NS0zLjk1LTQuMTI1LTEuNDQ1IDEuMzg1IDUuMzcgNS42MSA5LjQ5NS05LjYtMS40Mi0xLjQwNXoiLz48L3N2Zz4=);padding-left:42px}.text-center{text-align:center}.pow-button{background-color:#0051c3;border:.063rem solid #0051c3;border-radius:.313rem;color:#fff;font-size:.875rem;line-height:1.313rem;margin:2rem 0;padding:.375rem 1rem;transition-duration:.2s;transition-property:background-color,border-color,color;transition-timing-function:ease}.pow-button:hover{background-color:#003681;border-color:#003681;color:#fff;cursor:pointer}.footer{font-size:.75rem;line-height:1.125rem;margin:0 auto;max-width:60rem;width:100%}.footer-inner{border-top:1px solid #d9d9d9;padding-bottom:1rem;padding-top:1rem}.clearfix:after{clear:both;content:\"\";display:table}.clearfix .column{float:left;padding-right:1.5rem;width:50%}.diagnostic-wrapper{margin-bottom:.5rem}.footer .ray-id{text-align:center}.footer .ray-id code{font-family:monaco,courier,monospace}.core-msg,.zone-name-title{overflow-wrap:break-word}@media (width <= 720px){.diagnostic-wrapper{display:flex;flex-wrap:wrap;justify-content:center}.clearfix:after{clear:none;content:none;display:initial;text-align:center}.column{padding-bottom:2rem}.clearfix .column{float:none;padding:0;width:auto;word-break:keep-all}.zone-name-title{margin-bottom:1rem}}.loading-spinner{height:76.391px}.lds-ring{display:inline-block;position:relative}.lds-ring,.lds-ring div{height:1.875rem;width:1.875rem}.lds-ring div{animation:lds-ring 1.2s cubic-bezier(.5,0,.5,1) infinite;border:.3rem solid transparent;border-radius:50%;border-top-color:#313131;box-sizing:border-box;display:block;position:absolute}.lds-ring div:first-child{animation-delay:-.45s}.lds-ring div:nth-child(2){animation-delay:-.3s}.lds-ring div:nth-child(3){animation-delay:-.15s}@keyframes lds-ring{0%{transform:rotate(0)}to{transform:rotate(1turn)}}@media screen and (-ms-high-contrast:active),screen and (-ms-high-contrast:none){.main-wrapper,body{display:block}}.rtl .heading-favicon{margin-left:.5rem;margin-right:0}.rtl #challenge-success-text{background-position:100%;padding-left:0;padding-right:42px}.rtl #challenge-error-text{background-position:100%;padding-left:0;padding-right:34px}</style><meta http-equiv=\"refresh\" content=\"390\"></head><body class=\"no-js\"><div class=\"main-wrapper\" role=\"main\"><div class=\"main-content\"><noscript><div id=\"challenge-error-title\"><div class=\"h2\"><span id=\"challenge-error-text\">Enable JavaScript and cookies to continue</span></div></div></noscript></div></div><script>(function(){window._cf_chl_opt={cvId: \\'3\\',cZone: \"leetcode.com\",cType: \\'managed\\',cNounce: \\'18947\\',cRay: \\'8993c4a14d1aa7a3\\',cHash: \\'18bda32957fc0dd\\',cUPMDTk: \"\\\\/problems\\\\/merge-strings-alternately\\\\/description\\\\/?__cf_chl_tk=FJ1k3Y0KzySFxIH9sPHyli0vgPYeZpKNTX_Lgxd39ho-1719306035-0.0.1.1-4052\",cFPWv: \\'b\\',cTTimeMs: \\'1000\\',cMTimeMs: \\'390000\\',cTplV: 5,cTplB: \\'cf\\',cK: \"visitor-time\",fa: \"\\\\/problems\\\\/merge-strings-alternately\\\\/description\\\\/?__cf_chl_f_tk=FJ1k3Y0KzySFxIH9sPHyli0vgPYeZpKNTX_Lgxd39ho-1719306035-0.0.1.1-4052\",md: \"AHaonZYEmfNm7gqDcrEpJESQgC_jpcDKz1VkQ8URRWs-1719306035-1.1.1.1-a5fnFOQA7NirQtIylPv2LoDvySRo7DByzw4Xv_S2iAUraaklZsev4AmF.NXGEtVZ72QTmQ9JTPI8aKOF5_jGFkgKBoeE_fEQFjk8LMSPtE0Fp.c2ykSHf.YefcrxgMHNg1WkbzeioKzehTsVIBBdnHXojzvdlMXfKInMdYXR5q.N9c6crkS8nPeX9xNH2mCm4ISGfOk_Btq74luZF1DYjvjClqi012NUx6tsyf3GjKCbsDjEq7XvUcUT5_FUwUZclrBM0hTWVPlsgHhvzmo7K9JphmDAMzhshvVFUg.1m5FRYEq7oMoLljLm6yWo71ejYKyqAqIZuedwLCyAmT7mxCrzBSa7MMnSsiGTe45pL8ZGkczKidF_AnhalkOCb4za3RPNQMkxU3B1uE6cd_tySNuLnV48EUz3v6pF4uuh0.bB5q2eaZpEb.cclQOisLmiwtsTap217ed07375AzQfw55tz.N3fl.xm3D4J8GRg12Zm0nQK8hzBUqy.kiJJPqzMktK6C8p1Gs8Bf21rzOG_Ns9l68xx44NC81I1AlAOMtFhmqsUSD3DK9XIrDpFD_Nw43fUbm4bzH9apjaMHBznGHGhkNuVSMz01itTmizWFXUpVOxx3_G4OTyAUb5eTGZUbS00qWJiJUi.xiofxOzBMhgDF4cWDxVUzWDshuExLj_.HIKz2z9YB60w.UdPeWwtCOQARNO2Y_onZhp3DPzT2ePKxogidYxzxgdGvOkDfn5mcqG3LynB4iyE_iDFOvSJrJcT0vG8NBp.DRGmMsjQi_qhBu3ZeaXvL55wcLNbN8zKOAi5Vy3pC7iaYkvV5tvlTT.GHOm3VFMqh2nfh1ACkoS8Gf3PTdm9Zl9ySU1e_0ZnGH7oSkC0xwtSfJkZZGbG57WM0AKBlhNgKIt4AnubgyVs2Nc15U5ej5QBwnf9Y4TxTLD7TPcBw8Z815sst1TY0sbr5teuBd.lHyYPKDI_KQYQIl8_2hNEHLJj7SrITLsgMQskk1TLSy8V9it_oDm3J3gpkFlAcTGvC26WAc07Cg8klhORm4Z62oDwIPggcP4lnXk7E5npTiV0tbpSQS36mGBFD5Bfkrjcv7gP7mX2tNm4E71rvsgdyTq_JYPctw9qW_PE.Gcv.Nf153e2aWESvnAHEVtV6VfRjefjO4ne3m3QlnZCWQYLZ8ZnWtDuL7LjFxWxkoxNxUjbVSnJiIjk05gJXCpqCy9FIo_izo2O_.Wpa8FWVqP9_IccLR9abIm94FXmeyDNIg9dFQVJ4fgsyyrTsyoNMMfH1BBPQI_juiXCaVRIf.3wMoGnVJ863fQ4HS7zS5IeRLw3gmkZCu4gyLm6_LPVmubneg.79YcD6vnFZJcPtmoHA.TOSZlSdc0LuioNQpymY43mI6a7evY2RyDLG27nS8Tg2XL0xFv5TL8V9EtyiAlAZ3Y5otmlbberW9qjlzq5Bi38E6YGecW0jX6UwjrrPmDGrIY5VSMxWcKz2AmdArEmiS6eEQ6BMe0XVhzcDOZTlDBlaLK702qdAyAd_LDLOIagkJ1y3jYJ4KFdu1R9OQD_OLCDcOdS10olaacsYccflNDe6.3xkDMw6KGroMWrStsmtuFMGUECZ26W1CiJa3l_._1kHKAoJM\",mdrd: \"2aSj5pOkyOWVf.ewqijrKq9atsXn69KmYF5EOl.d1cY-1719306035-1.1.1.1-GTgPsojI5G5SbHb8UNZgQOEB5AlrwFb3VGOiZYZv2N3CKtrhsvfQ7ercz4o5eNig5KJirdxSvwfLuYfq715yBDKJ5DJ6x_xIysxT3jV5HGUQlt4ol.TwCBZoAxzwuH0.7yo9WbCf7062Dr9DCuid_kv2XDdkgxFBzHGDIa4objK3ANGLoRYOtj0nQiNOSPQ1bxNPVtyHUoKuMTm4.ACp.p2RdPbj45C4sOugNDXj5J7pnqTV_oi86y3NWHvqEqoZ0NwTz74UJu4eKeDCzXg.Cl2S4VBhFPalHdWlqfgli95OfdTqQSs.o0661JNUf6Bz4FwahhIrWm_H56OomqtCVoV1eH_8Ifq8WuevhHUDoRqNJ8s9nsoKoGwFDzoq3RNn7tAn2tgsfkKeeA0nZIcV6WT_uQzASLlJwoRC0XyTEp2N_OFLsE9eZIvLxVivJKRWIpfHxvnd0O1OUJjVw.tyB8ti1LeLNq_EJWOKuDJHIZLmQELpGPR.IivB37_X9_7jLePP2LJY2jpJ64GPqSPEJb4XGLRjoh06FL2n1ilL5FO6La7eLVpqKELKSfswKLy8ed3ucnzMcKkLbPw_h2ZeVRQ1S2Bz68WhH8B.KBt_Nfto2yEu6OtYGEZoJpirlQcTUr9pOpyzREk3lcqnR42AlN9WXxRQXbRG2hwo5z4ALqCNtR62tnk5k.V3RwPT7dMvVYkMctNYaVt7.I2jqmquIEOUwzJepHCsOIyQISOGq8NVEf9V0QaKf.uQNkkacrF2mGIuViC52oSC8zQeszRxfoIVnWRvwoXx3voyMNpnxKqMTedPPZTji4_9TdZi3jI9XHeVWvsgRT9UEV3sXIk_UdfutNfeztYKPkjblAkqILAoMXjL13v_qrDVoYJCd98WilKYKG7Kxh5bVakEYIkdvwLCWj5UQ_mpb9u2nPpKE4YGjX0LSyWSw4BuDVPJYFiRJaZhqpg2K7uGl8vO97ekLAwWwqjIMMQrGphtx.ZGT_SC5Dv0DdYhsLGb6LMU.JOnea4QWZzM0Wu4LAS204dzjzeiPd4YUukkah7KtrzkAK.EwQqLGYWHb02GHhc6fbgvnFekcYhe7.p8mekzBref7xEOkX76A37k.ziTT78qAg0QHeDqtm5tibyJisivQPZBC0yRn0zUaBTKFaVa7aW9ASD7Kd.aPn6OeoBlSC28b65_3yACSoVon.XDGq3ma5Y0Eyj1JQUAYtnFO24jGM535rGwhyVD_kVL4OhK63D8u_1htpOvZlmxttLoxa5HMhspiBRS_ua.sR3vFEssPUx_1b8RtnmA1Cipeu_yt6gmRyRWXzo6EpR2fao5URmghlFCtBKwh48nFYdamw867lfuzOTO3t0pXNiWlV631ir33OZ5coLyutfwc5ZDgAwRfi.ODZma9ySrhNaxm02yahehYcfeIMhChHM0IBrYc_x8_rmIMJt5Hsd03KJdr06rzEA9fhhiihgnmUlgiy0KUnw5QnpxwfxZequY5GSsc3Z16rm2wsGs9_OqgYDQeRdyDIcLdIE1MtVmUz_UIYlDnSaSiW29OeYpnqlzSVvmz.jkpuM.F95AVv_O3k2HjgzjN6eRsFFEoPNb4qt9oysqCxJGrOpStzcgzou2uOWZ.q1i3ne9laLzrkit5b12WeCWv_4YPzJ7aSetSblO1uP9PwBj_YQktkuTyh4j3XeRrwiihH5IUGBjPruVr_f0kxlk7kG3Cab7Hf04R2Een4xflIhExERtqxN3eOJDrB8t0BknKyOY39w6A9SOUHDBg8KKDYN7Jvqk5qufOdIDjb2rQ4EFLi_ZKEwWMifHJFJuQrxvEXM6ROVH0DRpuy.pCBh_U6z0qEdDcD77Ojo9Aq7JVI66MUlawCIiQsD_P_kG4o6QWAcP627XP5neg_QIvX7P7oM13Hez6ulqDekBGabDMHv.7TgLn84PQW5IiJyFXqHUUyfW1TDU9T7XjYHO_Qlh8RnzGM1TyYp_JDCiV3b.XEQAVH8gjcVurXD0V8UWSupkI_qiv4irXyv5lmzR8lGYM1nkfLHUPH9TtQBJPa.msWzgBBPmQne2jBlhXpCGOzFWhHpu4..XkWYWxhPgYQKY_1vU.l1KameUUvma5QIEN0.Z9FKmfx3BMdLdh3cAtGps3519fS1m0TiK_SsczOBlMQLzfTQW64Fgdl5azo15B2VDBbHOtkM7iVaEcD0voU4Fd61OiSvmh93N6wOKgr7B4.DPVUNEh.q2NMSp31VSo1Yor7U8sUXR1QPQoBnB.OaZOk8\",cRq: {ru: \\'aHR0cHM6Ly9sZWV0Y29kZS5jb20vcHJvYmxlbXMvbWVyZ2Utc3RyaW5ncy1hbHRlcm5hdGVseS9kZXNjcmlwdGlvbi8=\\',ra: \\'TW96aWxsYS81LjAgKE1hY2ludG9zaDsgSW50ZWwgTWFjIE9TIFggMTBfMTBfMSkgQXBwbGVXZWJLaXQvNTM3LjM2IChLSFRNTCwgbGlrZSBHZWNrbykgQ2hyb21lLzM5LjAuMjE3MS45NSBTYWZhcmkvNTM3LjM2\\',rm: \\'R0VU\\',d: \\'VUsZ9YVJL23KEOxhgNCTtnXUuX2H5y8vplKUbyLE9IoP7+f+6skTdZZ4k3oFZPw0OXan1bwdrOvZn45wogX8oG8bKTJwhLmQPO9Clw2geT+MCwM37bcv7gMJbbHgF9MA4i0jkbmCJV+rb3FurwW61x2hc5pMlS/MozS1xm+wdohSnt+UtuR4JBngqq09YB5V7jEY1CkyjL6kyFNqQWRmSrFUP7o+vitH8ZyGMR1CZBOGTVBwk8qARgcceWGAdoPZjPJ4p6KbDXOlzDcbV3wTunx+r/idmRjMthm8WX/ueSAiSIroG7c9F74dPj4N5YxCmuG4Sb/Yo5r0L0magl4a1Vn5j9nRVrlIlP2wANWHImuOQGxkESUT+dXwKXDCBfaF2ak6sooymIKFkTsfu0oq9CrMe2D24xfU4yaSt5PMyUoPMxoJAAYcoDv/ifccknSSY6FtKB5TdFTW1L338MmjC/xF98l+6jc1IomcY4VpOE3KL52xhxxEjdZlL1Rh+indx8pWIWmZn+qJwpWMm37FJwzRdrcIOB2MbEZphIyqTif+3inzfjOGqLpXNlI+WIwOXLih9wukXOSLHlLjOz3WdA==\\',t: \\'MTcxOTMwNjAzNS4wMDAwMDA=\\',cT: Math.floor(Date.now() / 1000),m: \\'ZNzyeYOIzH3Avq8/I0rteCJmBGJo0GhsSCwuoczGU8E=\\',i1: \\'dHpsjuWcUfgUwsanwEOXtA==\\',i2: \\'r5rTIloYw/Wm223/MITWDA==\\',zh: \\'6dW5KLsjmoGStZm/w3CUkISq8657AEI6JKhvmam58xM=\\',uh: \\'6TWpFOs5yA2kqHBUkRC7Q3BxuZXDS2ZiQqpfVqqMVlI=\\',hh: \\'Lb0VxCKQFzTc4iX077lkQv6YXNlmOsxL7hMPdtK/ZKE=\\',}};var cpo = document.createElement(\\'script\\');cpo.src = \\'/cdn-cgi/challenge-platform/h/b/orchestrate/chl_page/v1?ray=8993c4a14d1aa7a3\\';window._cf_chl_opt.cOgUHash = location.hash === \\'\\' && location.href.indexOf(\\'#\\') !== -1 ? \\'#\\' : location.hash;window._cf_chl_opt.cOgUQuery = location.search === \\'\\' && location.href.slice(0, location.href.length - window._cf_chl_opt.cOgUHash.length).indexOf(\\'?\\') !== -1 ? \\'?\\' : location.search;if (window.history && window.history.replaceState) {var ogU = location.pathname + window._cf_chl_opt.cOgUQuery + window._cf_chl_opt.cOgUHash;history.replaceState(null, null, \"\\\\/problems\\\\/merge-strings-alternately\\\\/description\\\\/?__cf_chl_rt_tk=FJ1k3Y0KzySFxIH9sPHyli0vgPYeZpKNTX_Lgxd39ho-1719306035-0.0.1.1-4052\" + window._cf_chl_opt.cOgUHash);cpo.onload = function() {history.replaceState(null, null, ogU);}}document.getElementsByTagName(\\'head\\')[0].appendChild(cpo);}());</script></body></html>'\n"
     ]
    }
   ],
   "source": [
    "headers = {'User-Agent': 'Mozilla/5.0 (Macintosh; Intel Mac OS X 10_10_1) AppleWebKit/537.36 (KHTML, like Gecko) Chrome/39.0.2171.95 Safari/537.36'}\n",
    "\n",
    "response = requests.get(url, headers=headers)\n",
    "print(response.content)"
   ]
  },
  {
   "cell_type": "code",
   "execution_count": 41,
   "id": "c52ed2be",
   "metadata": {
    "scrolled": true
   },
   "outputs": [
    {
     "data": {
      "text/plain": [
       "<Response [403]>"
      ]
     },
     "execution_count": 41,
     "metadata": {},
     "output_type": "execute_result"
    }
   ],
   "source": [
    "response"
   ]
  },
  {
   "cell_type": "code",
   "execution_count": 42,
   "id": "bfa36999",
   "metadata": {},
   "outputs": [
    {
     "name": "stdout",
     "output_type": "stream",
     "text": [
      "{\n",
      "  \"questionId\": \"1894\",\n",
      "  \"title\": \"Merge Strings Alternately\",\n",
      "  \"content\": \"<p>You are given two strings <code>word1</code> and <code>word2</code>. Merge the strings by adding letters in alternating order, starting with <code>word1</code>. If a string is longer than the other, append the additional letters onto the end of the merged string.</p>\\r\\n\\r\\n<p>Return <em>the merged string.</em></p>\\r\\n\\r\\n<p>&nbsp;</p>\\r\\n<p><strong class=\\\"example\\\">Example 1:</strong></p>\\r\\n\\r\\n<pre>\\r\\n<strong>Input:</strong> word1 = &quot;abc&quot;, word2 = &quot;pqr&quot;\\r\\n<strong>Output:</strong> &quot;apbqcr&quot;\\r\\n<strong>Explanation:</strong>&nbsp;The merged string will be merged as so:\\r\\nword1:  a   b   c\\r\\nword2:    p   q   r\\r\\nmerged: a p b q c r\\r\\n</pre>\\r\\n\\r\\n<p><strong class=\\\"example\\\">Example 2:</strong></p>\\r\\n\\r\\n<pre>\\r\\n<strong>Input:</strong> word1 = &quot;ab&quot;, word2 = &quot;pqrs&quot;\\r\\n<strong>Output:</strong> &quot;apbqrs&quot;\\r\\n<strong>Explanation:</strong>&nbsp;Notice that as word2 is longer, &quot;rs&quot; is appended to the end.\\r\\nword1:  a   b \\r\\nword2:    p   q   r   s\\r\\nmerged: a p b q   r   s\\r\\n</pre>\\r\\n\\r\\n<p><strong class=\\\"example\\\">Example 3:</strong></p>\\r\\n\\r\\n<pre>\\r\\n<strong>Input:</strong> word1 = &quot;abcd&quot;, word2 = &quot;pq&quot;\\r\\n<strong>Output:</strong> &quot;apbqcd&quot;\\r\\n<strong>Explanation:</strong>&nbsp;Notice that as word1 is longer, &quot;cd&quot; is appended to the end.\\r\\nword1:  a   b   c   d\\r\\nword2:    p   q \\r\\nmerged: a p b q c   d\\r\\n</pre>\\r\\n\\r\\n<p>&nbsp;</p>\\r\\n<p><strong>Constraints:</strong></p>\\r\\n\\r\\n<ul>\\r\\n\\t<li><code>1 &lt;= word1.length, word2.length &lt;= 100</code></li>\\r\\n\\t<li><code>word1</code> and <code>word2</code> consist of lowercase English letters.</li>\\r\\n</ul>\",\n",
      "  \"difficulty\": \"Easy\"\n",
      "}\n"
     ]
    }
   ],
   "source": [
    "import requests\n",
    "import json\n",
    "\n",
    "def get_leetcode_problem(title_slug):\n",
    "    url = \"https://leetcode.com/graphql\"\n",
    "    query = \"\"\"\n",
    "    query questionData($titleSlug: String!) {\n",
    "        question(titleSlug: $titleSlug) {\n",
    "            questionId\n",
    "            title\n",
    "            content\n",
    "            difficulty\n",
    "        }\n",
    "    }\n",
    "    \"\"\"\n",
    "    variables = {\"titleSlug\": title_slug}\n",
    "    \n",
    "    response = requests.post(url, json={'query': query, 'variables': variables})\n",
    "    \n",
    "    if response.status_code == 200:\n",
    "        data = response.json()\n",
    "        return data['data']['question']\n",
    "    else:\n",
    "        return f\"Error: Unable to fetch problem. Status code: {response.status_code}\"\n",
    "\n",
    "# Example usage\n",
    "problem_slug = \"merge-strings-alternately\"\n",
    "problem_data = get_leetcode_problem(problem_slug)\n",
    "\n",
    "print(json.dumps(problem_data, indent=2))"
   ]
  },
  {
   "cell_type": "code",
   "execution_count": 44,
   "id": "3fe69dc0",
   "metadata": {},
   "outputs": [
    {
     "name": "stdout",
     "output_type": "stream",
     "text": [
      "{\n",
      "  \"questionId\": \"1894\",\n",
      "  \"title\": \"Merge Strings Alternately\",\n",
      "  \"content\": \"<p>You are given two strings <code>word1</code> and <code>word2</code>. Merge the strings by adding letters in alternating order, starting with <code>word1</code>. If a string is longer than the other, append the additional letters onto the end of the merged string.</p>\\r\\n\\r\\n<p>Return <em>the merged string.</em></p>\\r\\n\\r\\n<p>&nbsp;</p>\\r\\n<p><strong class=\\\"example\\\">Example 1:</strong></p>\\r\\n\\r\\n<pre>\\r\\n<strong>Input:</strong> word1 = &quot;abc&quot;, word2 = &quot;pqr&quot;\\r\\n<strong>Output:</strong> &quot;apbqcr&quot;\\r\\n<strong>Explanation:</strong>&nbsp;The merged string will be merged as so:\\r\\nword1:  a   b   c\\r\\nword2:    p   q   r\\r\\nmerged: a p b q c r\\r\\n</pre>\\r\\n\\r\\n<p><strong class=\\\"example\\\">Example 2:</strong></p>\\r\\n\\r\\n<pre>\\r\\n<strong>Input:</strong> word1 = &quot;ab&quot;, word2 = &quot;pqrs&quot;\\r\\n<strong>Output:</strong> &quot;apbqrs&quot;\\r\\n<strong>Explanation:</strong>&nbsp;Notice that as word2 is longer, &quot;rs&quot; is appended to the end.\\r\\nword1:  a   b \\r\\nword2:    p   q   r   s\\r\\nmerged: a p b q   r   s\\r\\n</pre>\\r\\n\\r\\n<p><strong class=\\\"example\\\">Example 3:</strong></p>\\r\\n\\r\\n<pre>\\r\\n<strong>Input:</strong> word1 = &quot;abcd&quot;, word2 = &quot;pq&quot;\\r\\n<strong>Output:</strong> &quot;apbqcd&quot;\\r\\n<strong>Explanation:</strong>&nbsp;Notice that as word1 is longer, &quot;cd&quot; is appended to the end.\\r\\nword1:  a   b   c   d\\r\\nword2:    p   q \\r\\nmerged: a p b q c   d\\r\\n</pre>\\r\\n\\r\\n<p>&nbsp;</p>\\r\\n<p><strong>Constraints:</strong></p>\\r\\n\\r\\n<ul>\\r\\n\\t<li><code>1 &lt;= word1.length, word2.length &lt;= 100</code></li>\\r\\n\\t<li><code>word1</code> and <code>word2</code> consist of lowercase English letters.</li>\\r\\n</ul>\",\n",
      "  \"difficulty\": \"Easy\",\n",
      "  \"exampleTestcases\": \"\\\"abc\\\"\\n\\\"pqr\\\"\\n\\\"ab\\\"\\n\\\"pqrs\\\"\\n\\\"abcd\\\"\\n\\\"pq\\\"\",\n",
      "  \"parsed_testcases\": [\n",
      "    {\n",
      "      \"input\": \"\\\"abc\\\"\",\n",
      "      \"output\": \"\\\"pqr\\\"\"\n",
      "    },\n",
      "    {\n",
      "      \"input\": \"\\\"ab\\\"\",\n",
      "      \"output\": \"\\\"pqrs\\\"\"\n",
      "    },\n",
      "    {\n",
      "      \"input\": \"\\\"abcd\\\"\",\n",
      "      \"output\": \"\\\"pq\\\"\"\n",
      "    }\n",
      "  ],\n",
      "  \"parsed_examples\": []\n",
      "}\n"
     ]
    }
   ],
   "source": [
    "import requests\n",
    "import json\n",
    "import re\n",
    "\n",
    "def get_leetcode_problem(title_slug):\n",
    "    url = \"https://leetcode.com/graphql\"\n",
    "    query = \"\"\"\n",
    "    query questionData($titleSlug: String!) {\n",
    "        question(titleSlug: $titleSlug) {\n",
    "            questionId\n",
    "            title\n",
    "            content\n",
    "            difficulty\n",
    "            exampleTestcases\n",
    "        }\n",
    "    }\n",
    "    \"\"\"\n",
    "    variables = {\"titleSlug\": title_slug}\n",
    "    \n",
    "    response = requests.post(url, json={'query': query, 'variables': variables})\n",
    "    \n",
    "    if response.status_code == 200:\n",
    "        data = response.json()['data']['question']\n",
    "        \n",
    "        # Parse example test cases\n",
    "        example_testcases = data['exampleTestcases'].split('\\n')\n",
    "        parsed_testcases = []\n",
    "        for i in range(0, len(example_testcases), 2):\n",
    "            if i+1 < len(example_testcases):\n",
    "                parsed_testcases.append({\n",
    "                    'input': example_testcases[i],\n",
    "                    'output': example_testcases[i+1]\n",
    "                })\n",
    "        \n",
    "        # Extract examples from content\n",
    "        content = data['content']\n",
    "        examples = re.findall(r'<strong[^>]*>Example \\d+:</strong>(.*?)<strong>', content, re.DOTALL)\n",
    "        parsed_examples = []\n",
    "        for example in examples:\n",
    "            input_match = re.search(r'<strong[^>]*>Input:</strong>\\s*(.*?)\\s*<strong', example, re.DOTALL)\n",
    "            output_match = re.search(r'<strong[^>]*>Output:</strong>\\s*(.*?)\\s*(<strong|$)', example, re.DOTALL)\n",
    "            if input_match and output_match:\n",
    "                parsed_examples.append({\n",
    "                    'input': input_match.group(1).strip(),\n",
    "                    'output': output_match.group(1).strip()\n",
    "                })\n",
    "        \n",
    "        data['parsed_testcases'] = parsed_testcases\n",
    "        data['parsed_examples'] = parsed_examples\n",
    "        \n",
    "        return data\n",
    "    else:\n",
    "        return f\"Error: Unable to fetch problem. Status code: {response.status_code}\"\n",
    "\n",
    "# Example usage\n",
    "problem_slug = \"merge-strings-alternately\"\n",
    "problem_data = get_leetcode_problem(problem_slug)\n",
    "\n",
    "print(json.dumps(problem_data, indent=2))"
   ]
  },
  {
   "cell_type": "code",
   "execution_count": 45,
   "id": "4a3bb5f3",
   "metadata": {},
   "outputs": [
    {
     "name": "stdout",
     "output_type": "stream",
     "text": [
      "{\n",
      "  \"questionId\": \"1894\",\n",
      "  \"title\": \"Merge Strings Alternately\",\n",
      "  \"content\": \"<p>You are given two strings <code>word1</code> and <code>word2</code>. Merge the strings by adding letters in alternating order, starting with <code>word1</code>. If a string is longer than the other, append the additional letters onto the end of the merged string.</p>\\r\\n\\r\\n<p>Return <em>the merged string.</em></p>\\r\\n\\r\\n<p>&nbsp;</p>\\r\\n<p><strong class=\\\"example\\\">Example 1:</strong></p>\\r\\n\\r\\n<pre>\\r\\n<strong>Input:</strong> word1 = &quot;abc&quot;, word2 = &quot;pqr&quot;\\r\\n<strong>Output:</strong> &quot;apbqcr&quot;\\r\\n<strong>Explanation:</strong>&nbsp;The merged string will be merged as so:\\r\\nword1:  a   b   c\\r\\nword2:    p   q   r\\r\\nmerged: a p b q c r\\r\\n</pre>\\r\\n\\r\\n<p><strong class=\\\"example\\\">Example 2:</strong></p>\\r\\n\\r\\n<pre>\\r\\n<strong>Input:</strong> word1 = &quot;ab&quot;, word2 = &quot;pqrs&quot;\\r\\n<strong>Output:</strong> &quot;apbqrs&quot;\\r\\n<strong>Explanation:</strong>&nbsp;Notice that as word2 is longer, &quot;rs&quot; is appended to the end.\\r\\nword1:  a   b \\r\\nword2:    p   q   r   s\\r\\nmerged: a p b q   r   s\\r\\n</pre>\\r\\n\\r\\n<p><strong class=\\\"example\\\">Example 3:</strong></p>\\r\\n\\r\\n<pre>\\r\\n<strong>Input:</strong> word1 = &quot;abcd&quot;, word2 = &quot;pq&quot;\\r\\n<strong>Output:</strong> &quot;apbqcd&quot;\\r\\n<strong>Explanation:</strong>&nbsp;Notice that as word1 is longer, &quot;cd&quot; is appended to the end.\\r\\nword1:  a   b   c   d\\r\\nword2:    p   q \\r\\nmerged: a p b q c   d\\r\\n</pre>\\r\\n\\r\\n<p>&nbsp;</p>\\r\\n<p><strong>Constraints:</strong></p>\\r\\n\\r\\n<ul>\\r\\n\\t<li><code>1 &lt;= word1.length, word2.length &lt;= 100</code></li>\\r\\n\\t<li><code>word1</code> and <code>word2</code> consist of lowercase English letters.</li>\\r\\n</ul>\",\n",
      "  \"difficulty\": \"Easy\",\n",
      "  \"initial_code\": \"class Solution:\\n    def mergeAlternately(self, word1: str, word2: str) -> str:\\n        \"\n",
      "}\n"
     ]
    }
   ],
   "source": [
    "import requests\n",
    "import json\n",
    "\n",
    "def get_leetcode_problem_with_code(title_slug):\n",
    "    url = \"https://leetcode.com/graphql\"\n",
    "    query = \"\"\"\n",
    "    query questionData($titleSlug: String!) {\n",
    "        question(titleSlug: $titleSlug) {\n",
    "            questionId\n",
    "            title\n",
    "            content\n",
    "            difficulty\n",
    "            codeSnippets {\n",
    "                lang\n",
    "                langSlug\n",
    "                code\n",
    "            }\n",
    "        }\n",
    "    }\n",
    "    \"\"\"\n",
    "    variables = {\"titleSlug\": title_slug}\n",
    "    \n",
    "    response = requests.post(url, json={'query': query, 'variables': variables})\n",
    "    \n",
    "    if response.status_code == 200:\n",
    "        data = response.json()['data']['question']\n",
    "        \n",
    "        # Extract Python code snippet\n",
    "        python_code = next((snippet['code'] for snippet in data['codeSnippets'] if snippet['langSlug'] == 'python3'), None)\n",
    "        \n",
    "        if python_code:\n",
    "            data['initial_code'] = python_code\n",
    "        else:\n",
    "            data['initial_code'] = \"No Python code snippet found.\"\n",
    "        \n",
    "        # Remove the full codeSnippets array to keep the output cleaner\n",
    "        del data['codeSnippets']\n",
    "        \n",
    "        return data\n",
    "    else:\n",
    "        return f\"Error: Unable to fetch problem. Status code: {response.status_code}\"\n",
    "\n",
    "# Example usage\n",
    "problem_slug = \"merge-strings-alternately\"\n",
    "problem_data = get_leetcode_problem_with_code(problem_slug)\n",
    "\n",
    "print(json.dumps(problem_data, indent=2))"
   ]
  },
  {
   "cell_type": "code",
   "execution_count": 65,
   "id": "173bc3bc",
   "metadata": {},
   "outputs": [],
   "source": [
    "problems_content = []"
   ]
  },
  {
   "cell_type": "code",
   "execution_count": 66,
   "id": "5f4e0cad",
   "metadata": {
    "scrolled": true
   },
   "outputs": [
    {
     "name": "stdout",
     "output_type": "stream",
     "text": [
      "merge-strings-alternately\n",
      "--------------\n",
      "greatest-common-divisor-of-strings\n",
      "--------------\n",
      "kids-with-the-greatest-number-of-candies\n",
      "--------------\n",
      "can-place-flowers\n",
      "--------------\n",
      "reverse-vowels-of-a-string\n",
      "--------------\n",
      "reverse-words-in-a-string\n",
      "--------------\n",
      "product-of-array-except-self\n",
      "--------------\n",
      "increasing-triplet-subsequence\n",
      "--------------\n",
      "string-compression\n",
      "--------------\n",
      "move-zeroes\n",
      "--------------\n",
      "is-subsequence\n",
      "--------------\n",
      "container-with-most-water\n",
      "--------------\n",
      "max-number-of-k-sum-pairs\n",
      "--------------\n",
      "maximum-average-subarray-i\n",
      "--------------\n",
      "maximum-number-of-vowels-in-a-substring-of-given-length\n",
      "--------------\n",
      "max-consecutive-ones-iii\n",
      "--------------\n",
      "longest-subarray-of-1s-after-deleting-one-element\n",
      "--------------\n",
      "find-the-highest-altitude\n",
      "--------------\n",
      "find-pivot-index\n",
      "--------------\n",
      "find-the-difference-of-two-arrays\n",
      "--------------\n",
      "unique-number-of-occurrences\n",
      "--------------\n",
      "determine-if-two-strings-are-close\n",
      "--------------\n",
      "equal-row-and-column-pairs\n",
      "--------------\n",
      "removing-stars-from-a-string\n",
      "--------------\n",
      "asteroid-collision\n",
      "--------------\n",
      "decode-string\n",
      "--------------\n",
      "number-of-recent-calls\n",
      "--------------\n",
      "dota2-senate\n",
      "--------------\n",
      "delete-the-middle-node-of-a-linked-list\n",
      "--------------\n",
      "odd-even-linked-list\n",
      "--------------\n",
      "reverse-linked-list\n",
      "--------------\n",
      "maximum-twin-sum-of-a-linked-list\n",
      "--------------\n",
      "maximum-depth-of-binary-tree\n",
      "--------------\n",
      "leaf-similar-trees\n",
      "--------------\n",
      "count-good-nodes-in-binary-tree\n",
      "--------------\n",
      "path-sum-iii\n",
      "--------------\n",
      "longest-zigzag-path-in-a-binary-tree\n",
      "--------------\n",
      "lowest-common-ancestor-of-a-binary-tree\n",
      "--------------\n",
      "binary-tree-right-side-view\n",
      "--------------\n",
      "maximum-level-sum-of-a-binary-tree\n",
      "--------------\n",
      "search-in-a-binary-search-tree\n",
      "--------------\n",
      "delete-node-in-a-bst\n",
      "--------------\n",
      "keys-and-rooms\n",
      "--------------\n",
      "number-of-provinces\n",
      "--------------\n",
      "reorder-routes-to-make-all-paths-lead-to-the-city-zero\n",
      "--------------\n",
      "evaluate-division\n",
      "--------------\n",
      "nearest-exit-from-entrance-in-maze\n",
      "--------------\n",
      "rotting-oranges\n",
      "--------------\n",
      "kth-largest-element-in-an-array\n",
      "--------------\n",
      "smallest-number-in-infinite-set\n",
      "--------------\n",
      "maximum-subsequence-score\n",
      "--------------\n",
      "total-cost-to-hire-k-workers\n",
      "--------------\n",
      "guess-number-higher-or-lower\n",
      "--------------\n",
      "successful-pairs-of-spells-and-potions\n",
      "--------------\n",
      "find-peak-element\n",
      "--------------\n",
      "koko-eating-bananas\n",
      "--------------\n",
      "letter-combinations-of-a-phone-number\n",
      "--------------\n",
      "combination-sum-iii\n",
      "--------------\n",
      "n-th-tribonacci-number\n",
      "--------------\n",
      "min-cost-climbing-stairs\n",
      "--------------\n",
      "house-robber\n",
      "--------------\n",
      "domino-and-tromino-tiling\n",
      "--------------\n",
      "unique-paths\n",
      "--------------\n",
      "longest-common-subsequence\n",
      "--------------\n",
      "best-time-to-buy-and-sell-stock-with-transaction-fee\n",
      "--------------\n",
      "edit-distance\n",
      "--------------\n",
      "counting-bits\n",
      "--------------\n",
      "single-number\n",
      "--------------\n",
      "minimum-flips-to-make-a-or-b-equal-to-c\n",
      "--------------\n",
      "implement-trie-prefix-tree\n",
      "--------------\n",
      "search-suggestions-system\n",
      "--------------\n",
      "non-overlapping-intervals\n",
      "--------------\n",
      "minimum-number-of-arrows-to-burst-balloons\n",
      "--------------\n",
      "daily-temperatures\n",
      "--------------\n",
      "online-stock-span\n",
      "--------------\n"
     ]
    }
   ],
   "source": [
    "import time\n",
    "for url in probs:\n",
    "    query_key = url.split('/')[-1]\n",
    "    try:\n",
    "        print(query_key)\n",
    "        problem_data = get_leetcode_problem_with_code(query_key)\n",
    "        problem_data['query_key'] = query_key\n",
    "        problems_content.append(problem_data)\n",
    "    except:\n",
    "        print('failed')\n",
    "    print('--------------')\n",
    "    time.sleep(0.5)"
   ]
  },
  {
   "cell_type": "code",
   "execution_count": 67,
   "id": "f42c966a",
   "metadata": {},
   "outputs": [
    {
     "data": {
      "text/plain": [
       "75"
      ]
     },
     "execution_count": 67,
     "metadata": {},
     "output_type": "execute_result"
    }
   ],
   "source": [
    "len(problems_content)"
   ]
  },
  {
   "cell_type": "code",
   "execution_count": 81,
   "id": "997e63f0",
   "metadata": {},
   "outputs": [
    {
     "data": {
      "text/plain": [
       "{'questionId': '1528',\n",
       " 'title': 'Kids With the Greatest Number of Candies',\n",
       " 'content': '<p>There are <code>n</code> kids with candies. You are given an integer array <code>candies</code>, where each <code>candies[i]</code> represents the number of candies the <code>i<sup>th</sup></code> kid has, and an integer <code>extraCandies</code>, denoting the number of extra candies that you have.</p>\\n\\n<p>Return <em>a boolean array </em><code>result</code><em> of length </em><code>n</code><em>, where </em><code>result[i]</code><em> is </em><code>true</code><em> if, after giving the </em><code>i<sup>th</sup></code><em> kid all the </em><code>extraCandies</code><em>, they will have the <strong>greatest</strong> number of candies among all the kids</em><em>, or </em><code>false</code><em> otherwise</em>.</p>\\n\\n<p>Note that <strong>multiple</strong> kids can have the <strong>greatest</strong> number of candies.</p>\\n\\n<p>&nbsp;</p>\\n<p><strong class=\"example\">Example 1:</strong></p>\\n\\n<pre>\\n<strong>Input:</strong> candies = [2,3,5,1,3], extraCandies = 3\\n<strong>Output:</strong> [true,true,true,false,true] \\n<strong>Explanation:</strong> If you give all extraCandies to:\\n- Kid 1, they will have 2 + 3 = 5 candies, which is the greatest among the kids.\\n- Kid 2, they will have 3 + 3 = 6 candies, which is the greatest among the kids.\\n- Kid 3, they will have 5 + 3 = 8 candies, which is the greatest among the kids.\\n- Kid 4, they will have 1 + 3 = 4 candies, which is not the greatest among the kids.\\n- Kid 5, they will have 3 + 3 = 6 candies, which is the greatest among the kids.\\n</pre>\\n\\n<p><strong class=\"example\">Example 2:</strong></p>\\n\\n<pre>\\n<strong>Input:</strong> candies = [4,2,1,1,2], extraCandies = 1\\n<strong>Output:</strong> [true,false,false,false,false] \\n<strong>Explanation:</strong> There is only 1 extra candy.\\nKid 1 will always have the greatest number of candies, even if a different kid is given the extra candy.\\n</pre>\\n\\n<p><strong class=\"example\">Example 3:</strong></p>\\n\\n<pre>\\n<strong>Input:</strong> candies = [12,1,12], extraCandies = 10\\n<strong>Output:</strong> [true,false,true]\\n</pre>\\n\\n<p>&nbsp;</p>\\n<p><strong>Constraints:</strong></p>\\n\\n<ul>\\n\\t<li><code>n == candies.length</code></li>\\n\\t<li><code>2 &lt;= n &lt;= 100</code></li>\\n\\t<li><code>1 &lt;= candies[i] &lt;= 100</code></li>\\n\\t<li><code>1 &lt;= extraCandies &lt;= 50</code></li>\\n</ul>\\n',\n",
       " 'difficulty': 'Easy',\n",
       " 'initial_code': 'class Solution:\\n    def kidsWithCandies(self, candies: List[int], extraCandies: int) -> List[bool]:\\n        ',\n",
       " 'query_key': 'kids-with-the-greatest-number-of-candies'}"
      ]
     },
     "execution_count": 81,
     "metadata": {},
     "output_type": "execute_result"
    }
   ],
   "source": [
    "problems_content[2]"
   ]
  },
  {
   "cell_type": "code",
   "execution_count": 83,
   "id": "ef74875e",
   "metadata": {},
   "outputs": [],
   "source": [
    "import sqlite3\n",
    "conn = sqlite3.connect('problems_v7.db')\n",
    "conn.row_factory = sqlite3.Row\n",
    "cursor = conn.cursor()"
   ]
  },
  {
   "cell_type": "code",
   "execution_count": 90,
   "id": "c04c89f5",
   "metadata": {},
   "outputs": [
    {
     "data": {
      "text/plain": [
       "{'id': '1',\n",
       " 'title': 'Two Sum',\n",
       " 'difficulty': 'Easy',\n",
       " 'problem_statement': '# Two Sum\\n\\nGiven an array of integers `nums` and an integer `target`, return indices of the two numbers such that they add up to `target`.\\n\\nYou may assume that each input would have exactly one solution, and you may not use the same element twice.\\n\\n**Example 1:**\\n- **Input:** `nums = [2,7,11,15], target = 9`\\n- **Output:** `[0,1]`\\n- **Explanation:** Because `nums[0] + nums[1] == 9`, we return `[0, 1]`.\\n\\n**Example 2:**\\n- **Input:** `nums = [3,2,4], target = 6`\\n- **Output:** `[1,2]`\\n\\n**Example 3:**\\n- **Input:** `nums = [3,3], target = 6`\\n- **Output:** `[0,1]`\\n\\n**Constraints:**\\n- `2 <= nums.length <= 10^3`\\n- `-10^9 <= nums[i] <= 10^9`\\n- `-10^9 <= target <= 10^9`\\n- Only one valid answer exists.\\n\\n**Follow-up:** Can you come up with an algorithm that is less than `O(n^2)` time complexity?\\n',\n",
       " 'starting_code': 'class Problem:\\n    def solution(self, nums, target):\\n        # Your code here\\n        pass\\n',\n",
       " 'solution_code': 'class Problem:\\n    def solution(self, nums, target):\\n        seen = {}\\n        for i, num in enumerate(nums):\\n            complement = target - num\\n            if complement in seen:\\n                return [seen[complement], i]\\n            seen[num] = i\\n        return []\\n',\n",
       " 'test_cases': '[{\"input\": [[2, 7, 11, 15], 9], \"output\": [0, 1]}, {\"input\": [[3, 2, 4], 6], \"output\": [1, 2]}, {\"input\": [[3, 3], 6], \"output\": [0, 1]}]',\n",
       " 'test_run_code': 'return_output = Problem().solution(*input_data)\\nvalid = return_output == expected_output'}"
      ]
     },
     "execution_count": 90,
     "metadata": {},
     "output_type": "execute_result"
    }
   ],
   "source": [
    "dict(cursor.execute('SELECT * FROM problems').fetchone())"
   ]
  },
  {
   "cell_type": "code",
   "execution_count": 1,
   "id": "2bc48705",
   "metadata": {},
   "outputs": [],
   "source": [
    "import sqlite3\n",
    "conn = sqlite3.connect('problems_v8.db')\n",
    "# conn.row_factory = sqlite3.Row\n",
    "cursor = conn.cursor()"
   ]
  },
  {
   "cell_type": "code",
   "execution_count": 104,
   "id": "d8542e95",
   "metadata": {},
   "outputs": [],
   "source": [
    "cursor.execute('''CREATE TABLE IF NOT EXISTS problems (\n",
    "                    questionId TEXT PRIMARY KEY,\n",
    "                    title TEXT NOT NULL,\n",
    "                    content TEXT NOT NULL,\n",
    "                    difficulty TEXT,\n",
    "                    initial_code TEXT NOT NULL,\n",
    "                    test_cases TEXT,\n",
    "                    query_key TEXT,\n",
    "                    test_run_code TEXT NOT NULL\n",
    "                )''')\n",
    "\n",
    "conn.commit()"
   ]
  },
  {
   "cell_type": "code",
   "execution_count": 106,
   "id": "310a1a4b",
   "metadata": {},
   "outputs": [
    {
     "data": {
      "text/plain": [
       "[('table',\n",
       "  'problems',\n",
       "  'problems',\n",
       "  2,\n",
       "  'CREATE TABLE problems (\\n                    questionId TEXT PRIMARY KEY,\\n                    title TEXT NOT NULL,\\n                    content TEXT NOT NULL,\\n                    difficulty TEXT,\\n                    initial_code TEXT NOT NULL,\\n                    test_cases TEXT,\\n                    query_key TEXT,\\n                    test_run_code TEXT NOT NULL\\n                )'),\n",
       " ('index', 'sqlite_autoindex_problems_1', 'problems', 3, None)]"
      ]
     },
     "execution_count": 106,
     "metadata": {},
     "output_type": "execute_result"
    }
   ],
   "source": [
    "cursor.execute('SELECT * from sqlite_master').fetchall()"
   ]
  },
  {
   "cell_type": "code",
   "execution_count": 112,
   "id": "e63f202e",
   "metadata": {},
   "outputs": [],
   "source": [
    "input_data = []\n",
    "keys = ('questionId', 'title', 'content', 'difficulty', 'initial_code', 'query_key', 'test_cases', 'test_run_code' )\n",
    "for data in problems_content:\n",
    "    data = dict(data)\n",
    "    data['test_cases'] = '[]'\n",
    "    data['test_run_code'] = 'return_output = Problem().solution(*input_data)\\nvalid = return_output == expected_output'\n",
    "    \n",
    "    temp = []\n",
    "    for k in keys:\n",
    "        temp.append(data[k])\n",
    "    input_data.append(tuple(temp))"
   ]
  },
  {
   "cell_type": "code",
   "execution_count": 113,
   "id": "2e95b1fb",
   "metadata": {},
   "outputs": [
    {
     "data": {
      "text/plain": [
       "75"
      ]
     },
     "execution_count": 113,
     "metadata": {},
     "output_type": "execute_result"
    }
   ],
   "source": [
    "len(input_data)"
   ]
  },
  {
   "cell_type": "code",
   "execution_count": 115,
   "id": "c3475da9",
   "metadata": {},
   "outputs": [
    {
     "data": {
      "text/plain": [
       "('1894',\n",
       " 'Merge Strings Alternately',\n",
       " '<p>You are given two strings <code>word1</code> and <code>word2</code>. Merge the strings by adding letters in alternating order, starting with <code>word1</code>. If a string is longer than the other, append the additional letters onto the end of the merged string.</p>\\r\\n\\r\\n<p>Return <em>the merged string.</em></p>\\r\\n\\r\\n<p>&nbsp;</p>\\r\\n<p><strong class=\"example\">Example 1:</strong></p>\\r\\n\\r\\n<pre>\\r\\n<strong>Input:</strong> word1 = &quot;abc&quot;, word2 = &quot;pqr&quot;\\r\\n<strong>Output:</strong> &quot;apbqcr&quot;\\r\\n<strong>Explanation:</strong>&nbsp;The merged string will be merged as so:\\r\\nword1:  a   b   c\\r\\nword2:    p   q   r\\r\\nmerged: a p b q c r\\r\\n</pre>\\r\\n\\r\\n<p><strong class=\"example\">Example 2:</strong></p>\\r\\n\\r\\n<pre>\\r\\n<strong>Input:</strong> word1 = &quot;ab&quot;, word2 = &quot;pqrs&quot;\\r\\n<strong>Output:</strong> &quot;apbqrs&quot;\\r\\n<strong>Explanation:</strong>&nbsp;Notice that as word2 is longer, &quot;rs&quot; is appended to the end.\\r\\nword1:  a   b \\r\\nword2:    p   q   r   s\\r\\nmerged: a p b q   r   s\\r\\n</pre>\\r\\n\\r\\n<p><strong class=\"example\">Example 3:</strong></p>\\r\\n\\r\\n<pre>\\r\\n<strong>Input:</strong> word1 = &quot;abcd&quot;, word2 = &quot;pq&quot;\\r\\n<strong>Output:</strong> &quot;apbqcd&quot;\\r\\n<strong>Explanation:</strong>&nbsp;Notice that as word1 is longer, &quot;cd&quot; is appended to the end.\\r\\nword1:  a   b   c   d\\r\\nword2:    p   q \\r\\nmerged: a p b q c   d\\r\\n</pre>\\r\\n\\r\\n<p>&nbsp;</p>\\r\\n<p><strong>Constraints:</strong></p>\\r\\n\\r\\n<ul>\\r\\n\\t<li><code>1 &lt;= word1.length, word2.length &lt;= 100</code></li>\\r\\n\\t<li><code>word1</code> and <code>word2</code> consist of lowercase English letters.</li>\\r\\n</ul>',\n",
       " 'Easy',\n",
       " 'class Solution:\\n    def mergeAlternately(self, word1: str, word2: str) -> str:\\n        ',\n",
       " 'merge-strings-alternately',\n",
       " '[]',\n",
       " 'return_output = Problem().solution(*input_data)\\nvalid = return_output == expected_output')"
      ]
     },
     "execution_count": 115,
     "metadata": {},
     "output_type": "execute_result"
    }
   ],
   "source": [
    "input_data[0]"
   ]
  },
  {
   "cell_type": "code",
   "execution_count": 141,
   "id": "c4b69b22",
   "metadata": {},
   "outputs": [
    {
     "ename": "OperationalError",
     "evalue": "database is locked",
     "output_type": "error",
     "traceback": [
      "\u001b[0;31m---------------------------------------------------------------------------\u001b[0m",
      "\u001b[0;31mOperationalError\u001b[0m                          Traceback (most recent call last)",
      "Cell \u001b[0;32mIn[141], line 1\u001b[0m\n\u001b[0;32m----> 1\u001b[0m \u001b[43mcursor\u001b[49m\u001b[38;5;241;43m.\u001b[39;49m\u001b[43mexecutemany\u001b[49m\u001b[43m(\u001b[49m\u001b[38;5;124;43m'\u001b[39;49m\u001b[38;5;124;43mINSERT INTO problems (questionId, title, content, difficulty, initial_code, query_key, test_cases, test_run_code ) VALUES (?, ?, ?, ?, ?, ?, ?, ?)\u001b[39;49m\u001b[38;5;124;43m'\u001b[39;49m\u001b[43m,\u001b[49m\u001b[43m \u001b[49m\u001b[43minput_data\u001b[49m\u001b[43m)\u001b[49m\n\u001b[1;32m      3\u001b[0m \u001b[38;5;66;03m# Commit the transaction and close the connection\u001b[39;00m\n\u001b[1;32m      4\u001b[0m conn\u001b[38;5;241m.\u001b[39mcommit()\n",
      "\u001b[0;31mOperationalError\u001b[0m: database is locked"
     ]
    }
   ],
   "source": [
    "cursor.executemany('INSERT INTO problems (questionId, title, content, difficulty, initial_code, query_key, test_cases, test_run_code ) VALUES (?, ?, ?, ?, ?, ?, ?, ?)', input_data)\n",
    "\n",
    "# Commit the transaction and close the connection\n",
    "conn.commit()\n",
    "conn.close()"
   ]
  },
  {
   "cell_type": "code",
   "execution_count": 41,
   "id": "3b6cafda",
   "metadata": {},
   "outputs": [
    {
     "data": {
      "text/plain": [
       "('392',\n",
       " 'Is Subsequence',\n",
       " '<p>Given two strings <code>s</code> and <code>t</code>, return <code>true</code><em> if </em><code>s</code><em> is a <strong>subsequence</strong> of </em><code>t</code><em>, or </em><code>false</code><em> otherwise</em>.</p>\\n\\n<p>A <strong>subsequence</strong> of a string is a new string that is formed from the original string by deleting some (can be none) of the characters without disturbing the relative positions of the remaining characters. (i.e., <code>&quot;ace&quot;</code> is a subsequence of <code>&quot;<u>a</u>b<u>c</u>d<u>e</u>&quot;</code> while <code>&quot;aec&quot;</code> is not).</p>\\n\\n<p>&nbsp;</p>\\n<p><strong class=\"example\">Example 1:</strong></p>\\n<pre><strong>Input:</strong> s = \"abc\", t = \"ahbgdc\"\\n<strong>Output:</strong> true\\n</pre><p><strong class=\"example\">Example 2:</strong></p>\\n<pre><strong>Input:</strong> s = \"axc\", t = \"ahbgdc\"\\n<strong>Output:</strong> false\\n</pre>\\n<p>&nbsp;</p>\\n<p><strong>Constraints:</strong></p>\\n\\n<ul>\\n\\t<li><code>0 &lt;= s.length &lt;= 100</code></li>\\n\\t<li><code>0 &lt;= t.length &lt;= 10<sup>4</sup></code></li>\\n\\t<li><code>s</code> and <code>t</code> consist only of lowercase English letters.</li>\\n</ul>\\n\\n<p>&nbsp;</p>\\n<strong>Follow up:</strong> Suppose there are lots of incoming <code>s</code>, say <code>s<sub>1</sub>, s<sub>2</sub>, ..., s<sub>k</sub></code> where <code>k &gt;= 10<sup>9</sup></code>, and you want to check one by one to see if <code>t</code> has its subsequence. In this scenario, how would you change your code?',\n",
       " 'Easy',\n",
       " 'class Solution:\\n    def isSubsequence(self, s: str, t: str) -> bool:\\n        ',\n",
       " '[]',\n",
       " 'is-subsequence',\n",
       " 'return_output = Problem().solution(*input_data)\\nvalid = return_output == expected_output')"
      ]
     },
     "execution_count": 41,
     "metadata": {},
     "output_type": "execute_result"
    }
   ],
   "source": [
    "cursor.execute('SELECT * from problems WHERE questionId = ?', (392,)).fetchone()"
   ]
  },
  {
   "cell_type": "code",
   "execution_count": 42,
   "id": "036d59cb",
   "metadata": {},
   "outputs": [],
   "source": [
    "import json\n",
    "\n",
    "test_cases = [\n",
    "    {\n",
    "        'input': ['abc', 'ahbgdc'],\n",
    "        'output': True\n",
    "    },\n",
    "     {\n",
    "        'input': ['axc', 'ahbgdc'],\n",
    "        'output': False\n",
    "    },\n",
    "    \n",
    "]\n",
    "test_cases = json.dumps(test_cases)\n",
    "test_run_code = 'return_output = Solution().isSubsequence(*input_data)\\nvalid = return_output == expected_output'\n",
    "update_data = [\n",
    "    (test_cases, test_run_code, '392')\n",
    "]"
   ]
  },
  {
   "cell_type": "code",
   "execution_count": 43,
   "id": "0d269be2",
   "metadata": {},
   "outputs": [],
   "source": [
    "cursor.executemany('UPDATE problems SET test_cases = ?, test_run_code = ? WHERE questionId = ?', update_data)\n",
    "conn.commit()"
   ]
  },
  {
   "cell_type": "code",
   "execution_count": 3,
   "id": "8fdf2e80",
   "metadata": {},
   "outputs": [
    {
     "data": {
      "text/plain": [
       "(4864, 9223372036854775807)"
      ]
     },
     "execution_count": 3,
     "metadata": {},
     "output_type": "execute_result"
    }
   ],
   "source": [
    "import resource\n",
    "resource.getrlimit(resource.RLIMIT_NOFILE)"
   ]
  },
  {
   "cell_type": "code",
   "execution_count": 6,
   "id": "7dde49d2",
   "metadata": {},
   "outputs": [],
   "source": [
    "import resource\n",
    "import time\n",
    "\n",
    "class MemoryProfiler:\n",
    "    def __init__(self, interval=0.1, max_memory=100*1024*1024):  # 100 MB default\n",
    "        self.interval = interval\n",
    "        self.max_memory = max_memory\n",
    "        self.peak_memory = 0\n",
    "        self.is_running = False\n",
    "\n",
    "    def start(self):\n",
    "        self.is_running = True\n",
    "        self.peak_memory = 0\n",
    "        while self.is_running:\n",
    "            current_memory = resource.getrusage(resource.RUSAGE_SELF).ru_maxrss * 1024  # Convert to bytes\n",
    "            self.peak_memory = max(self.peak_memory, current_memory)\n",
    "            if current_memory > self.max_memory:\n",
    "                raise MemoryError(f\"Memory limit exceeded: {current_memory} bytes\")\n",
    "            time.sleep(self.interval)\n",
    "\n",
    "    def stop(self):\n",
    "        self.is_running = False\n",
    "\n",
    "    def get_peak_memory(self):\n",
    "        return self.peak_memory\n",
    "    "
   ]
  },
  {
   "cell_type": "code",
   "execution_count": 10,
   "id": "62310071",
   "metadata": {},
   "outputs": [
    {
     "data": {
      "text/plain": [
       "64856522752"
      ]
     },
     "execution_count": 10,
     "metadata": {},
     "output_type": "execute_result"
    }
   ],
   "source": [
    "resource.getrusage(resource.RUSAGE_SELF).ru_maxrss * 1024"
   ]
  },
  {
   "cell_type": "code",
   "execution_count": 20,
   "id": "e9f629f2",
   "metadata": {},
   "outputs": [
    {
     "data": {
      "text/plain": [
       "True"
      ]
     },
     "execution_count": 20,
     "metadata": {},
     "output_type": "execute_result"
    }
   ],
   "source": [
    "10**6 == 1000000 # 8MB"
   ]
  },
  {
   "cell_type": "code",
   "execution_count": 21,
   "id": "ef1d7742",
   "metadata": {},
   "outputs": [
    {
     "data": {
      "text/plain": [
       "32000000"
      ]
     },
     "execution_count": 21,
     "metadata": {},
     "output_type": "execute_result"
    }
   ],
   "source": [
    "32 * 10**6 "
   ]
  },
  {
   "cell_type": "code",
   "execution_count": 23,
   "id": "7e869f14",
   "metadata": {},
   "outputs": [
    {
     "data": {
      "text/plain": [
       "30.517578125"
      ]
     },
     "execution_count": 23,
     "metadata": {},
     "output_type": "execute_result"
    }
   ],
   "source": [
    "32000000/1024**2"
   ]
  },
  {
   "cell_type": "code",
   "execution_count": 36,
   "id": "14961a22",
   "metadata": {},
   "outputs": [
    {
     "data": {
      "text/plain": [
       "7.629447937011719"
      ]
     },
     "execution_count": 36,
     "metadata": {},
     "output_type": "execute_result"
    }
   ],
   "source": [
    "import sys\n",
    "sys.getsizeof([1]*10**6)/1024**2"
   ]
  },
  {
   "cell_type": "code",
   "execution_count": 37,
   "id": "23599d56",
   "metadata": {},
   "outputs": [
    {
     "data": {
      "text/plain": [
       "762.9395065307617"
      ]
     },
     "execution_count": 37,
     "metadata": {},
     "output_type": "execute_result"
    }
   ],
   "source": [
    "800000056/1024**2 # so leetcode allows upto ~1GB"
   ]
  },
  {
   "cell_type": "code",
   "execution_count": 39,
   "id": "9a8f2e51",
   "metadata": {},
   "outputs": [
    {
     "data": {
      "text/plain": [
       "pmem(rss=28459008, vms=35973050368, pfaults=392766, pageins=7625)"
      ]
     },
     "execution_count": 39,
     "metadata": {},
     "output_type": "execute_result"
    }
   ],
   "source": [
    "import psutil\n",
    "psutil.Process().memory_info()"
   ]
  },
  {
   "cell_type": "code",
   "execution_count": 40,
   "id": "b1c4d4b2",
   "metadata": {},
   "outputs": [],
   "source": []
  },
  {
   "cell_type": "code",
   "execution_count": 43,
   "id": "22f39a10",
   "metadata": {},
   "outputs": [
    {
     "data": {
      "text/plain": [
       "228.88188934326172"
      ]
     },
     "execution_count": 43,
     "metadata": {},
     "output_type": "execute_result"
    }
   ],
   "source": [
    "sys.getsizeof([1]* 3 * 10**7)/1024**2"
   ]
  },
  {
   "cell_type": "code",
   "execution_count": 46,
   "id": "59bc45f2",
   "metadata": {},
   "outputs": [
    {
     "data": {
      "text/plain": [
       "16203776"
      ]
     },
     "execution_count": 46,
     "metadata": {},
     "output_type": "execute_result"
    }
   ],
   "source": [
    "psutil.Process().memory_info().rss"
   ]
  },
  {
   "cell_type": "code",
   "execution_count": 55,
   "id": "81925c98",
   "metadata": {},
   "outputs": [
    {
     "ename": "TypeError",
     "evalue": "'module' object is not callable",
     "output_type": "error",
     "traceback": [
      "\u001b[0;31m---------------------------------------------------------------------------\u001b[0m",
      "\u001b[0;31mTypeError\u001b[0m                                 Traceback (most recent call last)",
      "Cell \u001b[0;32mIn[55], line 2\u001b[0m\n\u001b[1;32m      1\u001b[0m \u001b[38;5;28;01mimport\u001b[39;00m \u001b[38;5;21;01mpsutil\u001b[39;00m\n\u001b[0;32m----> 2\u001b[0m \u001b[43mpsutil\u001b[49m\u001b[43m(\u001b[49m\u001b[43mmultiprocessing\u001b[49m\u001b[38;5;241;43m.\u001b[39;49m\u001b[43mProcess\u001b[49m\u001b[43m(\u001b[49m\u001b[43m)\u001b[49m\u001b[38;5;241;43m.\u001b[39;49m\u001b[43mpid\u001b[49m\u001b[43m)\u001b[49m\u001b[38;5;241m.\u001b[39mmemory_info()\n\u001b[1;32m      4\u001b[0m p \u001b[38;5;241m=\u001b[39m multiprocessing\u001b[38;5;241m.\u001b[39mProcess()\n",
      "\u001b[0;31mTypeError\u001b[0m: 'module' object is not callable"
     ]
    }
   ],
   "source": [
    "import psutil\n",
    "psutil(multiprocessing.Process().pid).memory_info()\n",
    "\n",
    "p = multiprocessing.Process()"
   ]
  },
  {
   "cell_type": "code",
   "execution_count": 60,
   "id": "05ae1c25",
   "metadata": {},
   "outputs": [
    {
     "data": {
      "text/plain": [
       "28327936"
      ]
     },
     "execution_count": 60,
     "metadata": {},
     "output_type": "execute_result"
    }
   ],
   "source": [
    "import psutil\n",
    "psutil.Process().memory_info().rss"
   ]
  },
  {
   "cell_type": "code",
   "execution_count": 74,
   "id": "3c724b81",
   "metadata": {},
   "outputs": [
    {
     "ename": "TypeError",
     "evalue": "resource.getrusage() takes exactly one argument (2 given)",
     "output_type": "error",
     "traceback": [
      "\u001b[0;31m---------------------------------------------------------------------------\u001b[0m",
      "\u001b[0;31mTypeError\u001b[0m                                 Traceback (most recent call last)",
      "Cell \u001b[0;32mIn[74], line 5\u001b[0m\n\u001b[1;32m      2\u001b[0m \u001b[38;5;28;01mimport\u001b[39;00m \u001b[38;5;21;01mresource\u001b[39;00m\n\u001b[1;32m      4\u001b[0m pid \u001b[38;5;241m=\u001b[39m os\u001b[38;5;241m.\u001b[39mgetpid()\n\u001b[0;32m----> 5\u001b[0m mem_info \u001b[38;5;241m=\u001b[39m \u001b[43mresource\u001b[49m\u001b[38;5;241;43m.\u001b[39;49m\u001b[43mgetrusage\u001b[49m\u001b[43m(\u001b[49m\u001b[43mresource\u001b[49m\u001b[38;5;241;43m.\u001b[39;49m\u001b[43mRUSAGE_CHILDREN\u001b[49m\u001b[43m,\u001b[49m\u001b[43m \u001b[49m\u001b[43mpid\u001b[49m\u001b[43m)\u001b[49m\n\u001b[1;32m      6\u001b[0m mem_info\u001b[38;5;241m.\u001b[39mru_maxrss\n",
      "\u001b[0;31mTypeError\u001b[0m: resource.getrusage() takes exactly one argument (2 given)"
     ]
    }
   ],
   "source": [
    "import os\n",
    "import resource\n",
    "\n",
    "pid = os.getpid()\n",
    "mem_info = resource.getrusage(resource.RUSAGE_CHILDREN, pid)\n",
    "mem_info.ru_maxrss"
   ]
  },
  {
   "cell_type": "code",
   "execution_count": 69,
   "id": "8e58e9c6",
   "metadata": {},
   "outputs": [
    {
     "data": {
      "text/plain": [
       "9.466454598033545"
      ]
     },
     "execution_count": 69,
     "metadata": {},
     "output_type": "execute_result"
    }
   ],
   "source": [
    "268165120/28327936"
   ]
  },
  {
   "cell_type": "code",
   "execution_count": 81,
   "id": "079ecd16",
   "metadata": {},
   "outputs": [
    {
     "data": {
      "text/plain": [
       "-1"
      ]
     },
     "execution_count": 81,
     "metadata": {},
     "output_type": "execute_result"
    }
   ],
   "source": [
    "import resource\n",
    "\n",
    "resource.RUSAGE_SELF\n",
    "resource.RUSAGE_CHILDREN"
   ]
  },
  {
   "cell_type": "code",
   "execution_count": 87,
   "id": "0b04c11f",
   "metadata": {},
   "outputs": [
    {
     "data": {
      "text/plain": [
       "resource.struct_rusage(ru_utime=173.644367, ru_stime=8.162981, ru_maxrss=268165120, ru_ixrss=0, ru_idrss=0, ru_isrss=0, ru_minflt=1238736, ru_majflt=10400, ru_nswap=0, ru_inblock=0, ru_oublock=0, ru_msgsnd=2049, ru_msgrcv=1312, ru_nsignals=1, ru_nvcsw=53276, ru_nivcsw=150442)"
      ]
     },
     "execution_count": 87,
     "metadata": {},
     "output_type": "execute_result"
    }
   ],
   "source": [
    "import time\n",
    "\n",
    "# i/o bound\n",
    "time.sleep(2)\n",
    "resource.getrusage(resource.RUSAGE_SELF)\n"
   ]
  },
  {
   "cell_type": "code",
   "execution_count": 88,
   "id": "82005275",
   "metadata": {},
   "outputs": [
    {
     "data": {
      "text/plain": [
       "resource.struct_rusage(ru_utime=212.933377, ru_stime=8.204215, ru_maxrss=268165120, ru_ixrss=0, ru_idrss=0, ru_isrss=0, ru_minflt=1242868, ru_majflt=10401, ru_nswap=0, ru_inblock=0, ru_oublock=0, ru_msgsnd=2069, ru_msgrcv=1324, ru_nsignals=1, ru_nvcsw=53334, ru_nivcsw=157926)"
      ]
     },
     "execution_count": 88,
     "metadata": {},
     "output_type": "execute_result"
    }
   ],
   "source": [
    "# cpu bound\n",
    "for i in range(10**9):\n",
    "    _ = 1+1\n",
    "resource.getrusage(resource.RUSAGE_SELF)"
   ]
  },
  {
   "cell_type": "code",
   "execution_count": null,
   "id": "e6f37851",
   "metadata": {},
   "outputs": [],
   "source": [
    "import signal\n",
    "import time\n",
    "\n",
    "def timeout_handler(signum, frame):\n",
    "    raise TimeoutError(\"Execution time limit exceeded\")\n",
    "\n",
    "def long_running_function():\n",
    "    time.sleep(10)\n",
    "\n",
    "# Set the signal handler and a 5-second alarm\n",
    "signal.signal(signal.SIGALRM, timeout_handler)\n",
    "signal.alarm(5)\n",
    "\n",
    "try:\n",
    "    long_running_function()\n",
    "except TimeoutError:\n",
    "    print(\"Timeout!\")"
   ]
  },
  {
   "cell_type": "code",
   "execution_count": 90,
   "id": "3b3803c6",
   "metadata": {},
   "outputs": [
    {
     "name": "stdout",
     "output_type": "stream",
     "text": [
      "signum 14\n",
      "frame <frame at 0x7fb1dd7802b0, file '/var/folders/8k/07c2mpg56x7c31_26k0qj2y00000gn/T/ipykernel_41641/2644681432.py', line 11, code func>\n",
      "Time Limit Exceeded\n"
     ]
    }
   ],
   "source": [
    "import signal\n",
    "import time\n",
    "\n",
    "def timeout_handle(signum, frame):\n",
    "    print('signum', signum)\n",
    "    print('frame', frame)\n",
    "    raise TimeoutError('Time Limit Exceeded')\n",
    "    \n",
    "    \n",
    "def func():\n",
    "    time.sleep(10)\n",
    "    \n",
    "signal.signal(signal.SIGALRM, timeout_handle)\n",
    "signal.alarm(5)\n",
    "\n",
    "try:\n",
    "    func()\n",
    "except TimeoutError as e:\n",
    "    print(e)"
   ]
  },
  {
   "cell_type": "code",
   "execution_count": 122,
   "id": "5eb853bd",
   "metadata": {},
   "outputs": [],
   "source": [
    "import sqlite3\n",
    "conn = sqlite3.connect('problems_v8.db')\n",
    "cursor = conn.cursor()"
   ]
  },
  {
   "cell_type": "code",
   "execution_count": 126,
   "id": "ef199c64",
   "metadata": {},
   "outputs": [
    {
     "data": {
      "text/plain": [
       "('1146',\n",
       " 'Greatest Common Divisor of Strings',\n",
       " '<p>For two strings <code>s</code> and <code>t</code>, we say &quot;<code>t</code> divides <code>s</code>&quot; if and only if <code>s = t + t + t + ... + t + t</code> (i.e., <code>t</code> is concatenated with itself one or more times).</p>\\n\\n<p>Given two strings <code>str1</code> and <code>str2</code>, return <em>the largest string </em><code>x</code><em> such that </em><code>x</code><em> divides both </em><code>str1</code><em> and </em><code>str2</code>.</p>\\n\\n<p>&nbsp;</p>\\n<p><strong class=\"example\">Example 1:</strong></p>\\n\\n<pre>\\n<strong>Input:</strong> str1 = &quot;ABCABC&quot;, str2 = &quot;ABC&quot;\\n<strong>Output:</strong> &quot;ABC&quot;\\n</pre>\\n\\n<p><strong class=\"example\">Example 2:</strong></p>\\n\\n<pre>\\n<strong>Input:</strong> str1 = &quot;ABABAB&quot;, str2 = &quot;ABAB&quot;\\n<strong>Output:</strong> &quot;AB&quot;\\n</pre>\\n\\n<p><strong class=\"example\">Example 3:</strong></p>\\n\\n<pre>\\n<strong>Input:</strong> str1 = &quot;LEET&quot;, str2 = &quot;CODE&quot;\\n<strong>Output:</strong> &quot;&quot;\\n</pre>\\n\\n<p>&nbsp;</p>\\n<p><strong>Constraints:</strong></p>\\n\\n<ul>\\n\\t<li><code>1 &lt;= str1.length, str2.length &lt;= 1000</code></li>\\n\\t<li><code>str1</code> and <code>str2</code> consist of English uppercase letters.</li>\\n</ul>\\n',\n",
       " 'Easy',\n",
       " 'class Solution:\\n    def gcdOfStrings(self, str1: str, str2: str) -> str:\\n        ',\n",
       " '[{\"input_args\": [\"abc\", \"ahbgdc\"], \"input_kwargs\": {}, \"expected_return\": true}, {\"input_args\": [\"axc\", \"ahbgdc\"], \"input_kwargs\": {}, \"expected_return\": false}]',\n",
       " 'greatest-common-divisor-of-strings',\n",
       " 'return_output = Solution().gcdOfStrings(*input_data)\\nvalid = return_output == expected_output',\n",
       " 'Solution().gcdOfStrings',\n",
       " 'valid = expected_return == return_output')"
      ]
     },
     "execution_count": 126,
     "metadata": {},
     "output_type": "execute_result"
    }
   ],
   "source": [
    "cursor.execute('SELECT * FROM problems WHERE questionId = ?', ('1146',)).fetchone()"
   ]
  },
  {
   "cell_type": "code",
   "execution_count": 117,
   "id": "8ad63f1d",
   "metadata": {},
   "outputs": [],
   "source": [
    "# cursor.execute(\"ALTER TABLE problems ADD COLUMN call_func TEXT\")\n",
    "# cursor.execute(\"ALTER TABLE problems ADD COLUMN validation_func TEXT\")\n",
    "\n",
    "# conn.commit()"
   ]
  },
  {
   "cell_type": "code",
   "execution_count": null,
   "id": "81d61604",
   "metadata": {},
   "outputs": [],
   "source": [
    "Input: str1 = \"ABCABC\", str2 = \"ABC\"\n",
    "Output: \"ABC\"\n",
    "Example 2:\n",
    "\n",
    "Input: str1 = \"ABABAB\", str2 = \"ABAB\"\n",
    "Output: \"AB\"\n",
    "Example 3:\n",
    "\n",
    "Input: str1 = \"LEET\", str2 = \"CODE\"\n",
    "Output: \"\""
   ]
  },
  {
   "cell_type": "code",
   "execution_count": 127,
   "id": "dc984f39",
   "metadata": {},
   "outputs": [],
   "source": [
    "import json\n",
    "\n",
    "test_cases = [\n",
    "    {\n",
    "        'input_args': ['ABCABC', 'ABC'],\n",
    "        'input_kwargs': {},\n",
    "        'expected_return': 'ABC'\n",
    "    },\n",
    "     {\n",
    "        'input_args': ['ABABAB', 'ABAB'],\n",
    "        'input_kwargs': {},\n",
    "        'expected_return': 'AB'\n",
    "    },\n",
    "    {\n",
    "        'input_args': ['LEET', 'CODE'],\n",
    "        'input_kwargs': {},\n",
    "        'expected_return': ''\n",
    "    },\n",
    "    \n",
    "]\n",
    "test_cases = json.dumps(test_cases)\n",
    "call_func = 'Solution().gcdOfStrings'\n",
    "validation_func = \"\"\"valid = expected_return == return_output\"\"\"\n",
    "update_data = [\n",
    "    (test_cases, call_func, validation_func, '1146')\n",
    "]"
   ]
  },
  {
   "cell_type": "code",
   "execution_count": 128,
   "id": "487431e8",
   "metadata": {},
   "outputs": [],
   "source": [
    "cursor.executemany('UPDATE problems SET test_cases = ?, call_func = ?, validation_func = ? WHERE questionId = ?', update_data)\n",
    "conn.commit()"
   ]
  },
  {
   "cell_type": "code",
   "execution_count": 137,
   "id": "dd9f0a68",
   "metadata": {},
   "outputs": [
    {
     "name": "stdout",
     "output_type": "stream",
     "text": [
      "Traceback (most recent call last):\n",
      "  File \"/var/folders/8k/07c2mpg56x7c31_26k0qj2y00000gn/T/ipykernel_41641/3891480044.py\", line 8, in <module>\n",
      "    value = A[5]\n",
      "IndexError: list index out of range\n",
      "\n"
     ]
    }
   ],
   "source": [
    "import traceback \n",
    "  \n",
    "# declaring array \n",
    "A = [1, 2, 3, 4] \n",
    "\n",
    "error = None\n",
    "try: \n",
    "    value = A[5] \n",
    "      \n",
    "except: \n",
    "    # printing stack trace \n",
    "    print(traceback.format_exc())\n",
    "  "
   ]
  },
  {
   "cell_type": "code",
   "execution_count": 147,
   "id": "38df88b7",
   "metadata": {},
   "outputs": [
    {
     "name": "stdout",
     "output_type": "stream",
     "text": [
      "<FrameSummary file /Applications/anaconda3/envs/m/lib/python3.9/runpy.py, line 197 in _run_module_as_main>\n"
     ]
    }
   ],
   "source": [
    "import traceback \n",
    "import sys \n",
    "  \n",
    "def call1(f): \n",
    "  \n",
    "  # inside call1() \n",
    "  # call1() calling call2() \n",
    "  call2(f) \n",
    "  \n",
    "def call2(f): \n",
    "  # inside call2() \n",
    "  # calling f() \n",
    "  f() \n",
    "  \n",
    "def f(): \n",
    "    \n",
    "    # inside f() \n",
    "    summary = traceback.StackSummary.extract( \n",
    "        traceback.walk_stack(None) \n",
    "    ) \n",
    "    print(summary[-1])\n",
    "#     print(''.join(summary.format())) \n",
    "  \n",
    "# calling f() using call1() \n",
    "call1(f) "
   ]
  },
  {
   "cell_type": "code",
   "execution_count": 45,
   "id": "9cf2ad5c",
   "metadata": {},
   "outputs": [],
   "source": [
    "from hypothesis import given\n",
    "from hypothesis.strategies import integers\n",
    "\n",
    "def add_positive_numbers(a, b):\n",
    "    if a <= 0 or b <= 0:\n",
    "        raise ValueError('both numbers must be positive')\n",
    "    return a + b\n",
    "\n",
    "@given(integers(min_value=1), integers(min_value=1))\n",
    "def test_add_positive_numbers(a, b):\n",
    "    result = add_positive_numbers(a, b)\n",
    "    assert result > a and result > b\n",
    "    assert result == a + b\n",
    "    \n",
    "    \n",
    "test_add_positive_numbers()"
   ]
  },
  {
   "cell_type": "code",
   "execution_count": 58,
   "id": "6a3891c9",
   "metadata": {
    "scrolled": true
   },
   "outputs": [
    {
     "name": "stderr",
     "output_type": "stream",
     "text": [
      "  + Exception Group Traceback (most recent call last):\n",
      "  |   File \"/Applications/anaconda3/envs/m/lib/python3.9/site-packages/IPython/core/interactiveshell.py\", line 3550, in run_code\n",
      "  |     exec(code_obj, self.user_global_ns, self.user_ns)\n",
      "  |   File \"/var/folders/8k/07c2mpg56x7c31_26k0qj2y00000gn/T/ipykernel_50680/1341426250.py\", line 23, in <module>\n",
      "  |     test_process_string_list()\n",
      "  |   File \"/var/folders/8k/07c2mpg56x7c31_26k0qj2y00000gn/T/ipykernel_50680/1341426250.py\", line 7, in test_process_string_list\n",
      "  |     def test_process_string_list(string_list):\n",
      "  |   File \"/Applications/anaconda3/envs/m/lib/python3.9/site-packages/hypothesis/core.py\", line 1657, in wrapped_test\n",
      "  |     raise the_error_hypothesis_found\n",
      "  | exceptiongroup.ExceptionGroup: Hypothesis found 2 distinct failures. (2 sub-exceptions)\n",
      "  +-+---------------- 1 ----------------\n",
      "    | Traceback (most recent call last):\n",
      "    |   File \"/var/folders/8k/07c2mpg56x7c31_26k0qj2y00000gn/T/ipykernel_50680/1341426250.py\", line 10, in test_process_string_list\n",
      "    |     assert all(c.isupper() or c.isspace() for c in result)\n",
      "    | AssertionError\n",
      "    | Falsifying example: test_process_string_list(\n",
      "    |     string_list=['000'],  # or any other generated value\n",
      "    | )\n",
      "    | Explanation:\n",
      "    |     These lines were always and only run by failing examples:\n",
      "    |         /Applications/anaconda3/envs/m/lib/python3.9/_collections_abc.py:930\n",
      "    |         /Applications/anaconda3/envs/m/lib/python3.9/_weakrefset.py:32\n",
      "    |         /Applications/anaconda3/envs/m/lib/python3.9/random.py:144\n",
      "    |         /Applications/anaconda3/envs/m/lib/python3.9/random.py:166\n",
      "    |         /Applications/anaconda3/envs/m/lib/python3.9/weakref.py:500\n",
      "    +---------------- 2 ----------------\n",
      "    | Traceback (most recent call last):\n",
      "    |   File \"/var/folders/8k/07c2mpg56x7c31_26k0qj2y00000gn/T/ipykernel_50680/1341426250.py\", line 12, in test_process_string_list\n",
      "    |     assert all(result.split() <= len(string_list))\n",
      "    | TypeError: '<=' not supported between instances of 'list' and 'int'\n",
      "    | Falsifying example: test_process_string_list(\n",
      "    |     string_list=[''],\n",
      "    | )\n",
      "    +------------------------------------\n"
     ]
    }
   ],
   "source": [
    "from hypothesis import given, assume, strategies as st\n",
    "\n",
    "def process_string_list(strings):\n",
    "    return \" \".join(s.upper() for s in strings if len(s) >= 3)\n",
    "\n",
    "@given(st.lists(st.text(), min_size=1, max_size=10))\n",
    "def test_process_string_list(string_list):\n",
    "    result = process_string_list(string_list)\n",
    "    \n",
    "    assert all(c.isupper() or c.isspace() for c in result)\n",
    "    assert all(len(word) >= 3 for word in result.split())\n",
    "    assert all(result.split() <= len(string_list))\n",
    "    \n",
    "@given(st.lists(st.text(min_size=3), min_size=1, max_size=10))\n",
    "def test_process_string_list_assumption(string_list):\n",
    "    assume(all(not s.isupper() for s in string_list))\n",
    "    result = process_string_list(string_list)\n",
    "    assert len(result.split()) == len(string_list)\n",
    "    for original, processed in zip(string_list, result.split()):\n",
    "        assert processed == original.upper()\n",
    "\n",
    "# test_process_string_list_assumption()\n",
    "test_process_string_list()"
   ]
  },
  {
   "cell_type": "code",
   "execution_count": 70,
   "id": "88c1fb65",
   "metadata": {},
   "outputs": [
    {
     "name": "stdout",
     "output_type": "stream",
     "text": [
      "Person(name='Alice', age=30)\n"
     ]
    }
   ],
   "source": [
    "from dataclasses import dataclass\n",
    "\n",
    "@dataclass\n",
    "class Person:\n",
    "    name: str\n",
    "    age: int\n",
    "        \n",
    "person = Person(name='Alice', age=30)\n",
    "print(person)"
   ]
  },
  {
   "cell_type": "code",
   "execution_count": 78,
   "id": "2706a807",
   "metadata": {},
   "outputs": [],
   "source": [
    "from hypothesis import given, strategies as st\n",
    "from dataclasses import dataclass\n",
    "from typing import List\n",
    "\n",
    "@dataclass\n",
    "class Item:\n",
    "    name: str\n",
    "    quantity: int\n",
    "    price: float\n",
    "        \n",
    "@dataclass\n",
    "class Order:\n",
    "    items: List[Item]\n",
    "    total: float\n",
    "\n",
    "def process_order(order: Order) -> bool:\n",
    "    calc_total = sum(item.quantity * item.price for item in order.items)\n",
    "    return all(item.quantity > 0 for item in order.items) and abs(order.total-calc_total) < 0.01\n",
    "\n",
    "@st.composite\n",
    "def order_strategy(draw):\n",
    "    items = draw(st.lists(st.builds(\n",
    "        Item,\n",
    "        name=st.text(min_size=1, max_size=20),\n",
    "        quantity=st.integers(min_value=1, max_value=100),\n",
    "        price=st.floats(min_value=0.01, max_value=1000.00, allow_nan=False, allow_infinity=False)\n",
    "    ), min_size=1, max_size=10))\n",
    "    \n",
    "    correct_total = sum(item.quantity * item.price for item in items)\n",
    "    \n",
    "    total = draw(st.one_of(\n",
    "        st.just(correct_total),\n",
    "        st.floats(min_value=0, max_value=correct_total*2, allow_nan=False, allow_infinity=False)\n",
    "    ))\n",
    "    \n",
    "    return Order(items=items, total=total)\n",
    "    \n",
    "@given(order_strategy())\n",
    "def test_process_order(order):\n",
    "    result = process_order(order)\n",
    "    if result:\n",
    "        assert all(item.quantity > 0 for item in order.items)\n",
    "        assert abs(order.total - sum(item.quantity * item.price for item in order.items)) < 0.01\n",
    "    else:\n",
    "        assert any(item.quantity <= 0 for item in order.items) or \\\n",
    "               abs(order.total - sum(item.quantity * item.price for item in order.items)) >= 0.01\n",
    "    \n",
    "test_process_order()    "
   ]
  },
  {
   "cell_type": "code",
   "execution_count": 102,
   "id": "043f064c",
   "metadata": {},
   "outputs": [],
   "source": [
    "def merge_strings(word1:str, word2:str, keyword:int =5, notype_arg=None) -> str:\n",
    "    result = \"\"\n",
    "    min_len = min(len(word1), len(word2))\n",
    "    for i in range(min_len):\n",
    "        result += word1[i] + word2[i]\n",
    "    result += word1[min_len:] + word2[min_len:]\n",
    "    return result\n",
    "\n"
   ]
  },
  {
   "cell_type": "code",
   "execution_count": 103,
   "id": "53d4f056",
   "metadata": {
    "scrolled": true
   },
   "outputs": [],
   "source": [
    "import inspect\n",
    "\n",
    "func = merge_strings\n",
    "sig = inspect.signature(func)"
   ]
  },
  {
   "cell_type": "code",
   "execution_count": 104,
   "id": "6629a779",
   "metadata": {},
   "outputs": [
    {
     "name": "stdout",
     "output_type": "stream",
     "text": [
      "  word1: <class 'str'>\n",
      "  word2: <class 'str'>\n",
      "  keyword: <class 'int'>\n",
      "  notype_arg: <class 'inspect._empty'>\n"
     ]
    },
    {
     "data": {
      "text/plain": [
       "str"
      ]
     },
     "execution_count": 104,
     "metadata": {},
     "output_type": "execute_result"
    }
   ],
   "source": [
    "for param in sig.parameters.values():\n",
    "    print(f\"  {param.name}: {param.annotation}\")\n",
    "sig.return_annotation"
   ]
  },
  {
   "cell_type": "code",
   "execution_count": 117,
   "id": "3b55ce93",
   "metadata": {},
   "outputs": [
    {
     "data": {
      "text/plain": [
       "\"<class 'str'>\""
      ]
     },
     "execution_count": 117,
     "metadata": {},
     "output_type": "execute_result"
    }
   ],
   "source": [
    "params = list(sig.parameters.values())\n",
    "str(params[-1].annotation"
   ]
  },
  {
   "cell_type": "code",
   "execution_count": null,
   "id": "479a5cc7",
   "metadata": {},
   "outputs": [],
   "source": []
  },
  {
   "cell_type": "code",
   "execution_count": 156,
   "id": "1c5f96c7",
   "metadata": {},
   "outputs": [],
   "source": [
    "from hypothesis import given, settings, seed, example\n",
    "from hypothesis import strategies as st\n",
    "import json\n",
    "from dataclasses import dataclass\n",
    "import inspect\n",
    "\n",
    "@dataclass\n",
    "class TestCaseGenerator:\n",
    "    target_func: callable\n",
    "    num_of_samples: int = 100\n",
    "    \n",
    "    def __post_init__(self):\n",
    "        self.generated_test_cases: list = []\n",
    "\n",
    "    def store_test_cases(self, input_data, result_data, property_name):\n",
    "        self.generated_test_cases.append({\n",
    "            'input': input_data,\n",
    "            'result': result_data,\n",
    "            'property': property_name\n",
    "        })\n",
    "    \n",
    "    def extract_func_info(self):\n",
    "        func_sig = inspect.signature(self.target_func)\n",
    "        params = list(func_sig.parameters.values())\n",
    "        for p in params:\n",
    "            if p.annotation == inspect._empty:\n",
    "                raise TypeError(f\"type is missing for the param {p}\")\n",
    "        params = [p for p in params]\n",
    "        return_type = func_sig.return_annotation\n",
    "        if return_type == inspect._empty:\n",
    "            raise TypeError(f\"return type is missing for the func {self.target_func.__name__}\")\n",
    "        return params, return_type\n",
    "    \n",
    "    def generate_strategy(self, param_name, param_type):\n",
    "        if param_type == int:\n",
    "            return st.integers()\n",
    "        elif param_type == float:\n",
    "            return st.floats()\n",
    "        elif param_type == str:\n",
    "            return st.text()\n",
    "        elif param_type == bool:\n",
    "            return st.booleans()\n",
    "        else:\n",
    "            raise ValueError(f\"unsupported param type for: {param_name}\")\n",
    "    \n",
    "    def create_test_case(self):\n",
    "        params, return_type = self.extract_func_info()\n",
    "        params_st = {p.name: self.generate_strategy(p.name, p.annotation) for p in params}\n",
    "        \n",
    "        @settings(max_examples=self.num_of_samples)\n",
    "        @given(**params_st)\n",
    "        def test_func(**kwargs):\n",
    "            result = self.target_func(**kwargs)\n",
    "            self.store_test_cases(kwargs, result, self.target_func.__name__)\n",
    "        \n",
    "        test_func()"
   ]
  },
  {
   "cell_type": "code",
   "execution_count": 162,
   "id": "dc235e26",
   "metadata": {},
   "outputs": [],
   "source": [
    "from hypothesis import given, settings, seed, example\n",
    "from hypothesis import strategies as st\n",
    "import json\n",
    "from dataclasses import dataclass\n",
    "import inspect\n",
    "\n",
    "@dataclass\n",
    "class TestCaseGenerator:\n",
    "    target_func: callable\n",
    "    num_of_samples: int = 100\n",
    "    \n",
    "    def __post_init__(self):\n",
    "        self.generated_test_cases: list = []\n",
    "\n",
    "    def store_test_cases(self, input_data, result_data, property_name):\n",
    "        self.generated_test_cases.append({\n",
    "            'input': input_data,\n",
    "            'result': result_data,\n",
    "            'property': property_name\n",
    "        })\n",
    "    \n",
    "    def extract_func_info(self):\n",
    "        func_sig = inspect.signature(self.target_func)\n",
    "        params = list(func_sig.parameters.values())\n",
    "        for p in params:\n",
    "            if p.annotation == inspect._empty:\n",
    "                raise TypeError(f\"type is missing for the param {p}\")\n",
    "        params = [p for p in params]\n",
    "        return_type = func_sig.return_annotation\n",
    "        if return_type == inspect._empty:\n",
    "            raise TypeError(f\"return type is missing for the func {self.target_func.__name__}\")\n",
    "        return params, return_type\n",
    "    \n",
    "    def generate_strategy(self, param_name, param_type):\n",
    "        if param_type == int:\n",
    "            return st.integers(-1000, 1000)  # Limit range for more focused testing\n",
    "        elif param_type == float:\n",
    "            return st.floats(allow_nan=False, allow_infinity=False)  # Exclude problematic values\n",
    "        elif param_type == str:\n",
    "            return st.text(max_size=100)  # Limit string length\n",
    "        elif param_type == bool:\n",
    "            return st.booleans()\n",
    "        else:\n",
    "            raise ValueError(f\"unsupported param type for: {param_name}\")\n",
    "    \n",
    "    def create_test_case(self):\n",
    "        params, return_type = self.extract_func_info()\n",
    "        params_st = {p.name: self.generate_strategy(p.name, p.annotation) for p in params}\n",
    "        \n",
    "        @settings(max_examples=self.num_of_samples)\n",
    "        @given(**params_st)\n",
    "        def test_func(**kwargs):\n",
    "            result = self.target_func(**kwargs)\n",
    "            self.store_test_cases(kwargs, result, self.target_func.__name__)\n",
    "        \n",
    "        test_func()\n",
    "\n",
    "    def analyze_coverage(self):\n",
    "        if not self.generated_test_cases:\n",
    "            print(\"No test cases generated yet.\")\n",
    "            return\n",
    "\n",
    "        result_types = set(type(case['result']) for case in self.generated_test_cases)\n",
    "        result_values = [case['result'] for case in self.generated_test_cases]\n",
    "\n",
    "        print(f\"Number of test cases: {len(self.generated_test_cases)}\")\n",
    "        print(f\"Result types: {result_types}\")\n",
    "\n",
    "        if bool in result_types:\n",
    "            true_count = sum(1 for r in result_values if r is True)\n",
    "            false_count = sum(1 for r in result_values if r is False)\n",
    "            print(f\"Boolean results: True: {true_count}, False: {false_count}\")\n",
    "\n",
    "        # Add more specific analysis based on the return type"
   ]
  },
  {
   "cell_type": "code",
   "execution_count": 163,
   "id": "db55b24c",
   "metadata": {},
   "outputs": [],
   "source": [
    "def merge_strings(word1:str, word2:str) -> str:\n",
    "    result = \"\"\n",
    "    min_len = min(len(word1), len(word2))\n",
    "    for i in range(min_len):\n",
    "        result += word1[i] + word2[i]\n",
    "    result += word1[min_len:] + word2[min_len:]\n",
    "    return result\n",
    "\n",
    "test_case_generator = TestCaseGenerator(target_func=merge_strings)"
   ]
  },
  {
   "cell_type": "code",
   "execution_count": 164,
   "id": "3c177dd0",
   "metadata": {},
   "outputs": [],
   "source": [
    "test_case_generator.create_test_case()"
   ]
  },
  {
   "cell_type": "code",
   "execution_count": 165,
   "id": "cfe207e2",
   "metadata": {},
   "outputs": [
    {
     "data": {
      "text/plain": [
       "[{'input': {'word1': '', 'word2': ''},\n",
       "  'result': '',\n",
       "  'property': 'merge_strings'},\n",
       " {'input': {'word1': '¦Ý\\U000d29ba\\x18\\\\ä', 'word2': ''},\n",
       "  'result': '¦Ý\\U000d29ba\\x18\\\\ä',\n",
       "  'property': 'merge_strings'},\n",
       " {'input': {'word1': 'Â\\U0001bd9bÑù\\U00065cfa¦\\x8c', 'word2': ''},\n",
       "  'result': 'Â\\U0001bd9bÑù\\U00065cfa¦\\x8c',\n",
       "  'property': 'merge_strings'},\n",
       " {'input': {'word1': '_', 'word2': ''},\n",
       "  'result': '_',\n",
       "  'property': 'merge_strings'},\n",
       " {'input': {'word1': '°', 'word2': ''},\n",
       "  'result': '°',\n",
       "  'property': 'merge_strings'},\n",
       " {'input': {'word1': 'è\\U000f9bf4î(', 'word2': ''},\n",
       "  'result': 'è\\U000f9bf4î(',\n",
       "  'property': 'merge_strings'},\n",
       " {'input': {'word1': '¨\\x0e\\x9d\\U00044c59\\U000eb78bK', 'word2': ''},\n",
       "  'result': '¨\\x0e\\x9d\\U00044c59\\U000eb78bK',\n",
       "  'property': 'merge_strings'},\n",
       " {'input': {'word1': '-\\x86\\U000a711b¤I\\x1b\\U00087a00B\\x80', 'word2': ''},\n",
       "  'result': '-\\x86\\U000a711b¤I\\x1b\\U00087a00B\\x80',\n",
       "  'property': 'merge_strings'},\n",
       " {'input': {'word1': '\\x86', 'word2': ''},\n",
       "  'result': '\\x86',\n",
       "  'property': 'merge_strings'},\n",
       " {'input': {'word1': '\\x86', 'word2': 'áb'},\n",
       "  'result': '\\x86áb',\n",
       "  'property': 'merge_strings'},\n",
       " {'input': {'word1': '𢚹zA\\x00\\U000ae8d8\\U000e28c1', 'word2': ''},\n",
       "  'result': '𢚹zA\\x00\\U000ae8d8\\U000e28c1',\n",
       "  'property': 'merge_strings'},\n",
       " {'input': {'word1': '\\x15×\\U000c0beb', 'word2': '\\x021p0\\x07\\U00051850Ò'},\n",
       "  'result': '\\x15\\x02×1\\U000c0bebp0\\x07\\U00051850Ò',\n",
       "  'property': 'merge_strings'},\n",
       " {'input': {'word1': '\\x021p0\\x07\\U00051850Ò',\n",
       "   'word2': '\\x021p0\\x07\\U00051850Ò'},\n",
       "  'result': '\\x02\\x0211pp00\\x07\\x07\\U00051850\\U00051850ÒÒ',\n",
       "  'property': 'merge_strings'},\n",
       " {'input': {'word1': '\\U000816cb\\x85\\U000c41fc', 'word2': 'ÍÔ\\x1dA'},\n",
       "  'result': '\\U000816cbÍ\\x85Ô\\U000c41fc\\x1dA',\n",
       "  'property': 'merge_strings'},\n",
       " {'input': {'word1': '\\U000816cb\\x85\\U000c41fc',\n",
       "   'word2': '\\U000816cb\\x85\\U000c41fc'},\n",
       "  'result': '\\U000816cb\\U000816cb\\x85\\x85\\U000c41fc\\U000c41fc',\n",
       "  'property': 'merge_strings'},\n",
       " {'input': {'word1': 'º', 'word2': 'í'},\n",
       "  'result': 'ºí',\n",
       "  'property': 'merge_strings'},\n",
       " {'input': {'word1': 'º', 'word2': 'º'},\n",
       "  'result': 'ºº',\n",
       "  'property': 'merge_strings'},\n",
       " {'input': {'word1': '\\U000e4d45O0f襥\\U000506a4',\n",
       "   'word2': '\\U00013db6\\U00062a54ì\\x07ËW\\U0007c9d2'},\n",
       "  'result': '\\U000e4d45\\U00013db6O\\U00062a540ìf\\x07襥Ë\\U000506a4W\\U0007c9d2',\n",
       "  'property': 'merge_strings'},\n",
       " {'input': {'word1': '\\U000e4d45O0f襥\\U000506a4',\n",
       "   'word2': '\\U000e4d45O0f襥\\U000506a4'},\n",
       "  'result': '\\U000e4d45\\U000e4d45OO00ff襥襥\\U000506a4\\U000506a4',\n",
       "  'property': 'merge_strings'},\n",
       " {'input': {'word1': '\\U00066195²ú{', 'word2': 'Ru'},\n",
       "  'result': '\\U00066195R²uú{',\n",
       "  'property': 'merge_strings'},\n",
       " {'input': {'word1': 'Ru', 'word2': 'Ru'},\n",
       "  'result': 'RRuu',\n",
       "  'property': 'merge_strings'},\n",
       " {'input': {'word1': '\\U000a7133Ú\\x8fª\\U0005e9a9g\\x1d\\U0003e4eeÑ\\U0005738e\\U000735a4\\x1aö\\x1f',\n",
       "   'word2': '3º'},\n",
       "  'result': '\\U000a71333Úº\\x8fª\\U0005e9a9g\\x1d\\U0003e4eeÑ\\U0005738e\\U000735a4\\x1aö\\x1f',\n",
       "  'property': 'merge_strings'},\n",
       " {'input': {'word1': '\\U000a7133Ú\\x8fª\\U0005e9a9g\\x1d\\U0003e4eeÑ\\U0005738e\\U000735a4\\x1aö\\x1f',\n",
       "   'word2': '\\U000a7133Ú\\x8fª\\U0005e9a9g\\x1d\\U0003e4eeÑ\\U0005738e\\U000735a4\\x1aö\\x1f'},\n",
       "  'result': '\\U000a7133\\U000a7133ÚÚ\\x8f\\x8fªª\\U0005e9a9\\U0005e9a9gg\\x1d\\x1d\\U0003e4ee\\U0003e4eeÑÑ\\U0005738e\\U0005738e\\U000735a4\\U000735a4\\x1a\\x1aöö\\x1f\\x1f',\n",
       "  'property': 'merge_strings'},\n",
       " {'input': {'word1': 'Ô\\x82\\x8dA', 'word2': ''},\n",
       "  'result': 'Ô\\x82\\x8dA',\n",
       "  'property': 'merge_strings'},\n",
       " {'input': {'word1': 'Ô\\x82\\x8dA', 'word2': 'Ô\\x82\\x8dA'},\n",
       "  'result': 'ÔÔ\\x82\\x82\\x8d\\x8dAA',\n",
       "  'property': 'merge_strings'},\n",
       " {'input': {'word1': '\\\\Ï', 'word2': '=b\\U0007b0b8\\U00040926\\U0005604f\\n'},\n",
       "  'result': '\\\\=Ïb\\U0007b0b8\\U00040926\\U0005604f\\n',\n",
       "  'property': 'merge_strings'},\n",
       " {'input': {'word1': '=b\\U0007b0b8\\U00040926\\U0005604f\\n',\n",
       "   'word2': '=b\\U0007b0b8\\U00040926\\U0005604f\\n'},\n",
       "  'result': '==bb\\U0007b0b8\\U0007b0b8\\U00040926\\U00040926\\U0005604f\\U0005604f\\n\\n',\n",
       "  'property': 'merge_strings'},\n",
       " {'input': {'word1': 'j', 'word2': ''},\n",
       "  'result': 'j',\n",
       "  'property': 'merge_strings'},\n",
       " {'input': {'word1': '\\U000461ceq', 'word2': 'H\\x13'},\n",
       "  'result': '\\U000461ceHq\\x13',\n",
       "  'property': 'merge_strings'},\n",
       " {'input': {'word1': '\\U000461ceq', 'word2': '\\U000461ceq'},\n",
       "  'result': '\\U000461ce\\U000461ceqq',\n",
       "  'property': 'merge_strings'},\n",
       " {'input': {'word1': 'vÌêp!', 'word2': '\\x07\\U00069882è'},\n",
       "  'result': 'v\\x07Ì\\U00069882êèp!',\n",
       "  'property': 'merge_strings'},\n",
       " {'input': {'word1': 'vÌêp!', 'word2': 'vÌêp!'},\n",
       "  'result': 'vvÌÌêêpp!!',\n",
       "  'property': 'merge_strings'},\n",
       " {'input': {'word1': '%Ê', 'word2': ''},\n",
       "  'result': '%Ê',\n",
       "  'property': 'merge_strings'},\n",
       " {'input': {'word1': '%Ê', 'word2': '%Ê'},\n",
       "  'result': '%%ÊÊ',\n",
       "  'property': 'merge_strings'},\n",
       " {'input': {'word1': '㾼𤄒DÞP', 'word2': '<\\x87'},\n",
       "  'result': '㾼<𤄒\\x87DÞP',\n",
       "  'property': 'merge_strings'},\n",
       " {'input': {'word1': '<\\x87', 'word2': '<\\x87'},\n",
       "  'result': '<<\\x87\\x87',\n",
       "  'property': 'merge_strings'},\n",
       " {'input': {'word1': 'T', 'word2': '¨'},\n",
       "  'result': 'T¨',\n",
       "  'property': 'merge_strings'},\n",
       " {'input': {'word1': 'T', 'word2': 'T'},\n",
       "  'result': 'TT',\n",
       "  'property': 'merge_strings'},\n",
       " {'input': {'word1': '-v\\x92È[\\U000891be¦',\n",
       "   'word2': 'b!\\U0001df35\\x19ß\\U00063c78'},\n",
       "  'result': '-bv!\\x92\\U0001df35È\\x19[ß\\U000891be\\U00063c78¦',\n",
       "  'property': 'merge_strings'},\n",
       " {'input': {'word1': '-v\\x92È[\\U000891be¦', 'word2': '-v\\x92È[\\U000891be¦'},\n",
       "  'result': '--vv\\x92\\x92ÈÈ[[\\U000891be\\U000891be¦¦',\n",
       "  'property': 'merge_strings'},\n",
       " {'input': {'word1': '\\x8cWW\\x80\\x94\\xa0D!Ö\\U00089c4b8',\n",
       "   'word2': '\\U00037160'},\n",
       "  'result': '\\x8c\\U00037160WW\\x80\\x94\\xa0D!Ö\\U00089c4b8',\n",
       "  'property': 'merge_strings'},\n",
       " {'input': {'word1': '\\x8cWW\\x80\\x94\\xa0D!Ö\\U00089c4b8',\n",
       "   'word2': '\\x8cWW\\x80\\x94\\xa0D!Ö\\U00089c4b8'},\n",
       "  'result': '\\x8c\\x8cWWWW\\x80\\x80\\x94\\x94\\xa0\\xa0DD!!ÖÖ\\U00089c4b\\U00089c4b88',\n",
       "  'property': 'merge_strings'},\n",
       " {'input': {'word1': '_¾',\n",
       "   'word2': '\\U000c9e7c\\x11õ\\U0005379e\\U0003d2b6\\x90\\U00093f20k\\x11'},\n",
       "  'result': '_\\U000c9e7c¾\\x11õ\\U0005379e\\U0003d2b6\\x90\\U00093f20k\\x11',\n",
       "  'property': 'merge_strings'},\n",
       " {'input': {'word1': '_¾', 'word2': '_¾'},\n",
       "  'result': '__¾¾',\n",
       "  'property': 'merge_strings'},\n",
       " {'input': {'word1': '', 'word2': 'ÿu'},\n",
       "  'result': 'ÿu',\n",
       "  'property': 'merge_strings'},\n",
       " {'input': {'word1': '', 'word2': '\\U000cbad7\\U000f046c\\x90d𑫚û'},\n",
       "  'result': '\\U000cbad7\\U000f046c\\x90d𑫚û',\n",
       "  'property': 'merge_strings'},\n",
       " {'input': {'word1': 'Ø\\x17\\x9a»þ |\\U0004c60cÜ[\\x80C',\n",
       "   'word2': 'ïÔ0\\U0003b34c'},\n",
       "  'result': 'Øï\\x17Ô\\x9a0»\\U0003b34cþ |\\U0004c60cÜ[\\x80C',\n",
       "  'property': 'merge_strings'},\n",
       " {'input': {'word1': 'Ø\\x17\\x9a»þ |\\U0004c60cÜ[\\x80C',\n",
       "   'word2': 'Ø\\x17\\x9a»þ |\\U0004c60cÜ[\\x80C'},\n",
       "  'result': 'ØØ\\x17\\x17\\x9a\\x9a»»þþ  ||\\U0004c60c\\U0004c60cÜÜ[[\\x80\\x80CC',\n",
       "  'property': 'merge_strings'},\n",
       " {'input': {'word1': 'Ô\\U0010914bí\\U000ae61d', 'word2': ''},\n",
       "  'result': 'Ô\\U0010914bí\\U000ae61d',\n",
       "  'property': 'merge_strings'},\n",
       " {'input': {'word1': 'Ô\\U0010914bí\\U000ae61d',\n",
       "   'word2': 'Ô\\U0010914bí\\U000ae61d'},\n",
       "  'result': 'ÔÔ\\U0010914b\\U0010914bíí\\U000ae61d\\U000ae61d',\n",
       "  'property': 'merge_strings'},\n",
       " {'input': {'word1': '÷', 'word2': '\\x02\\u1afd\\x11Q\\U00071574'},\n",
       "  'result': '÷\\x02\\u1afd\\x11Q\\U00071574',\n",
       "  'property': 'merge_strings'},\n",
       " {'input': {'word1': '\\x02\\u1afd\\x11Q\\U00071574',\n",
       "   'word2': '\\x02\\u1afd\\x11Q\\U00071574'},\n",
       "  'result': '\\x02\\x02\\u1afd\\u1afd\\x11\\x11QQ\\U00071574\\U00071574',\n",
       "  'property': 'merge_strings'},\n",
       " {'input': {'word1': '\\x02ð\\x9fßó{\\x06', 'word2': ''},\n",
       "  'result': '\\x02ð\\x9fßó{\\x06',\n",
       "  'property': 'merge_strings'},\n",
       " {'input': {'word1': '\\U000c47fa\\U000aacf3i', 'word2': ''},\n",
       "  'result': '\\U000c47fa\\U000aacf3i',\n",
       "  'property': 'merge_strings'},\n",
       " {'input': {'word1': '\\U000c47fa\\U000aacf3i',\n",
       "   'word2': '\\U000c47fa\\U000aacf3i'},\n",
       "  'result': '\\U000c47fa\\U000c47fa\\U000aacf3\\U000aacf3ii',\n",
       "  'property': 'merge_strings'},\n",
       " {'input': {'word1': '\\x1b;U', 'word2': '\\x82Ï\\U00053837\\x16ìy'},\n",
       "  'result': '\\x1b\\x82;ÏU\\U00053837\\x16ìy',\n",
       "  'property': 'merge_strings'},\n",
       " {'input': {'word1': '\\x1b;U', 'word2': '\\x1b;U'},\n",
       "  'result': '\\x1b\\x1b;;UU',\n",
       "  'property': 'merge_strings'},\n",
       " {'input': {'word1': '\\U000ae32dh9côø\\U000bb595£\\U0007657aÖ`',\n",
       "   'word2': 'ó\\x87\\U0010294d\\U000d2630'},\n",
       "  'result': '\\U000ae32dóh\\x879\\U0010294dc\\U000d2630ôø\\U000bb595£\\U0007657aÖ`',\n",
       "  'property': 'merge_strings'},\n",
       " {'input': {'word1': '\\U000ae32dh9côø\\U000bb595£\\U0007657aÖ`',\n",
       "   'word2': '\\U000ae32dh9côø\\U000bb595£\\U0007657aÖ`'},\n",
       "  'result': '\\U000ae32d\\U000ae32dhh99ccôôøø\\U000bb595\\U000bb595££\\U0007657a\\U0007657aÖÖ``',\n",
       "  'property': 'merge_strings'},\n",
       " {'input': {'word1': 'ÚÒ', 'word2': 'T\\U0001939c'},\n",
       "  'result': 'ÚTÒ\\U0001939c',\n",
       "  'property': 'merge_strings'},\n",
       " {'input': {'word1': 'T\\U0001939c', 'word2': 'T\\U0001939c'},\n",
       "  'result': 'TT\\U0001939c\\U0001939c',\n",
       "  'property': 'merge_strings'},\n",
       " {'input': {'word1': '', 'word2': '\\x10'},\n",
       "  'result': '\\x10',\n",
       "  'property': 'merge_strings'},\n",
       " {'input': {'word1': '\\U000a2d5c\\x80 \\U0003ede3\\x9eYâ\\U0004d295\\x8fðÝ&Ý\\U000571b9Ö§',\n",
       "   'word2': '\\xa0±j\\U000346dcÜÝ帲\\U000b86ab\\x05\\U00064021¬\\x97\\x07\\x15Nõ÷Ä\\U0006d772'},\n",
       "  'result': '\\U000a2d5c\\xa0\\x80± j\\U0003ede3\\U000346dc\\x9eÜYÝâ帲\\U0004d295\\U000b86ab\\x8f\\x05ð\\U00064021Ý¬&\\x97Ý\\x07\\U000571b9\\x15ÖN§õ÷Ä\\U0006d772',\n",
       "  'property': 'merge_strings'},\n",
       " {'input': {'word1': '\\xa0±j\\U000346dcÜÝ帲\\U000b86ab\\x05\\U00064021¬\\x97\\x07\\x15Nõ÷Ä\\U0006d772',\n",
       "   'word2': '\\xa0±j\\U000346dcÜÝ帲\\U000b86ab\\x05\\U00064021¬\\x97\\x07\\x15Nõ÷Ä\\U0006d772'},\n",
       "  'result': '\\xa0\\xa0±±jj\\U000346dc\\U000346dcÜÜÝÝ帲帲\\U000b86ab\\U000b86ab\\x05\\x05\\U00064021\\U00064021¬¬\\x97\\x97\\x07\\x07\\x15\\x15NNõõ÷÷ÄÄ\\U0006d772\\U0006d772',\n",
       "  'property': 'merge_strings'},\n",
       " {'input': {'word1': '\\x05s', 'word2': ''},\n",
       "  'result': '\\x05s',\n",
       "  'property': 'merge_strings'},\n",
       " {'input': {'word1': '𪚮\\U0010bfb6qµ²', 'word2': 'Ñ\\U00036aca\\r兩Úÿ'},\n",
       "  'result': '𪚮Ñ\\U0010bfb6\\U00036acaq\\rµ兩²Úÿ',\n",
       "  'property': 'merge_strings'},\n",
       " {'input': {'word1': '𪚮\\U0010bfb6qµ²', 'word2': '𪚮\\U0010bfb6qµ²'},\n",
       "  'result': '𪚮𪚮\\U0010bfb6\\U0010bfb6qqµµ²²',\n",
       "  'property': 'merge_strings'},\n",
       " {'input': {'word1': 'XuÇPCM', 'word2': '\\U000ec7a5\\U0007ab58M\\x87ËÞ'},\n",
       "  'result': 'X\\U000ec7a5u\\U0007ab58ÇMP\\x87CËMÞ',\n",
       "  'property': 'merge_strings'},\n",
       " {'input': {'word1': '\\U000ec7a5\\U0007ab58M\\x87ËÞ',\n",
       "   'word2': '\\U000ec7a5\\U0007ab58M\\x87ËÞ'},\n",
       "  'result': '\\U000ec7a5\\U000ec7a5\\U0007ab58\\U0007ab58MM\\x87\\x87ËËÞÞ',\n",
       "  'property': 'merge_strings'},\n",
       " {'input': {'word1': '', 'word2': 'M\\t\\U000ae40fÁ'},\n",
       "  'result': 'M\\t\\U000ae40fÁ',\n",
       "  'property': 'merge_strings'},\n",
       " {'input': {'word1': 'M\\t\\U000ae40fÁ', 'word2': 'M\\t\\U000ae40fÁ'},\n",
       "  'result': 'MM\\t\\t\\U000ae40f\\U000ae40fÁÁ',\n",
       "  'property': 'merge_strings'},\n",
       " {'input': {'word1': '\\\\\\x9eªã·\\U0003d726O¯\\xad?\\x05\\x08\\U0010fae4P\\x10n\\x91',\n",
       "   'word2': '\\x84mp\\xad\\U00077649\\x1eá\\xad'},\n",
       "  'result': '\\\\\\x84\\x9emªpã\\xad·\\U00077649\\U0003d726\\x1eOá¯\\xad\\xad?\\x05\\x08\\U0010fae4P\\x10n\\x91',\n",
       "  'property': 'merge_strings'},\n",
       " {'input': {'word1': '\\\\\\x9eªã·\\U0003d726O¯\\xad?\\x05\\x08\\U0010fae4P\\x10n\\x91',\n",
       "   'word2': '\\\\\\x9eªã·\\U0003d726O¯\\xad?\\x05\\x08\\U0010fae4P\\x10n\\x91'},\n",
       "  'result': '\\\\\\\\\\x9e\\x9eªªãã··\\U0003d726\\U0003d726OO¯¯\\xad\\xad??\\x05\\x05\\x08\\x08\\U0010fae4\\U0010fae4PP\\x10\\x10nn\\x91\\x91',\n",
       "  'property': 'merge_strings'},\n",
       " {'input': {'word1': 'ó\\U00019a7f\\x95¿°\\U000f5a1cÏ\\x18\\U00097fc1%\\r¶\\\\\\U00031a23é§æ\\U000627ed\\U000aac61\\x18\\x11\\U000959d5\\U000ad73cÖ·½\\U0004c9ddðLì±Ö\\U00050080\\x1ax\\x82\\\\\\U00041d9c³\\x1d\\x91V\\x95\\U000d71b8',\n",
       "   'word2': ''},\n",
       "  'result': 'ó\\U00019a7f\\x95¿°\\U000f5a1cÏ\\x18\\U00097fc1%\\r¶\\\\\\U00031a23é§æ\\U000627ed\\U000aac61\\x18\\x11\\U000959d5\\U000ad73cÖ·½\\U0004c9ddðLì±Ö\\U00050080\\x1ax\\x82\\\\\\U00041d9c³\\x1d\\x91V\\x95\\U000d71b8',\n",
       "  'property': 'merge_strings'},\n",
       " {'input': {'word1': 'ó\\U00019a7f\\x95¿°\\U000f5a1cÏ\\x18\\U00097fc1%\\r¶\\\\\\U00031a23é§æ\\U000627ed\\U000aac61\\x18\\x11\\U000959d5\\U000ad73cÖ·½\\U0004c9ddðLì±Ö\\U00050080\\x1ax\\x82\\\\\\U00041d9c³\\x1d\\x91V\\x95\\U000d71b8',\n",
       "   'word2': 'ó\\U00019a7f\\x95¿°\\U000f5a1cÏ\\x18\\U00097fc1%\\r¶\\\\\\U00031a23é§æ\\U000627ed\\U000aac61\\x18\\x11\\U000959d5\\U000ad73cÖ·½\\U0004c9ddðLì±Ö\\U00050080\\x1ax\\x82\\\\\\U00041d9c³\\x1d\\x91V\\x95\\U000d71b8'},\n",
       "  'result': 'óó\\U00019a7f\\U00019a7f\\x95\\x95¿¿°°\\U000f5a1c\\U000f5a1cÏÏ\\x18\\x18\\U00097fc1\\U00097fc1%%\\r\\r¶¶\\\\\\\\\\U00031a23\\U00031a23éé§§ææ\\U000627ed\\U000627ed\\U000aac61\\U000aac61\\x18\\x18\\x11\\x11\\U000959d5\\U000959d5\\U000ad73c\\U000ad73cÖÖ··½½\\U0004c9dd\\U0004c9ddððLLìì±±ÖÖ\\U00050080\\U00050080\\x1a\\x1axx\\x82\\x82\\\\\\\\\\U00041d9c\\U00041d9c³³\\x1d\\x1d\\x91\\x91VV\\x95\\x95\\U000d71b8\\U000d71b8',\n",
       "  'property': 'merge_strings'},\n",
       " {'input': {'word1': '\\U000374c7\\x98Ã', 'word2': 'ÊHð;'},\n",
       "  'result': '\\U000374c7Ê\\x98HÃð;',\n",
       "  'property': 'merge_strings'},\n",
       " {'input': {'word1': '\\U000374c7\\x98Ã', 'word2': '\\U000374c7\\x98Ã'},\n",
       "  'result': '\\U000374c7\\U000374c7\\x98\\x98ÃÃ',\n",
       "  'property': 'merge_strings'},\n",
       " {'input': {'word1': 'Rå᩠ì[Õ', 'word2': ''},\n",
       "  'result': 'Rå᩠ì[Õ',\n",
       "  'property': 'merge_strings'},\n",
       " {'input': {'word1': 'Rå᩠ì[Õ', 'word2': 'Rå᩠ì[Õ'},\n",
       "  'result': 'RRåå᩠᩠ìì[[ÕÕ',\n",
       "  'property': 'merge_strings'},\n",
       " {'input': {'word1': '\\x12¡ì', 'word2': 'þ§,\\U000c1233\\x85\\x8e¾'},\n",
       "  'result': '\\x12þ¡§ì,\\U000c1233\\x85\\x8e¾',\n",
       "  'property': 'merge_strings'},\n",
       " {'input': {'word1': 'þ§,\\U000c1233\\x85\\x8e¾',\n",
       "   'word2': 'þ§,\\U000c1233\\x85\\x8e¾'},\n",
       "  'result': 'þþ§§,,\\U000c1233\\U000c1233\\x85\\x85\\x8e\\x8e¾¾',\n",
       "  'property': 'merge_strings'},\n",
       " {'input': {'word1': '6k3¢å&tÍ±C¤QàÞÎ\\U000d6200k\\U000be062\\U0005b32b',\n",
       "   'word2': 'hA\\x7f\\x1b)\\x9c\\x13\\x10§'},\n",
       "  'result': '6hkA3\\x7f¢\\x1bå)&\\x9ct\\x13Í\\x10±§C¤QàÞÎ\\U000d6200k\\U000be062\\U0005b32b',\n",
       "  'property': 'merge_strings'},\n",
       " {'input': {'word1': '6k3¢å&tÍ±C¤QàÞÎ\\U000d6200k\\U000be062\\U0005b32b',\n",
       "   'word2': '6k3¢å&tÍ±C¤QàÞÎ\\U000d6200k\\U000be062\\U0005b32b'},\n",
       "  'result': '66kk33¢¢åå&&ttÍÍ±±CC¤¤QQààÞÞÎÎ\\U000d6200\\U000d6200kk\\U000be062\\U000be062\\U0005b32b\\U0005b32b',\n",
       "  'property': 'merge_strings'},\n",
       " {'input': {'word1': '\\x93\\x03Ìßh\\U000f42fd', 'word2': '𪢝¨'},\n",
       "  'result': '\\x93𪢝\\x03¨Ìßh\\U000f42fd',\n",
       "  'property': 'merge_strings'},\n",
       " {'input': {'word1': '𪢝¨', 'word2': '𪢝¨'},\n",
       "  'result': '𪢝𪢝¨¨',\n",
       "  'property': 'merge_strings'},\n",
       " {'input': {'word1': 'xC\\x9a\\x9a\\U000db840\\U00032cd0',\n",
       "   'word2': '\\U0006f3b8\\U000e0030𣤏\\x0b'},\n",
       "  'result': 'x\\U0006f3b8C\\U000e0030\\x9a𣤏\\x9a\\x0b\\U000db840\\U00032cd0',\n",
       "  'property': 'merge_strings'},\n",
       " {'input': {'word1': '\\U0006f3b8\\U000e0030𣤏\\x0b',\n",
       "   'word2': '\\U0006f3b8\\U000e0030𣤏\\x0b'},\n",
       "  'result': '\\U0006f3b8\\U0006f3b8\\U000e0030\\U000e0030𣤏𣤏\\x0b\\x0b',\n",
       "  'property': 'merge_strings'},\n",
       " {'input': {'word1': 'u{«\\x0f\\U0004d818\\U00048075\\U000f6780;À\\x1aðG\\x99',\n",
       "   'word2': '\\x8b\\x1aã𫖁\\x8en\\x9f\\U000cb5ae{'},\n",
       "  'result': 'u\\x8b{\\x1a«ã\\x0f𫖁\\U0004d818\\x8e\\U00048075n\\U000f6780\\x9f;\\U000cb5aeÀ{\\x1aðG\\x99',\n",
       "  'property': 'merge_strings'},\n",
       " {'input': {'word1': 'u{«\\x0f\\U0004d818\\U00048075\\U000f6780;À\\x1aðG\\x99',\n",
       "   'word2': 'u{«\\x0f\\U0004d818\\U00048075\\U000f6780;À\\x1aðG\\x99'},\n",
       "  'result': 'uu{{««\\x0f\\x0f\\U0004d818\\U0004d818\\U00048075\\U00048075\\U000f6780\\U000f6780;;ÀÀ\\x1a\\x1aððGG\\x99\\x99',\n",
       "  'property': 'merge_strings'},\n",
       " {'input': {'word1': '5\\x0c\\x8a\\U000e509f\\x88\\U00092a48o', 'word2': ''},\n",
       "  'result': '5\\x0c\\x8a\\U000e509f\\x88\\U00092a48o',\n",
       "  'property': 'merge_strings'},\n",
       " {'input': {'word1': '5\\x0c\\x8a\\U000e509f\\x88\\U00092a48o',\n",
       "   'word2': '5\\x0c\\x8a\\U000e509f\\x88\\U00092a48o'},\n",
       "  'result': '55\\x0c\\x0c\\x8a\\x8a\\U000e509f\\U000e509f\\x88\\x88\\U00092a48\\U00092a48oo',\n",
       "  'property': 'merge_strings'},\n",
       " {'input': {'word1': '.', 'word2': '[´ì/&'},\n",
       "  'result': '.[´ì/&',\n",
       "  'property': 'merge_strings'},\n",
       " {'input': {'word1': '.', 'word2': '.'},\n",
       "  'result': '..',\n",
       "  'property': 'merge_strings'},\n",
       " {'input': {'word1': '', 'word2': '\\x9bì\\x08/'},\n",
       "  'result': '\\x9bì\\x08/',\n",
       "  'property': 'merge_strings'},\n",
       " {'input': {'word1': 'M', 'word2': ''},\n",
       "  'result': 'M',\n",
       "  'property': 'merge_strings'},\n",
       " {'input': {'word1': 'M', 'word2': 'M'},\n",
       "  'result': 'MM',\n",
       "  'property': 'merge_strings'},\n",
       " {'input': {'word1': 'øx',\n",
       "   'word2': '\\U000cb5d9c}\\U00047a68\"\\U00063fd5!ç¶\\x8aT@\\x85EGO\\x9d\\U0007e60a'},\n",
       "  'result': 'ø\\U000cb5d9xc}\\U00047a68\"\\U00063fd5!ç¶\\x8aT@\\x85EGO\\x9d\\U0007e60a',\n",
       "  'property': 'merge_strings'},\n",
       " {'input': {'word1': '\\U000cb5d9c}\\U00047a68\"\\U00063fd5!ç¶\\x8aT@\\x85EGO\\x9d\\U0007e60a',\n",
       "   'word2': '\\U000cb5d9c}\\U00047a68\"\\U00063fd5!ç¶\\x8aT@\\x85EGO\\x9d\\U0007e60a'},\n",
       "  'result': '\\U000cb5d9\\U000cb5d9cc}}\\U00047a68\\U00047a68\"\"\\U00063fd5\\U00063fd5!!çç¶¶\\x8a\\x8aTT@@\\x85\\x85EEGGOO\\x9d\\x9d\\U0007e60a\\U0007e60a',\n",
       "  'property': 'merge_strings'},\n",
       " {'input': {'word1': '\\U000aaca1TE¤\\r#ü=', 'word2': ''},\n",
       "  'result': '\\U000aaca1TE¤\\r#ü=',\n",
       "  'property': 'merge_strings'},\n",
       " {'input': {'word1': 'ã', 'word2': '\\n\\x17ç1\\x16'},\n",
       "  'result': 'ã\\n\\x17ç1\\x16',\n",
       "  'property': 'merge_strings'}]"
      ]
     },
     "execution_count": 165,
     "metadata": {},
     "output_type": "execute_result"
    }
   ],
   "source": [
    "test_case_generator.generated_test_cases"
   ]
  },
  {
   "cell_type": "code",
   "execution_count": 166,
   "id": "67b24d50",
   "metadata": {},
   "outputs": [
    {
     "name": "stdout",
     "output_type": "stream",
     "text": [
      "Number of test cases: 100\n",
      "Result types: {<class 'str'>}\n"
     ]
    }
   ],
   "source": [
    "test_case_generator.analyze_coverage()"
   ]
  },
  {
   "cell_type": "code",
   "execution_count": 167,
   "id": "dc3c0b5a",
   "metadata": {},
   "outputs": [
    {
     "data": {
      "text/plain": [
       "[{'input': {'s': ''}, 'result': True, 'property': 'isValid'},\n",
       " {'input': {'s': '9àÜ'}, 'result': False, 'property': 'isValid'},\n",
       " {'input': {'s': '\\x0f²\\x8d\\x80\\x97â¬\\U0001c6c7b¨å'},\n",
       "  'result': False,\n",
       "  'property': 'isValid'},\n",
       " {'input': {'s': '\\x02ÅÖ\\x06'}, 'result': False, 'property': 'isValid'},\n",
       " {'input': {'s': 'Ä'}, 'result': False, 'property': 'isValid'},\n",
       " {'input': {'s': '\\t½ÚdÉü'}, 'result': False, 'property': 'isValid'},\n",
       " {'input': {'s': 'F\\U00044141\\U000cfe46éû㹪4'},\n",
       "  'result': False,\n",
       "  'property': 'isValid'},\n",
       " {'input': {'s': '±'}, 'result': False, 'property': 'isValid'},\n",
       " {'input': {'s': '\\x8af'}, 'result': False, 'property': 'isValid'},\n",
       " {'input': {'s': 'Í'}, 'result': False, 'property': 'isValid'},\n",
       " {'input': {'s': '\\U00050880¾\\U000d4ab1ÄE´Ô\\U0010c72f¢'},\n",
       "  'result': False,\n",
       "  'property': 'isValid'},\n",
       " {'input': {'s': '\\x1dS\\U0009d14f/\\x01\\U00038178\\x02\\U00088a9d\\x89÷z'},\n",
       "  'result': False,\n",
       "  'property': 'isValid'},\n",
       " {'input': {'s': 'µ\\U000fb1e1\\U000c426e\\x01\\x96À\\uabfc\\\\ï\\x90)}'},\n",
       "  'result': False,\n",
       "  'property': 'isValid'},\n",
       " {'input': {'s': 'R|\\x87Z\\U0001e179\\x00\\U0008a810'},\n",
       "  'result': False,\n",
       "  'property': 'isValid'},\n",
       " {'input': {'s': '\\\\'}, 'result': False, 'property': 'isValid'},\n",
       " {'input': {'s': '\\x1b\\x14Ó'}, 'result': False, 'property': 'isValid'},\n",
       " {'input': {'s': ':\\U000e5ad5Û\\x02\\x91sV\\U0008526e'},\n",
       "  'result': False,\n",
       "  'property': 'isValid'},\n",
       " {'input': {'s': 'â\\x92\\x06£'}, 'result': False, 'property': 'isValid'},\n",
       " {'input': {'s': ':'}, 'result': False, 'property': 'isValid'},\n",
       " {'input': {'s': 'E𗄆\\U00083f81\\x17'}, 'result': False, 'property': 'isValid'},\n",
       " {'input': {'s': '\\x9c¥\\U00104003'}, 'result': False, 'property': 'isValid'},\n",
       " {'input': {'s': 'å@@\\x91´Ë'}, 'result': False, 'property': 'isValid'},\n",
       " {'input': {'s': '\\x11+bâF\\x8e¹Eä®ª '},\n",
       "  'result': False,\n",
       "  'property': 'isValid'},\n",
       " {'input': {'s': '&\\x11\\x95Ð\\x85çó\\x86'},\n",
       "  'result': False,\n",
       "  'property': 'isValid'},\n",
       " {'input': {'s': '`\\U00018ff2&'}, 'result': False, 'property': 'isValid'},\n",
       " {'input': {'s': 'Ó;\\x82'}, 'result': False, 'property': 'isValid'},\n",
       " {'input': {'s': '/'}, 'result': False, 'property': 'isValid'},\n",
       " {'input': {'s': '\\U0005b372\\U000e7a21f'},\n",
       "  'result': False,\n",
       "  'property': 'isValid'},\n",
       " {'input': {'s': '\\x10\\xadû'}, 'result': False, 'property': 'isValid'},\n",
       " {'input': {'s': 'ÔL+?\\x0f\\x8cÇ'}, 'result': False, 'property': 'isValid'},\n",
       " {'input': {'s': '\\x02\\U00096446\\x83A\\U000e1f03\\x9c𭮳|\\x1d×\\U000fcec6'},\n",
       "  'result': False,\n",
       "  'property': 'isValid'},\n",
       " {'input': {'s': 'Ö\\x98ê\\nñ]'}, 'result': False, 'property': 'isValid'},\n",
       " {'input': {'s': 'Ö~𬩙ìÖ['}, 'result': False, 'property': 'isValid'},\n",
       " {'input': {'s': \"ø·³\\x13Ï\\U00039a02䉇ÅÁd$\\U000fbc2b^8'\"},\n",
       "  'result': False,\n",
       "  'property': 'isValid'},\n",
       " {'input': {'s': '\\U0001cccew#²'}, 'result': False, 'property': 'isValid'},\n",
       " {'input': {'s': 'êÑ7Ï¦ü\\U000f8b25\\x00M'},\n",
       "  'result': False,\n",
       "  'property': 'isValid'},\n",
       " {'input': {'s': 'b¬'}, 'result': False, 'property': 'isValid'},\n",
       " {'input': {'s': 'ô\\x97ø/'}, 'result': False, 'property': 'isValid'},\n",
       " {'input': {'s': 'e'}, 'result': False, 'property': 'isValid'},\n",
       " {'input': {'s': 'öG2AÆè\\U000c8b83\\U000b2971g욪\\U00082f85\\U000b65fc°$\\U000e0f46÷\\x93jR'},\n",
       "  'result': False,\n",
       "  'property': 'isValid'},\n",
       " {'input': {'s': 'aJvÌÐ©æÅ6'}, 'result': False, 'property': 'isValid'},\n",
       " {'input': {'s': 'V'}, 'result': False, 'property': 'isValid'},\n",
       " {'input': {'s': 'Wyf¸'}, 'result': False, 'property': 'isValid'},\n",
       " {'input': {'s': '\\U000f315d\\x9dw\\U0005b84eñº'},\n",
       "  'result': False,\n",
       "  'property': 'isValid'},\n",
       " {'input': {'s': 'Ø\\x16sû\\x17sçk\\x0c©\\U00033810ÐJ!\\U000c0f7c7éY\\x8b\\x10'},\n",
       "  'result': False,\n",
       "  'property': 'isValid'},\n",
       " {'input': {'s': '\\U000c33d2F¹á³'}, 'result': False, 'property': 'isValid'},\n",
       " {'input': {'s': '\\U000fdf75'}, 'result': False, 'property': 'isValid'},\n",
       " {'input': {'s': '\\x8aÂ{×\\U0007b4f0´n\\x8e\\U00108d39\\U000fe0d4\\U00046527紒bí'},\n",
       "  'result': False,\n",
       "  'property': 'isValid'},\n",
       " {'input': {'s': 'Ü\\U000a1fb2'}, 'result': False, 'property': 'isValid'},\n",
       " {'input': {'s': '\\U000c1d51[7m`pÆäÇªå'},\n",
       "  'result': False,\n",
       "  'property': 'isValid'},\n",
       " {'input': {'s': 'DT\\U00058575O𬹇\\x8ck°\\x85«¦N±¥\\x12\\x11𘆔Ú\\x8aÆ\\x12Ã'},\n",
       "  'result': False,\n",
       "  'property': 'isValid'},\n",
       " {'input': {'s': '¤½Á\\U00105310\\U0007232aÀ\\tJ\\U0007b7c7ä\\x93\\U000bee97\\x84\\x11xT\\U000f5692\\U000d0910\\U000a2186'},\n",
       "  'result': False,\n",
       "  'property': 'isValid'},\n",
       " {'input': {'s': 'Ý'}, 'result': False, 'property': 'isValid'},\n",
       " {'input': {'s': ')k+ïÈ.\\U00013865\\x0b\\x1b'},\n",
       "  'result': False,\n",
       "  'property': 'isValid'},\n",
       " {'input': {'s': '\\x01î\\x87¢\\U000c67da«\\x95-º'},\n",
       "  'result': False,\n",
       "  'property': 'isValid'},\n",
       " {'input': {'s': 'Â\\U000dfe43óÔ1Õ\\U0001f7da\\x18\\U000b644a/'},\n",
       "  'result': False,\n",
       "  'property': 'isValid'},\n",
       " {'input': {'s': '\\x93ྲ'}, 'result': False, 'property': 'isValid'},\n",
       " {'input': {'s': 'Á|\\x1f'}, 'result': False, 'property': 'isValid'},\n",
       " {'input': {'s': 'ä\\x9a'}, 'result': False, 'property': 'isValid'},\n",
       " {'input': {'s': 'ü\\U000474fd'}, 'result': False, 'property': 'isValid'},\n",
       " {'input': {'s': '/ꠄ¡'}, 'result': False, 'property': 'isValid'},\n",
       " {'input': {'s': 'C'}, 'result': False, 'property': 'isValid'},\n",
       " {'input': {'s': 'É'}, 'result': False, 'property': 'isValid'},\n",
       " {'input': {'s': 'À¾øï'}, 'result': False, 'property': 'isValid'},\n",
       " {'input': {'s': '\\x01'}, 'result': False, 'property': 'isValid'},\n",
       " {'input': {'s': '\\x86B\\x11¬\\x10Ë\\x16\\x11_å\\x19𧲓\\U00032039𰬿sÁ\\x86ࠃ='},\n",
       "  'result': False,\n",
       "  'property': 'isValid'},\n",
       " {'input': {'s': '>'}, 'result': False, 'property': 'isValid'},\n",
       " {'input': {'s': '\\x1ak\\U0009019b즾\\xad\\x8c'},\n",
       "  'result': False,\n",
       "  'property': 'isValid'},\n",
       " {'input': {'s': '\\x9a'}, 'result': False, 'property': 'isValid'},\n",
       " {'input': {'s': 'Dª'}, 'result': False, 'property': 'isValid'},\n",
       " {'input': {'s': '±|<'}, 'result': False, 'property': 'isValid'},\n",
       " {'input': {'s': 'Ï'}, 'result': False, 'property': 'isValid'},\n",
       " {'input': {'s': '\\U0004ed85\\x1b\\x1còEÀd\\x90¾'},\n",
       "  'result': False,\n",
       "  'property': 'isValid'},\n",
       " {'input': {'s': 'ßËçÑ𩇾\\x04\\U00065395F'},\n",
       "  'result': False,\n",
       "  'property': 'isValid'},\n",
       " {'input': {'s': '\\U0009098f<Ït¶÷Ï^\\x8b'},\n",
       "  'result': False,\n",
       "  'property': 'isValid'},\n",
       " {'input': {'s': 'W'}, 'result': False, 'property': 'isValid'},\n",
       " {'input': {'s': '\\U0010cc95\\x02\\U000ac382\\x92Er\\xad'},\n",
       "  'result': False,\n",
       "  'property': 'isValid'},\n",
       " {'input': {'s': '\\x0fã\\U000f2148\\x8bÛò\\U000c1e3fP\\U0006665bÏ'},\n",
       "  'result': False,\n",
       "  'property': 'isValid'},\n",
       " {'input': {'s': 'Dæ\\x9dðd\\U0002faabÎ\\x1d'},\n",
       "  'result': False,\n",
       "  'property': 'isValid'},\n",
       " {'input': {'s': 'ë'}, 'result': False, 'property': 'isValid'},\n",
       " {'input': {'s': 'Fⱷ\\U00075835\\U0006b287é\\U0004683bÁ'},\n",
       "  'result': False,\n",
       "  'property': 'isValid'},\n",
       " {'input': {'s': '!Ó'}, 'result': False, 'property': 'isValid'},\n",
       " {'input': {'s': '\\\\\\U0007eb33'}, 'result': False, 'property': 'isValid'},\n",
       " {'input': {'s': '#\\x85\\U000a9c8c;⍷\\\\÷gï'},\n",
       "  'result': False,\n",
       "  'property': 'isValid'},\n",
       " {'input': {'s': '\\U000ca89e\\U000cc4b9'},\n",
       "  'result': False,\n",
       "  'property': 'isValid'},\n",
       " {'input': {'s': '\\nM\\x9a-û7LëI\\U0010c554'},\n",
       "  'result': False,\n",
       "  'property': 'isValid'},\n",
       " {'input': {'s': 'hC#'}, 'result': False, 'property': 'isValid'},\n",
       " {'input': {'s': '\\x05f𩄖¹\\U000525bfBiâ\\x0cⴋ\\U000edc53\\uead1\\x04\\U0008d5dd\\x8aâKÑ郲\\x95±êÛ\\r\\U00016080ª)FÜX𧙞\\U00056993àsjê\\x9aP]8Ì\\U000bc480\\x1a'},\n",
       "  'result': False,\n",
       "  'property': 'isValid'},\n",
       " {'input': {'s': '(¦n8'}, 'result': False, 'property': 'isValid'},\n",
       " {'input': {'s': '\\U0008c9c6OA\\U000bb3748\\x13\\x80'},\n",
       "  'result': False,\n",
       "  'property': 'isValid'},\n",
       " {'input': {'s': 'ù2'}, 'result': False, 'property': 'isValid'},\n",
       " {'input': {'s': 'Ú\\U000759f3n\\x90;^lG8Ù\\t\\x99Ï\\U0007d03f'},\n",
       "  'result': False,\n",
       "  'property': 'isValid'},\n",
       " {'input': {'s': '£'}, 'result': False, 'property': 'isValid'},\n",
       " {'input': {'s': '\\x89{P'}, 'result': False, 'property': 'isValid'},\n",
       " {'input': {'s': '\\x82'}, 'result': False, 'property': 'isValid'},\n",
       " {'input': {'s': '葓'}, 'result': False, 'property': 'isValid'},\n",
       " {'input': {'s': 'Q\\x9c'}, 'result': False, 'property': 'isValid'},\n",
       " {'input': {'s': 'WÅ\\x03²/!\\U000cbd05|\\U0006926a\\x89\\x1a$'},\n",
       "  'result': False,\n",
       "  'property': 'isValid'},\n",
       " {'input': {'s': 'M\\x89_'}, 'result': False, 'property': 'isValid'},\n",
       " {'input': {'s': '\\x85(\\x91è\\x98'}, 'result': False, 'property': 'isValid'}]"
      ]
     },
     "execution_count": 167,
     "metadata": {},
     "output_type": "execute_result"
    }
   ],
   "source": [
    "def isValid(s:str) -> bool:\n",
    "    stack = []\n",
    "    mapping = {')': '(', '}': '{', ']': '['}\n",
    "    \n",
    "    for char in s:\n",
    "        if char in mapping.values():  # if it's an opening bracket\n",
    "            stack.append(char)\n",
    "        elif char in mapping.keys():  # if it's a closing bracket\n",
    "            if not stack or stack[-1] != mapping[char]:\n",
    "                return False\n",
    "            stack.pop()\n",
    "        else:\n",
    "            return False\n",
    "    \n",
    "    return len(stack) == 0\n",
    "\n",
    "test_case_generator = TestCaseGenerator(target_func=isValid)\n",
    "test_case_generator.create_test_case()\n",
    "test_case_generator.generated_test_cases"
   ]
  },
  {
   "cell_type": "code",
   "execution_count": 168,
   "id": "3b1889cd",
   "metadata": {},
   "outputs": [
    {
     "name": "stdout",
     "output_type": "stream",
     "text": [
      "Number of test cases: 100\n",
      "Result types: {<class 'bool'>}\n",
      "Boolean results: True: 1, False: 99\n"
     ]
    }
   ],
   "source": [
    "test_case_generator.analyze_coverage()"
   ]
  },
  {
   "cell_type": "code",
   "execution_count": 180,
   "id": "badd83cc",
   "metadata": {},
   "outputs": [
    {
     "name": "stdout",
     "output_type": "stream",
     "text": [
      "Number of test cases: 100\n",
      "Result types: {<class 'bool'>}\n",
      "Boolean results: True: 100, False: 0\n",
      "\n",
      "Sample test cases:\n",
      "Input: {}, Result: True\n",
      "Input: {}, Result: True\n",
      "Input: [][], Result: True\n",
      "Input: [], Result: True\n",
      "Input: {}, Result: True\n",
      "Input: [], Result: True\n",
      "Input: (), Result: True\n",
      "Input: (), Result: True\n",
      "Input: {}, Result: True\n",
      "Input: (), Result: True\n"
     ]
    }
   ],
   "source": [
    "from sklearn.ensemble import RandomForestClassifier\n",
    "import numpy as np\n",
    "import random\n",
    "\n",
    "class BalancedTestGenerator:\n",
    "    def __init__(self, target_func, num_samples=100, max_length=10):\n",
    "        self.target_func = target_func\n",
    "        self.num_samples = num_samples\n",
    "        self.max_length = max_length\n",
    "        self.generated_test_cases = []\n",
    "        self.rf_model = RandomForestClassifier()\n",
    "\n",
    "    def generate_random_string(self):\n",
    "        length = random.randint(0, self.max_length)\n",
    "        chars = '(){}[]'\n",
    "        return ''.join(random.choice(chars) for _ in range(length))\n",
    "\n",
    "    def generate_samples(self):\n",
    "        samples = []\n",
    "        results = []\n",
    "        \n",
    "        while len(samples) < self.num_samples:\n",
    "            sample = self.generate_random_string()\n",
    "            result = self.target_func(sample)\n",
    "            samples.append(sample)\n",
    "            results.append(result)\n",
    "        \n",
    "        return samples, results\n",
    "\n",
    "    def train_model(self, samples, results):\n",
    "        X = np.array([[len(s), s.count('('), s.count(')'), s.count('{'), s.count('}'), s.count('['), s.count(']')] for s in samples])\n",
    "        y = np.array(results)\n",
    "        self.rf_model.fit(X, y)\n",
    "\n",
    "    def generate_balanced_samples(self):\n",
    "        initial_samples, initial_results = self.generate_samples()\n",
    "        self.train_model(initial_samples, initial_results)\n",
    "        \n",
    "        balanced_samples = []\n",
    "        balanced_results = []\n",
    "        \n",
    "        while len(balanced_samples) < self.num_samples:\n",
    "            sample = self.generate_random_string()\n",
    "            result = self.target_func(sample)\n",
    "            \n",
    "            features = np.array([[len(sample), sample.count('('), sample.count(')'), sample.count('{'), sample.count('}'), sample.count('['), sample.count(']')]])\n",
    "            prediction = self.rf_model.predict_proba(features)[0]\n",
    "            \n",
    "            if result and prediction[1] < 0.5 or not result and prediction[0] < 0.5:\n",
    "                balanced_samples.append(sample)\n",
    "                balanced_results.append(result)\n",
    "                self.generated_test_cases.append({'input': sample, 'result': result})\n",
    "        \n",
    "        return balanced_samples, balanced_results\n",
    "\n",
    "    def create_test_case(self):\n",
    "        self.generate_balanced_samples()\n",
    "\n",
    "    def analyze_coverage(self):\n",
    "        if not self.generated_test_cases:\n",
    "            print(\"No test cases generated yet.\")\n",
    "            return\n",
    "\n",
    "        result_types = set(type(case['result']) for case in self.generated_test_cases)\n",
    "        result_values = [case['result'] for case in self.generated_test_cases]\n",
    "\n",
    "        print(f\"Number of test cases: {len(self.generated_test_cases)}\")\n",
    "        print(f\"Result types: {result_types}\")\n",
    "\n",
    "        if bool in result_types:\n",
    "            true_count = sum(1 for r in result_values if r is True)\n",
    "            false_count = sum(1 for r in result_values if r is False)\n",
    "            print(f\"Boolean results: True: {true_count}, False: {false_count}\")\n",
    "\n",
    "# Usage\n",
    "def isValid(s):\n",
    "    stack = []\n",
    "    mapping = {')': '(', '}': '{', ']': '['}\n",
    "    \n",
    "    for char in s:\n",
    "        if char in mapping.values():  # if it's an opening bracket\n",
    "            stack.append(char)\n",
    "        elif char in mapping.keys():  # if it's a closing bracket\n",
    "            if not stack or stack[-1] != mapping[char]:\n",
    "                return False\n",
    "            stack.pop()\n",
    "        else:\n",
    "            return False\n",
    "    \n",
    "    return len(stack) == 0\n",
    "\n",
    "test_generator = BalancedTestGenerator(isValid, num_samples=100, max_length=10)\n",
    "test_generator.create_test_case()\n",
    "test_generator.analyze_coverage()\n",
    "\n",
    "# Print some example test cases\n",
    "print(\"\\nSample test cases:\")\n",
    "for case in test_generator.generated_test_cases[:10]:\n",
    "    print(f\"Input: {case['input']}, Result: {case['result']}\")"
   ]
  },
  {
   "cell_type": "code",
   "execution_count": null,
   "id": "d55f1990",
   "metadata": {},
   "outputs": [],
   "source": []
  },
  {
   "cell_type": "code",
   "execution_count": null,
   "id": "a109cbad",
   "metadata": {},
   "outputs": [],
   "source": []
  },
  {
   "cell_type": "code",
   "execution_count": null,
   "id": "439044ca",
   "metadata": {},
   "outputs": [],
   "source": []
  }
 ],
 "metadata": {
  "kernelspec": {
   "display_name": "m",
   "language": "python",
   "name": "m"
  },
  "language_info": {
   "codemirror_mode": {
    "name": "ipython",
    "version": 3
   },
   "file_extension": ".py",
   "mimetype": "text/x-python",
   "name": "python",
   "nbconvert_exporter": "python",
   "pygments_lexer": "ipython3",
   "version": "3.9.19"
  }
 },
 "nbformat": 4,
 "nbformat_minor": 5
}
